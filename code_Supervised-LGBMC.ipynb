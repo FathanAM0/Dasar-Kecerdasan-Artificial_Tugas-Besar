{
 "cells": [
  {
   "cell_type": "code",
   "execution_count": 4,
   "id": "29c677f8",
   "metadata": {},
   "outputs": [],
   "source": [
    "from lightgbm import LGBMClassifier\n",
    "from sklearn.metrics import accuracy_score, precision_score, recall_score, f1_score\n",
    "from sklearn.model_selection import train_test_split\n",
    "import librosa\n",
    "import numpy as np\n",
    "import os"
   ]
  },
  {
   "cell_type": "code",
   "execution_count": 5,
   "id": "4044f746",
   "metadata": {},
   "outputs": [],
   "source": [
    "SAMPLE_RATE = 22050\n",
    "SEGMENT_DURATION = 1\n",
    "N_MELS = 128"
   ]
  },
  {
   "cell_type": "code",
   "execution_count": 6,
   "id": "cc719eab",
   "metadata": {},
   "outputs": [],
   "source": [
    "def get_logmel_spectrogram(segment):\n",
    "    mel = librosa.feature.melspectrogram(y=segment, sr=SAMPLE_RATE, n_mels=N_MELS)\n",
    "    logmel = librosa.power_to_db(mel)\n",
    "    return logmel\n",
    "\n",
    "def extract_features(file_path):\n",
    "    y, _ = librosa.load(file_path, sr=SAMPLE_RATE)\n",
    "    segment_len = SAMPLE_RATE * SEGMENT_DURATION\n",
    "    features = []\n",
    "    for i in range(0, len(y), segment_len):\n",
    "        segment = y[i:i+segment_len]\n",
    "        if len(segment) < segment_len:\n",
    "            break\n",
    "        logmel = get_logmel_spectrogram(segment)\n",
    "        features.append(logmel.flatten())\n",
    "    return features\n",
    "\n",
    "def create_dataset(folder_path):\n",
    "    X, y = [], []\n",
    "    for label, subfolder in enumerate(['background', 'birds']):\n",
    "        sub_path = os.path.join(folder_path, subfolder)\n",
    "        for file in os.listdir(sub_path):\n",
    "            file_path = os.path.join(sub_path, file)\n",
    "            if file_path.endswith(('.wav', '.mp3')):\n",
    "                try:\n",
    "                    segments = extract_features(file_path)\n",
    "                    X.extend(segments)\n",
    "                    y.extend([label] * len(segments))\n",
    "                except:\n",
    "                    continue\n",
    "    return np.array(X), np.array(y)"
   ]
  },
  {
   "cell_type": "code",
   "execution_count": 7,
   "id": "4853543a",
   "metadata": {},
   "outputs": [],
   "source": [
    "def train_and_evaluate(X, y):\n",
    "    X_train, X_test, y_train, y_test = train_test_split(X, y, test_size=0.2, random_state=42)\n",
    "    model = LGBMClassifier()\n",
    "    model.fit(X_train, y_train)\n",
    "    y_pred = model.predict(X_test)\n",
    "    acc = accuracy_score(y_test, y_pred)\n",
    "    prec = precision_score(y_test, y_pred)\n",
    "    rec = recall_score(y_test, y_pred)\n",
    "    f1 = f1_score(y_test, y_pred)\n",
    "    return acc, prec, rec, f1, model"
   ]
  },
  {
   "cell_type": "code",
   "execution_count": 8,
   "id": "6ef42e7b",
   "metadata": {},
   "outputs": [
    {
     "ename": "SyntaxError",
     "evalue": "invalid syntax (250017833.py, line 1)",
     "output_type": "error",
     "traceback": [
      "\u001b[1;36m  Cell \u001b[1;32mIn[8], line 1\u001b[1;36m\u001b[0m\n\u001b[1;33m    Example usage:\u001b[0m\n\u001b[1;37m            ^\u001b[0m\n\u001b[1;31mSyntaxError\u001b[0m\u001b[1;31m:\u001b[0m invalid syntax\n"
     ]
    }
   ],
   "source": [
    "Example usage:\n",
    "dataset_path = \"path_to_your_dataset_folder\"\n",
    "X, y = create_dataset(dataset_path)\n",
    "acc, prec, rec, f1, model = train_and_evaluate(X, y)"
   ]
  }
 ],
 "metadata": {
  "kernelspec": {
   "display_name": "Python 3",
   "language": "python",
   "name": "python3"
  },
  "language_info": {
   "codemirror_mode": {
    "name": "ipython",
    "version": 3
   },
   "file_extension": ".py",
   "mimetype": "text/x-python",
   "name": "python",
   "nbconvert_exporter": "python",
   "pygments_lexer": "ipython3",
   "version": "3.12.4"
  }
 },
 "nbformat": 4,
 "nbformat_minor": 5
}
