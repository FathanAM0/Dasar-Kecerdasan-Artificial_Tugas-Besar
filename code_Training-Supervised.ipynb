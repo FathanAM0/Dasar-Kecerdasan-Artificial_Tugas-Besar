{
 "cells": [
  {
   "cell_type": "markdown",
   "id": "cd43fef0",
   "metadata": {},
   "source": [
    "Library\n"
   ]
  },
  {
   "cell_type": "code",
   "execution_count": null,
   "id": "795db5e0",
   "metadata": {},
   "outputs": [],
   "source": [
    "import math\n",
    "import joblib\n",
    "import numpy as np\n",
    "import pandas as pd\n",
    "import scipy.signal\n",
    "import scipy.fftpack\n",
    "import librosa\n",
    "import soundfile as sf\n",
    "import skfuzzy as fuzz\n",
    "from skfuzzy import control as ctrl\n",
    "import matplotlib.pyplot as plt\n",
    "from scipy.signal import resample_poly\n",
    "import numpy as np\n",
    "from sklearn.preprocessing import StandardScaler\n",
    "from sklearn.model_selection import train_test_split\n",
    "import tensorflow as tf"
   ]
  },
  {
   "cell_type": "markdown",
   "id": "c6164c39",
   "metadata": {},
   "source": [
    "Main Path\n"
   ]
  },
  {
   "cell_type": "code",
   "execution_count": null,
   "id": "a4441377",
   "metadata": {},
   "outputs": [],
   "source": [
    "MAIN_PATH = r\"D:\\Kuliah\\Matkul\\Semester 4\\DASAR KECERDASAN ARTIFICIAL (DKA)\\[2] Tugas\\[3] Tugas Besar\\Dasar-Kecerdasan-Artificial_Tugas-Besar\""
   ]
  },
  {
   "cell_type": "markdown",
   "id": "084d5b8e",
   "metadata": {},
   "source": [
    "Konstanta\n"
   ]
  },
  {
   "cell_type": "code",
   "execution_count": null,
   "id": "239a873f",
   "metadata": {},
   "outputs": [],
   "source": [
    "SAMPLE_RATE = 48000\n",
    "BATCH_SIZE = 32\n",
    "SEGMENT_DURATION = int(1 * SAMPLE_RATE)\n",
    "OVERLAP_DURATION = int(0.5 * SAMPLE_RATE)"
   ]
  },
  {
   "cell_type": "markdown",
   "id": "61c89ab2",
   "metadata": {},
   "source": [
    "Random Seed\n"
   ]
  },
  {
   "cell_type": "code",
   "execution_count": null,
   "id": "8640abc8",
   "metadata": {},
   "outputs": [],
   "source": [
    "RANDOM_SEED = 21\n",
    "\n",
    "try:\n",
    "    from sklearn.utils import check_random_state\n",
    "    random_state = check_random_state(RANDOM_SEED)\n",
    "except ImportError:\n",
    "    pass"
   ]
  },
  {
   "cell_type": "markdown",
   "id": "d8ce52dc",
   "metadata": {},
   "source": [
    "# Prapemrosesan\n"
   ]
  },
  {
   "cell_type": "code",
   "execution_count": null,
   "id": "fa1ed84f",
   "metadata": {},
   "outputs": [],
   "source": [
    "def load_file_audio(path):\n",
    "    audio, sr = sf.read(path)\n",
    "    return np.array(audio), sr\n",
    "\n",
    "def prapemrosesan_downmixing(audio):\n",
    "    if audio.ndim > 1:\n",
    "        audio = np.mean(audio, axis=1)\n",
    "    return audio.astype(np.float32)\n",
    "\n",
    "def prapemrosesan_resampling(audio, sr):\n",
    "    if sr == SAMPLE_RATE:\n",
    "        return audio.copy(), SAMPLE_RATE\n",
    "    \n",
    "    ratio = SAMPLE_RATE / sr\n",
    "    n_samples = int(np.round(len(audio) * ratio))\n",
    "    \n",
    "    x_old = np.linspace(0, 1, len(audio))\n",
    "    x_new = np.linspace(0, 1, n_samples)\n",
    "    return np.interp(x_new, x_old, audio), SAMPLE_RATE\n",
    "\n",
    "def prapemrosesan_padding(audio):\n",
    "    if np.mod(audio.shape[0], SEGMENT_DURATION) != 0:\n",
    "        padding = SEGMENT_DURATION - (audio.shape[0] % SEGMENT_DURATION)\n",
    "        audio = np.pad(audio, (0, padding))\n",
    "    return audio\n",
    "\n",
    "def prapemrosesan_splitting(audio):\n",
    "    num_segments = int(np.floor((len(audio) - SEGMENT_DURATION) / OVERLAP_DURATION)) + 1\n",
    "    segments = []\n",
    "\n",
    "    for i in range(num_segments):\n",
    "        start = int(i * OVERLAP_DURATION)\n",
    "        end = int(start + SEGMENT_DURATION)\n",
    "        segment = audio[start:end]\n",
    "        if len(segment) < SEGMENT_DURATION:\n",
    "            segment = np.pad(segment, (0, SEGMENT_DURATION - len(segment)), mode='constant')\n",
    "        segments.append(segment)\n",
    "\n",
    "    return np.array(segments)"
   ]
  },
  {
   "cell_type": "markdown",
   "id": "b5aac67c",
   "metadata": {},
   "source": [
    "# Ekstraksi Fitur\n"
   ]
  },
  {
   "cell_type": "code",
   "execution_count": null,
   "id": "c42102fb",
   "metadata": {},
   "outputs": [],
   "source": [
    "def get_rms(segment):\n",
    "    return np.sqrt(np.mean(segment ** 2))\n",
    "\n",
    "def get_zcr(segment):\n",
    "    return np.sum(np.abs(np.diff(np.signbit(segment)))) / (len(segment) / SAMPLE_RATE)\n",
    "\n",
    "def get_lms(segment):\n",
    "    mel_spec = librosa.feature.melspectrogram(y=segment, sr=SAMPLE_RATE)\n",
    "    return np.mean(mel_spec)"
   ]
  },
  {
   "cell_type": "markdown",
   "id": "be09ed42",
   "metadata": {},
   "source": [
    "# Dataset\n"
   ]
  },
  {
   "cell_type": "markdown",
   "id": "c4da40a6",
   "metadata": {},
   "source": [
    "Raw\n"
   ]
  },
  {
   "cell_type": "code",
   "execution_count": null,
   "id": "c1fc9abc",
   "metadata": {},
   "outputs": [],
   "source": [
    "df = pd.read_excel(f\"{MAIN_PATH}/dataset_labeled.xlsx\")"
   ]
  },
  {
   "cell_type": "markdown",
   "id": "758a9599",
   "metadata": {},
   "source": [
    "Prapemrosesan\n"
   ]
  },
  {
   "cell_type": "code",
   "execution_count": null,
   "id": "d1ab36d5",
   "metadata": {},
   "outputs": [],
   "source": [
    "def extract_lms_features(lms_column):\n",
    "    lms_features = lms_column.apply(lambda x: np.array(eval(x)))\n",
    "    return np.stack(lms_features)"
   ]
  },
  {
   "cell_type": "markdown",
   "id": "30d2a256",
   "metadata": {},
   "source": [
    "Ekstraksi Fitur (LMS)\n"
   ]
  },
  {
   "cell_type": "code",
   "execution_count": null,
   "id": "39a17fb2",
   "metadata": {},
   "outputs": [],
   "source": [
    "lms_features = extract_lms_features(df['lms'])"
   ]
  },
  {
   "cell_type": "markdown",
   "id": "456c07ce",
   "metadata": {},
   "source": [
    "Normalisasi, Split, dan Batching\n"
   ]
  },
  {
   "cell_type": "code",
   "execution_count": null,
   "id": "b9f4a268",
   "metadata": {},
   "outputs": [],
   "source": [
    "scaler = StandardScaler()\n",
    "df[['rms', 'zcr']] = scaler.fit_transform(df[['rms', 'zcr']])\n",
    "\n",
    "X = np.hstack([df[['rms', 'zcr']].values, lms_features])\n",
    "y = df['label'].values\n",
    "\n",
    "X_train, X_test, y_train, y_test = train_test_split(X, y, test_size=0.2, random_state=21)\n",
    "\n",
    "train_dataset = tf.data.Dataset.from_tensor_slices((X_train, y_train))\n",
    "test_dataset = tf.data.Dataset.from_tensor_slices((X_test, y_test))\n",
    "\n",
    "train_dataset = train_dataset.shuffle(buffer_size=1000).batch(BATCH_SIZE)\n",
    "test_dataset = test_dataset.batch(BATCH_SIZE)\n",
    "\n",
    "for features, labels in train_dataset.take(1):\n",
    "    print(\"Features shape:\", features.shape)\n",
    "    print(\"Labels shape:\", labels.shape)"
   ]
  },
  {
   "cell_type": "markdown",
   "id": "be809a7f",
   "metadata": {},
   "source": [
    "# LGBM\n"
   ]
  },
  {
   "cell_type": "markdown",
   "id": "6b227efd",
   "metadata": {},
   "source": [
    "Inisialisasi\n"
   ]
  },
  {
   "cell_type": "code",
   "execution_count": null,
   "id": "29a919d8",
   "metadata": {},
   "outputs": [],
   "source": [
    "lgbm_model = LGBMClassifier(random_state=21)"
   ]
  },
  {
   "cell_type": "markdown",
   "id": "777f8a8d",
   "metadata": {},
   "source": [
    "training\n"
   ]
  },
  {
   "cell_type": "code",
   "execution_count": null,
   "id": "00ec71e1",
   "metadata": {},
   "outputs": [],
   "source": [
    "# Mau pake grid search, random search, atau optima? atau ga usah aja yak.\n",
    "# F : Kalo masih ada waktu sama nilainya masih jelek bisa pakai si bang.\n",
    "\n",
    "params = {\n",
    "    'objective': 'multiclass',\n",
    "    'metric': 'multi_logloss',\n",
    "    'num_class': 3,\n",
    "    'boosting_type': 'gbdt',\n",
    "    'num_leaves': 31,\n",
    "    'learning_rate': 0.001,\n",
    "    'feature_fraction': 0.9\n",
    "}\n",
    "\n"
   ]
  },
  {
   "cell_type": "markdown",
   "id": "c956fe39",
   "metadata": {},
   "source": [
    "# CNN\n"
   ]
  },
  {
   "cell_type": "markdown",
   "id": "f86e8e98",
   "metadata": {},
   "source": [
    "Inisialisasi\n"
   ]
  },
  {
   "cell_type": "code",
   "execution_count": null,
   "id": "e47c46a3",
   "metadata": {},
   "outputs": [],
   "source": [
    "class CNN(nn.Module):\n",
    "    def __init__(self, num_classes=10):\n",
    "        super(CNN, self).__init__()\n",
    "        test_input = np.random.rand(SAMPLE_RATE * SEGMENT_DURATION)\n",
    "        lms = get_lms(test_input)\n",
    "        in_channels = 1\n",
    "        self.conv1 = nn.Conv2d(in_channels, 64, kernel_size=3, padding=1)\n",
    "        self.bn1 = nn.BatchNorm2d(64)\n",
    "        self.conv2 = nn.Conv2d(64, 128, kernel_size=3, padding=1)\n",
    "        self.bn2 = nn.BatchNorm2d(128)\n",
    "        self.conv3 = nn.Conv2d(128, 256, kernel_size=3, padding=1)\n",
    "        self.bn3 = nn.BatchNorm2d(256)\n",
    "        self.pool = nn.MaxPool2d(kernel_size=2, stride=2)\n",
    "        self.gap = nn.AdaptiveAvgPool2d(1)\n",
    "        self.fc1 = nn.Linear(256, 256)\n",
    "        self.dropout = nn.Dropout(0.5)\n",
    "        self.fc2 = nn.Linear(256, num_classes)\n",
    "    def forward(self, x):\n",
    "        x = self.pool(F.relu(self.bn1(self.conv1(x))))\n",
    "        x = self.pool(F.relu(self.bn2(self.conv2(x))))\n",
    "        x = self.pool(F.relu(self.bn3(self.conv3(x))))\n",
    "        x = self.gap(x)\n",
    "        x = x.view(x.size(0), -1)\n",
    "        x = F.relu(self.fc1(x))\n",
    "        x = self.dropout(x)\n",
    "        x = self.fc2(x)\n",
    "        return x"
   ]
  },
  {
   "cell_type": "markdown",
   "id": "42fb3a5b",
   "metadata": {},
   "source": [
    "training\n"
   ]
  },
  {
   "cell_type": "code",
   "execution_count": null,
   "id": "bdd203f8",
   "metadata": {},
   "outputs": [],
   "source": []
  },
  {
   "cell_type": "markdown",
   "id": "9610bc20",
   "metadata": {},
   "source": [
    "# Conformer\n"
   ]
  },
  {
   "cell_type": "markdown",
   "id": "1da3ddcc",
   "metadata": {},
   "source": [
    "Inisialisasi\n"
   ]
  },
  {
   "cell_type": "code",
   "execution_count": null,
   "id": "8ff3766c",
   "metadata": {},
   "outputs": [],
   "source": [
    "config = ConformerConfig(\n",
    "    hidden_size=144,\n",
    "    num_attention_heads=4,\n",
    "    intermediate_size=576,\n",
    "    conv_kernel_size=32,\n",
    "    num_hidden_layers=8,\n",
    "    input_feat_per_channel=n_mels,\n",
    "    input_channels=1,\n",
    "    max_position_embeddings=time_steps\n",
    ")\n",
    "\n",
    "conformer_model = TFConformerModel(config)\n",
    "\n",
    "input_layer = tf.keras.layers.Input(shape=(n_mels, time_steps))\n",
    "expand_dim = tf.keras.layers.Reshape((1, n_mels, time_steps))(input_layer)\n",
    "conv_proj = tf.keras.layers.Conv2D(\n",
    "    filters=config.hidden_size,\n",
    "    kernel_size=(3, 3),\n",
    "    padding='same',\n",
    "    activation='relu'\n",
    ")(expand_dim)\n",
    "squeeze_dim = tf.keras.layers.Reshape((n_mels, time_steps, config.hidden_size))(conv_proj)\n",
    "conformer_output = conformer_model(squeeze_dim).last_hidden_state\n",
    "gap = tf.keras.layers.GlobalAveragePooling1D()(conformer_output)\n",
    "output = tf.keras.layers.Dense(num_classes, activation='softmax')(gap)\n",
    "\n",
    "conformer_model = tf.keras.Model(inputs=input_layer, outputs=output)"
   ]
  },
  {
   "cell_type": "markdown",
   "id": "c3e73e3d",
   "metadata": {},
   "source": [
    "training\n"
   ]
  },
  {
   "cell_type": "code",
   "execution_count": null,
   "id": "a9bdb654",
   "metadata": {},
   "outputs": [],
   "source": []
  },
  {
   "cell_type": "markdown",
   "id": "2ee77964",
   "metadata": {},
   "source": [
    "# Evaluasi\n"
   ]
  },
  {
   "cell_type": "markdown",
   "id": "0beb5b4f",
   "metadata": {},
   "source": [
    "LGBM\n"
   ]
  },
  {
   "cell_type": "code",
   "execution_count": null,
   "id": "a21fd6f0",
   "metadata": {},
   "outputs": [],
   "source": []
  },
  {
   "cell_type": "markdown",
   "id": "5aa2363a",
   "metadata": {},
   "source": [
    "CNN\n"
   ]
  },
  {
   "cell_type": "code",
   "execution_count": null,
   "id": "f0769952",
   "metadata": {},
   "outputs": [],
   "source": []
  },
  {
   "cell_type": "markdown",
   "id": "7d5a567e",
   "metadata": {},
   "source": [
    "Conformer\n"
   ]
  },
  {
   "cell_type": "code",
   "execution_count": null,
   "id": "a664718c",
   "metadata": {},
   "outputs": [],
   "source": []
  }
 ],
 "metadata": {
  "kernelspec": {
   "display_name": "Python 3",
   "language": "python",
   "name": "python3"
  },
  "language_info": {
   "codemirror_mode": {
    "name": "ipython",
    "version": 3
   },
   "file_extension": ".py",
   "mimetype": "text/x-python",
   "name": "python",
   "nbconvert_exporter": "python",
   "pygments_lexer": "ipython3",
   "version": "3.12.4"
  }
 },
 "nbformat": 4,
 "nbformat_minor": 5
}
