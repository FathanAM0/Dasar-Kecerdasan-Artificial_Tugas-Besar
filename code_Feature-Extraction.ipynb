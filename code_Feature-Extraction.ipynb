{
 "cells": [
  {
   "cell_type": "code",
   "execution_count": 9,
   "id": "b8e88248",
   "metadata": {},
   "outputs": [],
   "source": [
    "import librosa\n",
    "import numpy as np\n",
    "import os"
   ]
  },
  {
   "cell_type": "code",
   "execution_count": 12,
   "metadata": {},
   "outputs": [],
   "source": [
    "def extract_features(file_path, segment_duration=1, sr=22050):\n",
    "    y, sr = librosa.load(file_path, sr=sr)\n",
    "    total_duration = librosa.get_duration(y=y, sr=sr)\n",
    "    features_list = []\n",
    "\n",
    "    segment_length = int(segment_duration * sr)\n",
    "    num_segments = int(np.floor(len(y) / segment_length))\n",
    "\n",
    "    for i in range(num_segments):\n",
    "        start = i * segment_length\n",
    "        end = start + segment_length\n",
    "        segment = y[start:end]\n",
    "\n",
    "        # Duration\n",
    "        duration = librosa.get_duration(y=segment, sr=sr)\n",
    "\n",
    "        # Pitch (fundamental frequency)\n",
    "        f0, _, _ = librosa.pyin(segment, fmin=librosa.note_to_hz('C2'), fmax=librosa.note_to_hz('C7'))\n",
    "        pitch_mean = np.nanmean(f0)\n",
    "        pitch_std = np.nanstd(f0)\n",
    "\n",
    "        # Zero Crossing Rate\n",
    "        zcr = np.mean(librosa.feature.zero_crossing_rate(segment))\n",
    "\n",
    "        # Spectral Centroid\n",
    "        centroid = np.mean(librosa.feature.spectral_centroid(y=segment, sr=sr))\n",
    "\n",
    "        # Spectral Bandwidth\n",
    "        bandwidth = np.mean(librosa.feature.spectral_bandwidth(y=segment, sr=sr))\n",
    "\n",
    "        # RMS Energy\n",
    "        rms = np.mean(librosa.feature.rms(y=segment))\n",
    "\n",
    "        features_list.append({\n",
    "            'Segment': i,\n",
    "            'Duration': duration,\n",
    "            'PitchMean': pitch_mean,\n",
    "            'PitchStd': pitch_std,\n",
    "            'ZCR': zcr,\n",
    "            'Centroid': centroid,\n",
    "            'Bandwidth': bandwidth,\n",
    "            'RMS': rms\n",
    "        })\n",
    "\n",
    "    return features_list"
   ]
  },
  {
   "cell_type": "code",
   "execution_count": 13,
   "metadata": {},
   "outputs": [
    {
     "name": "stderr",
     "output_type": "stream",
     "text": [
      "C:\\Users\\Lulay\\AppData\\Local\\Temp\\ipykernel_22472\\85514126.py:19: RuntimeWarning: Mean of empty slice\n",
      "  pitch_mean = np.nanmean(f0)\n"
     ]
    },
    {
     "name": "stdout",
     "output_type": "stream",
     "text": [
      "{'Segment': 0, 'Duration': 1.0, 'PitchMean': 67.2613189481876, 'PitchStd': 0.6529328417544467, 'ZCR': 0.15897993607954544, 'Centroid': 2327.2129216251374, 'Bandwidth': 1997.4995643922753, 'RMS': 0.009056073}\n",
      "{'Segment': 1, 'Duration': 1.0, 'PitchMean': nan, 'PitchStd': nan, 'ZCR': 0.12775213068181818, 'Centroid': 1923.4714578839362, 'Bandwidth': 1838.200250021021, 'RMS': 0.003953147}\n",
      "{'Segment': 2, 'Duration': 1.0, 'PitchMean': 1086.2206357745313, 'PitchStd': 7.890738408182242, 'ZCR': 0.15965687144886365, 'Centroid': 2175.959883100713, 'Bandwidth': 1693.925503630125, 'RMS': 0.00430643}\n",
      "{'Segment': 3, 'Duration': 1.0, 'PitchMean': nan, 'PitchStd': nan, 'ZCR': 0.20591042258522727, 'Centroid': 2466.976346745169, 'Bandwidth': 1489.4747259532867, 'RMS': 0.004409332}\n",
      "{'Segment': 4, 'Duration': 1.0, 'PitchMean': 1773.3095132908802, 'PitchStd': 81.96462407607333, 'ZCR': 0.12883966619318182, 'Centroid': 2016.7729815780424, 'Bandwidth': 1759.4623428271886, 'RMS': 0.001653415}\n"
     ]
    }
   ],
   "source": [
    "file_path = r\"C:\\Users\\Lulay\\Documents\\GitHub\\Dasar-Kecerdasan-Artificial_Tugas-Besar\\Dataset\\noise-audio-data\\5-261464-A-23.wav\"\n",
    "features = extract_features(file_path)\n",
    "\n",
    "# Print the features\n",
    "for f in features:\n",
    "    print(f)"
   ]
  }
 ],
 "metadata": {
  "kernelspec": {
   "display_name": "Python 3",
   "language": "python",
   "name": "python3"
  },
  "language_info": {
   "codemirror_mode": {
    "name": "ipython",
    "version": 3
   },
   "file_extension": ".py",
   "mimetype": "text/x-python",
   "name": "python",
   "nbconvert_exporter": "python",
   "pygments_lexer": "ipython3",
   "version": "3.12.4"
  }
 },
 "nbformat": 4,
 "nbformat_minor": 5
}
