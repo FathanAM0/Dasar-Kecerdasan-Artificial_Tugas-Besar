{
 "cells": [
  {
   "cell_type": "markdown",
   "id": "174565c5",
   "metadata": {},
   "source": [
    "Library\n"
   ]
  },
  {
   "cell_type": "code",
   "execution_count": 69,
   "id": "1c2849b7",
   "metadata": {},
   "outputs": [],
   "source": [
    "import numpy as np\n",
    "import math"
   ]
  },
  {
   "cell_type": "markdown",
   "id": "99218af8",
   "metadata": {},
   "source": [
    "Konstan\n"
   ]
  },
  {
   "cell_type": "code",
   "execution_count": 70,
   "id": "a87c3fc6",
   "metadata": {},
   "outputs": [],
   "source": [
    "EULER = math.exp(1)\n",
    "THRESHOLD = 0.5"
   ]
  },
  {
   "cell_type": "markdown",
   "id": "22e3af56",
   "metadata": {},
   "source": [
    "# Fuzzy Class and Functions\n"
   ]
  },
  {
   "cell_type": "markdown",
   "id": "cbb08d94",
   "metadata": {},
   "source": [
    "## Membership Functions\n"
   ]
  },
  {
   "cell_type": "code",
   "execution_count": 71,
   "id": "ca8ce843",
   "metadata": {},
   "outputs": [],
   "source": [
    "def sigmf(x, a, c):\n",
    "    return 1 / (1 + pow(EULER, -c * (x - a)))\n",
    "\n",
    "def gaussmf(x, mean, sigma):\n",
    "    return pow(EULER, -((x - mean) ** 2) / (2 * sigma ** 2))"
   ]
  },
  {
   "cell_type": "markdown",
   "id": "bece3ab2",
   "metadata": {},
   "source": [
    "## Fuzzy Sets\n"
   ]
  },
  {
   "cell_type": "code",
   "execution_count": 72,
   "id": "496c9adf",
   "metadata": {},
   "outputs": [],
   "source": [
    "def fuzzify_rms(val):\n",
    "    return {\n",
    "        'low': sigmf(val, 0.04, -50),\n",
    "        'medium': gaussmf(val, 0.06, 0.02),\n",
    "        'high': sigmf(val, 0.1, 50)\n",
    "    }\n",
    "\n",
    "def fuzzify_zcr(val):\n",
    "    return {\n",
    "        'infrequent': sigmf(val, 5000, -0.05),\n",
    "        'moderate': gaussmf(val, 8000, 2000),\n",
    "        'frequent': sigmf(val, 11000, 0.05)\n",
    "    }"
   ]
  },
  {
   "cell_type": "markdown",
   "id": "2cc87c42",
   "metadata": {},
   "source": [
    "## Mamdani Inference Engine\n"
   ]
  },
  {
   "cell_type": "code",
   "execution_count": 73,
   "id": "2e75790d",
   "metadata": {},
   "outputs": [],
   "source": [
    "def fuzzy_mamdani_infer(rms_val, zcr_val):\n",
    "    rms_set = fuzzify_rms(rms_val)\n",
    "    zcr_set = fuzzify_zcr(zcr_val)\n",
    "\n",
    "    rules = [\n",
    "        ('not_loud', min(rms_set['low'], zcr_set['infrequent'])),\n",
    "        ('not_loud', min(rms_set['low'], zcr_set['moderate'])),\n",
    "        ('not_loud', min(rms_set['low'], zcr_set['frequent'])),\n",
    "        ('not_loud', min(rms_set['medium'], zcr_set['infrequent'])),\n",
    "        ('not_loud', min(rms_set['medium'], zcr_set['moderate'])),\n",
    "        ('loud', min(rms_set['medium'], zcr_set['frequent'])),\n",
    "        ('loud', min(rms_set['high'], zcr_set['infrequent'])),\n",
    "        ('loud', min(rms_set['high'], zcr_set['moderate'])),\n",
    "        ('loud', min(rms_set['high'], zcr_set['frequent'])),\n",
    "    ]\n",
    "\n",
    "    # Aggregation\n",
    "    loud_dom = [strength for label, strength in rules if label == 'loud']\n",
    "    not_loud_dom = [strength for label, strength in rules if label == 'not_loud']\n",
    "\n",
    "    loud = max(loud_dom) if loud_dom else 0\n",
    "    not_loud = max(not_loud_dom) if not_loud_dom else 0\n",
    "\n",
    "    # Defuzzification (centroid approximation)\n",
    "    output_range = [i / 100.0 for i in range(0, 101)]\n",
    "    numerator = 0\n",
    "    denominator = 0\n",
    "    for o in output_range:\n",
    "        mu = max(\n",
    "            min(sigmf(o, 0.6, 20), loud),\n",
    "            min(sigmf(o, 0.4, -20), not_loud)\n",
    "        )\n",
    "        numerator += o * mu\n",
    "        denominator += mu\n",
    "\n",
    "    return numerator / denominator if denominator != 0 else 0"
   ]
  },
  {
   "cell_type": "markdown",
   "id": "575e2d9f",
   "metadata": {},
   "source": [
    "## Sugeno Inference Engine\n"
   ]
  },
  {
   "cell_type": "code",
   "execution_count": 74,
   "id": "d86bce06",
   "metadata": {},
   "outputs": [],
   "source": [
    "def fuzzy_sugeno_infer(rms_val, zcr_val):\n",
    "    rms_set = fuzzify_rms(rms_val)\n",
    "    zcr_set = fuzzify_zcr(zcr_val)\n",
    "\n",
    "    rules = [\n",
    "        (min(rms_set['low'], zcr_set['infrequent']), 0.0),\n",
    "        (min(rms_set['low'], zcr_set['moderate']), 0.0),\n",
    "        (min(rms_set['low'], zcr_set['frequent']), 0.0),\n",
    "        (min(rms_set['medium'], zcr_set['infrequent']), 0.0),\n",
    "        (min(rms_set['medium'], zcr_set['moderate']), 0.0),\n",
    "        (min(rms_set['medium'], zcr_set['frequent']), 1.0),\n",
    "        (min(rms_set['high'], zcr_set['infrequent']), 1.0),\n",
    "        (min(rms_set['high'], zcr_set['moderate']), 1.0),\n",
    "        (min(rms_set['high'], zcr_set['frequent']), 1.0),\n",
    "    ]\n",
    "\n",
    "    numerator = sum([w * z for w, z in rules])\n",
    "    denominator = sum([w for w, _ in rules])\n",
    "\n",
    "    return numerator / denominator if denominator != 0 else 0"
   ]
  },
  {
   "cell_type": "markdown",
   "id": "f652e9d8",
   "metadata": {},
   "source": [
    "# Final Classification\n"
   ]
  },
  {
   "cell_type": "code",
   "execution_count": 75,
   "id": "7a848ee3",
   "metadata": {},
   "outputs": [],
   "source": [
    "def classify_sound(rms_val, zcr_val, method='mamdani'):\n",
    "    if method == 'mamdani':\n",
    "        result = fuzzy_mamdani_infer(rms_val, zcr_val)\n",
    "    elif method == 'sugeno':\n",
    "        result = fuzzy_sugeno_infer(rms_val, zcr_val)\n",
    "    else:\n",
    "        raise ValueError(\"Method must be either 'mamdani' or 'sugeno'\")\n",
    "\n",
    "    \n",
    "    if result >= THRESHOLD:\n",
    "        return 1  \n",
    "    else:\n",
    "        return 2  "
   ]
  },
  {
   "cell_type": "markdown",
   "id": "395e19b8",
   "metadata": {},
   "source": [
    "# Example\n"
   ]
  },
  {
   "cell_type": "markdown",
   "id": "045d7046",
   "metadata": {},
   "source": [
    "Label 1 (Suara Keras)\n"
   ]
  },
  {
   "cell_type": "code",
   "execution_count": 76,
   "id": "6f003bd8",
   "metadata": {},
   "outputs": [
    {
     "name": "stdout",
     "output_type": "stream",
     "text": [
      "Class (Mamdani): 1\n",
      "Class (Sugeno): 1\n"
     ]
    }
   ],
   "source": [
    "rms_val = 0.177941\n",
    "zcr_val = 4608.87156\n",
    "\n",
    "print(\"Class (Mamdani):\", classify_sound(rms_val, zcr_val, method='mamdani'))\n",
    "print(\"Class (Sugeno):\", classify_sound(rms_val, zcr_val, method='sugeno'))"
   ]
  },
  {
   "cell_type": "markdown",
   "id": "7b26f5bc",
   "metadata": {},
   "source": [
    "Label 2 (Suara Background)\n"
   ]
  },
  {
   "cell_type": "code",
   "execution_count": 77,
   "id": "2d0b5a39",
   "metadata": {},
   "outputs": [
    {
     "name": "stdout",
     "output_type": "stream",
     "text": [
      "Class (Mamdani): 2\n",
      "Class (Sugeno): 2\n"
     ]
    }
   ],
   "source": [
    "rms_val = 0.018929762\n",
    "zcr_val = 4480.010417\n",
    "\n",
    "print(\"Class (Mamdani):\", classify_sound(rms_val, zcr_val, method='mamdani'))\n",
    "print(\"Class (Sugeno):\", classify_sound(rms_val, zcr_val, method='sugeno'))"
   ]
  }
 ],
 "metadata": {
  "kernelspec": {
   "display_name": "Python 3",
   "language": "python",
   "name": "python3"
  },
  "language_info": {
   "codemirror_mode": {
    "name": "ipython",
    "version": 3
   },
   "file_extension": ".py",
   "mimetype": "text/x-python",
   "name": "python",
   "nbconvert_exporter": "python",
   "pygments_lexer": "ipython3",
   "version": "3.12.4"
  }
 },
 "nbformat": 4,
 "nbformat_minor": 5
}
