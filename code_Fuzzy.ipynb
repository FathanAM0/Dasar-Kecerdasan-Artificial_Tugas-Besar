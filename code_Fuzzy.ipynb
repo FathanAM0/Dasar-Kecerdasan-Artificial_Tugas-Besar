{
 "cells": [
  {
   "cell_type": "markdown",
   "id": "c400e342",
   "metadata": {},
   "source": [
    "Library\n"
   ]
  },
  {
   "cell_type": "code",
   "execution_count": 149,
   "id": "57fa9dd0",
   "metadata": {},
   "outputs": [],
   "source": [
    "import numpy as np\n",
    "import math\n",
    "import pickle\n",
    "import pandas as pd\n",
    "from sklearn.metrics import accuracy_score, confusion_matrix, precision_score, recall_score, f1_score"
   ]
  },
  {
   "cell_type": "markdown",
   "id": "8987d34b",
   "metadata": {},
   "source": [
    "# Dataset Inference\n"
   ]
  },
  {
   "cell_type": "markdown",
   "id": "67e9e2c1",
   "metadata": {},
   "source": [
    "## Load\n"
   ]
  },
  {
   "cell_type": "markdown",
   "id": "a85e5d3a",
   "metadata": {},
   "source": [
    "Raw\n"
   ]
  },
  {
   "cell_type": "code",
   "execution_count": 150,
   "id": "01b11504",
   "metadata": {},
   "outputs": [],
   "source": [
    "with open(r\"C:\\Users\\Lulay\\Documents\\GitHub\\Dasar-Kecerdasan-Artificial_Tugas-Besar\\Dataset\\dataset_labelled.pkl\", \"rb\") as f:\n",
    "    dataset = pickle.load(f)"
   ]
  },
  {
   "cell_type": "code",
   "execution_count": 151,
   "id": "eaa3ce6c",
   "metadata": {},
   "outputs": [
    {
     "data": {
      "text/plain": [
       "793"
      ]
     },
     "execution_count": 151,
     "metadata": {},
     "output_type": "execute_result"
    }
   ],
   "source": [
    "len(dataset)"
   ]
  },
  {
   "cell_type": "markdown",
   "id": "21a59a54",
   "metadata": {},
   "source": [
    "Normalisasi, Split, dan Batching\n"
   ]
  },
  {
   "cell_type": "code",
   "execution_count": 152,
   "id": "2ea51ecd",
   "metadata": {},
   "outputs": [],
   "source": [
    "X = [[data[3], data[4]] for data in dataset]\n",
    "original_labels = [int(data[2]) for data in dataset]\n",
    "y = [1 if label in (0, 1) else 2 for label in original_labels]"
   ]
  },
  {
   "cell_type": "markdown",
   "id": "5531a6e3",
   "metadata": {},
   "source": [
    "## Analisa Statistik\n"
   ]
  },
  {
   "cell_type": "code",
   "execution_count": 153,
   "id": "3f3bfe63",
   "metadata": {},
   "outputs": [
    {
     "name": "stdout",
     "output_type": "stream",
     "text": [
      "547 246\n"
     ]
    }
   ],
   "source": [
    "t1 = 0\n",
    "t2 = 0\n",
    "for i in y:\n",
    "    if i == 1:\n",
    "        t1 += 1\n",
    "    else:\n",
    "        t2 += 1\n",
    "\n",
    "print(t1, t2)"
   ]
  },
  {
   "cell_type": "markdown",
   "id": "16919706",
   "metadata": {},
   "source": [
    "Describe\n"
   ]
  },
  {
   "cell_type": "code",
   "execution_count": 154,
   "id": "5d9df885",
   "metadata": {},
   "outputs": [],
   "source": [
    "df_raw = pd.DataFrame(X, columns=['rms', 'zcr'])\n",
    "df_raw['label'] = y"
   ]
  },
  {
   "cell_type": "code",
   "execution_count": 155,
   "id": "a65cd197",
   "metadata": {},
   "outputs": [
    {
     "name": "stdout",
     "output_type": "stream",
     "text": [
      "Label: 1\n"
     ]
    },
    {
     "data": {
      "text/html": [
       "<div>\n",
       "<style scoped>\n",
       "    .dataframe tbody tr th:only-of-type {\n",
       "        vertical-align: middle;\n",
       "    }\n",
       "\n",
       "    .dataframe tbody tr th {\n",
       "        vertical-align: top;\n",
       "    }\n",
       "\n",
       "    .dataframe thead th {\n",
       "        text-align: right;\n",
       "    }\n",
       "</style>\n",
       "<table border=\"1\" class=\"dataframe\">\n",
       "  <thead>\n",
       "    <tr style=\"text-align: right;\">\n",
       "      <th></th>\n",
       "      <th>count</th>\n",
       "      <th>mean</th>\n",
       "      <th>std</th>\n",
       "      <th>min</th>\n",
       "      <th>25%</th>\n",
       "      <th>50%</th>\n",
       "      <th>75%</th>\n",
       "      <th>max</th>\n",
       "    </tr>\n",
       "  </thead>\n",
       "  <tbody>\n",
       "    <tr>\n",
       "      <th>rms</th>\n",
       "      <td>547.0</td>\n",
       "      <td>0.067685</td>\n",
       "      <td>0.081579</td>\n",
       "      <td>0.0</td>\n",
       "      <td>0.010218</td>\n",
       "      <td>0.04075</td>\n",
       "      <td>0.090788</td>\n",
       "      <td>0.448288</td>\n",
       "    </tr>\n",
       "    <tr>\n",
       "      <th>zcr</th>\n",
       "      <td>547.0</td>\n",
       "      <td>5458.301645</td>\n",
       "      <td>4194.242814</td>\n",
       "      <td>0.0</td>\n",
       "      <td>1403.000000</td>\n",
       "      <td>5247.00000</td>\n",
       "      <td>9229.000000</td>\n",
       "      <td>14626.000000</td>\n",
       "    </tr>\n",
       "    <tr>\n",
       "      <th>label</th>\n",
       "      <td>547.0</td>\n",
       "      <td>1.000000</td>\n",
       "      <td>0.000000</td>\n",
       "      <td>1.0</td>\n",
       "      <td>1.000000</td>\n",
       "      <td>1.00000</td>\n",
       "      <td>1.000000</td>\n",
       "      <td>1.000000</td>\n",
       "    </tr>\n",
       "  </tbody>\n",
       "</table>\n",
       "</div>"
      ],
      "text/plain": [
       "       count         mean          std  min          25%         50%  \\\n",
       "rms    547.0     0.067685     0.081579  0.0     0.010218     0.04075   \n",
       "zcr    547.0  5458.301645  4194.242814  0.0  1403.000000  5247.00000   \n",
       "label  547.0     1.000000     0.000000  1.0     1.000000     1.00000   \n",
       "\n",
       "               75%           max  \n",
       "rms       0.090788      0.448288  \n",
       "zcr    9229.000000  14626.000000  \n",
       "label     1.000000      1.000000  "
      ]
     },
     "metadata": {},
     "output_type": "display_data"
    },
    {
     "name": "stdout",
     "output_type": "stream",
     "text": [
      "Label: 2\n"
     ]
    },
    {
     "data": {
      "text/html": [
       "<div>\n",
       "<style scoped>\n",
       "    .dataframe tbody tr th:only-of-type {\n",
       "        vertical-align: middle;\n",
       "    }\n",
       "\n",
       "    .dataframe tbody tr th {\n",
       "        vertical-align: top;\n",
       "    }\n",
       "\n",
       "    .dataframe thead th {\n",
       "        text-align: right;\n",
       "    }\n",
       "</style>\n",
       "<table border=\"1\" class=\"dataframe\">\n",
       "  <thead>\n",
       "    <tr style=\"text-align: right;\">\n",
       "      <th></th>\n",
       "      <th>count</th>\n",
       "      <th>mean</th>\n",
       "      <th>std</th>\n",
       "      <th>min</th>\n",
       "      <th>25%</th>\n",
       "      <th>50%</th>\n",
       "      <th>75%</th>\n",
       "      <th>max</th>\n",
       "    </tr>\n",
       "  </thead>\n",
       "  <tbody>\n",
       "    <tr>\n",
       "      <th>rms</th>\n",
       "      <td>246.0</td>\n",
       "      <td>0.022774</td>\n",
       "      <td>0.021007</td>\n",
       "      <td>0.0</td>\n",
       "      <td>0.00587</td>\n",
       "      <td>0.021626</td>\n",
       "      <td>0.033709</td>\n",
       "      <td>0.091311</td>\n",
       "    </tr>\n",
       "    <tr>\n",
       "      <th>zcr</th>\n",
       "      <td>246.0</td>\n",
       "      <td>8453.943089</td>\n",
       "      <td>3326.650988</td>\n",
       "      <td>0.0</td>\n",
       "      <td>5966.75000</td>\n",
       "      <td>8722.500000</td>\n",
       "      <td>10897.250000</td>\n",
       "      <td>14691.000000</td>\n",
       "    </tr>\n",
       "    <tr>\n",
       "      <th>label</th>\n",
       "      <td>246.0</td>\n",
       "      <td>2.000000</td>\n",
       "      <td>0.000000</td>\n",
       "      <td>2.0</td>\n",
       "      <td>2.00000</td>\n",
       "      <td>2.000000</td>\n",
       "      <td>2.000000</td>\n",
       "      <td>2.000000</td>\n",
       "    </tr>\n",
       "  </tbody>\n",
       "</table>\n",
       "</div>"
      ],
      "text/plain": [
       "       count         mean          std  min         25%          50%  \\\n",
       "rms    246.0     0.022774     0.021007  0.0     0.00587     0.021626   \n",
       "zcr    246.0  8453.943089  3326.650988  0.0  5966.75000  8722.500000   \n",
       "label  246.0     2.000000     0.000000  2.0     2.00000     2.000000   \n",
       "\n",
       "                75%           max  \n",
       "rms        0.033709      0.091311  \n",
       "zcr    10897.250000  14691.000000  \n",
       "label      2.000000      2.000000  "
      ]
     },
     "metadata": {},
     "output_type": "display_data"
    }
   ],
   "source": [
    "for label in df_raw['label'].unique():\n",
    "    print(f\"Label: {label}\")\n",
    "    display(df_raw[df_raw['label'] == label].describe().T)"
   ]
  },
  {
   "cell_type": "markdown",
   "id": "0ac29bff",
   "metadata": {},
   "source": [
    "Visualization\n"
   ]
  },
  {
   "cell_type": "code",
   "execution_count": 156,
   "id": "03db1c8d",
   "metadata": {},
   "outputs": [
    {
     "data": {
      "text/plain": [
       "<Axes: title={'center': 'rms'}, xlabel='label'>"
      ]
     },
     "execution_count": 156,
     "metadata": {},
     "output_type": "execute_result"
    },
    {
     "data": {
      "image/png": "[encoded data removed]",
      "text/plain": [
       "<Figure size 640x480 with 1 Axes>"
      ]
     },
     "metadata": {},
     "output_type": "display_data"
    }
   ],
   "source": [
    "df_raw.boxplot(column=['rms'], by='label')"
   ]
  },
  {
   "cell_type": "code",
   "execution_count": 157,
   "id": "af5b6ebb",
   "metadata": {},
   "outputs": [
    {
     "data": {
      "text/plain": [
       "<Axes: title={'center': 'zcr'}, xlabel='label'>"
      ]
     },
     "execution_count": 157,
     "metadata": {},
     "output_type": "execute_result"
    },
    {
     "data": {
      "image/png": "[encoded data removed]",
      "text/plain": [
       "<Figure size 640x480 with 1 Axes>"
      ]
     },
     "metadata": {},
     "output_type": "display_data"
    }
   ],
   "source": [
    "# Visualize persebaran data dengan boxplot\n",
    "df_raw.boxplot(column=['zcr'], by='label')"
   ]
  },
  {
   "cell_type": "markdown",
   "id": "90910aec",
   "metadata": {},
   "source": [
    "Hyperparameters\n"
   ]
  },
  {
   "cell_type": "code",
   "execution_count": 158,
   "id": "35be6e9c",
   "metadata": {},
   "outputs": [],
   "source": [
    "RMS_LOW_C = 0.0168545\n",
    "RMS_LOW_S = 296.65667922513273\n",
    "\n",
    "RMS_MEDIUM_M = 0.048329\n",
    "RMS_MEDIUM_S = 0.036058598726114645\n",
    "\n",
    "RMS_HIGH_C = 0.229253\n",
    "RMS_HIGH_S = 22.827402013376858\n",
    "\n",
    "\n",
    "ZCR_INFREQ_C = 4614.5\n",
    "ZCR_INFREQ_S = 0.0010835410120273053\n",
    "\n",
    "ZCR_MODERATE_M = 6150.125\n",
    "ZCR_MODERATE_S = 4031.5286624203823\n",
    "\n",
    "ZCR_FREQ_C = 10328.875\n",
    "ZCR_FREQ_S = 0.0011462303349858154\n",
    "\n",
    "\n",
    "LOUD_C = 0.8\n",
    "LOUD_S = 25.0\n",
    "\n",
    "NOT_LOUD_C = 0.2\n",
    "NOT_LOUD_S = 25.0"
   ]
  },
  {
   "cell_type": "markdown",
   "id": "22e3af56",
   "metadata": {},
   "source": [
    "# Fuzzy Class and Functions\n"
   ]
  },
  {
   "cell_type": "markdown",
   "id": "cbb08d94",
   "metadata": {},
   "source": [
    "Membership Functions\n"
   ]
  },
  {
   "cell_type": "code",
   "execution_count": 159,
   "id": "ca8ce843",
   "metadata": {},
   "outputs": [],
   "source": [
    "def sigmf(x, c, s):\n",
    "    return 1 / (1 + math.exp(-s * (x - c)))\n",
    "\n",
    "def gaussmf(x, m, s):\n",
    "    return math.exp(-((x - m) ** 2) / (2 * s ** 2))"
   ]
  },
  {
   "cell_type": "markdown",
   "id": "bece3ab2",
   "metadata": {},
   "source": [
    "Fuzzy Sets\n"
   ]
  },
  {
   "cell_type": "code",
   "execution_count": 160,
   "id": "496c9adf",
   "metadata": {},
   "outputs": [],
   "source": [
    "def fuzzify_rms(val):\n",
    "    return {\n",
    "        'low': sigmf(val, RMS_LOW_C, RMS_LOW_S),\n",
    "        'medium': gaussmf(val, RMS_MEDIUM_M, RMS_MEDIUM_S),\n",
    "        'high': sigmf(val, RMS_HIGH_C, RMS_HIGH_S)\n",
    "    }\n",
    "\n",
    "def fuzzify_zcr(val):\n",
    "    return {\n",
    "        'infrequent': sigmf(val, ZCR_INFREQ_C, ZCR_INFREQ_S),\n",
    "        'moderate': gaussmf(val, ZCR_MODERATE_M, ZCR_MODERATE_S),\n",
    "        'frequent': sigmf(val, ZCR_FREQ_C, ZCR_FREQ_S)\n",
    "    }"
   ]
  },
  {
   "cell_type": "markdown",
   "id": "2cc87c42",
   "metadata": {},
   "source": [
    "## Fuzzy Inference System\n"
   ]
  },
  {
   "cell_type": "markdown",
   "id": "da4f66bc",
   "metadata": {},
   "source": [
    "### Mamdani Inference Engine\n"
   ]
  },
  {
   "cell_type": "code",
   "execution_count": 161,
   "id": "2e75790d",
   "metadata": {},
   "outputs": [],
   "source": [
    "def mamdani_rule_evaluation(rms_set, zcr_set):\n",
    "    return [\n",
    "        ('not_loud', min(rms_set['low'], zcr_set['infrequent'])),\n",
    "        ('not_loud', min(rms_set['low'], zcr_set['moderate'])),\n",
    "        ('not_loud', min(rms_set['low'], zcr_set['frequent'])),\n",
    "        ('not_loud', min(rms_set['medium'], zcr_set['infrequent'])),\n",
    "        ('not_loud', min(rms_set['medium'], zcr_set['moderate'])),\n",
    "        ('loud', min(rms_set['medium'], zcr_set['frequent'])),\n",
    "        ('loud', min(rms_set['high'], zcr_set['infrequent'])),\n",
    "        ('loud', min(rms_set['high'], zcr_set['moderate'])),\n",
    "        ('loud', min(rms_set['high'], zcr_set['frequent']))\n",
    "    ]\n",
    "\n",
    "def mamdani_aggregate(rules):\n",
    "    loud_dom = [s for l, s in rules if l == 'loud']\n",
    "    not_loud_dom = [s for l, s in rules if l == 'not_loud']\n",
    "    return max(loud_dom) if loud_dom else 0, max(not_loud_dom) if not_loud_dom else 0\n",
    "\n",
    "def mamdani_defuzzify(loud, not_loud):\n",
    "    output_range = np.linspace(0, 1, 101)\n",
    "    numerator = 0\n",
    "    denominator = 0\n",
    "    for o in output_range:\n",
    "        mu = max(\n",
    "            min(sigmf(o, LOUD_C, LOUD_S), loud),\n",
    "            min(sigmf(o, NOT_LOUD_C, NOT_LOUD_S), not_loud)\n",
    "        )\n",
    "        numerator += o * mu\n",
    "        denominator += mu\n",
    "    return numerator / denominator if denominator != 0 else 0\n",
    "\n",
    "def fuzzy_mamdani_infer(rms_val, zcr_val):\n",
    "    rms_set = fuzzify_rms(rms_val)\n",
    "    zcr_set = fuzzify_zcr(zcr_val)\n",
    "    rules = mamdani_rule_evaluation(rms_set, zcr_set)\n",
    "    loud, not_loud = mamdani_aggregate(rules)\n",
    "    return mamdani_defuzzify(loud, not_loud)"
   ]
  },
  {
   "cell_type": "markdown",
   "id": "575e2d9f",
   "metadata": {},
   "source": [
    "### Sugeno Inference Engine\n"
   ]
  },
  {
   "cell_type": "code",
   "execution_count": 162,
   "id": "d86bce06",
   "metadata": {},
   "outputs": [],
   "source": [
    "def sugeno_rule_evaluation(rms_set, zcr_set):\n",
    "    return [\n",
    "        (min(rms_set['low'], zcr_set['infrequent']), 0.0),\n",
    "        (min(rms_set['low'], zcr_set['moderate']), 0.0),\n",
    "        (min(rms_set['low'], zcr_set['frequent']), 0.0),\n",
    "        (min(rms_set['medium'], zcr_set['infrequent']), 0.0),\n",
    "        (min(rms_set['medium'], zcr_set['moderate']), 0.0),\n",
    "        (min(rms_set['medium'], zcr_set['frequent']), 1.0),\n",
    "        (min(rms_set['high'], zcr_set['infrequent']), 1.0),\n",
    "        (min(rms_set['high'], zcr_set['moderate']), 1.0),\n",
    "        (min(rms_set['high'], zcr_set['frequent']), 1.0)\n",
    "    ]\n",
    "\n",
    "def sugeno_weighted_average(rules):\n",
    "    numerator = sum(w * z for w, z in rules)\n",
    "    denominator = sum(w for w, _ in rules)\n",
    "    return numerator / denominator if denominator != 0 else 0\n",
    "\n",
    "def fuzzy_sugeno_infer(rms_val, zcr_val):\n",
    "    rms_set = fuzzify_rms(rms_val)\n",
    "    zcr_set = fuzzify_zcr(zcr_val)\n",
    "    rules = sugeno_rule_evaluation(rms_set, zcr_set)\n",
    "    return sugeno_weighted_average(rules)"
   ]
  },
  {
   "cell_type": "markdown",
   "id": "ba42e94d",
   "metadata": {},
   "source": [
    "## Classification\n"
   ]
  },
  {
   "cell_type": "code",
   "execution_count": 163,
   "id": "f84beabb",
   "metadata": {},
   "outputs": [],
   "source": [
    "def classify_output(output):\n",
    "    return 1 if output >= 0.5 else 2\n",
    "\n",
    "def classify_mamdani(rms_val, zcr_val):\n",
    "    output = fuzzy_mamdani_infer(rms_val, zcr_val)\n",
    "    return classify_output(output)\n",
    "\n",
    "def classify_sugeno(rms_val, zcr_val):\n",
    "    output = fuzzy_sugeno_infer(rms_val, zcr_val)\n",
    "    return classify_output(output)"
   ]
  },
  {
   "cell_type": "markdown",
   "id": "395e19b8",
   "metadata": {},
   "source": [
    "# Example\n"
   ]
  },
  {
   "cell_type": "markdown",
   "id": "045d7046",
   "metadata": {},
   "source": [
    "Label 1 (Suara Keras)\n"
   ]
  },
  {
   "cell_type": "code",
   "execution_count": 164,
   "id": "6f003bd8",
   "metadata": {},
   "outputs": [
    {
     "name": "stdout",
     "output_type": "stream",
     "text": [
      "1\n",
      "2\n"
     ]
    }
   ],
   "source": [
    "rms_val = 0.07\n",
    "zcr_val = 9000\n",
    "\n",
    "print(classify_mamdani(rms_val, zcr_val))\n",
    "print(classify_sugeno(rms_val, zcr_val))"
   ]
  },
  {
   "cell_type": "markdown",
   "id": "7b26f5bc",
   "metadata": {},
   "source": [
    "Label 2 (Suara Background)\n"
   ]
  },
  {
   "cell_type": "code",
   "execution_count": 165,
   "id": "2d0b5a39",
   "metadata": {},
   "outputs": [
    {
     "name": "stdout",
     "output_type": "stream",
     "text": [
      "1\n",
      "1\n"
     ]
    }
   ],
   "source": [
    "rms_val = 0.7\n",
    "zcr_val = 9000\n",
    "\n",
    "print(classify_mamdani(rms_val, zcr_val))\n",
    "print(classify_sugeno(rms_val, zcr_val))"
   ]
  },
  {
   "cell_type": "markdown",
   "id": "fce0503b",
   "metadata": {},
   "source": [
    "# Inference\n"
   ]
  },
  {
   "cell_type": "code",
   "execution_count": 166,
   "id": "f6a2053a",
   "metadata": {},
   "outputs": [
    {
     "name": "stdout",
     "output_type": "stream",
     "text": [
      "Mamdani\n",
      "Accuracy: 0.6897856242118537\n",
      "Precision: 0.6897856242118537\n",
      "Recall: 1.0\n",
      "F1-Score: 0.8164179104477612\n",
      "Confusion Matrix:\n",
      " [[547   0]\n",
      " [246   0]]\n",
      "\n",
      "Sugeno\n",
      "Accuracy: 0.32156368221941994\n",
      "Precision: 1.0\n",
      "Recall: 0.016453382084095063\n",
      "F1-Score: 0.03237410071942446\n",
      "Confusion Matrix:\n",
      " [[  9 538]\n",
      " [  0 246]]\n"
     ]
    }
   ],
   "source": [
    "# Inference\n",
    "y_mamdani = []\n",
    "y_sugeno = []\n",
    "\n",
    "for (rms, zcr) in X:\n",
    "    y_mamdani.append(classify_mamdani(rms, zcr))\n",
    "    y_sugeno.append(classify_sugeno(rms, zcr))\n",
    "\n",
    "# Evaluate\n",
    "print(\"Mamdani\")\n",
    "print(f\"Accuracy: {accuracy_score(y, y_mamdani)}\")\n",
    "print(f\"Precision: {precision_score(y, y_mamdani)}\")\n",
    "print(f\"Recall: {recall_score(y, y_mamdani)}\")\n",
    "print(f\"F1-Score: {f1_score(y, y_mamdani)}\")\n",
    "print(f\"Confusion Matrix:\\n {confusion_matrix(y, y_mamdani)}\")\n",
    "\n",
    "print(\"\\nSugeno\")\n",
    "print(f\"Accuracy: {accuracy_score(y, y_sugeno)}\")\n",
    "print(f\"Precision: {precision_score(y, y_sugeno)}\")\n",
    "print(f\"Recall: {recall_score(y, y_sugeno)}\")\n",
    "print(f\"F1-Score: {f1_score(y, y_sugeno)}\")\n",
    "print(f\"Confusion Matrix:\\n {confusion_matrix(y, y_sugeno)}\")"
   ]
  }
 ],
 "metadata": {
  "kernelspec": {
   "display_name": "Python 3",
   "language": "python",
   "name": "python3"
  },
  "language_info": {
   "codemirror_mode": {
    "name": "ipython",
    "version": 3
   },
   "file_extension": ".py",
   "mimetype": "text/x-python",
   "name": "python",
   "nbconvert_exporter": "python",
   "pygments_lexer": "ipython3",
   "version": "3.12.4"
  }
 },
 "nbformat": 4,
 "nbformat_minor": 5
}
