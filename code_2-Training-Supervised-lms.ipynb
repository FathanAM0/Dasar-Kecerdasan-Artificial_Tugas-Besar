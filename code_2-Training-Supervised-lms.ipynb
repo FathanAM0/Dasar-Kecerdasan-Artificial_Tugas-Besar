{
 "cells": [
  {
   "cell_type": "markdown",
   "id": "8aa7f53f",
   "metadata": {},
   "source": [
    "Library\n"
   ]
  },
  {
   "cell_type": "code",
   "execution_count": 2,
   "id": "fc563099",
   "metadata": {},
   "outputs": [],
   "source": [
    "import math\n",
    "import pickle\n",
    "import joblib\n",
    "import numpy as np\n",
    "import pandas as pd\n",
    "import matplotlib.pyplot as plt\n",
    "import scipy.signal\n",
    "import scipy.fftpack\n",
    "import librosa\n",
    "import soundfile as sf\n",
    "from scipy.signal import resample_poly\n",
    "from sklearn.model_selection import train_test_split\n",
    "from sklearn.preprocessing import StandardScaler\n",
    "from sklearn.metrics import accuracy_score, confusion_matrix, precision_score, recall_score, f1_score\n",
    "from sklearn.ensemble import RandomForestClassifier, GradientBoostingClassifier\n",
    "from sklearn.linear_model import LogisticRegression\n",
    "from sklearn.neighbors import KNeighborsClassifier\n",
    "from sklearn.tree import DecisionTreeClassifier\n",
    "from sklearn.svm import SVC\n",
    "import lightgbm as lgb\n",
    "from lightgbm import LGBMClassifier\n",
    "from xgboost import XGBClassifier\n",
    "from catboost import CatBoostClassifier\n",
    "import skfuzzy as fuzz\n",
    "from skfuzzy import control as ctrl\n",
    "from sklearn.tree import DecisionTreeClassifier, export_text\n",
    "import os\n",
    "import torch\n",
    "import torch.nn as nn\n",
    "import torch.optim as optim\n",
    "import torch.nn.functional as F\n",
    "from sklearn.model_selection import GridSearchCV\n",
    "from sklearn.metrics import classification_report\n",
    "from sklearn.model_selection import ParameterGrid\n",
    "from tqdm import tqdm"
   ]
  },
  {
   "cell_type": "markdown",
   "id": "b255600d",
   "metadata": {},
   "source": [
    "Main Path\n"
   ]
  },
  {
   "cell_type": "code",
   "execution_count": 3,
   "id": "28ad2579",
   "metadata": {},
   "outputs": [],
   "source": [
    "# MAIN_PATH = r\"C:\\Users\\Lulay\\Documents\\GitHub\\Dasar-Kecerdasan-Artificial_Tugas-Besar\\Dataset\"\n",
    "MAIN_PATH = r\"D:\\Kuliah\\Matkul\\Semester 4\\DASAR KECERDASAN ARTIFICIAL (DKA)\\[2] Tugas\\[3] Tugas Besar\\Dasar-Kecerdasan-Artificial_Tugas-Besar\\Dataset\""
   ]
  },
  {
   "cell_type": "markdown",
   "id": "2d6a0ca8",
   "metadata": {},
   "source": [
    "Konstanta\n"
   ]
  },
  {
   "cell_type": "code",
   "execution_count": 4,
   "id": "c470f014",
   "metadata": {},
   "outputs": [],
   "source": [
    "SAMPLE_RATE = 48000\n",
    "BATCH_SIZE = 32\n",
    "SEGMENT_DURATION = int(1 * SAMPLE_RATE)\n",
    "OVERLAP_DURATION = int(0.5 * SAMPLE_RATE)\n",
    "RANDOM_STATE = 21\n",
    "BUFFER_SIZE = 1000"
   ]
  },
  {
   "cell_type": "markdown",
   "id": "1ce4e852",
   "metadata": {},
   "source": [
    "Random Seed\n"
   ]
  },
  {
   "cell_type": "code",
   "execution_count": 5,
   "id": "8c39783f",
   "metadata": {},
   "outputs": [],
   "source": [
    "RANDOM_SEED = 21\n",
    "\n",
    "try:\n",
    "    from sklearn.utils import check_random_state\n",
    "    random_state = check_random_state(RANDOM_SEED)\n",
    "except ImportError:\n",
    "    pass"
   ]
  },
  {
   "cell_type": "markdown",
   "id": "cdf7ed39",
   "metadata": {},
   "source": [
    "# Prapemrosesan\n"
   ]
  },
  {
   "cell_type": "code",
   "execution_count": 6,
   "id": "52eb8baa",
   "metadata": {},
   "outputs": [],
   "source": [
    "def load_file_audio(path):\n",
    "    audio, sr = sf.read(path)\n",
    "    return np.array(audio), sr\n",
    "\n",
    "def prapemrosesan_downmixing(audio):\n",
    "    if audio.ndim > 1:\n",
    "        audio = np.mean(audio, axis=1)\n",
    "    return audio.astype(np.float32)\n",
    "\n",
    "def prapemrosesan_resampling(audio, sr):\n",
    "    if sr == SAMPLE_RATE:\n",
    "        return audio.copy(), SAMPLE_RATE\n",
    "    \n",
    "    ratio = SAMPLE_RATE / sr\n",
    "    n_samples = int(np.round(len(audio) * ratio))\n",
    "    \n",
    "    x_old = np.linspace(0, 1, len(audio))\n",
    "    x_new = np.linspace(0, 1, n_samples)\n",
    "    return np.interp(x_new, x_old, audio), SAMPLE_RATE\n",
    "\n",
    "def prapemrosesan_padding(audio):\n",
    "    if np.mod(audio.shape[0], SEGMENT_DURATION) != 0:\n",
    "        padding = SEGMENT_DURATION - (audio.shape[0] % SEGMENT_DURATION)\n",
    "        audio = np.pad(audio, (0, padding))\n",
    "    return audio\n",
    "\n",
    "def prapemrosesan_splitting(audio):\n",
    "    num_segments = int(np.floor((len(audio) - SEGMENT_DURATION) / OVERLAP_DURATION)) + 1\n",
    "    segments = []\n",
    "\n",
    "    for i in range(num_segments):\n",
    "        start = int(i * OVERLAP_DURATION)\n",
    "        end = int(start + SEGMENT_DURATION)\n",
    "        segment = audio[start:end]\n",
    "        if len(segment) < SEGMENT_DURATION:\n",
    "            segment = np.pad(segment, (0, SEGMENT_DURATION - len(segment)), mode='constant')\n",
    "        segments.append(segment)\n",
    "\n",
    "    return np.array(segments)"
   ]
  },
  {
   "cell_type": "markdown",
   "id": "781055b6",
   "metadata": {},
   "source": [
    "# Ekstraksi Fitur\n"
   ]
  },
  {
   "cell_type": "code",
   "execution_count": 7,
   "id": "5e80d7f4",
   "metadata": {},
   "outputs": [],
   "source": [
    "def get_rms(segment):\n",
    "    return np.sqrt(np.mean(segment ** 2))\n",
    "\n",
    "def get_zcr(segment):\n",
    "    return np.sum(np.abs(np.diff(np.signbit(segment)))) / (len(segment) / SAMPLE_RATE)\n",
    "\n",
    "def get_lms(segment):\n",
    "    mel_spec = librosa.feature.melspectrogram(y=segment, sr=SAMPLE_RATE)\n",
    "    return np.mean(mel_spec)"
   ]
  },
  {
   "cell_type": "markdown",
   "id": "2f28ede8",
   "metadata": {},
   "source": [
    "# Dataset\n"
   ]
  },
  {
   "cell_type": "markdown",
   "id": "951a1e2c",
   "metadata": {},
   "source": [
    "Raw\n"
   ]
  },
  {
   "cell_type": "code",
   "execution_count": 8,
   "id": "de7b6836",
   "metadata": {},
   "outputs": [],
   "source": [
    "with open(f\"{MAIN_PATH}/dataset_rmszcrlms.pkl\", \"rb\") as f:\n",
    "    dataset = pickle.load(f)"
   ]
  },
  {
   "cell_type": "code",
   "execution_count": 9,
   "id": "1afe3456",
   "metadata": {},
   "outputs": [
    {
     "data": {
      "text/plain": [
       "865"
      ]
     },
     "execution_count": 9,
     "metadata": {},
     "output_type": "execute_result"
    }
   ],
   "source": [
    "len(dataset)"
   ]
  },
  {
   "cell_type": "markdown",
   "id": "5a03f2f9",
   "metadata": {},
   "source": [
    "Normalisasi, Split, dan Batching\n"
   ]
  },
  {
   "cell_type": "code",
   "execution_count": 10,
   "id": "ccb00400",
   "metadata": {},
   "outputs": [
    {
     "data": {
      "text/plain": [
       "(0.0,\n",
       " 1.0,\n",
       " 2,\n",
       " 0.011059444,\n",
       " 0.23255173703457446,\n",
       " array([[2.22129905e-13, 1.03116427e-09, 1.56951060e-07, ...,\n",
       "         5.70585842e-13, 1.14141976e-07, 3.86931497e-05],\n",
       "        [1.73044982e-13, 1.74463599e-09, 6.80466954e-08, ...,\n",
       "         5.17760639e-13, 1.17636276e-07, 3.98712073e-05],\n",
       "        [1.94202402e-13, 1.31313471e-09, 1.05966667e-08, ...,\n",
       "         2.38242260e-12, 1.35159581e-07, 4.56374873e-05],\n",
       "        ...,\n",
       "        [2.20867216e-16, 3.81760608e-16, 5.07324878e-16, ...,\n",
       "         5.14235058e-14, 2.11715911e-09, 6.91677428e-07],\n",
       "        [9.88679711e-21, 1.61993748e-18, 5.16642328e-18, ...,\n",
       "         3.58666228e-16, 2.08386641e-09, 6.80778953e-07],\n",
       "        [4.95487801e-22, 1.56139436e-20, 6.90402098e-21, ...,\n",
       "         3.08383758e-16, 2.06350248e-09, 6.74107753e-07]], dtype=float32))"
      ]
     },
     "execution_count": 10,
     "metadata": {},
     "output_type": "execute_result"
    }
   ],
   "source": [
    "dataset[0][1:]"
   ]
  },
  {
   "cell_type": "code",
   "execution_count": 11,
   "id": "0172a8e7",
   "metadata": {},
   "outputs": [],
   "source": [
    "X = [data[6] for data in dataset]\n",
    "original_labels = [int(data[3]) for data in dataset]\n",
    "y = [1 if label in (0, 1) else 2 for label in original_labels]\n",
    "X = np.array(X)"
   ]
  },
  {
   "cell_type": "code",
   "execution_count": 12,
   "id": "a13f6efa",
   "metadata": {},
   "outputs": [
    {
     "data": {
      "text/plain": [
       "(128, 94)"
      ]
     },
     "execution_count": 12,
     "metadata": {},
     "output_type": "execute_result"
    }
   ],
   "source": [
    "X[0].shape"
   ]
  },
  {
   "cell_type": "code",
   "execution_count": 13,
   "id": "d8bc0dd3",
   "metadata": {},
   "outputs": [],
   "source": [
    "X_train, X_test, y_train, y_test = train_test_split(X, y, test_size=0.2, random_state=RANDOM_STATE, stratify=y)\n",
    "X_test, X_val, y_test, y_val = train_test_split(X_test, y_test, test_size=0.5, random_state=RANDOM_STATE, stratify=y_test)"
   ]
  },
  {
   "cell_type": "code",
   "execution_count": 14,
   "id": "8d120400",
   "metadata": {},
   "outputs": [
    {
     "name": "stdout",
     "output_type": "stream",
     "text": [
      "<class 'numpy.ndarray'>\n",
      "(128, 94)\n"
     ]
    }
   ],
   "source": [
    "print(type(X_train[0]))\n",
    "print(np.array(X_train[0]).shape)\n"
   ]
  },
  {
   "cell_type": "code",
   "execution_count": 15,
   "id": "079da750",
   "metadata": {},
   "outputs": [],
   "source": [
    "X_train_reshaped = np.expand_dims(X_train, axis=1)\n",
    "X_test_reshaped = np.expand_dims(X_test, axis=1)\n",
    "X_val_reshaped = np.expand_dims(X_val, axis=1)"
   ]
  },
  {
   "cell_type": "code",
   "execution_count": 16,
   "id": "c83b57f9",
   "metadata": {},
   "outputs": [
    {
     "data": {
      "text/plain": [
       "(692, 1, 128, 94)"
      ]
     },
     "metadata": {},
     "output_type": "display_data"
    },
    {
     "data": {
      "text/plain": [
       "(86, 1, 128, 94)"
      ]
     },
     "metadata": {},
     "output_type": "display_data"
    },
    {
     "data": {
      "text/plain": [
       "(87, 1, 128, 94)"
      ]
     },
     "metadata": {},
     "output_type": "display_data"
    }
   ],
   "source": [
    "display(\n",
    "    X_train_reshaped.shape,\n",
    "    X_test_reshaped.shape,\n",
    "    X_val_reshaped.shape\n",
    ")"
   ]
  },
  {
   "cell_type": "markdown",
   "id": "3f63818e",
   "metadata": {},
   "source": [
    "# CNN\n"
   ]
  },
  {
   "cell_type": "markdown",
   "id": "1d339452",
   "metadata": {},
   "source": [
    "Inisialisasi\n"
   ]
  },
  {
   "cell_type": "code",
   "execution_count": 17,
   "id": "e6a8c9f3",
   "metadata": {},
   "outputs": [],
   "source": [
    "class CNN(nn.Module):\n",
    "    def __init__(self, num_classes=10):\n",
    "        super(CNN, self).__init__()\n",
    "        self.conv1 = nn.Conv2d(1, 64, kernel_size=3, padding=1)\n",
    "        self.bn1 = nn.BatchNorm2d(64)\n",
    "        self.conv2 = nn.Conv2d(64, 128, kernel_size=3, padding=1)\n",
    "        self.bn2 = nn.BatchNorm2d(128)\n",
    "        self.conv3 = nn.Conv2d(128, 256, kernel_size=3, padding=1)\n",
    "        self.bn3 = nn.BatchNorm2d(256)\n",
    "        self.pool = nn.MaxPool2d(kernel_size=2, stride=2)\n",
    "        self.gap = nn.AdaptiveAvgPool2d(1)\n",
    "        self.fc1 = nn.Linear(256, 256)\n",
    "        self.dropout = nn.Dropout(0.5)\n",
    "        self.fc2 = nn.Linear(256, num_classes)\n",
    "\n",
    "    def forward(self, x):\n",
    "        x = self.pool(F.relu(self.bn1(self.conv1(x))))\n",
    "        x = self.pool(F.relu(self.bn2(self.conv2(x))))\n",
    "        x = self.pool(F.relu(self.bn3(self.conv3(x))))\n",
    "        x = self.gap(x)\n",
    "        x = x.view(x.size(0), -1)\n",
    "        x = F.relu(self.fc1(x))\n",
    "        x = self.dropout(x)\n",
    "        x = self.fc2(x)\n",
    "        return x"
   ]
  },
  {
   "cell_type": "markdown",
   "id": "481a0989",
   "metadata": {},
   "source": [
    "training\n"
   ]
  },
  {
   "cell_type": "code",
   "execution_count": 18,
   "id": "15d9db5d",
   "metadata": {},
   "outputs": [
    {
     "name": "stdout",
     "output_type": "stream",
     "text": [
      "Epoch [1/100], Loss: 0.0177, Train Accuracy: 0.5361, Train F1 Score: 0.5949, Val Accuracy: 0.7471, Val F1 Score: 0.7471\n",
      "Epoch [2/100], Loss: 0.0131, Train Accuracy: 0.7428, Train F1 Score: 0.7280, Val Accuracy: 0.7356, Val F1 Score: 0.7129\n",
      "Epoch [3/100], Loss: 0.0080, Train Accuracy: 0.7283, Train F1 Score: 0.6983, Val Accuracy: 0.7011, Val F1 Score: 0.6330\n",
      "Epoch [4/100], Loss: 0.0052, Train Accuracy: 0.7009, Train F1 Score: 0.6727, Val Accuracy: 0.6322, Val F1 Score: 0.5011\n",
      "Epoch [5/100], Loss: 0.0052, Train Accuracy: 0.7081, Train F1 Score: 0.6928, Val Accuracy: 0.7011, Val F1 Score: 0.6665\n",
      "Epoch [6/100], Loss: 0.0050, Train Accuracy: 0.7283, Train F1 Score: 0.7117, Val Accuracy: 0.7241, Val F1 Score: 0.7073\n",
      "Epoch [7/100], Loss: 0.0048, Train Accuracy: 0.7428, Train F1 Score: 0.7218, Val Accuracy: 0.3793, Val F1 Score: 0.2086\n",
      "Epoch [8/100], Loss: 0.0046, Train Accuracy: 0.7529, Train F1 Score: 0.7402, Val Accuracy: 0.3793, Val F1 Score: 0.2086\n",
      "Epoch [9/100], Loss: 0.0047, Train Accuracy: 0.7529, Train F1 Score: 0.7370, Val Accuracy: 0.3793, Val F1 Score: 0.2086\n",
      "Epoch [10/100], Loss: 0.0044, Train Accuracy: 0.7702, Train F1 Score: 0.7580, Val Accuracy: 0.6782, Val F1 Score: 0.6751\n",
      "Epoch [11/100], Loss: 0.0045, Train Accuracy: 0.7702, Train F1 Score: 0.7572, Val Accuracy: 0.7011, Val F1 Score: 0.7050\n",
      "Epoch [12/100], Loss: 0.0045, Train Accuracy: 0.7659, Train F1 Score: 0.7574, Val Accuracy: 0.7356, Val F1 Score: 0.7391\n",
      "Epoch [13/100], Loss: 0.0043, Train Accuracy: 0.7673, Train F1 Score: 0.7562, Val Accuracy: 0.7471, Val F1 Score: 0.7317\n",
      "Epoch [14/100], Loss: 0.0043, Train Accuracy: 0.7775, Train F1 Score: 0.7662, Val Accuracy: 0.7586, Val F1 Score: 0.7378\n",
      "Epoch [15/100], Loss: 0.0042, Train Accuracy: 0.7760, Train F1 Score: 0.7674, Val Accuracy: 0.7471, Val F1 Score: 0.7317\n",
      "Epoch [16/100], Loss: 0.0043, Train Accuracy: 0.7731, Train F1 Score: 0.7640, Val Accuracy: 0.7471, Val F1 Score: 0.7384\n",
      "Epoch [17/100], Loss: 0.0043, Train Accuracy: 0.7905, Train F1 Score: 0.7850, Val Accuracy: 0.7356, Val F1 Score: 0.7214\n",
      "Epoch [18/100], Loss: 0.0043, Train Accuracy: 0.7630, Train F1 Score: 0.7466, Val Accuracy: 0.7471, Val F1 Score: 0.7230\n",
      "Epoch [19/100], Loss: 0.0043, Train Accuracy: 0.7775, Train F1 Score: 0.7680, Val Accuracy: 0.7586, Val F1 Score: 0.7420\n",
      "Epoch [20/100], Loss: 0.0041, Train Accuracy: 0.7905, Train F1 Score: 0.7824, Val Accuracy: 0.7701, Val F1 Score: 0.7561\n",
      "Epoch [21/100], Loss: 0.0041, Train Accuracy: 0.7977, Train F1 Score: 0.7891, Val Accuracy: 0.7701, Val F1 Score: 0.7561\n",
      "Epoch [22/100], Loss: 0.0041, Train Accuracy: 0.7934, Train F1 Score: 0.7885, Val Accuracy: 0.7586, Val F1 Score: 0.7378\n",
      "Epoch [23/100], Loss: 0.0039, Train Accuracy: 0.7934, Train F1 Score: 0.7863, Val Accuracy: 0.7701, Val F1 Score: 0.7434\n",
      "Epoch [24/100], Loss: 0.0040, Train Accuracy: 0.8006, Train F1 Score: 0.7950, Val Accuracy: 0.7471, Val F1 Score: 0.7230\n",
      "Epoch [25/100], Loss: 0.0040, Train Accuracy: 0.8006, Train F1 Score: 0.7967, Val Accuracy: 0.7701, Val F1 Score: 0.7561\n",
      "Epoch [26/100], Loss: 0.0040, Train Accuracy: 0.7948, Train F1 Score: 0.7906, Val Accuracy: 0.7586, Val F1 Score: 0.7332\n",
      "Epoch [27/100], Loss: 0.0039, Train Accuracy: 0.7934, Train F1 Score: 0.7848, Val Accuracy: 0.7586, Val F1 Score: 0.7332\n",
      "Epoch [28/100], Loss: 0.0038, Train Accuracy: 0.8107, Train F1 Score: 0.8031, Val Accuracy: 0.7701, Val F1 Score: 0.7434\n",
      "Epoch [29/100], Loss: 0.0041, Train Accuracy: 0.7962, Train F1 Score: 0.7926, Val Accuracy: 0.7471, Val F1 Score: 0.7230\n",
      "Epoch [30/100], Loss: 0.0039, Train Accuracy: 0.8165, Train F1 Score: 0.8110, Val Accuracy: 0.7471, Val F1 Score: 0.7053\n",
      "Epoch [31/100], Loss: 0.0038, Train Accuracy: 0.8049, Train F1 Score: 0.7980, Val Accuracy: 0.7011, Val F1 Score: 0.6330\n",
      "Epoch [32/100], Loss: 0.0037, Train Accuracy: 0.8092, Train F1 Score: 0.8042, Val Accuracy: 0.7471, Val F1 Score: 0.7230\n",
      "Epoch [33/100], Loss: 0.0038, Train Accuracy: 0.8223, Train F1 Score: 0.8179, Val Accuracy: 0.7356, Val F1 Score: 0.7129\n",
      "Epoch [34/100], Loss: 0.0038, Train Accuracy: 0.8179, Train F1 Score: 0.8152, Val Accuracy: 0.7586, Val F1 Score: 0.7332\n",
      "Epoch [35/100], Loss: 0.0039, Train Accuracy: 0.7962, Train F1 Score: 0.7854, Val Accuracy: 0.7471, Val F1 Score: 0.7053\n",
      "Epoch [36/100], Loss: 0.0037, Train Accuracy: 0.8208, Train F1 Score: 0.8169, Val Accuracy: 0.7471, Val F1 Score: 0.7230\n",
      "Epoch [37/100], Loss: 0.0037, Train Accuracy: 0.8150, Train F1 Score: 0.8114, Val Accuracy: 0.7471, Val F1 Score: 0.7317\n",
      "Epoch [38/100], Loss: 0.0037, Train Accuracy: 0.8179, Train F1 Score: 0.8142, Val Accuracy: 0.7471, Val F1 Score: 0.7276\n",
      "Epoch [39/100], Loss: 0.0035, Train Accuracy: 0.8223, Train F1 Score: 0.8185, Val Accuracy: 0.7586, Val F1 Score: 0.7332\n",
      "Epoch [40/100], Loss: 0.0036, Train Accuracy: 0.8353, Train F1 Score: 0.8317, Val Accuracy: 0.7931, Val F1 Score: 0.7860\n",
      "Epoch [41/100], Loss: 0.0035, Train Accuracy: 0.8208, Train F1 Score: 0.8183, Val Accuracy: 0.8046, Val F1 Score: 0.7990\n",
      "Epoch [42/100], Loss: 0.0036, Train Accuracy: 0.8150, Train F1 Score: 0.8086, Val Accuracy: 0.7586, Val F1 Score: 0.7332\n",
      "Epoch [43/100], Loss: 0.0034, Train Accuracy: 0.8454, Train F1 Score: 0.8415, Val Accuracy: 0.8046, Val F1 Score: 0.7990\n",
      "Epoch [44/100], Loss: 0.0034, Train Accuracy: 0.8338, Train F1 Score: 0.8321, Val Accuracy: 0.8276, Val F1 Score: 0.8295\n",
      "Epoch [45/100], Loss: 0.0033, Train Accuracy: 0.8324, Train F1 Score: 0.8291, Val Accuracy: 0.8046, Val F1 Score: 0.7941\n",
      "Epoch [46/100], Loss: 0.0033, Train Accuracy: 0.8497, Train F1 Score: 0.8464, Val Accuracy: 0.7931, Val F1 Score: 0.7805\n",
      "Epoch [47/100], Loss: 0.0033, Train Accuracy: 0.8396, Train F1 Score: 0.8374, Val Accuracy: 0.7816, Val F1 Score: 0.7628\n",
      "Epoch [48/100], Loss: 0.0034, Train Accuracy: 0.8280, Train F1 Score: 0.8252, Val Accuracy: 0.8161, Val F1 Score: 0.8117\n",
      "Epoch [49/100], Loss: 0.0033, Train Accuracy: 0.8396, Train F1 Score: 0.8324, Val Accuracy: 0.7931, Val F1 Score: 0.7805\n",
      "Epoch [50/100], Loss: 0.0032, Train Accuracy: 0.8410, Train F1 Score: 0.8387, Val Accuracy: 0.7701, Val F1 Score: 0.7561\n",
      "Epoch [51/100], Loss: 0.0031, Train Accuracy: 0.8454, Train F1 Score: 0.8421, Val Accuracy: 0.8161, Val F1 Score: 0.8117\n",
      "Epoch [52/100], Loss: 0.0032, Train Accuracy: 0.8483, Train F1 Score: 0.8454, Val Accuracy: 0.7931, Val F1 Score: 0.7771\n",
      "Epoch [53/100], Loss: 0.0038, Train Accuracy: 0.8367, Train F1 Score: 0.8340, Val Accuracy: 0.7701, Val F1 Score: 0.7622\n",
      "Epoch [54/100], Loss: 0.0035, Train Accuracy: 0.8382, Train F1 Score: 0.8330, Val Accuracy: 0.7586, Val F1 Score: 0.7593\n",
      "Epoch [55/100], Loss: 0.0034, Train Accuracy: 0.8454, Train F1 Score: 0.8423, Val Accuracy: 0.7471, Val F1 Score: 0.7119\n",
      "Epoch [56/100], Loss: 0.0032, Train Accuracy: 0.8555, Train F1 Score: 0.8520, Val Accuracy: 0.7931, Val F1 Score: 0.7771\n",
      "Epoch [57/100], Loss: 0.0033, Train Accuracy: 0.8497, Train F1 Score: 0.8473, Val Accuracy: 0.7816, Val F1 Score: 0.7699\n",
      "Epoch [58/100], Loss: 0.0032, Train Accuracy: 0.8483, Train F1 Score: 0.8465, Val Accuracy: 0.7471, Val F1 Score: 0.7276\n",
      "Epoch [59/100], Loss: 0.0032, Train Accuracy: 0.8382, Train F1 Score: 0.8308, Val Accuracy: 0.7816, Val F1 Score: 0.7728\n",
      "Epoch [60/100], Loss: 0.0031, Train Accuracy: 0.8497, Train F1 Score: 0.8468, Val Accuracy: 0.8046, Val F1 Score: 0.8074\n",
      "Epoch [61/100], Loss: 0.0032, Train Accuracy: 0.8439, Train F1 Score: 0.8419, Val Accuracy: 0.7931, Val F1 Score: 0.7834\n",
      "Epoch [62/100], Loss: 0.0031, Train Accuracy: 0.8656, Train F1 Score: 0.8614, Val Accuracy: 0.7701, Val F1 Score: 0.7482\n",
      "Epoch [63/100], Loss: 0.0031, Train Accuracy: 0.8555, Train F1 Score: 0.8539, Val Accuracy: 0.8276, Val F1 Score: 0.8299\n",
      "Epoch [64/100], Loss: 0.0030, Train Accuracy: 0.8598, Train F1 Score: 0.8586, Val Accuracy: 0.7931, Val F1 Score: 0.7860\n",
      "Epoch [65/100], Loss: 0.0029, Train Accuracy: 0.8627, Train F1 Score: 0.8584, Val Accuracy: 0.7816, Val F1 Score: 0.7753\n",
      "Epoch [66/100], Loss: 0.0029, Train Accuracy: 0.8483, Train F1 Score: 0.8467, Val Accuracy: 0.7931, Val F1 Score: 0.7942\n",
      "Epoch [67/100], Loss: 0.0032, Train Accuracy: 0.8569, Train F1 Score: 0.8525, Val Accuracy: 0.7816, Val F1 Score: 0.7699\n",
      "Epoch [68/100], Loss: 0.0034, Train Accuracy: 0.8367, Train F1 Score: 0.8329, Val Accuracy: 0.8161, Val F1 Score: 0.8149\n",
      "Epoch [69/100], Loss: 0.0031, Train Accuracy: 0.8555, Train F1 Score: 0.8533, Val Accuracy: 0.7931, Val F1 Score: 0.7805\n",
      "Epoch [70/100], Loss: 0.0030, Train Accuracy: 0.8613, Train F1 Score: 0.8587, Val Accuracy: 0.7931, Val F1 Score: 0.7962\n",
      "Epoch [71/100], Loss: 0.0029, Train Accuracy: 0.8526, Train F1 Score: 0.8507, Val Accuracy: 0.7011, Val F1 Score: 0.6960\n",
      "Epoch [72/100], Loss: 0.0029, Train Accuracy: 0.8685, Train F1 Score: 0.8671, Val Accuracy: 0.8046, Val F1 Score: 0.8051\n",
      "Epoch [73/100], Loss: 0.0029, Train Accuracy: 0.8613, Train F1 Score: 0.8572, Val Accuracy: 0.8046, Val F1 Score: 0.7911\n",
      "Epoch [74/100], Loss: 0.0029, Train Accuracy: 0.8627, Train F1 Score: 0.8610, Val Accuracy: 0.8276, Val F1 Score: 0.8258\n",
      "Epoch [75/100], Loss: 0.0029, Train Accuracy: 0.8569, Train F1 Score: 0.8547, Val Accuracy: 0.8046, Val F1 Score: 0.7967\n",
      "Epoch [76/100], Loss: 0.0030, Train Accuracy: 0.8598, Train F1 Score: 0.8552, Val Accuracy: 0.7931, Val F1 Score: 0.7860\n",
      "Epoch [77/100], Loss: 0.0027, Train Accuracy: 0.8685, Train F1 Score: 0.8667, Val Accuracy: 0.8161, Val F1 Score: 0.8171\n",
      "Epoch [78/100], Loss: 0.0027, Train Accuracy: 0.8772, Train F1 Score: 0.8754, Val Accuracy: 0.8161, Val F1 Score: 0.8178\n",
      "Epoch [79/100], Loss: 0.0027, Train Accuracy: 0.8801, Train F1 Score: 0.8782, Val Accuracy: 0.8046, Val F1 Score: 0.7911\n",
      "Epoch [80/100], Loss: 0.0029, Train Accuracy: 0.8656, Train F1 Score: 0.8621, Val Accuracy: 0.7586, Val F1 Score: 0.7279\n",
      "Epoch [81/100], Loss: 0.0028, Train Accuracy: 0.8714, Train F1 Score: 0.8679, Val Accuracy: 0.8046, Val F1 Score: 0.7967\n",
      "Epoch [82/100], Loss: 0.0028, Train Accuracy: 0.8685, Train F1 Score: 0.8666, Val Accuracy: 0.7816, Val F1 Score: 0.7840\n",
      "Epoch [83/100], Loss: 0.0029, Train Accuracy: 0.8642, Train F1 Score: 0.8625, Val Accuracy: 0.8391, Val F1 Score: 0.8399\n",
      "Epoch [84/100], Loss: 0.0028, Train Accuracy: 0.8642, Train F1 Score: 0.8609, Val Accuracy: 0.7816, Val F1 Score: 0.7699\n",
      "Epoch [85/100], Loss: 0.0028, Train Accuracy: 0.8714, Train F1 Score: 0.8682, Val Accuracy: 0.8391, Val F1 Score: 0.8399\n",
      "Epoch [86/100], Loss: 0.0027, Train Accuracy: 0.8743, Train F1 Score: 0.8723, Val Accuracy: 0.8161, Val F1 Score: 0.8134\n",
      "Epoch [87/100], Loss: 0.0026, Train Accuracy: 0.8772, Train F1 Score: 0.8750, Val Accuracy: 0.8276, Val F1 Score: 0.8299\n",
      "Epoch [88/100], Loss: 0.0025, Train Accuracy: 0.8945, Train F1 Score: 0.8928, Val Accuracy: 0.8276, Val F1 Score: 0.8289\n",
      "Epoch [89/100], Loss: 0.0024, Train Accuracy: 0.8902, Train F1 Score: 0.8884, Val Accuracy: 0.8046, Val F1 Score: 0.8009\n",
      "Epoch [90/100], Loss: 0.0024, Train Accuracy: 0.8844, Train F1 Score: 0.8828, Val Accuracy: 0.7701, Val F1 Score: 0.7434\n",
      "Epoch [91/100], Loss: 0.0027, Train Accuracy: 0.8671, Train F1 Score: 0.8642, Val Accuracy: 0.7586, Val F1 Score: 0.7279\n",
      "Epoch [92/100], Loss: 0.0026, Train Accuracy: 0.8844, Train F1 Score: 0.8822, Val Accuracy: 0.7126, Val F1 Score: 0.6690\n",
      "Epoch [93/100], Loss: 0.0025, Train Accuracy: 0.8815, Train F1 Score: 0.8791, Val Accuracy: 0.7816, Val F1 Score: 0.7666\n",
      "Epoch [94/100], Loss: 0.0027, Train Accuracy: 0.8772, Train F1 Score: 0.8753, Val Accuracy: 0.7816, Val F1 Score: 0.7699\n",
      "Epoch [95/100], Loss: 0.0027, Train Accuracy: 0.8786, Train F1 Score: 0.8765, Val Accuracy: 0.8046, Val F1 Score: 0.8009\n",
      "Epoch [96/100], Loss: 0.0026, Train Accuracy: 0.8699, Train F1 Score: 0.8690, Val Accuracy: 0.4253, Val F1 Score: 0.3014\n",
      "Epoch [97/100], Loss: 0.0029, Train Accuracy: 0.8627, Train F1 Score: 0.8598, Val Accuracy: 0.8046, Val F1 Score: 0.8072\n",
      "Epoch [98/100], Loss: 0.0032, Train Accuracy: 0.8454, Train F1 Score: 0.8389, Val Accuracy: 0.6897, Val F1 Score: 0.6339\n",
      "Epoch [99/100], Loss: 0.0028, Train Accuracy: 0.8743, Train F1 Score: 0.8726, Val Accuracy: 0.8161, Val F1 Score: 0.8134\n",
      "Epoch [100/100], Loss: 0.0027, Train Accuracy: 0.8772, Train F1 Score: 0.8743, Val Accuracy: 0.6667, Val F1 Score: 0.6564\n"
     ]
    }
   ],
   "source": [
    "device = torch.device('cuda' if torch.cuda.is_available() else 'cpu')\n",
    "\n",
    "model = CNN(num_classes=10).to(device)\n",
    "\n",
    "criterion = nn.CrossEntropyLoss()\n",
    "optimizer = optim.Adam(model.parameters(), lr=0.001)\n",
    "\n",
    "X_train_reshaped_tensor = torch.tensor(X_train_reshaped, dtype=torch.float32).reshape(-1, 1, 128, 94).to(device)\n",
    "X_val_reshaped_tensor = torch.tensor(X_val_reshaped, dtype=torch.float32).reshape(-1, 1, 128, 94).to(device)\n",
    "y_train_tensor = torch.tensor(y_train, dtype=torch.long)\n",
    "y_val_tensor = torch.tensor(y_val, dtype=torch.long)\n",
    "\n",
    "num_epochs = 100\n",
    "batch_size = 128\n",
    "\n",
    "for epoch in range(num_epochs):\n",
    "    model.train()\n",
    "    running_loss = 0.0\n",
    "    y_train_preds = []\n",
    "    y_train_true = []\n",
    "    \n",
    "    for i in range(0, len(X_train_reshaped_tensor), batch_size):\n",
    "        inputs = X_train_reshaped_tensor[i:i+batch_size]\n",
    "        targets = y_train_tensor[i:i+batch_size].to(device)\n",
    "\n",
    "        optimizer.zero_grad()\n",
    "        outputs = model(inputs)\n",
    "        loss = criterion(outputs, targets)\n",
    "        loss.backward()\n",
    "        optimizer.step()\n",
    "\n",
    "        running_loss += loss.item()\n",
    "        _, predicted = torch.max(outputs, 1)\n",
    "        y_train_preds.extend(predicted.cpu().numpy())\n",
    "        y_train_true.extend(targets.cpu().numpy())\n",
    "\n",
    "    train_accuracy = accuracy_score(y_train_true, y_train_preds)\n",
    "    train_f1_score = f1_score(y_train_true, y_train_preds, average='weighted')\n",
    "\n",
    "    model.eval()\n",
    "    y_val_preds = []\n",
    "    y_val_true = []\n",
    "    \n",
    "    with torch.no_grad():\n",
    "        for i in range(0, len(X_val_reshaped_tensor), batch_size):\n",
    "            inputs = X_val_reshaped_tensor[i:i+batch_size]\n",
    "            targets = y_val_tensor[i:i+batch_size].to(device)\n",
    "            outputs = model(inputs)\n",
    "            _, predicted = torch.max(outputs, 1)\n",
    "            y_val_preds.extend(predicted.cpu().numpy())\n",
    "            y_val_true.extend(targets.cpu().numpy())\n",
    "\n",
    "    val_accuracy = accuracy_score(y_val_true, y_val_preds)\n",
    "    val_f1_score = f1_score(y_val_true, y_val_preds, average='weighted')\n",
    "\n",
    "    print(f\"Epoch [{epoch+1}/{num_epochs}], Loss: {running_loss/len(X_train_reshaped_tensor):.4f}, \"\n",
    "          f\"Train Accuracy: {train_accuracy:.4f}, Train F1 Score: {train_f1_score:.4f}, \"\n",
    "          f\"Val Accuracy: {val_accuracy:.4f}, Val F1 Score: {val_f1_score:.4f}\")\n"
   ]
  },
  {
   "cell_type": "code",
   "execution_count": 19,
   "id": "093af36a",
   "metadata": {},
   "outputs": [],
   "source": [
    "X_train_reshaped = X_train_reshaped.reshape(X_train_reshaped.shape[0], -1)\n",
    "X_val_reshaped = X_val_reshaped.reshape(X_val_reshaped.shape[0], -1)\n",
    "X_test_reshaped = X_test_reshaped.reshape(X_test_reshaped.shape[0], -1)"
   ]
  },
  {
   "cell_type": "code",
   "execution_count": 20,
   "id": "c65da985",
   "metadata": {},
   "outputs": [
    {
     "data": {
      "text/plain": [
       "(692, 12032)"
      ]
     },
     "execution_count": 20,
     "metadata": {},
     "output_type": "execute_result"
    }
   ],
   "source": [
    "X_train_reshaped.shape"
   ]
  },
  {
   "cell_type": "markdown",
   "id": "c1b88912",
   "metadata": {},
   "source": [
    "# LGBM\n"
   ]
  },
  {
   "cell_type": "markdown",
   "id": "403a16f5",
   "metadata": {},
   "source": [
    "Inisialisasi\n"
   ]
  },
  {
   "cell_type": "code",
   "execution_count": 21,
   "id": "26a5fbf8",
   "metadata": {},
   "outputs": [],
   "source": [
    "lgbm_model = LGBMClassifier(random_state=RANDOM_STATE, verbose=-1)\n",
    "\n",
    "param_grid_lgbm = {\n",
    "    'n_estimators': [50, 100, 200],\n",
    "    'num_leaves': [31, 50, 100],\n",
    "    'learning_rate': [0.01, 0.1, 0.2],\n",
    "    'max_depth': [-1, 10, 20]\n",
    "}"
   ]
  },
  {
   "cell_type": "markdown",
   "id": "b037f357",
   "metadata": {},
   "source": [
    "training\n"
   ]
  },
  {
   "cell_type": "code",
   "execution_count": 22,
   "id": "e9d7c7f9",
   "metadata": {},
   "outputs": [
    {
     "name": "stdout",
     "output_type": "stream",
     "text": [
      "[1/81] Params: {'learning_rate': 0.01, 'max_depth': -1, 'n_estimators': 50, 'num_leaves': 31} | Val Accuracy: 0.8621\n",
      "[2/81] Params: {'learning_rate': 0.01, 'max_depth': -1, 'n_estimators': 50, 'num_leaves': 50} | Val Accuracy: 0.8621\n",
      "[3/81] Params: {'learning_rate': 0.01, 'max_depth': -1, 'n_estimators': 50, 'num_leaves': 100} | Val Accuracy: 0.8621\n",
      "[4/81] Params: {'learning_rate': 0.01, 'max_depth': -1, 'n_estimators': 100, 'num_leaves': 31} | Val Accuracy: 0.8621\n",
      "[5/81] Params: {'learning_rate': 0.01, 'max_depth': -1, 'n_estimators': 100, 'num_leaves': 50} | Val Accuracy: 0.8621\n",
      "[6/81] Params: {'learning_rate': 0.01, 'max_depth': -1, 'n_estimators': 100, 'num_leaves': 100} | Val Accuracy: 0.8621\n",
      "[7/81] Params: {'learning_rate': 0.01, 'max_depth': -1, 'n_estimators': 200, 'num_leaves': 31} | Val Accuracy: 0.8736\n",
      "[8/81] Params: {'learning_rate': 0.01, 'max_depth': -1, 'n_estimators': 200, 'num_leaves': 50} | Val Accuracy: 0.8736\n",
      "[9/81] Params: {'learning_rate': 0.01, 'max_depth': -1, 'n_estimators': 200, 'num_leaves': 100} | Val Accuracy: 0.8736\n",
      "[10/81] Params: {'learning_rate': 0.01, 'max_depth': 10, 'n_estimators': 50, 'num_leaves': 31} | Val Accuracy: 0.8621\n",
      "[11/81] Params: {'learning_rate': 0.01, 'max_depth': 10, 'n_estimators': 50, 'num_leaves': 50} | Val Accuracy: 0.8621\n",
      "[12/81] Params: {'learning_rate': 0.01, 'max_depth': 10, 'n_estimators': 50, 'num_leaves': 100} | Val Accuracy: 0.8621\n",
      "[13/81] Params: {'learning_rate': 0.01, 'max_depth': 10, 'n_estimators': 100, 'num_leaves': 31} | Val Accuracy: 0.8621\n",
      "[14/81] Params: {'learning_rate': 0.01, 'max_depth': 10, 'n_estimators': 100, 'num_leaves': 50} | Val Accuracy: 0.8621\n",
      "[15/81] Params: {'learning_rate': 0.01, 'max_depth': 10, 'n_estimators': 100, 'num_leaves': 100} | Val Accuracy: 0.8621\n",
      "[16/81] Params: {'learning_rate': 0.01, 'max_depth': 10, 'n_estimators': 200, 'num_leaves': 31} | Val Accuracy: 0.8851\n",
      "[17/81] Params: {'learning_rate': 0.01, 'max_depth': 10, 'n_estimators': 200, 'num_leaves': 50} | Val Accuracy: 0.8851\n",
      "[18/81] Params: {'learning_rate': 0.01, 'max_depth': 10, 'n_estimators': 200, 'num_leaves': 100} | Val Accuracy: 0.8851\n",
      "[19/81] Params: {'learning_rate': 0.01, 'max_depth': 20, 'n_estimators': 50, 'num_leaves': 31} | Val Accuracy: 0.8621\n",
      "[20/81] Params: {'learning_rate': 0.01, 'max_depth': 20, 'n_estimators': 50, 'num_leaves': 50} | Val Accuracy: 0.8621\n",
      "[21/81] Params: {'learning_rate': 0.01, 'max_depth': 20, 'n_estimators': 50, 'num_leaves': 100} | Val Accuracy: 0.8621\n",
      "[22/81] Params: {'learning_rate': 0.01, 'max_depth': 20, 'n_estimators': 100, 'num_leaves': 31} | Val Accuracy: 0.8621\n",
      "[23/81] Params: {'learning_rate': 0.01, 'max_depth': 20, 'n_estimators': 100, 'num_leaves': 50} | Val Accuracy: 0.8621\n",
      "[24/81] Params: {'learning_rate': 0.01, 'max_depth': 20, 'n_estimators': 100, 'num_leaves': 100} | Val Accuracy: 0.8621\n",
      "[25/81] Params: {'learning_rate': 0.01, 'max_depth': 20, 'n_estimators': 200, 'num_leaves': 31} | Val Accuracy: 0.8736\n",
      "[26/81] Params: {'learning_rate': 0.01, 'max_depth': 20, 'n_estimators': 200, 'num_leaves': 50} | Val Accuracy: 0.8736\n",
      "[27/81] Params: {'learning_rate': 0.01, 'max_depth': 20, 'n_estimators': 200, 'num_leaves': 100} | Val Accuracy: 0.8736\n",
      "[28/81] Params: {'learning_rate': 0.1, 'max_depth': -1, 'n_estimators': 50, 'num_leaves': 31} | Val Accuracy: 0.9195\n",
      "[29/81] Params: {'learning_rate': 0.1, 'max_depth': -1, 'n_estimators': 50, 'num_leaves': 50} | Val Accuracy: 0.9195\n",
      "[30/81] Params: {'learning_rate': 0.1, 'max_depth': -1, 'n_estimators': 50, 'num_leaves': 100} | Val Accuracy: 0.9195\n",
      "[31/81] Params: {'learning_rate': 0.1, 'max_depth': -1, 'n_estimators': 100, 'num_leaves': 31} | Val Accuracy: 0.9195\n",
      "[32/81] Params: {'learning_rate': 0.1, 'max_depth': -1, 'n_estimators': 100, 'num_leaves': 50} | Val Accuracy: 0.9195\n",
      "[33/81] Params: {'learning_rate': 0.1, 'max_depth': -1, 'n_estimators': 100, 'num_leaves': 100} | Val Accuracy: 0.9195\n",
      "[34/81] Params: {'learning_rate': 0.1, 'max_depth': -1, 'n_estimators': 200, 'num_leaves': 31} | Val Accuracy: 0.9310\n",
      "[35/81] Params: {'learning_rate': 0.1, 'max_depth': -1, 'n_estimators': 200, 'num_leaves': 50} | Val Accuracy: 0.9080\n",
      "[36/81] Params: {'learning_rate': 0.1, 'max_depth': -1, 'n_estimators': 200, 'num_leaves': 100} | Val Accuracy: 0.9080\n",
      "[37/81] Params: {'learning_rate': 0.1, 'max_depth': 10, 'n_estimators': 50, 'num_leaves': 31} | Val Accuracy: 0.9080\n",
      "[38/81] Params: {'learning_rate': 0.1, 'max_depth': 10, 'n_estimators': 50, 'num_leaves': 50} | Val Accuracy: 0.9080\n",
      "[39/81] Params: {'learning_rate': 0.1, 'max_depth': 10, 'n_estimators': 50, 'num_leaves': 100} | Val Accuracy: 0.9080\n",
      "[40/81] Params: {'learning_rate': 0.1, 'max_depth': 10, 'n_estimators': 100, 'num_leaves': 31} | Val Accuracy: 0.9080\n",
      "[41/81] Params: {'learning_rate': 0.1, 'max_depth': 10, 'n_estimators': 100, 'num_leaves': 50} | Val Accuracy: 0.9080\n",
      "[42/81] Params: {'learning_rate': 0.1, 'max_depth': 10, 'n_estimators': 100, 'num_leaves': 100} | Val Accuracy: 0.9080\n",
      "[43/81] Params: {'learning_rate': 0.1, 'max_depth': 10, 'n_estimators': 200, 'num_leaves': 31} | Val Accuracy: 0.8966\n",
      "[44/81] Params: {'learning_rate': 0.1, 'max_depth': 10, 'n_estimators': 200, 'num_leaves': 50} | Val Accuracy: 0.8966\n",
      "[45/81] Params: {'learning_rate': 0.1, 'max_depth': 10, 'n_estimators': 200, 'num_leaves': 100} | Val Accuracy: 0.8966\n",
      "[46/81] Params: {'learning_rate': 0.1, 'max_depth': 20, 'n_estimators': 50, 'num_leaves': 31} | Val Accuracy: 0.9195\n",
      "[47/81] Params: {'learning_rate': 0.1, 'max_depth': 20, 'n_estimators': 50, 'num_leaves': 50} | Val Accuracy: 0.9195\n",
      "[48/81] Params: {'learning_rate': 0.1, 'max_depth': 20, 'n_estimators': 50, 'num_leaves': 100} | Val Accuracy: 0.9195\n",
      "[49/81] Params: {'learning_rate': 0.1, 'max_depth': 20, 'n_estimators': 100, 'num_leaves': 31} | Val Accuracy: 0.9195\n",
      "[50/81] Params: {'learning_rate': 0.1, 'max_depth': 20, 'n_estimators': 100, 'num_leaves': 50} | Val Accuracy: 0.9195\n",
      "[51/81] Params: {'learning_rate': 0.1, 'max_depth': 20, 'n_estimators': 100, 'num_leaves': 100} | Val Accuracy: 0.9195\n",
      "[52/81] Params: {'learning_rate': 0.1, 'max_depth': 20, 'n_estimators': 200, 'num_leaves': 31} | Val Accuracy: 0.9310\n",
      "[53/81] Params: {'learning_rate': 0.1, 'max_depth': 20, 'n_estimators': 200, 'num_leaves': 50} | Val Accuracy: 0.9080\n",
      "[54/81] Params: {'learning_rate': 0.1, 'max_depth': 20, 'n_estimators': 200, 'num_leaves': 100} | Val Accuracy: 0.9080\n",
      "[55/81] Params: {'learning_rate': 0.2, 'max_depth': -1, 'n_estimators': 50, 'num_leaves': 31} | Val Accuracy: 0.9080\n",
      "[56/81] Params: {'learning_rate': 0.2, 'max_depth': -1, 'n_estimators': 50, 'num_leaves': 50} | Val Accuracy: 0.9080\n",
      "[57/81] Params: {'learning_rate': 0.2, 'max_depth': -1, 'n_estimators': 50, 'num_leaves': 100} | Val Accuracy: 0.9080\n",
      "[58/81] Params: {'learning_rate': 0.2, 'max_depth': -1, 'n_estimators': 100, 'num_leaves': 31} | Val Accuracy: 0.9195\n",
      "[59/81] Params: {'learning_rate': 0.2, 'max_depth': -1, 'n_estimators': 100, 'num_leaves': 50} | Val Accuracy: 0.9080\n",
      "[60/81] Params: {'learning_rate': 0.2, 'max_depth': -1, 'n_estimators': 100, 'num_leaves': 100} | Val Accuracy: 0.9080\n",
      "[61/81] Params: {'learning_rate': 0.2, 'max_depth': -1, 'n_estimators': 200, 'num_leaves': 31} | Val Accuracy: 0.9080\n",
      "[62/81] Params: {'learning_rate': 0.2, 'max_depth': -1, 'n_estimators': 200, 'num_leaves': 50} | Val Accuracy: 0.9080\n",
      "[63/81] Params: {'learning_rate': 0.2, 'max_depth': -1, 'n_estimators': 200, 'num_leaves': 100} | Val Accuracy: 0.9080\n",
      "[64/81] Params: {'learning_rate': 0.2, 'max_depth': 10, 'n_estimators': 50, 'num_leaves': 31} | Val Accuracy: 0.9080\n",
      "[65/81] Params: {'learning_rate': 0.2, 'max_depth': 10, 'n_estimators': 50, 'num_leaves': 50} | Val Accuracy: 0.9080\n",
      "[66/81] Params: {'learning_rate': 0.2, 'max_depth': 10, 'n_estimators': 50, 'num_leaves': 100} | Val Accuracy: 0.9080\n",
      "[67/81] Params: {'learning_rate': 0.2, 'max_depth': 10, 'n_estimators': 100, 'num_leaves': 31} | Val Accuracy: 0.9195\n",
      "[68/81] Params: {'learning_rate': 0.2, 'max_depth': 10, 'n_estimators': 100, 'num_leaves': 50} | Val Accuracy: 0.9310\n",
      "[69/81] Params: {'learning_rate': 0.2, 'max_depth': 10, 'n_estimators': 100, 'num_leaves': 100} | Val Accuracy: 0.9310\n",
      "[70/81] Params: {'learning_rate': 0.2, 'max_depth': 10, 'n_estimators': 200, 'num_leaves': 31} | Val Accuracy: 0.9310\n",
      "[71/81] Params: {'learning_rate': 0.2, 'max_depth': 10, 'n_estimators': 200, 'num_leaves': 50} | Val Accuracy: 0.9310\n",
      "[72/81] Params: {'learning_rate': 0.2, 'max_depth': 10, 'n_estimators': 200, 'num_leaves': 100} | Val Accuracy: 0.9310\n",
      "[73/81] Params: {'learning_rate': 0.2, 'max_depth': 20, 'n_estimators': 50, 'num_leaves': 31} | Val Accuracy: 0.9080\n",
      "[74/81] Params: {'learning_rate': 0.2, 'max_depth': 20, 'n_estimators': 50, 'num_leaves': 50} | Val Accuracy: 0.9080\n",
      "[75/81] Params: {'learning_rate': 0.2, 'max_depth': 20, 'n_estimators': 50, 'num_leaves': 100} | Val Accuracy: 0.9080\n",
      "[76/81] Params: {'learning_rate': 0.2, 'max_depth': 20, 'n_estimators': 100, 'num_leaves': 31} | Val Accuracy: 0.9195\n",
      "[77/81] Params: {'learning_rate': 0.2, 'max_depth': 20, 'n_estimators': 100, 'num_leaves': 50} | Val Accuracy: 0.9080\n",
      "[78/81] Params: {'learning_rate': 0.2, 'max_depth': 20, 'n_estimators': 100, 'num_leaves': 100} | Val Accuracy: 0.9080\n",
      "[79/81] Params: {'learning_rate': 0.2, 'max_depth': 20, 'n_estimators': 200, 'num_leaves': 31} | Val Accuracy: 0.9080\n",
      "[80/81] Params: {'learning_rate': 0.2, 'max_depth': 20, 'n_estimators': 200, 'num_leaves': 50} | Val Accuracy: 0.9080\n",
      "[81/81] Params: {'learning_rate': 0.2, 'max_depth': 20, 'n_estimators': 200, 'num_leaves': 100} | Val Accuracy: 0.9080\n"
     ]
    }
   ],
   "source": [
    "param_grid = list(ParameterGrid(param_grid_lgbm))\n",
    "best_score_lgbm = 0\n",
    "best_model_lgbm = None\n",
    "\n",
    "for i, params in enumerate(param_grid, 1):\n",
    "    lgbm_model = lgbm_model.set_params(**params)\n",
    "    lgbm_model.fit(X_train_reshaped, y_train)\n",
    "\n",
    "    y_pred = lgbm_model.predict(X_val_reshaped)\n",
    "    acc = accuracy_score(y_val, y_pred)\n",
    "\n",
    "    print(f\"[{i}/{len(param_grid)}] Params: {params} | Val Accuracy: {acc:.4f}\")\n",
    "\n",
    "    if acc > best_score_lgbm:\n",
    "        best_score_lgbm = acc\n",
    "        best_model_lgbm = lgbm_model"
   ]
  },
  {
   "cell_type": "markdown",
   "id": "7c3a3261",
   "metadata": {},
   "source": [
    "# Decision Tree\n"
   ]
  },
  {
   "cell_type": "markdown",
   "id": "1ff35735",
   "metadata": {},
   "source": [
    "Inisialisasi\n"
   ]
  },
  {
   "cell_type": "code",
   "execution_count": 23,
   "id": "3483b9b7",
   "metadata": {},
   "outputs": [],
   "source": [
    "dt_model = DecisionTreeClassifier(random_state=RANDOM_STATE)\n",
    "\n",
    "param_grid_dt = {\n",
    "    'max_depth': [None, 5, 10, 20],\n",
    "    'min_samples_split': [2, 5, 10]\n",
    "}"
   ]
  },
  {
   "cell_type": "markdown",
   "id": "205b546f",
   "metadata": {},
   "source": [
    "training\n"
   ]
  },
  {
   "cell_type": "code",
   "execution_count": 24,
   "id": "95a49e0d",
   "metadata": {},
   "outputs": [
    {
     "name": "stdout",
     "output_type": "stream",
     "text": [
      "[1/12] Params: {'max_depth': None, 'min_samples_split': 2} | Val Accuracy: 0.8046\n",
      "[2/12] Params: {'max_depth': None, 'min_samples_split': 5} | Val Accuracy: 0.8161\n",
      "[3/12] Params: {'max_depth': None, 'min_samples_split': 10} | Val Accuracy: 0.7701\n",
      "[4/12] Params: {'max_depth': 5, 'min_samples_split': 2} | Val Accuracy: 0.8046\n",
      "[5/12] Params: {'max_depth': 5, 'min_samples_split': 5} | Val Accuracy: 0.7931\n",
      "[6/12] Params: {'max_depth': 5, 'min_samples_split': 10} | Val Accuracy: 0.8046\n",
      "[7/12] Params: {'max_depth': 10, 'min_samples_split': 2} | Val Accuracy: 0.8046\n",
      "[8/12] Params: {'max_depth': 10, 'min_samples_split': 5} | Val Accuracy: 0.8046\n",
      "[9/12] Params: {'max_depth': 10, 'min_samples_split': 10} | Val Accuracy: 0.7931\n",
      "[10/12] Params: {'max_depth': 20, 'min_samples_split': 2} | Val Accuracy: 0.8046\n",
      "[11/12] Params: {'max_depth': 20, 'min_samples_split': 5} | Val Accuracy: 0.8161\n",
      "[12/12] Params: {'max_depth': 20, 'min_samples_split': 10} | Val Accuracy: 0.7701\n"
     ]
    }
   ],
   "source": [
    "param_grid = list(ParameterGrid(param_grid_dt))\n",
    "best_score_dt = 0\n",
    "best_model_dt = None\n",
    "\n",
    "for i, params in enumerate(param_grid, 1):\n",
    "    dt_model = dt_model.set_params(**params)\n",
    "    dt_model.fit(X_train_reshaped, y_train)\n",
    "\n",
    "    y_pred = dt_model.predict(X_val_reshaped)\n",
    "    acc = accuracy_score(y_val, y_pred)\n",
    "\n",
    "    print(f\"[{i}/{len(param_grid)}] Params: {params} | Val Accuracy: {acc:.4f}\")\n",
    "\n",
    "    if acc > best_score_dt:\n",
    "        best_score_dt = acc\n",
    "        best_model_dt = dt_model"
   ]
  },
  {
   "cell_type": "markdown",
   "id": "388ac4ec",
   "metadata": {},
   "source": [
    "## Random Forest"
   ]
  },
  {
   "cell_type": "markdown",
   "id": "830dfa4f",
   "metadata": {},
   "source": [
    "Inisialisasi\n"
   ]
  },
  {
   "cell_type": "code",
   "execution_count": 25,
   "id": "f1da762c",
   "metadata": {},
   "outputs": [],
   "source": [
    "rf_model = RandomForestClassifier(random_state=RANDOM_STATE)\n",
    "\n",
    "param_grid_rf = {\n",
    "    'n_estimators': [50, 100, 200],\n",
    "    'max_depth': [None, 10, 20],\n",
    "    'min_samples_split': [2, 5]\n",
    "}"
   ]
  },
  {
   "cell_type": "markdown",
   "id": "29c0daab",
   "metadata": {},
   "source": [
    "training\n"
   ]
  },
  {
   "cell_type": "code",
   "execution_count": 26,
   "id": "fbe5a68a",
   "metadata": {},
   "outputs": [
    {
     "name": "stdout",
     "output_type": "stream",
     "text": [
      "[1/18] Params: {'max_depth': None, 'min_samples_split': 2, 'n_estimators': 50} | Val Accuracy: 0.9080\n",
      "[2/18] Params: {'max_depth': None, 'min_samples_split': 2, 'n_estimators': 100} | Val Accuracy: 0.9195\n",
      "[3/18] Params: {'max_depth': None, 'min_samples_split': 2, 'n_estimators': 200} | Val Accuracy: 0.9080\n",
      "[4/18] Params: {'max_depth': None, 'min_samples_split': 5, 'n_estimators': 50} | Val Accuracy: 0.9080\n",
      "[5/18] Params: {'max_depth': None, 'min_samples_split': 5, 'n_estimators': 100} | Val Accuracy: 0.9310\n",
      "[6/18] Params: {'max_depth': None, 'min_samples_split': 5, 'n_estimators': 200} | Val Accuracy: 0.9195\n",
      "[7/18] Params: {'max_depth': 10, 'min_samples_split': 2, 'n_estimators': 50} | Val Accuracy: 0.8736\n",
      "[8/18] Params: {'max_depth': 10, 'min_samples_split': 2, 'n_estimators': 100} | Val Accuracy: 0.9080\n",
      "[9/18] Params: {'max_depth': 10, 'min_samples_split': 2, 'n_estimators': 200} | Val Accuracy: 0.9080\n",
      "[10/18] Params: {'max_depth': 10, 'min_samples_split': 5, 'n_estimators': 50} | Val Accuracy: 0.9195\n",
      "[11/18] Params: {'max_depth': 10, 'min_samples_split': 5, 'n_estimators': 100} | Val Accuracy: 0.9080\n",
      "[12/18] Params: {'max_depth': 10, 'min_samples_split': 5, 'n_estimators': 200} | Val Accuracy: 0.9195\n",
      "[13/18] Params: {'max_depth': 20, 'min_samples_split': 2, 'n_estimators': 50} | Val Accuracy: 0.9080\n",
      "[14/18] Params: {'max_depth': 20, 'min_samples_split': 2, 'n_estimators': 100} | Val Accuracy: 0.9195\n",
      "[15/18] Params: {'max_depth': 20, 'min_samples_split': 2, 'n_estimators': 200} | Val Accuracy: 0.9080\n",
      "[16/18] Params: {'max_depth': 20, 'min_samples_split': 5, 'n_estimators': 50} | Val Accuracy: 0.9080\n",
      "[17/18] Params: {'max_depth': 20, 'min_samples_split': 5, 'n_estimators': 100} | Val Accuracy: 0.9310\n",
      "[18/18] Params: {'max_depth': 20, 'min_samples_split': 5, 'n_estimators': 200} | Val Accuracy: 0.9195\n"
     ]
    }
   ],
   "source": [
    "param_grid = list(ParameterGrid(param_grid_rf))\n",
    "best_score_rf = 0\n",
    "best_model_rf = None\n",
    "\n",
    "for i, params in enumerate(param_grid, 1):\n",
    "    rf_model = rf_model.set_params(**params)\n",
    "    rf_model.fit(X_train_reshaped, y_train)\n",
    "\n",
    "    y_pred = rf_model.predict(X_val_reshaped)\n",
    "    acc = accuracy_score(y_val, y_pred)\n",
    "\n",
    "    print(f\"[{i}/{len(param_grid)}] Params: {params} | Val Accuracy: {acc:.4f}\")\n",
    "\n",
    "    if acc > best_score_rf:\n",
    "        best_score_rf = acc\n",
    "        best_model_rf = rf_model"
   ]
  },
  {
   "cell_type": "markdown",
   "id": "9d9bf60b",
   "metadata": {},
   "source": [
    "## XGBoost"
   ]
  },
  {
   "cell_type": "markdown",
   "id": "6f247bfe",
   "metadata": {},
   "source": [
    "label harus di ubah, jika ingin menggunakan xg_boost"
   ]
  },
  {
   "cell_type": "code",
   "execution_count": 30,
   "id": "406cb833",
   "metadata": {},
   "outputs": [],
   "source": [
    "y_train_xg = [0 if label == 1 else 1 if label == 2 else label for label in y_train]\n",
    "y_val_xg = [0 if label == 1 else 1 if label == 2 else label for label in y_val]\n",
    "y_test_xg = [0 if label == 1 else 1 if label == 2 else label for label in y_test]"
   ]
  },
  {
   "cell_type": "markdown",
   "id": "b90e7853",
   "metadata": {},
   "source": [
    "Inisialisasi\n"
   ]
  },
  {
   "cell_type": "code",
   "execution_count": 31,
   "id": "4361b842",
   "metadata": {},
   "outputs": [],
   "source": [
    "xg_model = XGBClassifier(random_state=RANDOM_STATE)\n",
    "\n",
    "param_grid_xg = {\n",
    "    'n_estimators': [50, 100, 200],\n",
    "    'max_depth': [3, 6, 10],\n",
    "    'learning_rate': [0.01, 0.1, 0.2]\n",
    "}"
   ]
  },
  {
   "cell_type": "markdown",
   "id": "304da63a",
   "metadata": {},
   "source": [
    "training\n"
   ]
  },
  {
   "cell_type": "code",
   "execution_count": 32,
   "id": "065768f6",
   "metadata": {},
   "outputs": [
    {
     "name": "stdout",
     "output_type": "stream",
     "text": [
      "[1/27] Params: {'learning_rate': 0.01, 'max_depth': 3, 'n_estimators': 50} | Val Accuracy: 0.8161\n",
      "[2/27] Params: {'learning_rate': 0.01, 'max_depth': 3, 'n_estimators': 100} | Val Accuracy: 0.8621\n",
      "[3/27] Params: {'learning_rate': 0.01, 'max_depth': 3, 'n_estimators': 200} | Val Accuracy: 0.8966\n",
      "[4/27] Params: {'learning_rate': 0.01, 'max_depth': 6, 'n_estimators': 50} | Val Accuracy: 0.8391\n",
      "[5/27] Params: {'learning_rate': 0.01, 'max_depth': 6, 'n_estimators': 100} | Val Accuracy: 0.8621\n",
      "[6/27] Params: {'learning_rate': 0.01, 'max_depth': 6, 'n_estimators': 200} | Val Accuracy: 0.8736\n",
      "[7/27] Params: {'learning_rate': 0.01, 'max_depth': 10, 'n_estimators': 50} | Val Accuracy: 0.8506\n",
      "[8/27] Params: {'learning_rate': 0.01, 'max_depth': 10, 'n_estimators': 100} | Val Accuracy: 0.8851\n",
      "[9/27] Params: {'learning_rate': 0.01, 'max_depth': 10, 'n_estimators': 200} | Val Accuracy: 0.8966\n",
      "[10/27] Params: {'learning_rate': 0.1, 'max_depth': 3, 'n_estimators': 50} | Val Accuracy: 0.9195\n",
      "[11/27] Params: {'learning_rate': 0.1, 'max_depth': 3, 'n_estimators': 100} | Val Accuracy: 0.9425\n",
      "[12/27] Params: {'learning_rate': 0.1, 'max_depth': 3, 'n_estimators': 200} | Val Accuracy: 0.9540\n",
      "[13/27] Params: {'learning_rate': 0.1, 'max_depth': 6, 'n_estimators': 50} | Val Accuracy: 0.8966\n",
      "[14/27] Params: {'learning_rate': 0.1, 'max_depth': 6, 'n_estimators': 100} | Val Accuracy: 0.9195\n",
      "[15/27] Params: {'learning_rate': 0.1, 'max_depth': 6, 'n_estimators': 200} | Val Accuracy: 0.9195\n",
      "[16/27] Params: {'learning_rate': 0.1, 'max_depth': 10, 'n_estimators': 50} | Val Accuracy: 0.8966\n",
      "[17/27] Params: {'learning_rate': 0.1, 'max_depth': 10, 'n_estimators': 100} | Val Accuracy: 0.9310\n",
      "[18/27] Params: {'learning_rate': 0.1, 'max_depth': 10, 'n_estimators': 200} | Val Accuracy: 0.9195\n",
      "[19/27] Params: {'learning_rate': 0.2, 'max_depth': 3, 'n_estimators': 50} | Val Accuracy: 0.9195\n",
      "[20/27] Params: {'learning_rate': 0.2, 'max_depth': 3, 'n_estimators': 100} | Val Accuracy: 0.9195\n",
      "[21/27] Params: {'learning_rate': 0.2, 'max_depth': 3, 'n_estimators': 200} | Val Accuracy: 0.9195\n",
      "[22/27] Params: {'learning_rate': 0.2, 'max_depth': 6, 'n_estimators': 50} | Val Accuracy: 0.9080\n",
      "[23/27] Params: {'learning_rate': 0.2, 'max_depth': 6, 'n_estimators': 100} | Val Accuracy: 0.8966\n",
      "[24/27] Params: {'learning_rate': 0.2, 'max_depth': 6, 'n_estimators': 200} | Val Accuracy: 0.8966\n",
      "[25/27] Params: {'learning_rate': 0.2, 'max_depth': 10, 'n_estimators': 50} | Val Accuracy: 0.9080\n",
      "[26/27] Params: {'learning_rate': 0.2, 'max_depth': 10, 'n_estimators': 100} | Val Accuracy: 0.9195\n",
      "[27/27] Params: {'learning_rate': 0.2, 'max_depth': 10, 'n_estimators': 200} | Val Accuracy: 0.9195\n"
     ]
    }
   ],
   "source": [
    "param_grid = list(ParameterGrid(param_grid_xg))\n",
    "best_score_xg = 0\n",
    "best_model_xg = None\n",
    "\n",
    "for i, params in enumerate(param_grid, 1):\n",
    "    xg_model = xg_model.set_params(**params)\n",
    "    xg_model.fit(X_train_reshaped, y_train_xg)\n",
    "\n",
    "    y_pred = xg_model.predict(X_val_reshaped)\n",
    "    acc = accuracy_score(y_val_xg, y_pred)\n",
    "\n",
    "    print(f\"[{i}/{len(param_grid)}] Params: {params} | Val Accuracy: {acc:.4f}\")\n",
    "\n",
    "    if acc > best_score_xg:\n",
    "        best_score_xg = acc\n",
    "        best_model_xg = xg_model"
   ]
  },
  {
   "cell_type": "markdown",
   "id": "2ea3d059",
   "metadata": {},
   "source": [
    "## Gradient Boosting"
   ]
  },
  {
   "cell_type": "markdown",
   "id": "6c73621a",
   "metadata": {},
   "source": [
    "Inisialisasi\n"
   ]
  },
  {
   "cell_type": "code",
   "execution_count": 33,
   "id": "94afc46e",
   "metadata": {},
   "outputs": [],
   "source": [
    "gb_model = GradientBoostingClassifier(random_state=RANDOM_STATE)\n",
    "\n",
    "param_grid_gb = {\n",
    "    'n_estimators': [50, 100, 200],\n",
    "    'learning_rate': [0.01, 0.1, 0.2],\n",
    "    'max_depth': [3, 5, 10]\n",
    "}"
   ]
  },
  {
   "cell_type": "markdown",
   "id": "857fec82",
   "metadata": {},
   "source": [
    "training\n"
   ]
  },
  {
   "cell_type": "code",
   "execution_count": 34,
   "id": "c2a43d3e",
   "metadata": {},
   "outputs": [
    {
     "name": "stdout",
     "output_type": "stream",
     "text": [
      "[1/27] Params: {'learning_rate': 0.01, 'max_depth': 3, 'n_estimators': 50} | Val Accuracy: 0.8046\n",
      "[2/27] Params: {'learning_rate': 0.01, 'max_depth': 3, 'n_estimators': 100} | Val Accuracy: 0.8736\n",
      "[3/27] Params: {'learning_rate': 0.01, 'max_depth': 3, 'n_estimators': 200} | Val Accuracy: 0.8851\n",
      "[4/27] Params: {'learning_rate': 0.01, 'max_depth': 5, 'n_estimators': 50} | Val Accuracy: 0.8736\n",
      "[5/27] Params: {'learning_rate': 0.01, 'max_depth': 5, 'n_estimators': 100} | Val Accuracy: 0.8966\n",
      "[6/27] Params: {'learning_rate': 0.01, 'max_depth': 5, 'n_estimators': 200} | Val Accuracy: 0.9080\n",
      "[7/27] Params: {'learning_rate': 0.01, 'max_depth': 10, 'n_estimators': 50} | Val Accuracy: 0.7931\n",
      "[8/27] Params: {'learning_rate': 0.01, 'max_depth': 10, 'n_estimators': 100} | Val Accuracy: 0.8276\n",
      "[9/27] Params: {'learning_rate': 0.01, 'max_depth': 10, 'n_estimators': 200} | Val Accuracy: 0.8276\n",
      "[10/27] Params: {'learning_rate': 0.1, 'max_depth': 3, 'n_estimators': 50} | Val Accuracy: 0.8966\n",
      "[11/27] Params: {'learning_rate': 0.1, 'max_depth': 3, 'n_estimators': 100} | Val Accuracy: 0.9080\n",
      "[12/27] Params: {'learning_rate': 0.1, 'max_depth': 3, 'n_estimators': 200} | Val Accuracy: 0.8966\n",
      "[13/27] Params: {'learning_rate': 0.1, 'max_depth': 5, 'n_estimators': 50} | Val Accuracy: 0.9310\n",
      "[14/27] Params: {'learning_rate': 0.1, 'max_depth': 5, 'n_estimators': 100} | Val Accuracy: 0.9195\n",
      "[15/27] Params: {'learning_rate': 0.1, 'max_depth': 5, 'n_estimators': 200} | Val Accuracy: 0.9310\n",
      "[16/27] Params: {'learning_rate': 0.1, 'max_depth': 10, 'n_estimators': 50} | Val Accuracy: 0.8506\n",
      "[17/27] Params: {'learning_rate': 0.1, 'max_depth': 10, 'n_estimators': 100} | Val Accuracy: 0.8391\n",
      "[18/27] Params: {'learning_rate': 0.1, 'max_depth': 10, 'n_estimators': 200} | Val Accuracy: 0.8391\n",
      "[19/27] Params: {'learning_rate': 0.2, 'max_depth': 3, 'n_estimators': 50} | Val Accuracy: 0.9080\n",
      "[20/27] Params: {'learning_rate': 0.2, 'max_depth': 3, 'n_estimators': 100} | Val Accuracy: 0.9195\n",
      "[21/27] Params: {'learning_rate': 0.2, 'max_depth': 3, 'n_estimators': 200} | Val Accuracy: 0.9425\n",
      "[22/27] Params: {'learning_rate': 0.2, 'max_depth': 5, 'n_estimators': 50} | Val Accuracy: 0.9195\n",
      "[23/27] Params: {'learning_rate': 0.2, 'max_depth': 5, 'n_estimators': 100} | Val Accuracy: 0.9310\n",
      "[24/27] Params: {'learning_rate': 0.2, 'max_depth': 5, 'n_estimators': 200} | Val Accuracy: 0.9310\n",
      "[25/27] Params: {'learning_rate': 0.2, 'max_depth': 10, 'n_estimators': 50} | Val Accuracy: 0.8621\n",
      "[26/27] Params: {'learning_rate': 0.2, 'max_depth': 10, 'n_estimators': 100} | Val Accuracy: 0.8621\n",
      "[27/27] Params: {'learning_rate': 0.2, 'max_depth': 10, 'n_estimators': 200} | Val Accuracy: 0.8621\n"
     ]
    }
   ],
   "source": [
    "param_grid = list(ParameterGrid(param_grid_gb))\n",
    "best_score_gb = 0\n",
    "best_model_gb = None\n",
    "\n",
    "for i, params in enumerate(param_grid, 1):\n",
    "    gb_model = gb_model.set_params(**params)\n",
    "    gb_model.fit(X_train_reshaped, y_train)\n",
    "\n",
    "    y_pred = gb_model.predict(X_val_reshaped)\n",
    "    acc = accuracy_score(y_val, y_pred)\n",
    "\n",
    "    print(f\"[{i}/{len(param_grid)}] Params: {params} | Val Accuracy: {acc:.4f}\")\n",
    "\n",
    "    if acc > best_score_gb:\n",
    "        best_score_gb = acc\n",
    "        best_model_gb = gb_model"
   ]
  },
  {
   "cell_type": "markdown",
   "id": "5c8e264b",
   "metadata": {},
   "source": [
    "## Logistic Regression"
   ]
  },
  {
   "cell_type": "markdown",
   "id": "91692015",
   "metadata": {},
   "source": [
    "Inisialisasi\n"
   ]
  },
  {
   "cell_type": "code",
   "execution_count": 35,
   "id": "cae803bd",
   "metadata": {},
   "outputs": [],
   "source": [
    "lr_model = LogisticRegression(random_state=RANDOM_STATE, max_iter=1000)\n",
    "\n",
    "param_grid_lr = {\n",
    "    'C': [0.01, 0.1, 1, 10],\n",
    "    'solver': ['liblinear', 'lbfgs']\n",
    "}\n"
   ]
  },
  {
   "cell_type": "markdown",
   "id": "568f6210",
   "metadata": {},
   "source": [
    "training\n"
   ]
  },
  {
   "cell_type": "code",
   "execution_count": 36,
   "id": "10059c3f",
   "metadata": {},
   "outputs": [
    {
     "name": "stdout",
     "output_type": "stream",
     "text": [
      "[1/8] Params: {'C': 0.01, 'solver': 'liblinear'} | Val Accuracy: 0.7701\n",
      "[2/8] Params: {'C': 0.01, 'solver': 'lbfgs'} | Val Accuracy: 0.8046\n",
      "[3/8] Params: {'C': 0.1, 'solver': 'liblinear'} | Val Accuracy: 0.7586\n",
      "[4/8] Params: {'C': 0.1, 'solver': 'lbfgs'} | Val Accuracy: 0.7471\n",
      "[5/8] Params: {'C': 1, 'solver': 'liblinear'} | Val Accuracy: 0.7356\n",
      "[6/8] Params: {'C': 1, 'solver': 'lbfgs'} | Val Accuracy: 0.7356\n",
      "[7/8] Params: {'C': 10, 'solver': 'liblinear'} | Val Accuracy: 0.7356\n",
      "[8/8] Params: {'C': 10, 'solver': 'lbfgs'} | Val Accuracy: 0.7356\n"
     ]
    }
   ],
   "source": [
    "param_grid = list(ParameterGrid(param_grid_lr))\n",
    "best_score_lr = 0\n",
    "best_model_lr = None\n",
    "\n",
    "for i, params in enumerate(param_grid, 1):\n",
    "    lr_model = lr_model.set_params(**params)\n",
    "    lr_model.fit(X_train_reshaped, y_train)\n",
    "\n",
    "    y_pred = lr_model.predict(X_val_reshaped)\n",
    "    acc = accuracy_score(y_val, y_pred)\n",
    "\n",
    "    print(f\"[{i}/{len(param_grid)}] Params: {params} | Val Accuracy: {acc:.4f}\")\n",
    "\n",
    "    if acc > best_score_lr:\n",
    "        best_score_lr = acc\n",
    "        best_model_lr = lr_model"
   ]
  },
  {
   "cell_type": "markdown",
   "id": "a85f1224",
   "metadata": {},
   "source": [
    "## K-Nearest Neighbors"
   ]
  },
  {
   "cell_type": "markdown",
   "id": "5eb98893",
   "metadata": {},
   "source": [
    "Inisialisasi\n"
   ]
  },
  {
   "cell_type": "code",
   "execution_count": 37,
   "id": "8f83686e",
   "metadata": {},
   "outputs": [],
   "source": [
    "knn_model = KNeighborsClassifier()\n",
    "param_grid_knn = {\n",
    "    'n_neighbors': [3, 5, 7, 9],\n",
    "    'weights': ['uniform', 'distance']\n",
    "}"
   ]
  },
  {
   "cell_type": "markdown",
   "id": "79fe61aa",
   "metadata": {},
   "source": [
    "training\n"
   ]
  },
  {
   "cell_type": "code",
   "execution_count": 38,
   "id": "2f7d26f1",
   "metadata": {},
   "outputs": [
    {
     "name": "stdout",
     "output_type": "stream",
     "text": [
      "[1/8] Params: {'n_neighbors': 3, 'weights': 'uniform'} | Val Accuracy: 0.7011\n",
      "[2/8] Params: {'n_neighbors': 3, 'weights': 'distance'} | Val Accuracy: 0.7011\n",
      "[3/8] Params: {'n_neighbors': 5, 'weights': 'uniform'} | Val Accuracy: 0.6552\n",
      "[4/8] Params: {'n_neighbors': 5, 'weights': 'distance'} | Val Accuracy: 0.6552\n",
      "[5/8] Params: {'n_neighbors': 7, 'weights': 'uniform'} | Val Accuracy: 0.6897\n",
      "[6/8] Params: {'n_neighbors': 7, 'weights': 'distance'} | Val Accuracy: 0.6897\n",
      "[7/8] Params: {'n_neighbors': 9, 'weights': 'uniform'} | Val Accuracy: 0.7011\n",
      "[8/8] Params: {'n_neighbors': 9, 'weights': 'distance'} | Val Accuracy: 0.7011\n"
     ]
    }
   ],
   "source": [
    "param_grid = list(ParameterGrid(param_grid_knn))\n",
    "best_score_knn = 0\n",
    "best_model_knn = None\n",
    "\n",
    "for i, params in enumerate(param_grid, 1):\n",
    "    knn_model = knn_model.set_params(**params)\n",
    "    knn_model.fit(X_train_reshaped, y_train)\n",
    "\n",
    "    y_pred = knn_model.predict(X_val_reshaped)\n",
    "    acc = accuracy_score(y_val, y_pred)\n",
    "\n",
    "    print(f\"[{i}/{len(param_grid)}] Params: {params} | Val Accuracy: {acc:.4f}\")\n",
    "\n",
    "    if acc > best_score_knn:\n",
    "        best_score_knn = acc\n",
    "        best_model_knn = knn_model"
   ]
  },
  {
   "cell_type": "markdown",
   "id": "82ba82cb",
   "metadata": {},
   "source": [
    "## Support Vector Machine (SVM)"
   ]
  },
  {
   "cell_type": "markdown",
   "id": "0d96b54d",
   "metadata": {},
   "source": [
    "Inisialisasi\n"
   ]
  },
  {
   "cell_type": "code",
   "execution_count": 39,
   "id": "c53e17d8",
   "metadata": {},
   "outputs": [],
   "source": [
    "svm_model = SVC(random_state=RANDOM_STATE)\n",
    "\n",
    "param_grid_svm = {\n",
    "    'C': [0.1, 1, 10],\n",
    "    'kernel': ['linear', 'rbf'],\n",
    "    'gamma': ['scale', 'auto']\n",
    "}"
   ]
  },
  {
   "cell_type": "markdown",
   "id": "4e77c1d1",
   "metadata": {},
   "source": [
    "training\n"
   ]
  },
  {
   "cell_type": "code",
   "execution_count": 40,
   "id": "bb3c1169",
   "metadata": {},
   "outputs": [
    {
     "name": "stdout",
     "output_type": "stream",
     "text": [
      "[1/12] Params: {'C': 0.1, 'gamma': 'scale', 'kernel': 'linear'} | Val Accuracy: 0.7356\n",
      "[2/12] Params: {'C': 0.1, 'gamma': 'scale', 'kernel': 'rbf'} | Val Accuracy: 0.6782\n",
      "[3/12] Params: {'C': 0.1, 'gamma': 'auto', 'kernel': 'linear'} | Val Accuracy: 0.7356\n",
      "[4/12] Params: {'C': 0.1, 'gamma': 'auto', 'kernel': 'rbf'} | Val Accuracy: 0.7356\n",
      "[5/12] Params: {'C': 1, 'gamma': 'scale', 'kernel': 'linear'} | Val Accuracy: 0.7356\n",
      "[6/12] Params: {'C': 1, 'gamma': 'scale', 'kernel': 'rbf'} | Val Accuracy: 0.6897\n",
      "[7/12] Params: {'C': 1, 'gamma': 'auto', 'kernel': 'linear'} | Val Accuracy: 0.7356\n",
      "[8/12] Params: {'C': 1, 'gamma': 'auto', 'kernel': 'rbf'} | Val Accuracy: 0.7701\n",
      "[9/12] Params: {'C': 10, 'gamma': 'scale', 'kernel': 'linear'} | Val Accuracy: 0.7471\n",
      "[10/12] Params: {'C': 10, 'gamma': 'scale', 'kernel': 'rbf'} | Val Accuracy: 0.7586\n",
      "[11/12] Params: {'C': 10, 'gamma': 'auto', 'kernel': 'linear'} | Val Accuracy: 0.7471\n",
      "[12/12] Params: {'C': 10, 'gamma': 'auto', 'kernel': 'rbf'} | Val Accuracy: 0.7816\n"
     ]
    }
   ],
   "source": [
    "param_grid = list(ParameterGrid(param_grid_svm))\n",
    "best_score_svm = 0\n",
    "best_model_svm = None\n",
    "\n",
    "for i, params in enumerate(param_grid, 1):\n",
    "    svm_model = svm_model.set_params(**params)\n",
    "    svm_model.fit(X_train_reshaped, y_train)\n",
    "\n",
    "    y_pred = svm_model.predict(X_val_reshaped)\n",
    "    acc = accuracy_score(y_val, y_pred)\n",
    "\n",
    "    print(f\"[{i}/{len(param_grid)}] Params: {params} | Val Accuracy: {acc:.4f}\")\n",
    "\n",
    "    if acc > best_score_svm:\n",
    "        best_score_svm = acc\n",
    "        best_model_svm = svm_model"
   ]
  },
  {
   "cell_type": "markdown",
   "id": "35274984",
   "metadata": {},
   "source": [
    "# Conformer\n"
   ]
  },
  {
   "cell_type": "markdown",
   "id": "ea05e1da",
   "metadata": {},
   "source": [
    "Inisialisasi\n"
   ]
  },
  {
   "cell_type": "code",
   "execution_count": 41,
   "id": "490225f1",
   "metadata": {},
   "outputs": [],
   "source": [
    "# config = ConformerConfig(\n",
    "#     hidden_size=144,\n",
    "#     num_attention_heads=4,\n",
    "#     intermediate_size=576,\n",
    "#     conv_kernel_size=32,\n",
    "#     num_hidden_layers=8,\n",
    "#     input_feat_per_channel=n_mels,\n",
    "#     input_channels=1,\n",
    "#     max_position_embeddings=time_steps\n",
    "# )\n",
    "\n",
    "# conformer_model = TFConformerModel(config)\n",
    "\n",
    "# input_layer = tf.keras.layers.Input(shape=(n_mels, time_steps))\n",
    "# expand_dim = tf.keras.layers.Reshape((1, n_mels, time_steps))(input_layer)\n",
    "# conv_proj = tf.keras.layers.Conv2D(\n",
    "#     filters=config.hidden_size,\n",
    "#     kernel_size=(3, 3),\n",
    "#     padding='same',\n",
    "#     activation='relu'\n",
    "# )(expand_dim)\n",
    "# squeeze_dim = tf.keras.layers.Reshape((n_mels, time_steps, config.hidden_size))(conv_proj)\n",
    "# conformer_output = conformer_model(squeeze_dim).last_hidden_state\n",
    "# gap = tf.keras.layers.GlobalAveragePooling1D()(conformer_output)\n",
    "# output = tf.keras.layers.Dense(num_classes, activation='softmax')(gap)\n",
    "\n",
    "# conformer_model = tf.keras.Model(inputs=input_layer, outputs=output)"
   ]
  },
  {
   "cell_type": "markdown",
   "id": "13cf0943",
   "metadata": {},
   "source": [
    "training\n"
   ]
  },
  {
   "cell_type": "code",
   "execution_count": null,
   "id": "541a63d2",
   "metadata": {},
   "outputs": [],
   "source": []
  },
  {
   "cell_type": "markdown",
   "id": "2a9c9276",
   "metadata": {},
   "source": [
    "# Evaluasi\n"
   ]
  },
  {
   "cell_type": "markdown",
   "id": "b1889c49",
   "metadata": {},
   "source": [
    "CNN\n"
   ]
  },
  {
   "cell_type": "code",
   "execution_count": null,
   "id": "48056ec4",
   "metadata": {},
   "outputs": [],
   "source": []
  },
  {
   "cell_type": "markdown",
   "id": "18463003",
   "metadata": {},
   "source": [
    "LGBM\n"
   ]
  },
  {
   "cell_type": "code",
   "execution_count": 42,
   "id": "2bf24565",
   "metadata": {},
   "outputs": [
    {
     "name": "stdout",
     "output_type": "stream",
     "text": [
      "\n",
      "\n",
      "Test\n",
      "Accuracy: 0.8837209302325582\n",
      "Precision: 0.8709677419354839\n",
      "Recall: 0.8181818181818182\n",
      "F1 Score: 0.84375\n",
      "Confusion Matrix:\n",
      " [[27  6]\n",
      " [ 4 49]]\n"
     ]
    }
   ],
   "source": [
    "y_pred = best_model_lgbm.predict(X_test_reshaped)\n",
    "print(\"\\n\")\n",
    "print(\"Test\")\n",
    "print(f\"Accuracy: {accuracy_score(y_test, y_pred)}\")\n",
    "print(f\"Precision: {precision_score(y_test, y_pred)}\")\n",
    "print(f\"Recall: {recall_score(y_test, y_pred)}\")\n",
    "print(f\"F1 Score: {f1_score(y_test, y_pred)}\")\n",
    "print(f\"Confusion Matrix:\\n {confusion_matrix(y_test, y_pred)}\")"
   ]
  },
  {
   "cell_type": "markdown",
   "id": "d7ac9280",
   "metadata": {},
   "source": [
    "Descision Tree\n"
   ]
  },
  {
   "cell_type": "code",
   "execution_count": 43,
   "id": "abd3a806",
   "metadata": {},
   "outputs": [
    {
     "name": "stdout",
     "output_type": "stream",
     "text": [
      "\n",
      "\n",
      "Test\n",
      "Accuracy: 0.8837209302325582\n",
      "Precision: 0.8709677419354839\n",
      "Recall: 0.8181818181818182\n",
      "F1 Score: 0.84375\n",
      "Confusion Matrix:\n",
      " [[27  6]\n",
      " [ 4 49]]\n"
     ]
    }
   ],
   "source": [
    "y_pred = best_model_dt.predict(X_test_reshaped)\n",
    "\n",
    "print(\"\\n\")\n",
    "print(\"Test\")\n",
    "print(f\"Accuracy: {accuracy_score(y_test, y_pred)}\")\n",
    "print(f\"Precision: {precision_score(y_test, y_pred)}\")\n",
    "print(f\"Recall: {recall_score(y_test, y_pred)}\")\n",
    "print(f\"F1 Score: {f1_score(y_test, y_pred)}\")\n",
    "print(f\"Confusion Matrix:\\n {confusion_matrix(y_test, y_pred)}\")"
   ]
  },
  {
   "cell_type": "code",
   "execution_count": 45,
   "id": "6817d574",
   "metadata": {},
   "outputs": [],
   "source": [
    "# feature_names = ['RMS', 'ZCR']\n",
    "# tree_rules = export_text(dt_model, feature_names=feature_names)\n",
    "# print(\"Extracted Decision Rules:\")\n",
    "# print(tree_rules)"
   ]
  },
  {
   "cell_type": "markdown",
   "id": "b233e357",
   "metadata": {},
   "source": [
    "Random Forest"
   ]
  },
  {
   "cell_type": "code",
   "execution_count": 46,
   "id": "c7ce8c2e",
   "metadata": {},
   "outputs": [
    {
     "name": "stdout",
     "output_type": "stream",
     "text": [
      "\n",
      "Random Forest Test\n",
      "Accuracy: 0.8488372093023255\n",
      "Precision: 0.8125\n",
      "Recall: 0.7878787878787878\n",
      "F1 Score: 0.8\n",
      "Confusion Matrix:\n",
      " [[26  7]\n",
      " [ 6 47]]\n"
     ]
    }
   ],
   "source": [
    "y_pred_rf = best_model_rf.predict(X_test_reshaped)\n",
    "print(\"\\nRandom Forest Test\")\n",
    "print(f\"Accuracy: {accuracy_score(y_test, y_pred_rf)}\")\n",
    "print(f\"Precision: {precision_score(y_test, y_pred_rf)}\")\n",
    "print(f\"Recall: {recall_score(y_test, y_pred_rf)}\")\n",
    "print(f\"F1 Score: {f1_score(y_test, y_pred_rf)}\")\n",
    "print(f\"Confusion Matrix:\\n {confusion_matrix(y_test, y_pred_rf)}\")"
   ]
  },
  {
   "cell_type": "markdown",
   "id": "e767bb5e",
   "metadata": {},
   "source": [
    "XGBoost"
   ]
  },
  {
   "cell_type": "code",
   "execution_count": 47,
   "id": "a89d0014",
   "metadata": {},
   "outputs": [
    {
     "name": "stdout",
     "output_type": "stream",
     "text": [
      "\n",
      "XGBoost Test\n",
      "Accuracy: 0.9069767441860465\n",
      "Precision: 0.9090909090909091\n",
      "Recall: 0.9433962264150944\n",
      "F1 Score: 0.9259259259259259\n",
      "Confusion Matrix:\n",
      " [[28  5]\n",
      " [ 3 50]]\n"
     ]
    }
   ],
   "source": [
    "y_pred_xg = best_model_xg.predict(X_test_reshaped)\n",
    "print(\"\\nXGBoost Test\")\n",
    "print(f\"Accuracy: {accuracy_score(y_test_xg, y_pred_xg)}\")\n",
    "print(f\"Precision: {precision_score(y_test_xg, y_pred_xg)}\")\n",
    "print(f\"Recall: {recall_score(y_test_xg, y_pred_xg)}\")\n",
    "print(f\"F1 Score: {f1_score(y_test_xg, y_pred_xg)}\")\n",
    "print(f\"Confusion Matrix:\\n {confusion_matrix(y_test_xg, y_pred_xg)}\")"
   ]
  },
  {
   "cell_type": "markdown",
   "id": "1f62acbb",
   "metadata": {},
   "source": [
    "Gradient Boosting"
   ]
  },
  {
   "cell_type": "code",
   "execution_count": 48,
   "id": "01877cda",
   "metadata": {},
   "outputs": [
    {
     "name": "stdout",
     "output_type": "stream",
     "text": [
      "\n",
      "Gradient Boosting Test\n",
      "Accuracy: 0.9186046511627907\n",
      "Precision: 0.8823529411764706\n",
      "Recall: 0.9090909090909091\n",
      "F1 Score: 0.8955223880597015\n",
      "Confusion Matrix:\n",
      " [[30  3]\n",
      " [ 4 49]]\n"
     ]
    }
   ],
   "source": [
    "y_pred_gb = best_model_gb.predict(X_test_reshaped)\n",
    "print(\"\\nGradient Boosting Test\")\n",
    "print(f\"Accuracy: {accuracy_score(y_test, y_pred_gb)}\")\n",
    "print(f\"Precision: {precision_score(y_test, y_pred_gb)}\")\n",
    "print(f\"Recall: {recall_score(y_test, y_pred_gb)}\")\n",
    "print(f\"F1 Score: {f1_score(y_test, y_pred_gb)}\")\n",
    "print(f\"Confusion Matrix:\\n {confusion_matrix(y_test, y_pred_gb)}\")\n"
   ]
  },
  {
   "cell_type": "markdown",
   "id": "a63b86b1",
   "metadata": {},
   "source": [
    "Logistic Regression"
   ]
  },
  {
   "cell_type": "code",
   "execution_count": 49,
   "id": "c48e4a44",
   "metadata": {},
   "outputs": [
    {
     "name": "stdout",
     "output_type": "stream",
     "text": [
      "\n",
      "Logistic Regression Test\n",
      "Accuracy: 0.8023255813953488\n",
      "Precision: 0.7352941176470589\n",
      "Recall: 0.7575757575757576\n",
      "F1 Score: 0.746268656716418\n",
      "Confusion Matrix:\n",
      " [[25  8]\n",
      " [ 9 44]]\n"
     ]
    }
   ],
   "source": [
    "y_pred_lr = best_model_lr.predict(X_test_reshaped)\n",
    "print(\"\\nLogistic Regression Test\")\n",
    "print(f\"Accuracy: {accuracy_score(y_test, y_pred_lr)}\")\n",
    "print(f\"Precision: {precision_score(y_test, y_pred_lr)}\")\n",
    "print(f\"Recall: {recall_score(y_test, y_pred_lr)}\")\n",
    "print(f\"F1 Score: {f1_score(y_test, y_pred_lr)}\")\n",
    "print(f\"Confusion Matrix:\\n {confusion_matrix(y_test, y_pred_lr)}\")\n"
   ]
  },
  {
   "cell_type": "markdown",
   "id": "f0986526",
   "metadata": {},
   "source": [
    "K-Nearest Neighbors"
   ]
  },
  {
   "cell_type": "code",
   "execution_count": 56,
   "id": "091f85a3",
   "metadata": {},
   "outputs": [
    {
     "name": "stdout",
     "output_type": "stream",
     "text": [
      "\n",
      "KNN Test\n",
      "Accuracy: 0.813953488372093\n",
      "Precision: 0.8695652173913043\n",
      "Recall: 0.6060606060606061\n",
      "F1 Score: 0.7142857142857143\n",
      "Confusion Matrix:\n",
      " [[20 13]\n",
      " [ 3 50]]\n"
     ]
    }
   ],
   "source": [
    "y_pred_knn = best_model_knn.predict(X_test_reshaped)\n",
    "print(\"\\nKNN Test\")\n",
    "print(f\"Accuracy: {accuracy_score(y_test, y_pred_knn)}\")\n",
    "print(f\"Precision: {precision_score(y_test, y_pred_knn)}\")\n",
    "print(f\"Recall: {recall_score(y_test, y_pred_knn)}\")\n",
    "print(f\"F1 Score: {f1_score(y_test, y_pred_knn)}\")\n",
    "print(f\"Confusion Matrix:\\n {confusion_matrix(y_test, y_pred_knn)}\")\n"
   ]
  },
  {
   "cell_type": "markdown",
   "id": "e9c7180d",
   "metadata": {},
   "source": [
    "Support Vector Machine (SVM)"
   ]
  },
  {
   "cell_type": "code",
   "execution_count": 51,
   "id": "9b9ecb6d",
   "metadata": {},
   "outputs": [
    {
     "name": "stdout",
     "output_type": "stream",
     "text": [
      "\n",
      "SVM Test\n",
      "Accuracy: 0.8953488372093024\n",
      "Precision: 0.8333333333333334\n",
      "Recall: 0.9090909090909091\n",
      "F1 Score: 0.8695652173913043\n",
      "Confusion Matrix:\n",
      " [[30  3]\n",
      " [ 6 47]]\n"
     ]
    }
   ],
   "source": [
    "y_pred_svm = best_model_svm.predict(X_test_reshaped)\n",
    "print(\"\\nSVM Test\")\n",
    "print(f\"Accuracy: {accuracy_score(y_test, y_pred_svm)}\")\n",
    "print(f\"Precision: {precision_score(y_test, y_pred_svm)}\")\n",
    "print(f\"Recall: {recall_score(y_test, y_pred_svm)}\")\n",
    "print(f\"F1 Score: {f1_score(y_test, y_pred_svm)}\")\n",
    "print(f\"Confusion Matrix:\\n {confusion_matrix(y_test, y_pred_svm)}\")\n"
   ]
  },
  {
   "cell_type": "markdown",
   "id": "620a6fb4",
   "metadata": {},
   "source": [
    "Conformer\n"
   ]
  },
  {
   "cell_type": "code",
   "execution_count": null,
   "id": "3f41a023",
   "metadata": {},
   "outputs": [],
   "source": []
  },
  {
   "cell_type": "markdown",
   "id": "28189e83",
   "metadata": {},
   "source": [
    "# Visualisasi Hasil"
   ]
  },
  {
   "cell_type": "code",
   "execution_count": 52,
   "id": "97f89efa",
   "metadata": {},
   "outputs": [],
   "source": [
    "def load_and_plot(path, list_result, final_time):\n",
    "    file_name = os.path.basename(path)\n",
    "    audio, sr = librosa.load(path, sr=SAMPLE_RATE)\n",
    "    time_axis = np.linspace(0, len(audio) / sr, len(audio))\n",
    "\n",
    "    plt.figure(figsize=(20, 4))\n",
    "    plt.plot(time_axis, audio, label=\"Amplitude\")\n",
    "    plt.title(f\"Audio waveform with loud segments marked - {file_name}\") \n",
    "    plt.xlabel(\"Time (s)\")\n",
    "    plt.ylabel(\"Amplitude\")\n",
    "\n",
    "    for i in enumerate(list_result):\n",
    "        start_time = i[1][0]\n",
    "        end_time = i[1][1]\n",
    "        plt.axvspan(start_time, end_time, color='red', alpha=0.3)\n",
    "\n",
    "    plt.xticks(np.arange(0, final_time, 0.5))\n",
    "    plt.grid(which='both', alpha=0.5)\n",
    "    plt.xlim(0, final_time)\n",
    "    plt.ylim(-1, 1)\n",
    "    plt.tight_layout()\n",
    "    plt.legend()\n",
    "    plt.show()"
   ]
  },
  {
   "cell_type": "markdown",
   "id": "270e6b72",
   "metadata": {},
   "source": [
    "### LGBM"
   ]
  },
  {
   "cell_type": "code",
   "execution_count": 53,
   "id": "f5c5b3b6",
   "metadata": {},
   "outputs": [],
   "source": [
    "def single_inference(path):\n",
    "    audio, sr = load_file_audio(path)\n",
    "    audio = prapemrosesan_downmixing(audio)\n",
    "    audio, sr = prapemrosesan_resampling(audio, sr)\n",
    "    audio = prapemrosesan_padding(audio)\n",
    "    segments = prapemrosesan_splitting(audio)\n",
    "    \n",
    "    list_result = []\n",
    "    for index, segment in enumerate(segments):\n",
    "        rms = get_rms(segment)\n",
    "        zcr = get_zcr(segment)\n",
    "        X = np.array([rms, zcr])\n",
    "        X = scl.transform(X.reshape(1, -1))\n",
    "\n",
    "        y_pred = lgbm_model.predict(X)\n",
    "        if y_pred == 0:\n",
    "            list_result.append(([index*0.5, index*0.5 + 1]))\n",
    "    return list_result"
   ]
  },
  {
   "cell_type": "code",
   "execution_count": 54,
   "id": "ef3e278c",
   "metadata": {},
   "outputs": [],
   "source": [
    "# for file in os.listdir(f\"{MAIN_PATH}/noise-audio-data\"):\n",
    "#     list_result = single_inference(f\"{MAIN_PATH}/noise-audio-data/{file}\")\n",
    "#     print(list_result)\n",
    "#     load_and_plot(f\"{MAIN_PATH}/noise-audio-data/{file}\", list_result, 5)  "
   ]
  },
  {
   "cell_type": "code",
   "execution_count": 55,
   "id": "6ac0cd24",
   "metadata": {},
   "outputs": [],
   "source": [
    "# for file in os.listdir(f\"{MAIN_PATH}/xeno-canto\"):\n",
    "#     list_result = single_inference(f\"{MAIN_PATH}/xeno-canto/{file}\")\n",
    "#     print(list_result)\n",
    "#     load_and_plot(f\"{MAIN_PATH}/xeno-canto/{file}\", list_result, 25)  "
   ]
  }
 ],
 "metadata": {
  "kernelspec": {
   "display_name": "Python 3",
   "language": "python",
   "name": "python3"
  },
  "language_info": {
   "codemirror_mode": {
    "name": "ipython",
    "version": 3
   },
   "file_extension": ".py",
   "mimetype": "text/x-python",
   "name": "python",
   "nbconvert_exporter": "python",
   "pygments_lexer": "ipython3",
   "version": "3.12.10"
  }
 },
 "nbformat": 4,
 "nbformat_minor": 5
}
