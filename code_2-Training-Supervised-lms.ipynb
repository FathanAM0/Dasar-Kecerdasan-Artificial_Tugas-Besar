{
 "cells": [
  {
   "cell_type": "markdown",
   "id": "8aa7f53f",
   "metadata": {},
   "source": [
    "Library\n"
   ]
  },
  {
   "cell_type": "code",
   "execution_count": 79,
   "id": "fc563099",
   "metadata": {},
   "outputs": [],
   "source": [
    "import math\n",
    "import pickle\n",
    "import joblib\n",
    "import numpy as np\n",
    "import pandas as pd\n",
    "import matplotlib.pyplot as plt\n",
    "import scipy.signal\n",
    "import scipy.fftpack\n",
    "import librosa\n",
    "import soundfile as sf\n",
    "from scipy.signal import resample_poly\n",
    "from sklearn.model_selection import train_test_split\n",
    "from sklearn.preprocessing import StandardScaler\n",
    "from sklearn.metrics import accuracy_score, confusion_matrix, precision_score, recall_score, f1_score\n",
    "from sklearn.ensemble import RandomForestClassifier, GradientBoostingClassifier\n",
    "from sklearn.linear_model import LogisticRegression\n",
    "from sklearn.neighbors import KNeighborsClassifier\n",
    "from sklearn.tree import DecisionTreeClassifier\n",
    "from sklearn.svm import SVC\n",
    "import lightgbm as lgb\n",
    "from lightgbm import LGBMClassifier\n",
    "from xgboost import XGBClassifier\n",
    "from catboost import CatBoostClassifier\n",
    "import skfuzzy as fuzz\n",
    "from skfuzzy import control as ctrl\n",
    "from sklearn.tree import DecisionTreeClassifier, export_text\n",
    "import os\n",
    "import torch\n",
    "import torch.nn as nn\n",
    "import torch.optim as optim\n",
    "import torch.nn.functional as F\n",
    "from sklearn.model_selection import GridSearchCV\n",
    "from sklearn.metrics import classification_report\n",
    "from sklearn.model_selection import ParameterGrid\n",
    "from tqdm import tqdm"
   ]
  },
  {
   "cell_type": "markdown",
   "id": "b255600d",
   "metadata": {},
   "source": [
    "Main Path\n"
   ]
  },
  {
   "cell_type": "code",
   "execution_count": 27,
   "id": "28ad2579",
   "metadata": {},
   "outputs": [],
   "source": [
    "# MAIN_PATH = r\"C:\\Users\\Lulay\\Documents\\GitHub\\Dasar-Kecerdasan-Artificial_Tugas-Besar\\Dataset\"\n",
    "MAIN_PATH = r\"D:\\Kuliah\\Matkul\\Semester 4\\DASAR KECERDASAN ARTIFICIAL (DKA)\\[2] Tugas\\[3] Tugas Besar\\Dasar-Kecerdasan-Artificial_Tugas-Besar\\Dataset\""
   ]
  },
  {
   "cell_type": "markdown",
   "id": "2d6a0ca8",
   "metadata": {},
   "source": [
    "Konstanta\n"
   ]
  },
  {
   "cell_type": "code",
   "execution_count": 28,
   "id": "c470f014",
   "metadata": {},
   "outputs": [],
   "source": [
    "SAMPLE_RATE = 48000\n",
    "BATCH_SIZE = 32\n",
    "SEGMENT_DURATION = int(1 * SAMPLE_RATE)\n",
    "OVERLAP_DURATION = int(0.5 * SAMPLE_RATE)\n",
    "RANDOM_STATE = 21\n",
    "BUFFER_SIZE = 1000"
   ]
  },
  {
   "cell_type": "markdown",
   "id": "1ce4e852",
   "metadata": {},
   "source": [
    "Random Seed\n"
   ]
  },
  {
   "cell_type": "code",
   "execution_count": 29,
   "id": "8c39783f",
   "metadata": {},
   "outputs": [],
   "source": [
    "RANDOM_SEED = 21\n",
    "\n",
    "try:\n",
    "    from sklearn.utils import check_random_state\n",
    "    random_state = check_random_state(RANDOM_SEED)\n",
    "except ImportError:\n",
    "    pass"
   ]
  },
  {
   "cell_type": "markdown",
   "id": "cdf7ed39",
   "metadata": {},
   "source": [
    "# Prapemrosesan\n"
   ]
  },
  {
   "cell_type": "code",
   "execution_count": 30,
   "id": "52eb8baa",
   "metadata": {},
   "outputs": [],
   "source": [
    "def load_file_audio(path):\n",
    "    audio, sr = sf.read(path)\n",
    "    return np.array(audio), sr\n",
    "\n",
    "def prapemrosesan_downmixing(audio):\n",
    "    if audio.ndim > 1:\n",
    "        audio = np.mean(audio, axis=1)\n",
    "    return audio.astype(np.float32)\n",
    "\n",
    "def prapemrosesan_resampling(audio, sr):\n",
    "    if sr == SAMPLE_RATE:\n",
    "        return audio.copy(), SAMPLE_RATE\n",
    "    \n",
    "    ratio = SAMPLE_RATE / sr\n",
    "    n_samples = int(np.round(len(audio) * ratio))\n",
    "    \n",
    "    x_old = np.linspace(0, 1, len(audio))\n",
    "    x_new = np.linspace(0, 1, n_samples)\n",
    "    return np.interp(x_new, x_old, audio), SAMPLE_RATE\n",
    "\n",
    "def prapemrosesan_padding(audio):\n",
    "    if np.mod(audio.shape[0], SEGMENT_DURATION) != 0:\n",
    "        padding = SEGMENT_DURATION - (audio.shape[0] % SEGMENT_DURATION)\n",
    "        audio = np.pad(audio, (0, padding))\n",
    "    return audio\n",
    "\n",
    "def prapemrosesan_splitting(audio):\n",
    "    num_segments = int(np.floor((len(audio) - SEGMENT_DURATION) / OVERLAP_DURATION)) + 1\n",
    "    segments = []\n",
    "\n",
    "    for i in range(num_segments):\n",
    "        start = int(i * OVERLAP_DURATION)\n",
    "        end = int(start + SEGMENT_DURATION)\n",
    "        segment = audio[start:end]\n",
    "        if len(segment) < SEGMENT_DURATION:\n",
    "            segment = np.pad(segment, (0, SEGMENT_DURATION - len(segment)), mode='constant')\n",
    "        segments.append(segment)\n",
    "\n",
    "    return np.array(segments)"
   ]
  },
  {
   "cell_type": "markdown",
   "id": "781055b6",
   "metadata": {},
   "source": [
    "# Ekstraksi Fitur\n"
   ]
  },
  {
   "cell_type": "code",
   "execution_count": 31,
   "id": "5e80d7f4",
   "metadata": {},
   "outputs": [],
   "source": [
    "def get_rms(segment):\n",
    "    return np.sqrt(np.mean(segment ** 2))\n",
    "\n",
    "def get_zcr(segment):\n",
    "    return np.sum(np.abs(np.diff(np.signbit(segment)))) / (len(segment) / SAMPLE_RATE)\n",
    "\n",
    "def get_lms(segment):\n",
    "    mel_spec = librosa.feature.melspectrogram(y=segment, sr=SAMPLE_RATE)\n",
    "    return np.mean(mel_spec)"
   ]
  },
  {
   "cell_type": "markdown",
   "id": "2f28ede8",
   "metadata": {},
   "source": [
    "# Dataset\n"
   ]
  },
  {
   "cell_type": "markdown",
   "id": "951a1e2c",
   "metadata": {},
   "source": [
    "Raw\n"
   ]
  },
  {
   "cell_type": "code",
   "execution_count": 32,
   "id": "de7b6836",
   "metadata": {},
   "outputs": [],
   "source": [
    "with open(f\"{MAIN_PATH}/dataset_rmszcrlms.pkl\", \"rb\") as f:\n",
    "    dataset = pickle.load(f)"
   ]
  },
  {
   "cell_type": "code",
   "execution_count": 33,
   "id": "1afe3456",
   "metadata": {},
   "outputs": [
    {
     "data": {
      "text/plain": [
       "865"
      ]
     },
     "execution_count": 33,
     "metadata": {},
     "output_type": "execute_result"
    }
   ],
   "source": [
    "len(dataset)"
   ]
  },
  {
   "cell_type": "markdown",
   "id": "5a03f2f9",
   "metadata": {},
   "source": [
    "Normalisasi, Split, dan Batching\n"
   ]
  },
  {
   "cell_type": "code",
   "execution_count": 56,
   "id": "ccb00400",
   "metadata": {},
   "outputs": [
    {
     "data": {
      "text/plain": [
       "(0.0,\n",
       " 1.0,\n",
       " 2,\n",
       " 0.011059444,\n",
       " 0.23255173703457446,\n",
       " array([[2.22129905e-13, 1.03116427e-09, 1.56951060e-07, ...,\n",
       "         5.70585842e-13, 1.14141976e-07, 3.86931497e-05],\n",
       "        [1.73044982e-13, 1.74463599e-09, 6.80466954e-08, ...,\n",
       "         5.17760639e-13, 1.17636276e-07, 3.98712073e-05],\n",
       "        [1.94202402e-13, 1.31313471e-09, 1.05966667e-08, ...,\n",
       "         2.38242260e-12, 1.35159581e-07, 4.56374873e-05],\n",
       "        ...,\n",
       "        [2.20867216e-16, 3.81760608e-16, 5.07324878e-16, ...,\n",
       "         5.14235058e-14, 2.11715911e-09, 6.91677428e-07],\n",
       "        [9.88679711e-21, 1.61993748e-18, 5.16642328e-18, ...,\n",
       "         3.58666228e-16, 2.08386641e-09, 6.80778953e-07],\n",
       "        [4.95487801e-22, 1.56139436e-20, 6.90402098e-21, ...,\n",
       "         3.08383758e-16, 2.06350248e-09, 6.74107753e-07]], dtype=float32))"
      ]
     },
     "execution_count": 56,
     "metadata": {},
     "output_type": "execute_result"
    }
   ],
   "source": [
    "dataset[0][1:]"
   ]
  },
  {
   "cell_type": "code",
   "execution_count": 59,
   "id": "0172a8e7",
   "metadata": {},
   "outputs": [],
   "source": [
    "X = [data[6] for data in dataset]\n",
    "original_labels = [int(data[3]) for data in dataset]\n",
    "y = [1 if label in (0, 1) else 2 for label in original_labels]\n",
    "X = np.array(X)"
   ]
  },
  {
   "cell_type": "code",
   "execution_count": 61,
   "id": "a13f6efa",
   "metadata": {},
   "outputs": [
    {
     "data": {
      "text/plain": [
       "(128, 94)"
      ]
     },
     "execution_count": 61,
     "metadata": {},
     "output_type": "execute_result"
    }
   ],
   "source": [
    "X[0].shape"
   ]
  },
  {
   "cell_type": "code",
   "execution_count": 62,
   "id": "d8bc0dd3",
   "metadata": {},
   "outputs": [],
   "source": [
    "X_train, X_test, y_train, y_test = train_test_split(X, y, test_size=0.2, random_state=RANDOM_STATE, stratify=y)\n",
    "X_test, X_val, y_test, y_val = train_test_split(X_test, y_test, test_size=0.5, random_state=RANDOM_STATE, stratify=y_test)"
   ]
  },
  {
   "cell_type": "code",
   "execution_count": 63,
   "id": "8d120400",
   "metadata": {},
   "outputs": [
    {
     "name": "stdout",
     "output_type": "stream",
     "text": [
      "<class 'numpy.ndarray'>\n",
      "(128, 94)\n"
     ]
    }
   ],
   "source": [
    "print(type(X_train[0]))\n",
    "print(np.array(X_train[0]).shape)\n"
   ]
  },
  {
   "cell_type": "code",
   "execution_count": 64,
   "id": "079da750",
   "metadata": {},
   "outputs": [],
   "source": [
    "X_train_reshaped = np.expand_dims(X_train, axis=1)\n",
    "X_test_reshaped = np.expand_dims(X_test, axis=1)\n",
    "X_val_reshaped = np.expand_dims(X_val, axis=1)"
   ]
  },
  {
   "cell_type": "code",
   "execution_count": 65,
   "id": "c83b57f9",
   "metadata": {},
   "outputs": [
    {
     "data": {
      "text/plain": [
       "(692, 1, 128, 94)"
      ]
     },
     "metadata": {},
     "output_type": "display_data"
    },
    {
     "data": {
      "text/plain": [
       "(86, 1, 128, 94)"
      ]
     },
     "metadata": {},
     "output_type": "display_data"
    },
    {
     "data": {
      "text/plain": [
       "(87, 1, 128, 94)"
      ]
     },
     "metadata": {},
     "output_type": "display_data"
    }
   ],
   "source": [
    "display(\n",
    "    X_train_reshaped.shape,\n",
    "    X_test_reshaped.shape,\n",
    "    X_val_reshaped.shape\n",
    ")"
   ]
  },
  {
   "cell_type": "markdown",
   "id": "3f63818e",
   "metadata": {},
   "source": [
    "# CNN\n"
   ]
  },
  {
   "cell_type": "markdown",
   "id": "1d339452",
   "metadata": {},
   "source": [
    "Inisialisasi\n"
   ]
  },
  {
   "cell_type": "code",
   "execution_count": 66,
   "id": "e6a8c9f3",
   "metadata": {},
   "outputs": [],
   "source": [
    "class CNN(nn.Module):\n",
    "    def __init__(self, num_classes=10):\n",
    "        super(CNN, self).__init__()\n",
    "        self.conv1 = nn.Conv2d(1, 64, kernel_size=3, padding=1)\n",
    "        self.bn1 = nn.BatchNorm2d(64)\n",
    "        self.conv2 = nn.Conv2d(64, 128, kernel_size=3, padding=1)\n",
    "        self.bn2 = nn.BatchNorm2d(128)\n",
    "        self.conv3 = nn.Conv2d(128, 256, kernel_size=3, padding=1)\n",
    "        self.bn3 = nn.BatchNorm2d(256)\n",
    "        self.pool = nn.MaxPool2d(kernel_size=2, stride=2)\n",
    "        self.gap = nn.AdaptiveAvgPool2d(1)\n",
    "        self.fc1 = nn.Linear(256, 256)\n",
    "        self.dropout = nn.Dropout(0.5)\n",
    "        self.fc2 = nn.Linear(256, num_classes)\n",
    "\n",
    "    def forward(self, x):\n",
    "        x = self.pool(F.relu(self.bn1(self.conv1(x))))\n",
    "        x = self.pool(F.relu(self.bn2(self.conv2(x))))\n",
    "        x = self.pool(F.relu(self.bn3(self.conv3(x))))\n",
    "        x = self.gap(x)\n",
    "        x = x.view(x.size(0), -1)\n",
    "        x = F.relu(self.fc1(x))\n",
    "        x = self.dropout(x)\n",
    "        x = self.fc2(x)\n",
    "        return x"
   ]
  },
  {
   "cell_type": "markdown",
   "id": "481a0989",
   "metadata": {},
   "source": [
    "training\n"
   ]
  },
  {
   "cell_type": "code",
   "execution_count": 67,
   "id": "15d9db5d",
   "metadata": {},
   "outputs": [
    {
     "name": "stdout",
     "output_type": "stream",
     "text": [
      "Epoch [1/100], Loss: 0.0175, Train Accuracy: 0.5549, Train F1 Score: 0.6349, Val Accuracy: 0.7471, Val F1 Score: 0.7471\n",
      "Epoch [2/100], Loss: 0.0119, Train Accuracy: 0.7283, Train F1 Score: 0.7240, Val Accuracy: 0.6782, Val F1 Score: 0.6155\n",
      "Epoch [3/100], Loss: 0.0062, Train Accuracy: 0.7124, Train F1 Score: 0.6934, Val Accuracy: 0.6897, Val F1 Score: 0.6133\n",
      "Epoch [4/100], Loss: 0.0052, Train Accuracy: 0.6908, Train F1 Score: 0.6694, Val Accuracy: 0.7011, Val F1 Score: 0.6330\n",
      "Epoch [5/100], Loss: 0.0049, Train Accuracy: 0.7240, Train F1 Score: 0.7107, Val Accuracy: 0.7126, Val F1 Score: 0.6823\n",
      "Epoch [6/100], Loss: 0.0048, Train Accuracy: 0.7355, Train F1 Score: 0.7201, Val Accuracy: 0.7011, Val F1 Score: 0.7050\n",
      "Epoch [7/100], Loss: 0.0047, Train Accuracy: 0.7283, Train F1 Score: 0.7146, Val Accuracy: 0.3793, Val F1 Score: 0.2086\n",
      "Epoch [8/100], Loss: 0.0047, Train Accuracy: 0.7486, Train F1 Score: 0.7350, Val Accuracy: 0.3793, Val F1 Score: 0.2086\n",
      "Epoch [9/100], Loss: 0.0045, Train Accuracy: 0.7500, Train F1 Score: 0.7422, Val Accuracy: 0.3793, Val F1 Score: 0.2086\n",
      "Epoch [10/100], Loss: 0.0044, Train Accuracy: 0.7572, Train F1 Score: 0.7445, Val Accuracy: 0.3908, Val F1 Score: 0.2329\n",
      "Epoch [11/100], Loss: 0.0042, Train Accuracy: 0.7746, Train F1 Score: 0.7657, Val Accuracy: 0.7586, Val F1 Score: 0.7488\n",
      "Epoch [12/100], Loss: 0.0044, Train Accuracy: 0.7659, Train F1 Score: 0.7587, Val Accuracy: 0.7586, Val F1 Score: 0.7378\n",
      "Epoch [13/100], Loss: 0.0043, Train Accuracy: 0.7760, Train F1 Score: 0.7707, Val Accuracy: 0.7586, Val F1 Score: 0.7378\n",
      "Epoch [14/100], Loss: 0.0042, Train Accuracy: 0.7746, Train F1 Score: 0.7683, Val Accuracy: 0.7471, Val F1 Score: 0.7230\n",
      "Epoch [15/100], Loss: 0.0041, Train Accuracy: 0.7702, Train F1 Score: 0.7630, Val Accuracy: 0.7586, Val F1 Score: 0.7332\n",
      "Epoch [16/100], Loss: 0.0041, Train Accuracy: 0.7876, Train F1 Score: 0.7806, Val Accuracy: 0.7586, Val F1 Score: 0.7279\n",
      "Epoch [17/100], Loss: 0.0041, Train Accuracy: 0.7847, Train F1 Score: 0.7799, Val Accuracy: 0.7701, Val F1 Score: 0.7434\n",
      "Epoch [18/100], Loss: 0.0040, Train Accuracy: 0.7861, Train F1 Score: 0.7838, Val Accuracy: 0.7471, Val F1 Score: 0.7230\n",
      "Epoch [19/100], Loss: 0.0039, Train Accuracy: 0.7934, Train F1 Score: 0.7860, Val Accuracy: 0.7471, Val F1 Score: 0.7230\n",
      "Epoch [20/100], Loss: 0.0040, Train Accuracy: 0.8035, Train F1 Score: 0.7999, Val Accuracy: 0.7816, Val F1 Score: 0.7728\n",
      "Epoch [21/100], Loss: 0.0037, Train Accuracy: 0.8020, Train F1 Score: 0.7966, Val Accuracy: 0.7471, Val F1 Score: 0.7230\n",
      "Epoch [22/100], Loss: 0.0039, Train Accuracy: 0.8049, Train F1 Score: 0.8025, Val Accuracy: 0.7701, Val F1 Score: 0.7434\n",
      "Epoch [23/100], Loss: 0.0037, Train Accuracy: 0.8179, Train F1 Score: 0.8137, Val Accuracy: 0.7471, Val F1 Score: 0.7230\n",
      "Epoch [24/100], Loss: 0.0038, Train Accuracy: 0.8078, Train F1 Score: 0.8048, Val Accuracy: 0.7471, Val F1 Score: 0.7230\n",
      "Epoch [25/100], Loss: 0.0039, Train Accuracy: 0.8078, Train F1 Score: 0.8030, Val Accuracy: 0.7471, Val F1 Score: 0.7230\n",
      "Epoch [26/100], Loss: 0.0038, Train Accuracy: 0.8136, Train F1 Score: 0.8101, Val Accuracy: 0.7471, Val F1 Score: 0.7230\n",
      "Epoch [27/100], Loss: 0.0035, Train Accuracy: 0.8295, Train F1 Score: 0.8247, Val Accuracy: 0.7471, Val F1 Score: 0.7230\n",
      "Epoch [28/100], Loss: 0.0037, Train Accuracy: 0.8208, Train F1 Score: 0.8185, Val Accuracy: 0.7701, Val F1 Score: 0.7593\n",
      "Epoch [29/100], Loss: 0.0036, Train Accuracy: 0.8353, Train F1 Score: 0.8321, Val Accuracy: 0.7471, Val F1 Score: 0.7230\n",
      "Epoch [30/100], Loss: 0.0036, Train Accuracy: 0.8121, Train F1 Score: 0.8108, Val Accuracy: 0.7931, Val F1 Score: 0.7860\n",
      "Epoch [31/100], Loss: 0.0036, Train Accuracy: 0.8251, Train F1 Score: 0.8210, Val Accuracy: 0.8046, Val F1 Score: 0.8061\n",
      "Epoch [32/100], Loss: 0.0034, Train Accuracy: 0.8439, Train F1 Score: 0.8398, Val Accuracy: 0.5747, Val F1 Score: 0.5403\n",
      "Epoch [33/100], Loss: 0.0035, Train Accuracy: 0.8324, Train F1 Score: 0.8307, Val Accuracy: 0.8276, Val F1 Score: 0.8295\n",
      "Epoch [34/100], Loss: 0.0034, Train Accuracy: 0.8324, Train F1 Score: 0.8300, Val Accuracy: 0.7586, Val F1 Score: 0.7332\n",
      "Epoch [35/100], Loss: 0.0034, Train Accuracy: 0.8280, Train F1 Score: 0.8238, Val Accuracy: 0.7701, Val F1 Score: 0.7482\n",
      "Epoch [36/100], Loss: 0.0033, Train Accuracy: 0.8454, Train F1 Score: 0.8435, Val Accuracy: 0.7931, Val F1 Score: 0.7958\n",
      "Epoch [37/100], Loss: 0.0033, Train Accuracy: 0.8468, Train F1 Score: 0.8440, Val Accuracy: 0.7471, Val F1 Score: 0.7317\n",
      "Epoch [38/100], Loss: 0.0035, Train Accuracy: 0.8353, Train F1 Score: 0.8313, Val Accuracy: 0.7471, Val F1 Score: 0.7230\n",
      "Epoch [39/100], Loss: 0.0033, Train Accuracy: 0.8439, Train F1 Score: 0.8404, Val Accuracy: 0.7816, Val F1 Score: 0.7846\n",
      "Epoch [40/100], Loss: 0.0032, Train Accuracy: 0.8454, Train F1 Score: 0.8425, Val Accuracy: 0.7931, Val F1 Score: 0.7953\n",
      "Epoch [41/100], Loss: 0.0031, Train Accuracy: 0.8512, Train F1 Score: 0.8493, Val Accuracy: 0.8276, Val F1 Score: 0.8243\n",
      "Epoch [42/100], Loss: 0.0031, Train Accuracy: 0.8483, Train F1 Score: 0.8461, Val Accuracy: 0.8391, Val F1 Score: 0.8411\n",
      "Epoch [43/100], Loss: 0.0030, Train Accuracy: 0.8497, Train F1 Score: 0.8473, Val Accuracy: 0.8046, Val F1 Score: 0.8026\n",
      "Epoch [44/100], Loss: 0.0031, Train Accuracy: 0.8671, Train F1 Score: 0.8635, Val Accuracy: 0.7931, Val F1 Score: 0.7953\n",
      "Epoch [45/100], Loss: 0.0031, Train Accuracy: 0.8598, Train F1 Score: 0.8567, Val Accuracy: 0.8391, Val F1 Score: 0.8411\n",
      "Epoch [46/100], Loss: 0.0032, Train Accuracy: 0.8468, Train F1 Score: 0.8454, Val Accuracy: 0.7241, Val F1 Score: 0.7215\n",
      "Epoch [47/100], Loss: 0.0031, Train Accuracy: 0.8555, Train F1 Score: 0.8539, Val Accuracy: 0.7356, Val F1 Score: 0.7077\n",
      "Epoch [48/100], Loss: 0.0031, Train Accuracy: 0.8584, Train F1 Score: 0.8542, Val Accuracy: 0.3908, Val F1 Score: 0.2329\n",
      "Epoch [49/100], Loss: 0.0031, Train Accuracy: 0.8425, Train F1 Score: 0.8399, Val Accuracy: 0.7816, Val F1 Score: 0.7827\n",
      "Epoch [50/100], Loss: 0.0029, Train Accuracy: 0.8540, Train F1 Score: 0.8532, Val Accuracy: 0.7586, Val F1 Score: 0.7620\n",
      "Epoch [51/100], Loss: 0.0031, Train Accuracy: 0.8642, Train F1 Score: 0.8617, Val Accuracy: 0.7586, Val F1 Score: 0.7420\n",
      "Epoch [52/100], Loss: 0.0031, Train Accuracy: 0.8613, Train F1 Score: 0.8568, Val Accuracy: 0.8276, Val F1 Score: 0.8299\n",
      "Epoch [53/100], Loss: 0.0033, Train Accuracy: 0.8396, Train F1 Score: 0.8389, Val Accuracy: 0.8276, Val F1 Score: 0.8289\n",
      "Epoch [54/100], Loss: 0.0030, Train Accuracy: 0.8569, Train F1 Score: 0.8541, Val Accuracy: 0.7586, Val F1 Score: 0.7332\n",
      "Epoch [55/100], Loss: 0.0030, Train Accuracy: 0.8714, Train F1 Score: 0.8687, Val Accuracy: 0.8046, Val F1 Score: 0.8061\n",
      "Epoch [56/100], Loss: 0.0028, Train Accuracy: 0.8728, Train F1 Score: 0.8707, Val Accuracy: 0.8046, Val F1 Score: 0.8069\n",
      "Epoch [57/100], Loss: 0.0029, Train Accuracy: 0.8613, Train F1 Score: 0.8593, Val Accuracy: 0.8161, Val F1 Score: 0.8161\n",
      "Epoch [58/100], Loss: 0.0027, Train Accuracy: 0.8728, Train F1 Score: 0.8716, Val Accuracy: 0.7586, Val F1 Score: 0.7378\n",
      "Epoch [59/100], Loss: 0.0029, Train Accuracy: 0.8699, Train F1 Score: 0.8665, Val Accuracy: 0.7931, Val F1 Score: 0.7956\n",
      "Epoch [60/100], Loss: 0.0028, Train Accuracy: 0.8714, Train F1 Score: 0.8682, Val Accuracy: 0.8506, Val F1 Score: 0.8526\n",
      "Epoch [61/100], Loss: 0.0030, Train Accuracy: 0.8367, Train F1 Score: 0.8356, Val Accuracy: 0.4483, Val F1 Score: 0.3437\n",
      "Epoch [62/100], Loss: 0.0030, Train Accuracy: 0.8555, Train F1 Score: 0.8527, Val Accuracy: 0.8161, Val F1 Score: 0.8117\n",
      "Epoch [63/100], Loss: 0.0028, Train Accuracy: 0.8728, Train F1 Score: 0.8702, Val Accuracy: 0.7701, Val F1 Score: 0.7561\n",
      "Epoch [64/100], Loss: 0.0029, Train Accuracy: 0.8613, Train F1 Score: 0.8590, Val Accuracy: 0.7931, Val F1 Score: 0.7901\n",
      "Epoch [65/100], Loss: 0.0028, Train Accuracy: 0.8699, Train F1 Score: 0.8684, Val Accuracy: 0.7931, Val F1 Score: 0.7953\n",
      "Epoch [66/100], Loss: 0.0026, Train Accuracy: 0.8743, Train F1 Score: 0.8721, Val Accuracy: 0.8276, Val F1 Score: 0.8281\n",
      "Epoch [67/100], Loss: 0.0028, Train Accuracy: 0.8671, Train F1 Score: 0.8640, Val Accuracy: 0.8276, Val F1 Score: 0.8301\n",
      "Epoch [68/100], Loss: 0.0027, Train Accuracy: 0.8671, Train F1 Score: 0.8652, Val Accuracy: 0.7931, Val F1 Score: 0.7860\n",
      "Epoch [69/100], Loss: 0.0027, Train Accuracy: 0.8815, Train F1 Score: 0.8783, Val Accuracy: 0.8161, Val F1 Score: 0.8117\n",
      "Epoch [70/100], Loss: 0.0026, Train Accuracy: 0.8772, Train F1 Score: 0.8754, Val Accuracy: 0.8161, Val F1 Score: 0.8117\n",
      "Epoch [71/100], Loss: 0.0026, Train Accuracy: 0.8728, Train F1 Score: 0.8711, Val Accuracy: 0.8046, Val F1 Score: 0.7990\n",
      "Epoch [72/100], Loss: 0.0027, Train Accuracy: 0.8757, Train F1 Score: 0.8736, Val Accuracy: 0.6092, Val F1 Score: 0.5859\n",
      "Epoch [73/100], Loss: 0.0026, Train Accuracy: 0.8714, Train F1 Score: 0.8702, Val Accuracy: 0.8276, Val F1 Score: 0.8300\n",
      "Epoch [74/100], Loss: 0.0027, Train Accuracy: 0.8772, Train F1 Score: 0.8731, Val Accuracy: 0.4253, Val F1 Score: 0.3164\n",
      "Epoch [75/100], Loss: 0.0026, Train Accuracy: 0.8873, Train F1 Score: 0.8847, Val Accuracy: 0.4138, Val F1 Score: 0.2793\n",
      "Epoch [76/100], Loss: 0.0026, Train Accuracy: 0.8844, Train F1 Score: 0.8832, Val Accuracy: 0.7931, Val F1 Score: 0.7901\n",
      "Epoch [77/100], Loss: 0.0026, Train Accuracy: 0.8858, Train F1 Score: 0.8837, Val Accuracy: 0.7586, Val F1 Score: 0.7598\n",
      "Epoch [78/100], Loss: 0.0029, Train Accuracy: 0.8728, Train F1 Score: 0.8717, Val Accuracy: 0.7931, Val F1 Score: 0.7953\n",
      "Epoch [79/100], Loss: 0.0029, Train Accuracy: 0.8613, Train F1 Score: 0.8577, Val Accuracy: 0.8046, Val F1 Score: 0.8040\n",
      "Epoch [80/100], Loss: 0.0027, Train Accuracy: 0.8743, Train F1 Score: 0.8722, Val Accuracy: 0.7701, Val F1 Score: 0.7524\n",
      "Epoch [81/100], Loss: 0.0025, Train Accuracy: 0.8801, Train F1 Score: 0.8786, Val Accuracy: 0.7931, Val F1 Score: 0.7942\n",
      "Epoch [82/100], Loss: 0.0026, Train Accuracy: 0.8743, Train F1 Score: 0.8726, Val Accuracy: 0.7816, Val F1 Score: 0.7848\n",
      "Epoch [83/100], Loss: 0.0023, Train Accuracy: 0.8916, Train F1 Score: 0.8895, Val Accuracy: 0.8391, Val F1 Score: 0.8411\n",
      "Epoch [84/100], Loss: 0.0024, Train Accuracy: 0.8829, Train F1 Score: 0.8810, Val Accuracy: 0.7931, Val F1 Score: 0.7953\n",
      "Epoch [85/100], Loss: 0.0024, Train Accuracy: 0.8931, Train F1 Score: 0.8917, Val Accuracy: 0.8161, Val F1 Score: 0.8117\n",
      "Epoch [86/100], Loss: 0.0024, Train Accuracy: 0.8887, Train F1 Score: 0.8868, Val Accuracy: 0.7931, Val F1 Score: 0.7860\n",
      "Epoch [87/100], Loss: 0.0028, Train Accuracy: 0.8829, Train F1 Score: 0.8806, Val Accuracy: 0.8391, Val F1 Score: 0.8399\n",
      "Epoch [88/100], Loss: 0.0028, Train Accuracy: 0.8714, Train F1 Score: 0.8685, Val Accuracy: 0.8046, Val F1 Score: 0.8009\n",
      "Epoch [89/100], Loss: 0.0027, Train Accuracy: 0.8743, Train F1 Score: 0.8725, Val Accuracy: 0.7931, Val F1 Score: 0.7960\n",
      "Epoch [90/100], Loss: 0.0025, Train Accuracy: 0.8873, Train F1 Score: 0.8861, Val Accuracy: 0.6207, Val F1 Score: 0.6005\n",
      "Epoch [91/100], Loss: 0.0026, Train Accuracy: 0.8642, Train F1 Score: 0.8624, Val Accuracy: 0.4023, Val F1 Score: 0.2565\n",
      "Epoch [92/100], Loss: 0.0027, Train Accuracy: 0.8786, Train F1 Score: 0.8747, Val Accuracy: 0.4138, Val F1 Score: 0.2793\n",
      "Epoch [93/100], Loss: 0.0028, Train Accuracy: 0.8772, Train F1 Score: 0.8753, Val Accuracy: 0.8046, Val F1 Score: 0.8069\n",
      "Epoch [94/100], Loss: 0.0027, Train Accuracy: 0.8844, Train F1 Score: 0.8827, Val Accuracy: 0.8506, Val F1 Score: 0.8517\n",
      "Epoch [95/100], Loss: 0.0025, Train Accuracy: 0.8844, Train F1 Score: 0.8827, Val Accuracy: 0.7931, Val F1 Score: 0.7860\n",
      "Epoch [96/100], Loss: 0.0026, Train Accuracy: 0.8844, Train F1 Score: 0.8823, Val Accuracy: 0.4023, Val F1 Score: 0.2565\n",
      "Epoch [97/100], Loss: 0.0025, Train Accuracy: 0.8801, Train F1 Score: 0.8756, Val Accuracy: 0.8161, Val F1 Score: 0.8134\n",
      "Epoch [98/100], Loss: 0.0028, Train Accuracy: 0.8540, Train F1 Score: 0.8525, Val Accuracy: 0.8046, Val F1 Score: 0.8009\n",
      "Epoch [99/100], Loss: 0.0026, Train Accuracy: 0.8829, Train F1 Score: 0.8820, Val Accuracy: 0.7816, Val F1 Score: 0.7827\n",
      "Epoch [100/100], Loss: 0.0025, Train Accuracy: 0.8786, Train F1 Score: 0.8763, Val Accuracy: 0.7586, Val F1 Score: 0.7332\n"
     ]
    }
   ],
   "source": [
    "device = torch.device('cuda' if torch.cuda.is_available() else 'cpu')\n",
    "\n",
    "model = CNN(num_classes=10).to(device)\n",
    "\n",
    "criterion = nn.CrossEntropyLoss()\n",
    "optimizer = optim.Adam(model.parameters(), lr=0.001)\n",
    "\n",
    "X_train_reshaped_tensor = torch.tensor(X_train_reshaped, dtype=torch.float32).reshape(-1, 1, 128, 94).to(device)\n",
    "X_val_reshaped_tensor = torch.tensor(X_val_reshaped, dtype=torch.float32).reshape(-1, 1, 128, 94).to(device)\n",
    "y_train_tensor = torch.tensor(y_train, dtype=torch.long)\n",
    "y_val_tensor = torch.tensor(y_val, dtype=torch.long)\n",
    "\n",
    "num_epochs = 100\n",
    "batch_size = 128\n",
    "\n",
    "for epoch in range(num_epochs):\n",
    "    model.train()\n",
    "    running_loss = 0.0\n",
    "    y_train_preds = []\n",
    "    y_train_true = []\n",
    "    \n",
    "    for i in range(0, len(X_train_reshaped_tensor), batch_size):\n",
    "        inputs = X_train_reshaped_tensor[i:i+batch_size]\n",
    "        targets = y_train_tensor[i:i+batch_size].to(device)\n",
    "\n",
    "        optimizer.zero_grad()\n",
    "        outputs = model(inputs)\n",
    "        loss = criterion(outputs, targets)\n",
    "        loss.backward()\n",
    "        optimizer.step()\n",
    "\n",
    "        running_loss += loss.item()\n",
    "        _, predicted = torch.max(outputs, 1)\n",
    "        y_train_preds.extend(predicted.cpu().numpy())\n",
    "        y_train_true.extend(targets.cpu().numpy())\n",
    "\n",
    "    train_accuracy = accuracy_score(y_train_true, y_train_preds)\n",
    "    train_f1_score = f1_score(y_train_true, y_train_preds, average='weighted')\n",
    "\n",
    "    model.eval()\n",
    "    y_val_preds = []\n",
    "    y_val_true = []\n",
    "    \n",
    "    with torch.no_grad():\n",
    "        for i in range(0, len(X_val_reshaped_tensor), batch_size):\n",
    "            inputs = X_val_reshaped_tensor[i:i+batch_size]\n",
    "            targets = y_val_tensor[i:i+batch_size].to(device)\n",
    "            outputs = model(inputs)\n",
    "            _, predicted = torch.max(outputs, 1)\n",
    "            y_val_preds.extend(predicted.cpu().numpy())\n",
    "            y_val_true.extend(targets.cpu().numpy())\n",
    "\n",
    "    val_accuracy = accuracy_score(y_val_true, y_val_preds)\n",
    "    val_f1_score = f1_score(y_val_true, y_val_preds, average='weighted')\n",
    "\n",
    "    print(f\"Epoch [{epoch+1}/{num_epochs}], Loss: {running_loss/len(X_train_reshaped_tensor):.4f}, \"\n",
    "          f\"Train Accuracy: {train_accuracy:.4f}, Train F1 Score: {train_f1_score:.4f}, \"\n",
    "          f\"Val Accuracy: {val_accuracy:.4f}, Val F1 Score: {val_f1_score:.4f}\")\n"
   ]
  },
  {
   "cell_type": "code",
   "execution_count": 85,
   "id": "093af36a",
   "metadata": {},
   "outputs": [],
   "source": [
    "X_train_reshaped = X_train_reshaped.reshape(X_train_reshaped.shape[0], -1)\n",
    "X_val_reshaped = X_val_reshaped.reshape(X_val_reshaped.shape[0], -1)\n",
    "\n"
   ]
  },
  {
   "cell_type": "code",
   "execution_count": 84,
   "id": "c65da985",
   "metadata": {},
   "outputs": [
    {
     "data": {
      "text/plain": [
       "(692, 12032)"
      ]
     },
     "execution_count": 84,
     "metadata": {},
     "output_type": "execute_result"
    }
   ],
   "source": [
    "X_train_reshaped.shape"
   ]
  },
  {
   "cell_type": "markdown",
   "id": "c1b88912",
   "metadata": {},
   "source": [
    "# LGBM\n"
   ]
  },
  {
   "cell_type": "markdown",
   "id": "403a16f5",
   "metadata": {},
   "source": [
    "Inisialisasi\n"
   ]
  },
  {
   "cell_type": "code",
   "execution_count": 86,
   "id": "26a5fbf8",
   "metadata": {},
   "outputs": [],
   "source": [
    "lgbm_model = LGBMClassifier(random_state=RANDOM_STATE, verbose=-1)\n",
    "\n",
    "param_grid_lgbm = {\n",
    "    'n_estimators': [50, 100, 200],\n",
    "    'num_leaves': [31, 50, 100],\n",
    "    'learning_rate': [0.01, 0.1, 0.2],\n",
    "    'max_depth': [-1, 10, 20]\n",
    "}"
   ]
  },
  {
   "cell_type": "markdown",
   "id": "b037f357",
   "metadata": {},
   "source": [
    "training\n"
   ]
  },
  {
   "cell_type": "code",
   "execution_count": 89,
   "id": "e9d7c7f9",
   "metadata": {},
   "outputs": [
    {
     "name": "stdout",
     "output_type": "stream",
     "text": [
      "[1/81] Params: {'learning_rate': 0.01, 'max_depth': -1, 'n_estimators': 50, 'num_leaves': 31} | Val Accuracy: 0.8621\n",
      "[2/81] Params: {'learning_rate': 0.01, 'max_depth': -1, 'n_estimators': 50, 'num_leaves': 50} | Val Accuracy: 0.8621\n",
      "[3/81] Params: {'learning_rate': 0.01, 'max_depth': -1, 'n_estimators': 50, 'num_leaves': 100} | Val Accuracy: 0.8621\n",
      "[4/81] Params: {'learning_rate': 0.01, 'max_depth': -1, 'n_estimators': 100, 'num_leaves': 31} | Val Accuracy: 0.8621\n",
      "[5/81] Params: {'learning_rate': 0.01, 'max_depth': -1, 'n_estimators': 100, 'num_leaves': 50} | Val Accuracy: 0.8621\n",
      "[6/81] Params: {'learning_rate': 0.01, 'max_depth': -1, 'n_estimators': 100, 'num_leaves': 100} | Val Accuracy: 0.8621\n",
      "[7/81] Params: {'learning_rate': 0.01, 'max_depth': -1, 'n_estimators': 200, 'num_leaves': 31} | Val Accuracy: 0.8736\n",
      "[8/81] Params: {'learning_rate': 0.01, 'max_depth': -1, 'n_estimators': 200, 'num_leaves': 50} | Val Accuracy: 0.8736\n",
      "[9/81] Params: {'learning_rate': 0.01, 'max_depth': -1, 'n_estimators': 200, 'num_leaves': 100} | Val Accuracy: 0.8736\n",
      "[10/81] Params: {'learning_rate': 0.01, 'max_depth': 10, 'n_estimators': 50, 'num_leaves': 31} | Val Accuracy: 0.8621\n",
      "[11/81] Params: {'learning_rate': 0.01, 'max_depth': 10, 'n_estimators': 50, 'num_leaves': 50} | Val Accuracy: 0.8621\n",
      "[12/81] Params: {'learning_rate': 0.01, 'max_depth': 10, 'n_estimators': 50, 'num_leaves': 100} | Val Accuracy: 0.8621\n",
      "[13/81] Params: {'learning_rate': 0.01, 'max_depth': 10, 'n_estimators': 100, 'num_leaves': 31} | Val Accuracy: 0.8621\n",
      "[14/81] Params: {'learning_rate': 0.01, 'max_depth': 10, 'n_estimators': 100, 'num_leaves': 50} | Val Accuracy: 0.8621\n",
      "[15/81] Params: {'learning_rate': 0.01, 'max_depth': 10, 'n_estimators': 100, 'num_leaves': 100} | Val Accuracy: 0.8621\n",
      "[16/81] Params: {'learning_rate': 0.01, 'max_depth': 10, 'n_estimators': 200, 'num_leaves': 31} | Val Accuracy: 0.8851\n",
      "[17/81] Params: {'learning_rate': 0.01, 'max_depth': 10, 'n_estimators': 200, 'num_leaves': 50} | Val Accuracy: 0.8851\n",
      "[18/81] Params: {'learning_rate': 0.01, 'max_depth': 10, 'n_estimators': 200, 'num_leaves': 100} | Val Accuracy: 0.8851\n",
      "[19/81] Params: {'learning_rate': 0.01, 'max_depth': 20, 'n_estimators': 50, 'num_leaves': 31} | Val Accuracy: 0.8621\n",
      "[20/81] Params: {'learning_rate': 0.01, 'max_depth': 20, 'n_estimators': 50, 'num_leaves': 50} | Val Accuracy: 0.8621\n",
      "[21/81] Params: {'learning_rate': 0.01, 'max_depth': 20, 'n_estimators': 50, 'num_leaves': 100} | Val Accuracy: 0.8621\n",
      "[22/81] Params: {'learning_rate': 0.01, 'max_depth': 20, 'n_estimators': 100, 'num_leaves': 31} | Val Accuracy: 0.8621\n",
      "[23/81] Params: {'learning_rate': 0.01, 'max_depth': 20, 'n_estimators': 100, 'num_leaves': 50} | Val Accuracy: 0.8621\n",
      "[24/81] Params: {'learning_rate': 0.01, 'max_depth': 20, 'n_estimators': 100, 'num_leaves': 100} | Val Accuracy: 0.8621\n",
      "[25/81] Params: {'learning_rate': 0.01, 'max_depth': 20, 'n_estimators': 200, 'num_leaves': 31} | Val Accuracy: 0.8736\n",
      "[26/81] Params: {'learning_rate': 0.01, 'max_depth': 20, 'n_estimators': 200, 'num_leaves': 50} | Val Accuracy: 0.8736\n",
      "[27/81] Params: {'learning_rate': 0.01, 'max_depth': 20, 'n_estimators': 200, 'num_leaves': 100} | Val Accuracy: 0.8736\n",
      "[28/81] Params: {'learning_rate': 0.1, 'max_depth': -1, 'n_estimators': 50, 'num_leaves': 31} | Val Accuracy: 0.9195\n",
      "[29/81] Params: {'learning_rate': 0.1, 'max_depth': -1, 'n_estimators': 50, 'num_leaves': 50} | Val Accuracy: 0.9195\n",
      "[30/81] Params: {'learning_rate': 0.1, 'max_depth': -1, 'n_estimators': 50, 'num_leaves': 100} | Val Accuracy: 0.9195\n",
      "[31/81] Params: {'learning_rate': 0.1, 'max_depth': -1, 'n_estimators': 100, 'num_leaves': 31} | Val Accuracy: 0.9195\n",
      "[32/81] Params: {'learning_rate': 0.1, 'max_depth': -1, 'n_estimators': 100, 'num_leaves': 50} | Val Accuracy: 0.9195\n",
      "[33/81] Params: {'learning_rate': 0.1, 'max_depth': -1, 'n_estimators': 100, 'num_leaves': 100} | Val Accuracy: 0.9195\n",
      "[34/81] Params: {'learning_rate': 0.1, 'max_depth': -1, 'n_estimators': 200, 'num_leaves': 31} | Val Accuracy: 0.9310\n",
      "[35/81] Params: {'learning_rate': 0.1, 'max_depth': -1, 'n_estimators': 200, 'num_leaves': 50} | Val Accuracy: 0.9080\n",
      "[36/81] Params: {'learning_rate': 0.1, 'max_depth': -1, 'n_estimators': 200, 'num_leaves': 100} | Val Accuracy: 0.9080\n",
      "[37/81] Params: {'learning_rate': 0.1, 'max_depth': 10, 'n_estimators': 50, 'num_leaves': 31} | Val Accuracy: 0.9080\n",
      "[38/81] Params: {'learning_rate': 0.1, 'max_depth': 10, 'n_estimators': 50, 'num_leaves': 50} | Val Accuracy: 0.9080\n",
      "[39/81] Params: {'learning_rate': 0.1, 'max_depth': 10, 'n_estimators': 50, 'num_leaves': 100} | Val Accuracy: 0.9080\n",
      "[40/81] Params: {'learning_rate': 0.1, 'max_depth': 10, 'n_estimators': 100, 'num_leaves': 31} | Val Accuracy: 0.9080\n",
      "[41/81] Params: {'learning_rate': 0.1, 'max_depth': 10, 'n_estimators': 100, 'num_leaves': 50} | Val Accuracy: 0.9080\n",
      "[42/81] Params: {'learning_rate': 0.1, 'max_depth': 10, 'n_estimators': 100, 'num_leaves': 100} | Val Accuracy: 0.9080\n",
      "[43/81] Params: {'learning_rate': 0.1, 'max_depth': 10, 'n_estimators': 200, 'num_leaves': 31} | Val Accuracy: 0.8966\n",
      "[44/81] Params: {'learning_rate': 0.1, 'max_depth': 10, 'n_estimators': 200, 'num_leaves': 50} | Val Accuracy: 0.8966\n",
      "[45/81] Params: {'learning_rate': 0.1, 'max_depth': 10, 'n_estimators': 200, 'num_leaves': 100} | Val Accuracy: 0.8966\n",
      "[46/81] Params: {'learning_rate': 0.1, 'max_depth': 20, 'n_estimators': 50, 'num_leaves': 31} | Val Accuracy: 0.9195\n",
      "[47/81] Params: {'learning_rate': 0.1, 'max_depth': 20, 'n_estimators': 50, 'num_leaves': 50} | Val Accuracy: 0.9195\n",
      "[48/81] Params: {'learning_rate': 0.1, 'max_depth': 20, 'n_estimators': 50, 'num_leaves': 100} | Val Accuracy: 0.9195\n",
      "[49/81] Params: {'learning_rate': 0.1, 'max_depth': 20, 'n_estimators': 100, 'num_leaves': 31} | Val Accuracy: 0.9195\n",
      "[50/81] Params: {'learning_rate': 0.1, 'max_depth': 20, 'n_estimators': 100, 'num_leaves': 50} | Val Accuracy: 0.9195\n",
      "[51/81] Params: {'learning_rate': 0.1, 'max_depth': 20, 'n_estimators': 100, 'num_leaves': 100} | Val Accuracy: 0.9195\n",
      "[52/81] Params: {'learning_rate': 0.1, 'max_depth': 20, 'n_estimators': 200, 'num_leaves': 31} | Val Accuracy: 0.9310\n",
      "[53/81] Params: {'learning_rate': 0.1, 'max_depth': 20, 'n_estimators': 200, 'num_leaves': 50} | Val Accuracy: 0.9080\n",
      "[54/81] Params: {'learning_rate': 0.1, 'max_depth': 20, 'n_estimators': 200, 'num_leaves': 100} | Val Accuracy: 0.9080\n",
      "[55/81] Params: {'learning_rate': 0.2, 'max_depth': -1, 'n_estimators': 50, 'num_leaves': 31} | Val Accuracy: 0.9080\n",
      "[56/81] Params: {'learning_rate': 0.2, 'max_depth': -1, 'n_estimators': 50, 'num_leaves': 50} | Val Accuracy: 0.9080\n",
      "[57/81] Params: {'learning_rate': 0.2, 'max_depth': -1, 'n_estimators': 50, 'num_leaves': 100} | Val Accuracy: 0.9080\n",
      "[58/81] Params: {'learning_rate': 0.2, 'max_depth': -1, 'n_estimators': 100, 'num_leaves': 31} | Val Accuracy: 0.9195\n",
      "[59/81] Params: {'learning_rate': 0.2, 'max_depth': -1, 'n_estimators': 100, 'num_leaves': 50} | Val Accuracy: 0.9080\n",
      "[60/81] Params: {'learning_rate': 0.2, 'max_depth': -1, 'n_estimators': 100, 'num_leaves': 100} | Val Accuracy: 0.9080\n",
      "[61/81] Params: {'learning_rate': 0.2, 'max_depth': -1, 'n_estimators': 200, 'num_leaves': 31} | Val Accuracy: 0.9080\n",
      "[62/81] Params: {'learning_rate': 0.2, 'max_depth': -1, 'n_estimators': 200, 'num_leaves': 50} | Val Accuracy: 0.9080\n",
      "[63/81] Params: {'learning_rate': 0.2, 'max_depth': -1, 'n_estimators': 200, 'num_leaves': 100} | Val Accuracy: 0.9080\n",
      "[64/81] Params: {'learning_rate': 0.2, 'max_depth': 10, 'n_estimators': 50, 'num_leaves': 31} | Val Accuracy: 0.9080\n",
      "[65/81] Params: {'learning_rate': 0.2, 'max_depth': 10, 'n_estimators': 50, 'num_leaves': 50} | Val Accuracy: 0.9080\n",
      "[66/81] Params: {'learning_rate': 0.2, 'max_depth': 10, 'n_estimators': 50, 'num_leaves': 100} | Val Accuracy: 0.9080\n",
      "[67/81] Params: {'learning_rate': 0.2, 'max_depth': 10, 'n_estimators': 100, 'num_leaves': 31} | Val Accuracy: 0.9195\n",
      "[68/81] Params: {'learning_rate': 0.2, 'max_depth': 10, 'n_estimators': 100, 'num_leaves': 50} | Val Accuracy: 0.9310\n",
      "[69/81] Params: {'learning_rate': 0.2, 'max_depth': 10, 'n_estimators': 100, 'num_leaves': 100} | Val Accuracy: 0.9310\n",
      "[70/81] Params: {'learning_rate': 0.2, 'max_depth': 10, 'n_estimators': 200, 'num_leaves': 31} | Val Accuracy: 0.9310\n",
      "[71/81] Params: {'learning_rate': 0.2, 'max_depth': 10, 'n_estimators': 200, 'num_leaves': 50} | Val Accuracy: 0.9310\n",
      "[72/81] Params: {'learning_rate': 0.2, 'max_depth': 10, 'n_estimators': 200, 'num_leaves': 100} | Val Accuracy: 0.9310\n",
      "[73/81] Params: {'learning_rate': 0.2, 'max_depth': 20, 'n_estimators': 50, 'num_leaves': 31} | Val Accuracy: 0.9080\n",
      "[74/81] Params: {'learning_rate': 0.2, 'max_depth': 20, 'n_estimators': 50, 'num_leaves': 50} | Val Accuracy: 0.9080\n",
      "[75/81] Params: {'learning_rate': 0.2, 'max_depth': 20, 'n_estimators': 50, 'num_leaves': 100} | Val Accuracy: 0.9080\n",
      "[76/81] Params: {'learning_rate': 0.2, 'max_depth': 20, 'n_estimators': 100, 'num_leaves': 31} | Val Accuracy: 0.9195\n",
      "[77/81] Params: {'learning_rate': 0.2, 'max_depth': 20, 'n_estimators': 100, 'num_leaves': 50} | Val Accuracy: 0.9080\n",
      "[78/81] Params: {'learning_rate': 0.2, 'max_depth': 20, 'n_estimators': 100, 'num_leaves': 100} | Val Accuracy: 0.9080\n",
      "[79/81] Params: {'learning_rate': 0.2, 'max_depth': 20, 'n_estimators': 200, 'num_leaves': 31} | Val Accuracy: 0.9080\n",
      "[80/81] Params: {'learning_rate': 0.2, 'max_depth': 20, 'n_estimators': 200, 'num_leaves': 50} | Val Accuracy: 0.9080\n",
      "[81/81] Params: {'learning_rate': 0.2, 'max_depth': 20, 'n_estimators': 200, 'num_leaves': 100} | Val Accuracy: 0.9080\n"
     ]
    }
   ],
   "source": [
    "param_grid = list(ParameterGrid(param_grid_lgbm))\n",
    "best_score_lgbm = 0\n",
    "best_model_lgbm = None\n",
    "\n",
    "for i, params in enumerate(param_grid, 1):\n",
    "    lgbm_model = lgbm_model.set_params(**params)\n",
    "    lgbm_model.fit(X_train_reshaped, y_train)\n",
    "\n",
    "    y_pred = lgbm_model.predict(X_val_reshaped)\n",
    "    acc = accuracy_score(y_val, y_pred)\n",
    "\n",
    "    print(f\"[{i}/{len(param_grid)}] Params: {params} | Val Accuracy: {acc:.4f}\")\n",
    "\n",
    "    if acc > best_score_lgbm:\n",
    "        best_score_lgbm = acc\n",
    "        best_model_lgbm = lgbm_model"
   ]
  },
  {
   "cell_type": "markdown",
   "id": "7c3a3261",
   "metadata": {},
   "source": [
    "# Decision Tree\n"
   ]
  },
  {
   "cell_type": "markdown",
   "id": "1ff35735",
   "metadata": {},
   "source": [
    "Inisialisasi\n"
   ]
  },
  {
   "cell_type": "code",
   "execution_count": null,
   "id": "3483b9b7",
   "metadata": {},
   "outputs": [],
   "source": [
    "dt_model = DecisionTreeClassifier(random_state=RANDOM_STATE)\n",
    "\n",
    "param_grid_dt = {\n",
    "    'max_depth': [None, 5, 10, 20],\n",
    "    'min_samples_split': [2, 5, 10]\n",
    "}"
   ]
  },
  {
   "cell_type": "markdown",
   "id": "205b546f",
   "metadata": {},
   "source": [
    "training\n"
   ]
  },
  {
   "cell_type": "code",
   "execution_count": null,
   "id": "95a49e0d",
   "metadata": {},
   "outputs": [],
   "source": [
    "grid_dt = GridSearchCV(dt_model, param_grid_dt, cv=3, scoring='accuracy')\n",
    "grid_dt.fit(X_train_reshaped, y_train)\n",
    "best_dt_model = grid_dt.best_estimator_"
   ]
  },
  {
   "cell_type": "markdown",
   "id": "388ac4ec",
   "metadata": {},
   "source": [
    "## Random Forest"
   ]
  },
  {
   "cell_type": "markdown",
   "id": "830dfa4f",
   "metadata": {},
   "source": [
    "Inisialisasi\n"
   ]
  },
  {
   "cell_type": "code",
   "execution_count": null,
   "id": "f1da762c",
   "metadata": {},
   "outputs": [],
   "source": [
    "rf_model = RandomForestClassifier(random_state=RANDOM_STATE)\n",
    "\n",
    "param_grid_rf = {\n",
    "    'n_estimators': [50, 100, 200],\n",
    "    'max_depth': [None, 10, 20],\n",
    "    'min_samples_split': [2, 5]\n",
    "}"
   ]
  },
  {
   "cell_type": "markdown",
   "id": "29c0daab",
   "metadata": {},
   "source": [
    "training\n"
   ]
  },
  {
   "cell_type": "code",
   "execution_count": null,
   "id": "fbe5a68a",
   "metadata": {},
   "outputs": [],
   "source": [
    "grid_rf = GridSearchCV(rf_model, param_grid_rf, cv=3, scoring='accuracy')\n",
    "grid_rf.fit(X_train_reshaped, y_train)\n",
    "\n",
    "xg_model = grid_rf.best_estimator_"
   ]
  },
  {
   "cell_type": "markdown",
   "id": "9d9bf60b",
   "metadata": {},
   "source": [
    "## XGBoost"
   ]
  },
  {
   "cell_type": "markdown",
   "id": "b90e7853",
   "metadata": {},
   "source": [
    "Inisialisasi\n"
   ]
  },
  {
   "cell_type": "code",
   "execution_count": null,
   "id": "4361b842",
   "metadata": {},
   "outputs": [],
   "source": [
    "xg_model = XGBClassifier(random_state=RANDOM_STATE)\n",
    "\n",
    "param_grid_xg = {\n",
    "    'n_estimators': [50, 100, 200],\n",
    "    'max_depth': [3, 6, 10],\n",
    "    'learning_rate': [0.01, 0.1, 0.2]\n",
    "}"
   ]
  },
  {
   "cell_type": "markdown",
   "id": "304da63a",
   "metadata": {},
   "source": [
    "training\n"
   ]
  },
  {
   "cell_type": "code",
   "execution_count": null,
   "id": "065768f6",
   "metadata": {},
   "outputs": [
    {
     "ename": "ValueError",
     "evalue": "\nAll the 81 fits failed.\nIt is very likely that your model is misconfigured.\nYou can try to debug the error by setting error_score='raise'.\n\nBelow are more details about the failures:\n--------------------------------------------------------------------------------\n81 fits failed with the following error:\nTraceback (most recent call last):\n  File \"C:\\Users\\Fathan\\AppData\\Local\\Packages\\PythonSoftwareFoundation.Python.3.12_qbz5n2kfra8p0\\LocalCache\\local-packages\\Python312\\site-packages\\sklearn\\model_selection\\_validation.py\", line 895, in _fit_and_score\n    estimator.fit(X_train, y_train, **fit_params)\n  File \"C:\\Users\\Fathan\\AppData\\Local\\Packages\\PythonSoftwareFoundation.Python.3.12_qbz5n2kfra8p0\\LocalCache\\local-packages\\Python312\\site-packages\\xgboost\\core.py\", line 726, in inner_f\n    return func(**kwargs)\n           ^^^^^^^^^^^^^^\n  File \"C:\\Users\\Fathan\\AppData\\Local\\Packages\\PythonSoftwareFoundation.Python.3.12_qbz5n2kfra8p0\\LocalCache\\local-packages\\Python312\\site-packages\\xgboost\\sklearn.py\", line 1491, in fit\n    raise ValueError(\nValueError: Invalid classes inferred from unique values of `y`.  Expected: [0 1], got [1 2]\n",
     "output_type": "error",
     "traceback": [
      "\u001b[1;31m---------------------------------------------------------------------------\u001b[0m",
      "\u001b[1;31mValueError\u001b[0m                                Traceback (most recent call last)",
      "Cell \u001b[1;32mIn[45], line 2\u001b[0m\n\u001b[0;32m      1\u001b[0m grid_xg \u001b[38;5;241m=\u001b[39m GridSearchCV(xg_model, param_grid_xg, cv\u001b[38;5;241m=\u001b[39m\u001b[38;5;241m3\u001b[39m, scoring\u001b[38;5;241m=\u001b[39m\u001b[38;5;124m'\u001b[39m\u001b[38;5;124maccuracy\u001b[39m\u001b[38;5;124m'\u001b[39m)\n\u001b[1;32m----> 2\u001b[0m \u001b[43mgrid_xg\u001b[49m\u001b[38;5;241;43m.\u001b[39;49m\u001b[43mfit\u001b[49m\u001b[43m(\u001b[49m\u001b[43mX_train_scaled\u001b[49m\u001b[43m,\u001b[49m\u001b[43m \u001b[49m\u001b[43my_train\u001b[49m\u001b[43m)\u001b[49m\n\u001b[0;32m      4\u001b[0m xg_model \u001b[38;5;241m=\u001b[39m grid_xg\u001b[38;5;241m.\u001b[39mbest_estimator_\n",
      "File \u001b[1;32m~\\AppData\\Local\\Packages\\PythonSoftwareFoundation.Python.3.12_qbz5n2kfra8p0\\LocalCache\\local-packages\\Python312\\site-packages\\sklearn\\base.py:1474\u001b[0m, in \u001b[0;36m_fit_context.<locals>.decorator.<locals>.wrapper\u001b[1;34m(estimator, *args, **kwargs)\u001b[0m\n\u001b[0;32m   1467\u001b[0m     estimator\u001b[38;5;241m.\u001b[39m_validate_params()\n\u001b[0;32m   1469\u001b[0m \u001b[38;5;28;01mwith\u001b[39;00m config_context(\n\u001b[0;32m   1470\u001b[0m     skip_parameter_validation\u001b[38;5;241m=\u001b[39m(\n\u001b[0;32m   1471\u001b[0m         prefer_skip_nested_validation \u001b[38;5;129;01mor\u001b[39;00m global_skip_validation\n\u001b[0;32m   1472\u001b[0m     )\n\u001b[0;32m   1473\u001b[0m ):\n\u001b[1;32m-> 1474\u001b[0m     \u001b[38;5;28;01mreturn\u001b[39;00m \u001b[43mfit_method\u001b[49m\u001b[43m(\u001b[49m\u001b[43mestimator\u001b[49m\u001b[43m,\u001b[49m\u001b[43m \u001b[49m\u001b[38;5;241;43m*\u001b[39;49m\u001b[43margs\u001b[49m\u001b[43m,\u001b[49m\u001b[43m \u001b[49m\u001b[38;5;241;43m*\u001b[39;49m\u001b[38;5;241;43m*\u001b[39;49m\u001b[43mkwargs\u001b[49m\u001b[43m)\u001b[49m\n",
      "File \u001b[1;32m~\\AppData\\Local\\Packages\\PythonSoftwareFoundation.Python.3.12_qbz5n2kfra8p0\\LocalCache\\local-packages\\Python312\\site-packages\\sklearn\\model_selection\\_search.py:970\u001b[0m, in \u001b[0;36mBaseSearchCV.fit\u001b[1;34m(self, X, y, **params)\u001b[0m\n\u001b[0;32m    964\u001b[0m     results \u001b[38;5;241m=\u001b[39m \u001b[38;5;28mself\u001b[39m\u001b[38;5;241m.\u001b[39m_format_results(\n\u001b[0;32m    965\u001b[0m         all_candidate_params, n_splits, all_out, all_more_results\n\u001b[0;32m    966\u001b[0m     )\n\u001b[0;32m    968\u001b[0m     \u001b[38;5;28;01mreturn\u001b[39;00m results\n\u001b[1;32m--> 970\u001b[0m \u001b[38;5;28;43mself\u001b[39;49m\u001b[38;5;241;43m.\u001b[39;49m\u001b[43m_run_search\u001b[49m\u001b[43m(\u001b[49m\u001b[43mevaluate_candidates\u001b[49m\u001b[43m)\u001b[49m\n\u001b[0;32m    972\u001b[0m \u001b[38;5;66;03m# multimetric is determined here because in the case of a callable\u001b[39;00m\n\u001b[0;32m    973\u001b[0m \u001b[38;5;66;03m# self.scoring the return type is only known after calling\u001b[39;00m\n\u001b[0;32m    974\u001b[0m first_test_score \u001b[38;5;241m=\u001b[39m all_out[\u001b[38;5;241m0\u001b[39m][\u001b[38;5;124m\"\u001b[39m\u001b[38;5;124mtest_scores\u001b[39m\u001b[38;5;124m\"\u001b[39m]\n",
      "File \u001b[1;32m~\\AppData\\Local\\Packages\\PythonSoftwareFoundation.Python.3.12_qbz5n2kfra8p0\\LocalCache\\local-packages\\Python312\\site-packages\\sklearn\\model_selection\\_search.py:1527\u001b[0m, in \u001b[0;36mGridSearchCV._run_search\u001b[1;34m(self, evaluate_candidates)\u001b[0m\n\u001b[0;32m   1525\u001b[0m \u001b[38;5;28;01mdef\u001b[39;00m \u001b[38;5;21m_run_search\u001b[39m(\u001b[38;5;28mself\u001b[39m, evaluate_candidates):\n\u001b[0;32m   1526\u001b[0m \u001b[38;5;250m    \u001b[39m\u001b[38;5;124;03m\"\"\"Search all candidates in param_grid\"\"\"\u001b[39;00m\n\u001b[1;32m-> 1527\u001b[0m     \u001b[43mevaluate_candidates\u001b[49m\u001b[43m(\u001b[49m\u001b[43mParameterGrid\u001b[49m\u001b[43m(\u001b[49m\u001b[38;5;28;43mself\u001b[39;49m\u001b[38;5;241;43m.\u001b[39;49m\u001b[43mparam_grid\u001b[49m\u001b[43m)\u001b[49m\u001b[43m)\u001b[49m\n",
      "File \u001b[1;32m~\\AppData\\Local\\Packages\\PythonSoftwareFoundation.Python.3.12_qbz5n2kfra8p0\\LocalCache\\local-packages\\Python312\\site-packages\\sklearn\\model_selection\\_search.py:947\u001b[0m, in \u001b[0;36mBaseSearchCV.fit.<locals>.evaluate_candidates\u001b[1;34m(candidate_params, cv, more_results)\u001b[0m\n\u001b[0;32m    940\u001b[0m \u001b[38;5;28;01melif\u001b[39;00m \u001b[38;5;28mlen\u001b[39m(out) \u001b[38;5;241m!=\u001b[39m n_candidates \u001b[38;5;241m*\u001b[39m n_splits:\n\u001b[0;32m    941\u001b[0m     \u001b[38;5;28;01mraise\u001b[39;00m \u001b[38;5;167;01mValueError\u001b[39;00m(\n\u001b[0;32m    942\u001b[0m         \u001b[38;5;124m\"\u001b[39m\u001b[38;5;124mcv.split and cv.get_n_splits returned \u001b[39m\u001b[38;5;124m\"\u001b[39m\n\u001b[0;32m    943\u001b[0m         \u001b[38;5;124m\"\u001b[39m\u001b[38;5;124minconsistent results. Expected \u001b[39m\u001b[38;5;132;01m{}\u001b[39;00m\u001b[38;5;124m \u001b[39m\u001b[38;5;124m\"\u001b[39m\n\u001b[0;32m    944\u001b[0m         \u001b[38;5;124m\"\u001b[39m\u001b[38;5;124msplits, got \u001b[39m\u001b[38;5;132;01m{}\u001b[39;00m\u001b[38;5;124m\"\u001b[39m\u001b[38;5;241m.\u001b[39mformat(n_splits, \u001b[38;5;28mlen\u001b[39m(out) \u001b[38;5;241m/\u001b[39m\u001b[38;5;241m/\u001b[39m n_candidates)\n\u001b[0;32m    945\u001b[0m     )\n\u001b[1;32m--> 947\u001b[0m \u001b[43m_warn_or_raise_about_fit_failures\u001b[49m\u001b[43m(\u001b[49m\u001b[43mout\u001b[49m\u001b[43m,\u001b[49m\u001b[43m \u001b[49m\u001b[38;5;28;43mself\u001b[39;49m\u001b[38;5;241;43m.\u001b[39;49m\u001b[43merror_score\u001b[49m\u001b[43m)\u001b[49m\n\u001b[0;32m    949\u001b[0m \u001b[38;5;66;03m# For callable self.scoring, the return type is only know after\u001b[39;00m\n\u001b[0;32m    950\u001b[0m \u001b[38;5;66;03m# calling. If the return type is a dictionary, the error scores\u001b[39;00m\n\u001b[0;32m    951\u001b[0m \u001b[38;5;66;03m# can now be inserted with the correct key. The type checking\u001b[39;00m\n\u001b[0;32m    952\u001b[0m \u001b[38;5;66;03m# of out will be done in `_insert_error_scores`.\u001b[39;00m\n\u001b[0;32m    953\u001b[0m \u001b[38;5;28;01mif\u001b[39;00m \u001b[38;5;28mcallable\u001b[39m(\u001b[38;5;28mself\u001b[39m\u001b[38;5;241m.\u001b[39mscoring):\n",
      "File \u001b[1;32m~\\AppData\\Local\\Packages\\PythonSoftwareFoundation.Python.3.12_qbz5n2kfra8p0\\LocalCache\\local-packages\\Python312\\site-packages\\sklearn\\model_selection\\_validation.py:536\u001b[0m, in \u001b[0;36m_warn_or_raise_about_fit_failures\u001b[1;34m(results, error_score)\u001b[0m\n\u001b[0;32m    529\u001b[0m \u001b[38;5;28;01mif\u001b[39;00m num_failed_fits \u001b[38;5;241m==\u001b[39m num_fits:\n\u001b[0;32m    530\u001b[0m     all_fits_failed_message \u001b[38;5;241m=\u001b[39m (\n\u001b[0;32m    531\u001b[0m         \u001b[38;5;124mf\u001b[39m\u001b[38;5;124m\"\u001b[39m\u001b[38;5;130;01m\\n\u001b[39;00m\u001b[38;5;124mAll the \u001b[39m\u001b[38;5;132;01m{\u001b[39;00mnum_fits\u001b[38;5;132;01m}\u001b[39;00m\u001b[38;5;124m fits failed.\u001b[39m\u001b[38;5;130;01m\\n\u001b[39;00m\u001b[38;5;124m\"\u001b[39m\n\u001b[0;32m    532\u001b[0m         \u001b[38;5;124m\"\u001b[39m\u001b[38;5;124mIt is very likely that your model is misconfigured.\u001b[39m\u001b[38;5;130;01m\\n\u001b[39;00m\u001b[38;5;124m\"\u001b[39m\n\u001b[0;32m    533\u001b[0m         \u001b[38;5;124m\"\u001b[39m\u001b[38;5;124mYou can try to debug the error by setting error_score=\u001b[39m\u001b[38;5;124m'\u001b[39m\u001b[38;5;124mraise\u001b[39m\u001b[38;5;124m'\u001b[39m\u001b[38;5;124m.\u001b[39m\u001b[38;5;130;01m\\n\u001b[39;00m\u001b[38;5;130;01m\\n\u001b[39;00m\u001b[38;5;124m\"\u001b[39m\n\u001b[0;32m    534\u001b[0m         \u001b[38;5;124mf\u001b[39m\u001b[38;5;124m\"\u001b[39m\u001b[38;5;124mBelow are more details about the failures:\u001b[39m\u001b[38;5;130;01m\\n\u001b[39;00m\u001b[38;5;132;01m{\u001b[39;00mfit_errors_summary\u001b[38;5;132;01m}\u001b[39;00m\u001b[38;5;124m\"\u001b[39m\n\u001b[0;32m    535\u001b[0m     )\n\u001b[1;32m--> 536\u001b[0m     \u001b[38;5;28;01mraise\u001b[39;00m \u001b[38;5;167;01mValueError\u001b[39;00m(all_fits_failed_message)\n\u001b[0;32m    538\u001b[0m \u001b[38;5;28;01melse\u001b[39;00m:\n\u001b[0;32m    539\u001b[0m     some_fits_failed_message \u001b[38;5;241m=\u001b[39m (\n\u001b[0;32m    540\u001b[0m         \u001b[38;5;124mf\u001b[39m\u001b[38;5;124m\"\u001b[39m\u001b[38;5;130;01m\\n\u001b[39;00m\u001b[38;5;132;01m{\u001b[39;00mnum_failed_fits\u001b[38;5;132;01m}\u001b[39;00m\u001b[38;5;124m fits failed out of a total of \u001b[39m\u001b[38;5;132;01m{\u001b[39;00mnum_fits\u001b[38;5;132;01m}\u001b[39;00m\u001b[38;5;124m.\u001b[39m\u001b[38;5;130;01m\\n\u001b[39;00m\u001b[38;5;124m\"\u001b[39m\n\u001b[0;32m    541\u001b[0m         \u001b[38;5;124m\"\u001b[39m\u001b[38;5;124mThe score on these train-test partitions for these parameters\u001b[39m\u001b[38;5;124m\"\u001b[39m\n\u001b[1;32m   (...)\u001b[0m\n\u001b[0;32m    545\u001b[0m         \u001b[38;5;124mf\u001b[39m\u001b[38;5;124m\"\u001b[39m\u001b[38;5;124mBelow are more details about the failures:\u001b[39m\u001b[38;5;130;01m\\n\u001b[39;00m\u001b[38;5;132;01m{\u001b[39;00mfit_errors_summary\u001b[38;5;132;01m}\u001b[39;00m\u001b[38;5;124m\"\u001b[39m\n\u001b[0;32m    546\u001b[0m     )\n",
      "\u001b[1;31mValueError\u001b[0m: \nAll the 81 fits failed.\nIt is very likely that your model is misconfigured.\nYou can try to debug the error by setting error_score='raise'.\n\nBelow are more details about the failures:\n--------------------------------------------------------------------------------\n81 fits failed with the following error:\nTraceback (most recent call last):\n  File \"C:\\Users\\Fathan\\AppData\\Local\\Packages\\PythonSoftwareFoundation.Python.3.12_qbz5n2kfra8p0\\LocalCache\\local-packages\\Python312\\site-packages\\sklearn\\model_selection\\_validation.py\", line 895, in _fit_and_score\n    estimator.fit(X_train, y_train, **fit_params)\n  File \"C:\\Users\\Fathan\\AppData\\Local\\Packages\\PythonSoftwareFoundation.Python.3.12_qbz5n2kfra8p0\\LocalCache\\local-packages\\Python312\\site-packages\\xgboost\\core.py\", line 726, in inner_f\n    return func(**kwargs)\n           ^^^^^^^^^^^^^^\n  File \"C:\\Users\\Fathan\\AppData\\Local\\Packages\\PythonSoftwareFoundation.Python.3.12_qbz5n2kfra8p0\\LocalCache\\local-packages\\Python312\\site-packages\\xgboost\\sklearn.py\", line 1491, in fit\n    raise ValueError(\nValueError: Invalid classes inferred from unique values of `y`.  Expected: [0 1], got [1 2]\n"
     ]
    }
   ],
   "source": [
    "grid_xg = GridSearchCV(xg_model, param_grid_xg, cv=3, scoring='accuracy')\n",
    "grid_xg.fit(X_train_reshaped, y_train)\n",
    "\n",
    "xg_model = grid_xg.best_estimator_"
   ]
  },
  {
   "cell_type": "markdown",
   "id": "2ea3d059",
   "metadata": {},
   "source": [
    "## Gradient Boosting"
   ]
  },
  {
   "cell_type": "markdown",
   "id": "6c73621a",
   "metadata": {},
   "source": [
    "Inisialisasi\n"
   ]
  },
  {
   "cell_type": "code",
   "execution_count": null,
   "id": "94afc46e",
   "metadata": {},
   "outputs": [],
   "source": [
    "gb_model = GradientBoostingClassifier(random_state=RANDOM_STATE)\n",
    "\n",
    "param_grid_gb = {\n",
    "    'n_estimators': [50, 100, 200],\n",
    "    'learning_rate': [0.01, 0.1, 0.2],\n",
    "    'max_depth': [3, 5, 10]\n",
    "}"
   ]
  },
  {
   "cell_type": "markdown",
   "id": "857fec82",
   "metadata": {},
   "source": [
    "training\n"
   ]
  },
  {
   "cell_type": "code",
   "execution_count": null,
   "id": "c2a43d3e",
   "metadata": {},
   "outputs": [
    {
     "ename": "KeyboardInterrupt",
     "evalue": "",
     "output_type": "error",
     "traceback": [
      "\u001b[1;31m---------------------------------------------------------------------------\u001b[0m",
      "\u001b[1;31mKeyboardInterrupt\u001b[0m                         Traceback (most recent call last)",
      "Cell \u001b[1;32mIn[47], line 2\u001b[0m\n\u001b[0;32m      1\u001b[0m grid_gb \u001b[38;5;241m=\u001b[39m GridSearchCV(gb_model, param_grid_gb, cv\u001b[38;5;241m=\u001b[39m\u001b[38;5;241m3\u001b[39m, scoring\u001b[38;5;241m=\u001b[39m\u001b[38;5;124m'\u001b[39m\u001b[38;5;124maccuracy\u001b[39m\u001b[38;5;124m'\u001b[39m)\n\u001b[1;32m----> 2\u001b[0m \u001b[43mgrid_gb\u001b[49m\u001b[38;5;241;43m.\u001b[39;49m\u001b[43mfit\u001b[49m\u001b[43m(\u001b[49m\u001b[43mX_train_scaled\u001b[49m\u001b[43m,\u001b[49m\u001b[43m \u001b[49m\u001b[43my_train\u001b[49m\u001b[43m)\u001b[49m\n\u001b[0;32m      3\u001b[0m gb_model \u001b[38;5;241m=\u001b[39m grid_gb\u001b[38;5;241m.\u001b[39mbest_estimator_\n",
      "File \u001b[1;32m~\\AppData\\Local\\Packages\\PythonSoftwareFoundation.Python.3.12_qbz5n2kfra8p0\\LocalCache\\local-packages\\Python312\\site-packages\\sklearn\\base.py:1474\u001b[0m, in \u001b[0;36m_fit_context.<locals>.decorator.<locals>.wrapper\u001b[1;34m(estimator, *args, **kwargs)\u001b[0m\n\u001b[0;32m   1467\u001b[0m     estimator\u001b[38;5;241m.\u001b[39m_validate_params()\n\u001b[0;32m   1469\u001b[0m \u001b[38;5;28;01mwith\u001b[39;00m config_context(\n\u001b[0;32m   1470\u001b[0m     skip_parameter_validation\u001b[38;5;241m=\u001b[39m(\n\u001b[0;32m   1471\u001b[0m         prefer_skip_nested_validation \u001b[38;5;129;01mor\u001b[39;00m global_skip_validation\n\u001b[0;32m   1472\u001b[0m     )\n\u001b[0;32m   1473\u001b[0m ):\n\u001b[1;32m-> 1474\u001b[0m     \u001b[38;5;28;01mreturn\u001b[39;00m \u001b[43mfit_method\u001b[49m\u001b[43m(\u001b[49m\u001b[43mestimator\u001b[49m\u001b[43m,\u001b[49m\u001b[43m \u001b[49m\u001b[38;5;241;43m*\u001b[39;49m\u001b[43margs\u001b[49m\u001b[43m,\u001b[49m\u001b[43m \u001b[49m\u001b[38;5;241;43m*\u001b[39;49m\u001b[38;5;241;43m*\u001b[39;49m\u001b[43mkwargs\u001b[49m\u001b[43m)\u001b[49m\n",
      "File \u001b[1;32m~\\AppData\\Local\\Packages\\PythonSoftwareFoundation.Python.3.12_qbz5n2kfra8p0\\LocalCache\\local-packages\\Python312\\site-packages\\sklearn\\model_selection\\_search.py:970\u001b[0m, in \u001b[0;36mBaseSearchCV.fit\u001b[1;34m(self, X, y, **params)\u001b[0m\n\u001b[0;32m    964\u001b[0m     results \u001b[38;5;241m=\u001b[39m \u001b[38;5;28mself\u001b[39m\u001b[38;5;241m.\u001b[39m_format_results(\n\u001b[0;32m    965\u001b[0m         all_candidate_params, n_splits, all_out, all_more_results\n\u001b[0;32m    966\u001b[0m     )\n\u001b[0;32m    968\u001b[0m     \u001b[38;5;28;01mreturn\u001b[39;00m results\n\u001b[1;32m--> 970\u001b[0m \u001b[38;5;28;43mself\u001b[39;49m\u001b[38;5;241;43m.\u001b[39;49m\u001b[43m_run_search\u001b[49m\u001b[43m(\u001b[49m\u001b[43mevaluate_candidates\u001b[49m\u001b[43m)\u001b[49m\n\u001b[0;32m    972\u001b[0m \u001b[38;5;66;03m# multimetric is determined here because in the case of a callable\u001b[39;00m\n\u001b[0;32m    973\u001b[0m \u001b[38;5;66;03m# self.scoring the return type is only known after calling\u001b[39;00m\n\u001b[0;32m    974\u001b[0m first_test_score \u001b[38;5;241m=\u001b[39m all_out[\u001b[38;5;241m0\u001b[39m][\u001b[38;5;124m\"\u001b[39m\u001b[38;5;124mtest_scores\u001b[39m\u001b[38;5;124m\"\u001b[39m]\n",
      "File \u001b[1;32m~\\AppData\\Local\\Packages\\PythonSoftwareFoundation.Python.3.12_qbz5n2kfra8p0\\LocalCache\\local-packages\\Python312\\site-packages\\sklearn\\model_selection\\_search.py:1527\u001b[0m, in \u001b[0;36mGridSearchCV._run_search\u001b[1;34m(self, evaluate_candidates)\u001b[0m\n\u001b[0;32m   1525\u001b[0m \u001b[38;5;28;01mdef\u001b[39;00m \u001b[38;5;21m_run_search\u001b[39m(\u001b[38;5;28mself\u001b[39m, evaluate_candidates):\n\u001b[0;32m   1526\u001b[0m \u001b[38;5;250m    \u001b[39m\u001b[38;5;124;03m\"\"\"Search all candidates in param_grid\"\"\"\u001b[39;00m\n\u001b[1;32m-> 1527\u001b[0m     \u001b[43mevaluate_candidates\u001b[49m\u001b[43m(\u001b[49m\u001b[43mParameterGrid\u001b[49m\u001b[43m(\u001b[49m\u001b[38;5;28;43mself\u001b[39;49m\u001b[38;5;241;43m.\u001b[39;49m\u001b[43mparam_grid\u001b[49m\u001b[43m)\u001b[49m\u001b[43m)\u001b[49m\n",
      "File \u001b[1;32m~\\AppData\\Local\\Packages\\PythonSoftwareFoundation.Python.3.12_qbz5n2kfra8p0\\LocalCache\\local-packages\\Python312\\site-packages\\sklearn\\model_selection\\_search.py:916\u001b[0m, in \u001b[0;36mBaseSearchCV.fit.<locals>.evaluate_candidates\u001b[1;34m(candidate_params, cv, more_results)\u001b[0m\n\u001b[0;32m    908\u001b[0m \u001b[38;5;28;01mif\u001b[39;00m \u001b[38;5;28mself\u001b[39m\u001b[38;5;241m.\u001b[39mverbose \u001b[38;5;241m>\u001b[39m \u001b[38;5;241m0\u001b[39m:\n\u001b[0;32m    909\u001b[0m     \u001b[38;5;28mprint\u001b[39m(\n\u001b[0;32m    910\u001b[0m         \u001b[38;5;124m\"\u001b[39m\u001b[38;5;124mFitting \u001b[39m\u001b[38;5;132;01m{0}\u001b[39;00m\u001b[38;5;124m folds for each of \u001b[39m\u001b[38;5;132;01m{1}\u001b[39;00m\u001b[38;5;124m candidates,\u001b[39m\u001b[38;5;124m\"\u001b[39m\n\u001b[0;32m    911\u001b[0m         \u001b[38;5;124m\"\u001b[39m\u001b[38;5;124m totalling \u001b[39m\u001b[38;5;132;01m{2}\u001b[39;00m\u001b[38;5;124m fits\u001b[39m\u001b[38;5;124m\"\u001b[39m\u001b[38;5;241m.\u001b[39mformat(\n\u001b[0;32m    912\u001b[0m             n_splits, n_candidates, n_candidates \u001b[38;5;241m*\u001b[39m n_splits\n\u001b[0;32m    913\u001b[0m         )\n\u001b[0;32m    914\u001b[0m     )\n\u001b[1;32m--> 916\u001b[0m out \u001b[38;5;241m=\u001b[39m \u001b[43mparallel\u001b[49m\u001b[43m(\u001b[49m\n\u001b[0;32m    917\u001b[0m \u001b[43m    \u001b[49m\u001b[43mdelayed\u001b[49m\u001b[43m(\u001b[49m\u001b[43m_fit_and_score\u001b[49m\u001b[43m)\u001b[49m\u001b[43m(\u001b[49m\n\u001b[0;32m    918\u001b[0m \u001b[43m        \u001b[49m\u001b[43mclone\u001b[49m\u001b[43m(\u001b[49m\u001b[43mbase_estimator\u001b[49m\u001b[43m)\u001b[49m\u001b[43m,\u001b[49m\n\u001b[0;32m    919\u001b[0m \u001b[43m        \u001b[49m\u001b[43mX\u001b[49m\u001b[43m,\u001b[49m\n\u001b[0;32m    920\u001b[0m \u001b[43m        \u001b[49m\u001b[43my\u001b[49m\u001b[43m,\u001b[49m\n\u001b[0;32m    921\u001b[0m \u001b[43m        \u001b[49m\u001b[43mtrain\u001b[49m\u001b[38;5;241;43m=\u001b[39;49m\u001b[43mtrain\u001b[49m\u001b[43m,\u001b[49m\n\u001b[0;32m    922\u001b[0m \u001b[43m        \u001b[49m\u001b[43mtest\u001b[49m\u001b[38;5;241;43m=\u001b[39;49m\u001b[43mtest\u001b[49m\u001b[43m,\u001b[49m\n\u001b[0;32m    923\u001b[0m \u001b[43m        \u001b[49m\u001b[43mparameters\u001b[49m\u001b[38;5;241;43m=\u001b[39;49m\u001b[43mparameters\u001b[49m\u001b[43m,\u001b[49m\n\u001b[0;32m    924\u001b[0m \u001b[43m        \u001b[49m\u001b[43msplit_progress\u001b[49m\u001b[38;5;241;43m=\u001b[39;49m\u001b[43m(\u001b[49m\u001b[43msplit_idx\u001b[49m\u001b[43m,\u001b[49m\u001b[43m \u001b[49m\u001b[43mn_splits\u001b[49m\u001b[43m)\u001b[49m\u001b[43m,\u001b[49m\n\u001b[0;32m    925\u001b[0m \u001b[43m        \u001b[49m\u001b[43mcandidate_progress\u001b[49m\u001b[38;5;241;43m=\u001b[39;49m\u001b[43m(\u001b[49m\u001b[43mcand_idx\u001b[49m\u001b[43m,\u001b[49m\u001b[43m \u001b[49m\u001b[43mn_candidates\u001b[49m\u001b[43m)\u001b[49m\u001b[43m,\u001b[49m\n\u001b[0;32m    926\u001b[0m \u001b[43m        \u001b[49m\u001b[38;5;241;43m*\u001b[39;49m\u001b[38;5;241;43m*\u001b[39;49m\u001b[43mfit_and_score_kwargs\u001b[49m\u001b[43m,\u001b[49m\n\u001b[0;32m    927\u001b[0m \u001b[43m    \u001b[49m\u001b[43m)\u001b[49m\n\u001b[0;32m    928\u001b[0m \u001b[43m    \u001b[49m\u001b[38;5;28;43;01mfor\u001b[39;49;00m\u001b[43m \u001b[49m\u001b[43m(\u001b[49m\u001b[43mcand_idx\u001b[49m\u001b[43m,\u001b[49m\u001b[43m \u001b[49m\u001b[43mparameters\u001b[49m\u001b[43m)\u001b[49m\u001b[43m,\u001b[49m\u001b[43m \u001b[49m\u001b[43m(\u001b[49m\u001b[43msplit_idx\u001b[49m\u001b[43m,\u001b[49m\u001b[43m \u001b[49m\u001b[43m(\u001b[49m\u001b[43mtrain\u001b[49m\u001b[43m,\u001b[49m\u001b[43m \u001b[49m\u001b[43mtest\u001b[49m\u001b[43m)\u001b[49m\u001b[43m)\u001b[49m\u001b[43m \u001b[49m\u001b[38;5;129;43;01min\u001b[39;49;00m\u001b[43m \u001b[49m\u001b[43mproduct\u001b[49m\u001b[43m(\u001b[49m\n\u001b[0;32m    929\u001b[0m \u001b[43m        \u001b[49m\u001b[38;5;28;43menumerate\u001b[39;49m\u001b[43m(\u001b[49m\u001b[43mcandidate_params\u001b[49m\u001b[43m)\u001b[49m\u001b[43m,\u001b[49m\n\u001b[0;32m    930\u001b[0m \u001b[43m        \u001b[49m\u001b[38;5;28;43menumerate\u001b[39;49m\u001b[43m(\u001b[49m\u001b[43mcv\u001b[49m\u001b[38;5;241;43m.\u001b[39;49m\u001b[43msplit\u001b[49m\u001b[43m(\u001b[49m\u001b[43mX\u001b[49m\u001b[43m,\u001b[49m\u001b[43m \u001b[49m\u001b[43my\u001b[49m\u001b[43m,\u001b[49m\u001b[43m \u001b[49m\u001b[38;5;241;43m*\u001b[39;49m\u001b[38;5;241;43m*\u001b[39;49m\u001b[43mrouted_params\u001b[49m\u001b[38;5;241;43m.\u001b[39;49m\u001b[43msplitter\u001b[49m\u001b[38;5;241;43m.\u001b[39;49m\u001b[43msplit\u001b[49m\u001b[43m)\u001b[49m\u001b[43m)\u001b[49m\u001b[43m,\u001b[49m\n\u001b[0;32m    931\u001b[0m \u001b[43m    \u001b[49m\u001b[43m)\u001b[49m\n\u001b[0;32m    932\u001b[0m \u001b[43m\u001b[49m\u001b[43m)\u001b[49m\n\u001b[0;32m    934\u001b[0m \u001b[38;5;28;01mif\u001b[39;00m \u001b[38;5;28mlen\u001b[39m(out) \u001b[38;5;241m<\u001b[39m \u001b[38;5;241m1\u001b[39m:\n\u001b[0;32m    935\u001b[0m     \u001b[38;5;28;01mraise\u001b[39;00m \u001b[38;5;167;01mValueError\u001b[39;00m(\n\u001b[0;32m    936\u001b[0m         \u001b[38;5;124m\"\u001b[39m\u001b[38;5;124mNo fits were performed. \u001b[39m\u001b[38;5;124m\"\u001b[39m\n\u001b[0;32m    937\u001b[0m         \u001b[38;5;124m\"\u001b[39m\u001b[38;5;124mWas the CV iterator empty? \u001b[39m\u001b[38;5;124m\"\u001b[39m\n\u001b[0;32m    938\u001b[0m         \u001b[38;5;124m\"\u001b[39m\u001b[38;5;124mWere there no candidates?\u001b[39m\u001b[38;5;124m\"\u001b[39m\n\u001b[0;32m    939\u001b[0m     )\n",
      "File \u001b[1;32m~\\AppData\\Local\\Packages\\PythonSoftwareFoundation.Python.3.12_qbz5n2kfra8p0\\LocalCache\\local-packages\\Python312\\site-packages\\sklearn\\utils\\parallel.py:67\u001b[0m, in \u001b[0;36mParallel.__call__\u001b[1;34m(self, iterable)\u001b[0m\n\u001b[0;32m     62\u001b[0m config \u001b[38;5;241m=\u001b[39m get_config()\n\u001b[0;32m     63\u001b[0m iterable_with_config \u001b[38;5;241m=\u001b[39m (\n\u001b[0;32m     64\u001b[0m     (_with_config(delayed_func, config), args, kwargs)\n\u001b[0;32m     65\u001b[0m     \u001b[38;5;28;01mfor\u001b[39;00m delayed_func, args, kwargs \u001b[38;5;129;01min\u001b[39;00m iterable\n\u001b[0;32m     66\u001b[0m )\n\u001b[1;32m---> 67\u001b[0m \u001b[38;5;28;01mreturn\u001b[39;00m \u001b[38;5;28;43msuper\u001b[39;49m\u001b[43m(\u001b[49m\u001b[43m)\u001b[49m\u001b[38;5;241;43m.\u001b[39;49m\u001b[38;5;21;43m__call__\u001b[39;49m\u001b[43m(\u001b[49m\u001b[43miterable_with_config\u001b[49m\u001b[43m)\u001b[49m\n",
      "File \u001b[1;32m~\\AppData\\Local\\Packages\\PythonSoftwareFoundation.Python.3.12_qbz5n2kfra8p0\\LocalCache\\local-packages\\Python312\\site-packages\\joblib\\parallel.py:1863\u001b[0m, in \u001b[0;36mParallel.__call__\u001b[1;34m(self, iterable)\u001b[0m\n\u001b[0;32m   1861\u001b[0m     output \u001b[38;5;241m=\u001b[39m \u001b[38;5;28mself\u001b[39m\u001b[38;5;241m.\u001b[39m_get_sequential_output(iterable)\n\u001b[0;32m   1862\u001b[0m     \u001b[38;5;28mnext\u001b[39m(output)\n\u001b[1;32m-> 1863\u001b[0m     \u001b[38;5;28;01mreturn\u001b[39;00m output \u001b[38;5;28;01mif\u001b[39;00m \u001b[38;5;28mself\u001b[39m\u001b[38;5;241m.\u001b[39mreturn_generator \u001b[38;5;28;01melse\u001b[39;00m \u001b[38;5;28;43mlist\u001b[39;49m\u001b[43m(\u001b[49m\u001b[43moutput\u001b[49m\u001b[43m)\u001b[49m\n\u001b[0;32m   1865\u001b[0m \u001b[38;5;66;03m# Let's create an ID that uniquely identifies the current call. If the\u001b[39;00m\n\u001b[0;32m   1866\u001b[0m \u001b[38;5;66;03m# call is interrupted early and that the same instance is immediately\u001b[39;00m\n\u001b[0;32m   1867\u001b[0m \u001b[38;5;66;03m# re-used, this id will be used to prevent workers that were\u001b[39;00m\n\u001b[0;32m   1868\u001b[0m \u001b[38;5;66;03m# concurrently finalizing a task from the previous call to run the\u001b[39;00m\n\u001b[0;32m   1869\u001b[0m \u001b[38;5;66;03m# callback.\u001b[39;00m\n\u001b[0;32m   1870\u001b[0m \u001b[38;5;28;01mwith\u001b[39;00m \u001b[38;5;28mself\u001b[39m\u001b[38;5;241m.\u001b[39m_lock:\n",
      "File \u001b[1;32m~\\AppData\\Local\\Packages\\PythonSoftwareFoundation.Python.3.12_qbz5n2kfra8p0\\LocalCache\\local-packages\\Python312\\site-packages\\joblib\\parallel.py:1792\u001b[0m, in \u001b[0;36mParallel._get_sequential_output\u001b[1;34m(self, iterable)\u001b[0m\n\u001b[0;32m   1790\u001b[0m \u001b[38;5;28mself\u001b[39m\u001b[38;5;241m.\u001b[39mn_dispatched_batches \u001b[38;5;241m+\u001b[39m\u001b[38;5;241m=\u001b[39m \u001b[38;5;241m1\u001b[39m\n\u001b[0;32m   1791\u001b[0m \u001b[38;5;28mself\u001b[39m\u001b[38;5;241m.\u001b[39mn_dispatched_tasks \u001b[38;5;241m+\u001b[39m\u001b[38;5;241m=\u001b[39m \u001b[38;5;241m1\u001b[39m\n\u001b[1;32m-> 1792\u001b[0m res \u001b[38;5;241m=\u001b[39m \u001b[43mfunc\u001b[49m\u001b[43m(\u001b[49m\u001b[38;5;241;43m*\u001b[39;49m\u001b[43margs\u001b[49m\u001b[43m,\u001b[49m\u001b[43m \u001b[49m\u001b[38;5;241;43m*\u001b[39;49m\u001b[38;5;241;43m*\u001b[39;49m\u001b[43mkwargs\u001b[49m\u001b[43m)\u001b[49m\n\u001b[0;32m   1793\u001b[0m \u001b[38;5;28mself\u001b[39m\u001b[38;5;241m.\u001b[39mn_completed_tasks \u001b[38;5;241m+\u001b[39m\u001b[38;5;241m=\u001b[39m \u001b[38;5;241m1\u001b[39m\n\u001b[0;32m   1794\u001b[0m \u001b[38;5;28mself\u001b[39m\u001b[38;5;241m.\u001b[39mprint_progress()\n",
      "File \u001b[1;32m~\\AppData\\Local\\Packages\\PythonSoftwareFoundation.Python.3.12_qbz5n2kfra8p0\\LocalCache\\local-packages\\Python312\\site-packages\\sklearn\\utils\\parallel.py:129\u001b[0m, in \u001b[0;36m_FuncWrapper.__call__\u001b[1;34m(self, *args, **kwargs)\u001b[0m\n\u001b[0;32m    127\u001b[0m     config \u001b[38;5;241m=\u001b[39m {}\n\u001b[0;32m    128\u001b[0m \u001b[38;5;28;01mwith\u001b[39;00m config_context(\u001b[38;5;241m*\u001b[39m\u001b[38;5;241m*\u001b[39mconfig):\n\u001b[1;32m--> 129\u001b[0m     \u001b[38;5;28;01mreturn\u001b[39;00m \u001b[38;5;28;43mself\u001b[39;49m\u001b[38;5;241;43m.\u001b[39;49m\u001b[43mfunction\u001b[49m\u001b[43m(\u001b[49m\u001b[38;5;241;43m*\u001b[39;49m\u001b[43margs\u001b[49m\u001b[43m,\u001b[49m\u001b[43m \u001b[49m\u001b[38;5;241;43m*\u001b[39;49m\u001b[38;5;241;43m*\u001b[39;49m\u001b[43mkwargs\u001b[49m\u001b[43m)\u001b[49m\n",
      "File \u001b[1;32m~\\AppData\\Local\\Packages\\PythonSoftwareFoundation.Python.3.12_qbz5n2kfra8p0\\LocalCache\\local-packages\\Python312\\site-packages\\sklearn\\model_selection\\_validation.py:895\u001b[0m, in \u001b[0;36m_fit_and_score\u001b[1;34m(estimator, X, y, scorer, train, test, verbose, parameters, fit_params, score_params, return_train_score, return_parameters, return_n_test_samples, return_times, return_estimator, split_progress, candidate_progress, error_score)\u001b[0m\n\u001b[0;32m    893\u001b[0m         estimator\u001b[38;5;241m.\u001b[39mfit(X_train, \u001b[38;5;241m*\u001b[39m\u001b[38;5;241m*\u001b[39mfit_params)\n\u001b[0;32m    894\u001b[0m     \u001b[38;5;28;01melse\u001b[39;00m:\n\u001b[1;32m--> 895\u001b[0m         \u001b[43mestimator\u001b[49m\u001b[38;5;241;43m.\u001b[39;49m\u001b[43mfit\u001b[49m\u001b[43m(\u001b[49m\u001b[43mX_train\u001b[49m\u001b[43m,\u001b[49m\u001b[43m \u001b[49m\u001b[43my_train\u001b[49m\u001b[43m,\u001b[49m\u001b[43m \u001b[49m\u001b[38;5;241;43m*\u001b[39;49m\u001b[38;5;241;43m*\u001b[39;49m\u001b[43mfit_params\u001b[49m\u001b[43m)\u001b[49m\n\u001b[0;32m    897\u001b[0m \u001b[38;5;28;01mexcept\u001b[39;00m \u001b[38;5;167;01mException\u001b[39;00m:\n\u001b[0;32m    898\u001b[0m     \u001b[38;5;66;03m# Note fit time as time until error\u001b[39;00m\n\u001b[0;32m    899\u001b[0m     fit_time \u001b[38;5;241m=\u001b[39m time\u001b[38;5;241m.\u001b[39mtime() \u001b[38;5;241m-\u001b[39m start_time\n",
      "File \u001b[1;32m~\\AppData\\Local\\Packages\\PythonSoftwareFoundation.Python.3.12_qbz5n2kfra8p0\\LocalCache\\local-packages\\Python312\\site-packages\\sklearn\\base.py:1474\u001b[0m, in \u001b[0;36m_fit_context.<locals>.decorator.<locals>.wrapper\u001b[1;34m(estimator, *args, **kwargs)\u001b[0m\n\u001b[0;32m   1467\u001b[0m     estimator\u001b[38;5;241m.\u001b[39m_validate_params()\n\u001b[0;32m   1469\u001b[0m \u001b[38;5;28;01mwith\u001b[39;00m config_context(\n\u001b[0;32m   1470\u001b[0m     skip_parameter_validation\u001b[38;5;241m=\u001b[39m(\n\u001b[0;32m   1471\u001b[0m         prefer_skip_nested_validation \u001b[38;5;129;01mor\u001b[39;00m global_skip_validation\n\u001b[0;32m   1472\u001b[0m     )\n\u001b[0;32m   1473\u001b[0m ):\n\u001b[1;32m-> 1474\u001b[0m     \u001b[38;5;28;01mreturn\u001b[39;00m \u001b[43mfit_method\u001b[49m\u001b[43m(\u001b[49m\u001b[43mestimator\u001b[49m\u001b[43m,\u001b[49m\u001b[43m \u001b[49m\u001b[38;5;241;43m*\u001b[39;49m\u001b[43margs\u001b[49m\u001b[43m,\u001b[49m\u001b[43m \u001b[49m\u001b[38;5;241;43m*\u001b[39;49m\u001b[38;5;241;43m*\u001b[39;49m\u001b[43mkwargs\u001b[49m\u001b[43m)\u001b[49m\n",
      "File \u001b[1;32m~\\AppData\\Local\\Packages\\PythonSoftwareFoundation.Python.3.12_qbz5n2kfra8p0\\LocalCache\\local-packages\\Python312\\site-packages\\sklearn\\ensemble\\_gb.py:784\u001b[0m, in \u001b[0;36mBaseGradientBoosting.fit\u001b[1;34m(self, X, y, sample_weight, monitor)\u001b[0m\n\u001b[0;32m    781\u001b[0m     \u001b[38;5;28mself\u001b[39m\u001b[38;5;241m.\u001b[39m_resize_state()\n\u001b[0;32m    783\u001b[0m \u001b[38;5;66;03m# fit the boosting stages\u001b[39;00m\n\u001b[1;32m--> 784\u001b[0m n_stages \u001b[38;5;241m=\u001b[39m \u001b[38;5;28;43mself\u001b[39;49m\u001b[38;5;241;43m.\u001b[39;49m\u001b[43m_fit_stages\u001b[49m\u001b[43m(\u001b[49m\n\u001b[0;32m    785\u001b[0m \u001b[43m    \u001b[49m\u001b[43mX_train\u001b[49m\u001b[43m,\u001b[49m\n\u001b[0;32m    786\u001b[0m \u001b[43m    \u001b[49m\u001b[43my_train\u001b[49m\u001b[43m,\u001b[49m\n\u001b[0;32m    787\u001b[0m \u001b[43m    \u001b[49m\u001b[43mraw_predictions\u001b[49m\u001b[43m,\u001b[49m\n\u001b[0;32m    788\u001b[0m \u001b[43m    \u001b[49m\u001b[43msample_weight_train\u001b[49m\u001b[43m,\u001b[49m\n\u001b[0;32m    789\u001b[0m \u001b[43m    \u001b[49m\u001b[38;5;28;43mself\u001b[39;49m\u001b[38;5;241;43m.\u001b[39;49m\u001b[43m_rng\u001b[49m\u001b[43m,\u001b[49m\n\u001b[0;32m    790\u001b[0m \u001b[43m    \u001b[49m\u001b[43mX_val\u001b[49m\u001b[43m,\u001b[49m\n\u001b[0;32m    791\u001b[0m \u001b[43m    \u001b[49m\u001b[43my_val\u001b[49m\u001b[43m,\u001b[49m\n\u001b[0;32m    792\u001b[0m \u001b[43m    \u001b[49m\u001b[43msample_weight_val\u001b[49m\u001b[43m,\u001b[49m\n\u001b[0;32m    793\u001b[0m \u001b[43m    \u001b[49m\u001b[43mbegin_at_stage\u001b[49m\u001b[43m,\u001b[49m\n\u001b[0;32m    794\u001b[0m \u001b[43m    \u001b[49m\u001b[43mmonitor\u001b[49m\u001b[43m,\u001b[49m\n\u001b[0;32m    795\u001b[0m \u001b[43m\u001b[49m\u001b[43m)\u001b[49m\n\u001b[0;32m    797\u001b[0m \u001b[38;5;66;03m# change shape of arrays after fit (early-stopping or additional ests)\u001b[39;00m\n\u001b[0;32m    798\u001b[0m \u001b[38;5;28;01mif\u001b[39;00m n_stages \u001b[38;5;241m!=\u001b[39m \u001b[38;5;28mself\u001b[39m\u001b[38;5;241m.\u001b[39mestimators_\u001b[38;5;241m.\u001b[39mshape[\u001b[38;5;241m0\u001b[39m]:\n",
      "File \u001b[1;32m~\\AppData\\Local\\Packages\\PythonSoftwareFoundation.Python.3.12_qbz5n2kfra8p0\\LocalCache\\local-packages\\Python312\\site-packages\\sklearn\\ensemble\\_gb.py:880\u001b[0m, in \u001b[0;36mBaseGradientBoosting._fit_stages\u001b[1;34m(self, X, y, raw_predictions, sample_weight, random_state, X_val, y_val, sample_weight_val, begin_at_stage, monitor)\u001b[0m\n\u001b[0;32m    873\u001b[0m         initial_loss \u001b[38;5;241m=\u001b[39m factor \u001b[38;5;241m*\u001b[39m \u001b[38;5;28mself\u001b[39m\u001b[38;5;241m.\u001b[39m_loss(\n\u001b[0;32m    874\u001b[0m             y_true\u001b[38;5;241m=\u001b[39my_oob_masked,\n\u001b[0;32m    875\u001b[0m             raw_prediction\u001b[38;5;241m=\u001b[39mraw_predictions[\u001b[38;5;241m~\u001b[39msample_mask],\n\u001b[0;32m    876\u001b[0m             sample_weight\u001b[38;5;241m=\u001b[39msample_weight_oob_masked,\n\u001b[0;32m    877\u001b[0m         )\n\u001b[0;32m    879\u001b[0m \u001b[38;5;66;03m# fit next stage of trees\u001b[39;00m\n\u001b[1;32m--> 880\u001b[0m raw_predictions \u001b[38;5;241m=\u001b[39m \u001b[38;5;28;43mself\u001b[39;49m\u001b[38;5;241;43m.\u001b[39;49m\u001b[43m_fit_stage\u001b[49m\u001b[43m(\u001b[49m\n\u001b[0;32m    881\u001b[0m \u001b[43m    \u001b[49m\u001b[43mi\u001b[49m\u001b[43m,\u001b[49m\n\u001b[0;32m    882\u001b[0m \u001b[43m    \u001b[49m\u001b[43mX\u001b[49m\u001b[43m,\u001b[49m\n\u001b[0;32m    883\u001b[0m \u001b[43m    \u001b[49m\u001b[43my\u001b[49m\u001b[43m,\u001b[49m\n\u001b[0;32m    884\u001b[0m \u001b[43m    \u001b[49m\u001b[43mraw_predictions\u001b[49m\u001b[43m,\u001b[49m\n\u001b[0;32m    885\u001b[0m \u001b[43m    \u001b[49m\u001b[43msample_weight\u001b[49m\u001b[43m,\u001b[49m\n\u001b[0;32m    886\u001b[0m \u001b[43m    \u001b[49m\u001b[43msample_mask\u001b[49m\u001b[43m,\u001b[49m\n\u001b[0;32m    887\u001b[0m \u001b[43m    \u001b[49m\u001b[43mrandom_state\u001b[49m\u001b[43m,\u001b[49m\n\u001b[0;32m    888\u001b[0m \u001b[43m    \u001b[49m\u001b[43mX_csc\u001b[49m\u001b[38;5;241;43m=\u001b[39;49m\u001b[43mX_csc\u001b[49m\u001b[43m,\u001b[49m\n\u001b[0;32m    889\u001b[0m \u001b[43m    \u001b[49m\u001b[43mX_csr\u001b[49m\u001b[38;5;241;43m=\u001b[39;49m\u001b[43mX_csr\u001b[49m\u001b[43m,\u001b[49m\n\u001b[0;32m    890\u001b[0m \u001b[43m\u001b[49m\u001b[43m)\u001b[49m\n\u001b[0;32m    892\u001b[0m \u001b[38;5;66;03m# track loss\u001b[39;00m\n\u001b[0;32m    893\u001b[0m \u001b[38;5;28;01mif\u001b[39;00m do_oob:\n",
      "File \u001b[1;32m~\\AppData\\Local\\Packages\\PythonSoftwareFoundation.Python.3.12_qbz5n2kfra8p0\\LocalCache\\local-packages\\Python312\\site-packages\\sklearn\\ensemble\\_gb.py:490\u001b[0m, in \u001b[0;36mBaseGradientBoosting._fit_stage\u001b[1;34m(self, i, X, y, raw_predictions, sample_weight, sample_mask, random_state, X_csc, X_csr)\u001b[0m\n\u001b[0;32m    487\u001b[0m     sample_weight \u001b[38;5;241m=\u001b[39m sample_weight \u001b[38;5;241m*\u001b[39m sample_mask\u001b[38;5;241m.\u001b[39mastype(np\u001b[38;5;241m.\u001b[39mfloat64)\n\u001b[0;32m    489\u001b[0m X \u001b[38;5;241m=\u001b[39m X_csc \u001b[38;5;28;01mif\u001b[39;00m X_csc \u001b[38;5;129;01mis\u001b[39;00m \u001b[38;5;129;01mnot\u001b[39;00m \u001b[38;5;28;01mNone\u001b[39;00m \u001b[38;5;28;01melse\u001b[39;00m X\n\u001b[1;32m--> 490\u001b[0m \u001b[43mtree\u001b[49m\u001b[38;5;241;43m.\u001b[39;49m\u001b[43mfit\u001b[49m\u001b[43m(\u001b[49m\n\u001b[0;32m    491\u001b[0m \u001b[43m    \u001b[49m\u001b[43mX\u001b[49m\u001b[43m,\u001b[49m\u001b[43m \u001b[49m\u001b[43mneg_g_view\u001b[49m\u001b[43m[\u001b[49m\u001b[43m:\u001b[49m\u001b[43m,\u001b[49m\u001b[43m \u001b[49m\u001b[43mk\u001b[49m\u001b[43m]\u001b[49m\u001b[43m,\u001b[49m\u001b[43m \u001b[49m\u001b[43msample_weight\u001b[49m\u001b[38;5;241;43m=\u001b[39;49m\u001b[43msample_weight\u001b[49m\u001b[43m,\u001b[49m\u001b[43m \u001b[49m\u001b[43mcheck_input\u001b[49m\u001b[38;5;241;43m=\u001b[39;49m\u001b[38;5;28;43;01mFalse\u001b[39;49;00m\n\u001b[0;32m    492\u001b[0m \u001b[43m\u001b[49m\u001b[43m)\u001b[49m\n\u001b[0;32m    494\u001b[0m \u001b[38;5;66;03m# update tree leaves\u001b[39;00m\n\u001b[0;32m    495\u001b[0m X_for_tree_update \u001b[38;5;241m=\u001b[39m X_csr \u001b[38;5;28;01mif\u001b[39;00m X_csr \u001b[38;5;129;01mis\u001b[39;00m \u001b[38;5;129;01mnot\u001b[39;00m \u001b[38;5;28;01mNone\u001b[39;00m \u001b[38;5;28;01melse\u001b[39;00m X\n",
      "File \u001b[1;32m~\\AppData\\Local\\Packages\\PythonSoftwareFoundation.Python.3.12_qbz5n2kfra8p0\\LocalCache\\local-packages\\Python312\\site-packages\\sklearn\\base.py:1474\u001b[0m, in \u001b[0;36m_fit_context.<locals>.decorator.<locals>.wrapper\u001b[1;34m(estimator, *args, **kwargs)\u001b[0m\n\u001b[0;32m   1467\u001b[0m     estimator\u001b[38;5;241m.\u001b[39m_validate_params()\n\u001b[0;32m   1469\u001b[0m \u001b[38;5;28;01mwith\u001b[39;00m config_context(\n\u001b[0;32m   1470\u001b[0m     skip_parameter_validation\u001b[38;5;241m=\u001b[39m(\n\u001b[0;32m   1471\u001b[0m         prefer_skip_nested_validation \u001b[38;5;129;01mor\u001b[39;00m global_skip_validation\n\u001b[0;32m   1472\u001b[0m     )\n\u001b[0;32m   1473\u001b[0m ):\n\u001b[1;32m-> 1474\u001b[0m     \u001b[38;5;28;01mreturn\u001b[39;00m \u001b[43mfit_method\u001b[49m\u001b[43m(\u001b[49m\u001b[43mestimator\u001b[49m\u001b[43m,\u001b[49m\u001b[43m \u001b[49m\u001b[38;5;241;43m*\u001b[39;49m\u001b[43margs\u001b[49m\u001b[43m,\u001b[49m\u001b[43m \u001b[49m\u001b[38;5;241;43m*\u001b[39;49m\u001b[38;5;241;43m*\u001b[39;49m\u001b[43mkwargs\u001b[49m\u001b[43m)\u001b[49m\n",
      "File \u001b[1;32m~\\AppData\\Local\\Packages\\PythonSoftwareFoundation.Python.3.12_qbz5n2kfra8p0\\LocalCache\\local-packages\\Python312\\site-packages\\sklearn\\tree\\_classes.py:1377\u001b[0m, in \u001b[0;36mDecisionTreeRegressor.fit\u001b[1;34m(self, X, y, sample_weight, check_input)\u001b[0m\n\u001b[0;32m   1347\u001b[0m \u001b[38;5;129m@_fit_context\u001b[39m(prefer_skip_nested_validation\u001b[38;5;241m=\u001b[39m\u001b[38;5;28;01mTrue\u001b[39;00m)\n\u001b[0;32m   1348\u001b[0m \u001b[38;5;28;01mdef\u001b[39;00m \u001b[38;5;21mfit\u001b[39m(\u001b[38;5;28mself\u001b[39m, X, y, sample_weight\u001b[38;5;241m=\u001b[39m\u001b[38;5;28;01mNone\u001b[39;00m, check_input\u001b[38;5;241m=\u001b[39m\u001b[38;5;28;01mTrue\u001b[39;00m):\n\u001b[0;32m   1349\u001b[0m \u001b[38;5;250m    \u001b[39m\u001b[38;5;124;03m\"\"\"Build a decision tree regressor from the training set (X, y).\u001b[39;00m\n\u001b[0;32m   1350\u001b[0m \n\u001b[0;32m   1351\u001b[0m \u001b[38;5;124;03m    Parameters\u001b[39;00m\n\u001b[1;32m   (...)\u001b[0m\n\u001b[0;32m   1374\u001b[0m \u001b[38;5;124;03m        Fitted estimator.\u001b[39;00m\n\u001b[0;32m   1375\u001b[0m \u001b[38;5;124;03m    \"\"\"\u001b[39;00m\n\u001b[1;32m-> 1377\u001b[0m     \u001b[38;5;28;43msuper\u001b[39;49m\u001b[43m(\u001b[49m\u001b[43m)\u001b[49m\u001b[38;5;241;43m.\u001b[39;49m\u001b[43m_fit\u001b[49m\u001b[43m(\u001b[49m\n\u001b[0;32m   1378\u001b[0m \u001b[43m        \u001b[49m\u001b[43mX\u001b[49m\u001b[43m,\u001b[49m\n\u001b[0;32m   1379\u001b[0m \u001b[43m        \u001b[49m\u001b[43my\u001b[49m\u001b[43m,\u001b[49m\n\u001b[0;32m   1380\u001b[0m \u001b[43m        \u001b[49m\u001b[43msample_weight\u001b[49m\u001b[38;5;241;43m=\u001b[39;49m\u001b[43msample_weight\u001b[49m\u001b[43m,\u001b[49m\n\u001b[0;32m   1381\u001b[0m \u001b[43m        \u001b[49m\u001b[43mcheck_input\u001b[49m\u001b[38;5;241;43m=\u001b[39;49m\u001b[43mcheck_input\u001b[49m\u001b[43m,\u001b[49m\n\u001b[0;32m   1382\u001b[0m \u001b[43m    \u001b[49m\u001b[43m)\u001b[49m\n\u001b[0;32m   1383\u001b[0m     \u001b[38;5;28;01mreturn\u001b[39;00m \u001b[38;5;28mself\u001b[39m\n",
      "File \u001b[1;32m~\\AppData\\Local\\Packages\\PythonSoftwareFoundation.Python.3.12_qbz5n2kfra8p0\\LocalCache\\local-packages\\Python312\\site-packages\\sklearn\\tree\\_classes.py:472\u001b[0m, in \u001b[0;36mBaseDecisionTree._fit\u001b[1;34m(self, X, y, sample_weight, check_input, missing_values_in_feature_mask)\u001b[0m\n\u001b[0;32m    461\u001b[0m \u001b[38;5;28;01melse\u001b[39;00m:\n\u001b[0;32m    462\u001b[0m     builder \u001b[38;5;241m=\u001b[39m BestFirstTreeBuilder(\n\u001b[0;32m    463\u001b[0m         splitter,\n\u001b[0;32m    464\u001b[0m         min_samples_split,\n\u001b[1;32m   (...)\u001b[0m\n\u001b[0;32m    469\u001b[0m         \u001b[38;5;28mself\u001b[39m\u001b[38;5;241m.\u001b[39mmin_impurity_decrease,\n\u001b[0;32m    470\u001b[0m     )\n\u001b[1;32m--> 472\u001b[0m \u001b[43mbuilder\u001b[49m\u001b[38;5;241;43m.\u001b[39;49m\u001b[43mbuild\u001b[49m\u001b[43m(\u001b[49m\u001b[38;5;28;43mself\u001b[39;49m\u001b[38;5;241;43m.\u001b[39;49m\u001b[43mtree_\u001b[49m\u001b[43m,\u001b[49m\u001b[43m \u001b[49m\u001b[43mX\u001b[49m\u001b[43m,\u001b[49m\u001b[43m \u001b[49m\u001b[43my\u001b[49m\u001b[43m,\u001b[49m\u001b[43m \u001b[49m\u001b[43msample_weight\u001b[49m\u001b[43m,\u001b[49m\u001b[43m \u001b[49m\u001b[43mmissing_values_in_feature_mask\u001b[49m\u001b[43m)\u001b[49m\n\u001b[0;32m    474\u001b[0m \u001b[38;5;28;01mif\u001b[39;00m \u001b[38;5;28mself\u001b[39m\u001b[38;5;241m.\u001b[39mn_outputs_ \u001b[38;5;241m==\u001b[39m \u001b[38;5;241m1\u001b[39m \u001b[38;5;129;01mand\u001b[39;00m is_classifier(\u001b[38;5;28mself\u001b[39m):\n\u001b[0;32m    475\u001b[0m     \u001b[38;5;28mself\u001b[39m\u001b[38;5;241m.\u001b[39mn_classes_ \u001b[38;5;241m=\u001b[39m \u001b[38;5;28mself\u001b[39m\u001b[38;5;241m.\u001b[39mn_classes_[\u001b[38;5;241m0\u001b[39m]\n",
      "\u001b[1;31mKeyboardInterrupt\u001b[0m: "
     ]
    }
   ],
   "source": [
    "grid_gb = GridSearchCV(gb_model, param_grid_gb, cv=3, scoring='accuracy')\n",
    "grid_gb.fit(X_train_reshaped, y_train)\n",
    "gb_model = grid_gb.best_estimator_"
   ]
  },
  {
   "cell_type": "markdown",
   "id": "5c8e264b",
   "metadata": {},
   "source": [
    "## Logistic Regression"
   ]
  },
  {
   "cell_type": "markdown",
   "id": "91692015",
   "metadata": {},
   "source": [
    "Inisialisasi\n"
   ]
  },
  {
   "cell_type": "code",
   "execution_count": null,
   "id": "cae803bd",
   "metadata": {},
   "outputs": [],
   "source": [
    "lr_model = LogisticRegression(random_state=RANDOM_STATE, max_iter=1000)\n",
    "\n",
    "param_grid_lr = {\n",
    "    'C': [0.01, 0.1, 1, 10],\n",
    "    'solver': ['liblinear', 'lbfgs']\n",
    "}\n"
   ]
  },
  {
   "cell_type": "markdown",
   "id": "568f6210",
   "metadata": {},
   "source": [
    "training\n"
   ]
  },
  {
   "cell_type": "code",
   "execution_count": null,
   "id": "10059c3f",
   "metadata": {},
   "outputs": [],
   "source": [
    "grid_lr = GridSearchCV(lr_model, param_grid_lr, cv=3, scoring='accuracy')\n",
    "grid_lr.fit(X_train_reshaped, y_train)\n",
    "\n",
    "lr_model = grid_lr.best_estimator_"
   ]
  },
  {
   "cell_type": "markdown",
   "id": "a85f1224",
   "metadata": {},
   "source": [
    "## K-Nearest Neighbors"
   ]
  },
  {
   "cell_type": "markdown",
   "id": "5eb98893",
   "metadata": {},
   "source": [
    "Inisialisasi\n"
   ]
  },
  {
   "cell_type": "code",
   "execution_count": null,
   "id": "8f83686e",
   "metadata": {},
   "outputs": [],
   "source": [
    "knn_model = KNeighborsClassifier()\n",
    "param_grid_knn = {\n",
    "    'n_neighbors': [3, 5, 7, 9],\n",
    "    'weights': ['uniform', 'distance']\n",
    "}"
   ]
  },
  {
   "cell_type": "markdown",
   "id": "79fe61aa",
   "metadata": {},
   "source": [
    "training\n"
   ]
  },
  {
   "cell_type": "code",
   "execution_count": null,
   "id": "2f7d26f1",
   "metadata": {},
   "outputs": [],
   "source": [
    "grid_knn = GridSearchCV(knn_model, param_grid_knn, cv=3, scoring='accuracy')\n",
    "grid_knn.fit(X_train_reshaped, y_train)\n",
    "knn_model = grid_knn.best_estimator_"
   ]
  },
  {
   "cell_type": "markdown",
   "id": "82ba82cb",
   "metadata": {},
   "source": [
    "## Support Vector Machine (SVM)"
   ]
  },
  {
   "cell_type": "markdown",
   "id": "0d96b54d",
   "metadata": {},
   "source": [
    "Inisialisasi\n"
   ]
  },
  {
   "cell_type": "code",
   "execution_count": null,
   "id": "c53e17d8",
   "metadata": {},
   "outputs": [],
   "source": [
    "svm_model = SVC(random_state=RANDOM_STATE)\n",
    "\n",
    "param_grid_svm = {\n",
    "    'C': [0.1, 1, 10],\n",
    "    'kernel': ['linear', 'rbf'],\n",
    "    'gamma': ['scale', 'auto']\n",
    "}"
   ]
  },
  {
   "cell_type": "markdown",
   "id": "4e77c1d1",
   "metadata": {},
   "source": [
    "training\n"
   ]
  },
  {
   "cell_type": "code",
   "execution_count": null,
   "id": "bb3c1169",
   "metadata": {},
   "outputs": [],
   "source": [
    "grid_svm = GridSearchCV(svm_model, param_grid_svm, cv=3, scoring='accuracy')\n",
    "grid_svm.fit(X_train_reshaped, y_train)\n",
    "svm_model = grid_svm.best_estimator_"
   ]
  },
  {
   "cell_type": "markdown",
   "id": "35274984",
   "metadata": {},
   "source": [
    "# Conformer\n"
   ]
  },
  {
   "cell_type": "markdown",
   "id": "ea05e1da",
   "metadata": {},
   "source": [
    "Inisialisasi\n"
   ]
  },
  {
   "cell_type": "code",
   "execution_count": null,
   "id": "490225f1",
   "metadata": {},
   "outputs": [],
   "source": [
    "# config = ConformerConfig(\n",
    "#     hidden_size=144,\n",
    "#     num_attention_heads=4,\n",
    "#     intermediate_size=576,\n",
    "#     conv_kernel_size=32,\n",
    "#     num_hidden_layers=8,\n",
    "#     input_feat_per_channel=n_mels,\n",
    "#     input_channels=1,\n",
    "#     max_position_embeddings=time_steps\n",
    "# )\n",
    "\n",
    "# conformer_model = TFConformerModel(config)\n",
    "\n",
    "# input_layer = tf.keras.layers.Input(shape=(n_mels, time_steps))\n",
    "# expand_dim = tf.keras.layers.Reshape((1, n_mels, time_steps))(input_layer)\n",
    "# conv_proj = tf.keras.layers.Conv2D(\n",
    "#     filters=config.hidden_size,\n",
    "#     kernel_size=(3, 3),\n",
    "#     padding='same',\n",
    "#     activation='relu'\n",
    "# )(expand_dim)\n",
    "# squeeze_dim = tf.keras.layers.Reshape((n_mels, time_steps, config.hidden_size))(conv_proj)\n",
    "# conformer_output = conformer_model(squeeze_dim).last_hidden_state\n",
    "# gap = tf.keras.layers.GlobalAveragePooling1D()(conformer_output)\n",
    "# output = tf.keras.layers.Dense(num_classes, activation='softmax')(gap)\n",
    "\n",
    "# conformer_model = tf.keras.Model(inputs=input_layer, outputs=output)"
   ]
  },
  {
   "cell_type": "markdown",
   "id": "13cf0943",
   "metadata": {},
   "source": [
    "training\n"
   ]
  },
  {
   "cell_type": "code",
   "execution_count": null,
   "id": "541a63d2",
   "metadata": {},
   "outputs": [],
   "source": []
  },
  {
   "cell_type": "markdown",
   "id": "2a9c9276",
   "metadata": {},
   "source": [
    "# Evaluasi\n"
   ]
  },
  {
   "cell_type": "markdown",
   "id": "b1889c49",
   "metadata": {},
   "source": [
    "CNN\n"
   ]
  },
  {
   "cell_type": "code",
   "execution_count": null,
   "id": "48056ec4",
   "metadata": {},
   "outputs": [],
   "source": []
  },
  {
   "cell_type": "markdown",
   "id": "18463003",
   "metadata": {},
   "source": [
    "LGBM\n"
   ]
  },
  {
   "cell_type": "code",
   "execution_count": null,
   "id": "2bf24565",
   "metadata": {},
   "outputs": [
    {
     "ename": "NotFittedError",
     "evalue": "Estimator not fitted, call fit before exploiting the model.",
     "output_type": "error",
     "traceback": [
      "\u001b[1;31m---------------------------------------------------------------------------\u001b[0m",
      "\u001b[1;31mNotFittedError\u001b[0m                            Traceback (most recent call last)",
      "Cell \u001b[1;32mIn[48], line 1\u001b[0m\n\u001b[1;32m----> 1\u001b[0m y_pred \u001b[38;5;241m=\u001b[39m \u001b[43mlgbm_model\u001b[49m\u001b[38;5;241;43m.\u001b[39;49m\u001b[43mpredict\u001b[49m\u001b[43m(\u001b[49m\u001b[43mX_val_scaled\u001b[49m\u001b[43m)\u001b[49m\n\u001b[0;32m      3\u001b[0m \u001b[38;5;28mprint\u001b[39m(\u001b[38;5;124m\"\u001b[39m\u001b[38;5;124mValidasi\u001b[39m\u001b[38;5;124m\"\u001b[39m)\n\u001b[0;32m      4\u001b[0m \u001b[38;5;28mprint\u001b[39m(\u001b[38;5;124mf\u001b[39m\u001b[38;5;124m\"\u001b[39m\u001b[38;5;124mAccuracy: \u001b[39m\u001b[38;5;132;01m{\u001b[39;00maccuracy_score(y_val,\u001b[38;5;250m \u001b[39my_pred)\u001b[38;5;132;01m}\u001b[39;00m\u001b[38;5;124m\"\u001b[39m)\n",
      "File \u001b[1;32m~\\AppData\\Local\\Packages\\PythonSoftwareFoundation.Python.3.12_qbz5n2kfra8p0\\LocalCache\\local-packages\\Python312\\site-packages\\lightgbm\\sklearn.py:1321\u001b[0m, in \u001b[0;36mLGBMClassifier.predict\u001b[1;34m(self, X, raw_score, start_iteration, num_iteration, pred_leaf, pred_contrib, validate_features, **kwargs)\u001b[0m\n\u001b[0;32m   1309\u001b[0m \u001b[38;5;28;01mdef\u001b[39;00m \u001b[38;5;21mpredict\u001b[39m(\n\u001b[0;32m   1310\u001b[0m     \u001b[38;5;28mself\u001b[39m,\n\u001b[0;32m   1311\u001b[0m     X: _LGBM_ScikitMatrixLike,\n\u001b[1;32m   (...)\u001b[0m\n\u001b[0;32m   1318\u001b[0m     \u001b[38;5;241m*\u001b[39m\u001b[38;5;241m*\u001b[39mkwargs: Any,\n\u001b[0;32m   1319\u001b[0m ):\n\u001b[0;32m   1320\u001b[0m \u001b[38;5;250m    \u001b[39m\u001b[38;5;124;03m\"\"\"Docstring is inherited from the LGBMModel.\"\"\"\u001b[39;00m\n\u001b[1;32m-> 1321\u001b[0m     result \u001b[38;5;241m=\u001b[39m \u001b[38;5;28;43mself\u001b[39;49m\u001b[38;5;241;43m.\u001b[39;49m\u001b[43mpredict_proba\u001b[49m\u001b[43m(\u001b[49m\n\u001b[0;32m   1322\u001b[0m \u001b[43m        \u001b[49m\u001b[43mX\u001b[49m\u001b[38;5;241;43m=\u001b[39;49m\u001b[43mX\u001b[49m\u001b[43m,\u001b[49m\n\u001b[0;32m   1323\u001b[0m \u001b[43m        \u001b[49m\u001b[43mraw_score\u001b[49m\u001b[38;5;241;43m=\u001b[39;49m\u001b[43mraw_score\u001b[49m\u001b[43m,\u001b[49m\n\u001b[0;32m   1324\u001b[0m \u001b[43m        \u001b[49m\u001b[43mstart_iteration\u001b[49m\u001b[38;5;241;43m=\u001b[39;49m\u001b[43mstart_iteration\u001b[49m\u001b[43m,\u001b[49m\n\u001b[0;32m   1325\u001b[0m \u001b[43m        \u001b[49m\u001b[43mnum_iteration\u001b[49m\u001b[38;5;241;43m=\u001b[39;49m\u001b[43mnum_iteration\u001b[49m\u001b[43m,\u001b[49m\n\u001b[0;32m   1326\u001b[0m \u001b[43m        \u001b[49m\u001b[43mpred_leaf\u001b[49m\u001b[38;5;241;43m=\u001b[39;49m\u001b[43mpred_leaf\u001b[49m\u001b[43m,\u001b[49m\n\u001b[0;32m   1327\u001b[0m \u001b[43m        \u001b[49m\u001b[43mpred_contrib\u001b[49m\u001b[38;5;241;43m=\u001b[39;49m\u001b[43mpred_contrib\u001b[49m\u001b[43m,\u001b[49m\n\u001b[0;32m   1328\u001b[0m \u001b[43m        \u001b[49m\u001b[43mvalidate_features\u001b[49m\u001b[38;5;241;43m=\u001b[39;49m\u001b[43mvalidate_features\u001b[49m\u001b[43m,\u001b[49m\n\u001b[0;32m   1329\u001b[0m \u001b[43m        \u001b[49m\u001b[38;5;241;43m*\u001b[39;49m\u001b[38;5;241;43m*\u001b[39;49m\u001b[43mkwargs\u001b[49m\u001b[43m,\u001b[49m\n\u001b[0;32m   1330\u001b[0m \u001b[43m    \u001b[49m\u001b[43m)\u001b[49m\n\u001b[0;32m   1331\u001b[0m     \u001b[38;5;28;01mif\u001b[39;00m \u001b[38;5;28mcallable\u001b[39m(\u001b[38;5;28mself\u001b[39m\u001b[38;5;241m.\u001b[39m_objective) \u001b[38;5;129;01mor\u001b[39;00m raw_score \u001b[38;5;129;01mor\u001b[39;00m pred_leaf \u001b[38;5;129;01mor\u001b[39;00m pred_contrib:\n\u001b[0;32m   1332\u001b[0m         \u001b[38;5;28;01mreturn\u001b[39;00m result\n",
      "File \u001b[1;32m~\\AppData\\Local\\Packages\\PythonSoftwareFoundation.Python.3.12_qbz5n2kfra8p0\\LocalCache\\local-packages\\Python312\\site-packages\\lightgbm\\sklearn.py:1351\u001b[0m, in \u001b[0;36mLGBMClassifier.predict_proba\u001b[1;34m(self, X, raw_score, start_iteration, num_iteration, pred_leaf, pred_contrib, validate_features, **kwargs)\u001b[0m\n\u001b[0;32m   1339\u001b[0m \u001b[38;5;28;01mdef\u001b[39;00m \u001b[38;5;21mpredict_proba\u001b[39m(\n\u001b[0;32m   1340\u001b[0m     \u001b[38;5;28mself\u001b[39m,\n\u001b[0;32m   1341\u001b[0m     X: _LGBM_ScikitMatrixLike,\n\u001b[1;32m   (...)\u001b[0m\n\u001b[0;32m   1348\u001b[0m     \u001b[38;5;241m*\u001b[39m\u001b[38;5;241m*\u001b[39mkwargs: Any,\n\u001b[0;32m   1349\u001b[0m ):\n\u001b[0;32m   1350\u001b[0m \u001b[38;5;250m    \u001b[39m\u001b[38;5;124;03m\"\"\"Docstring is set after definition, using a template.\"\"\"\u001b[39;00m\n\u001b[1;32m-> 1351\u001b[0m     result \u001b[38;5;241m=\u001b[39m \u001b[38;5;28;43msuper\u001b[39;49m\u001b[43m(\u001b[49m\u001b[43m)\u001b[49m\u001b[38;5;241;43m.\u001b[39;49m\u001b[43mpredict\u001b[49m\u001b[43m(\u001b[49m\n\u001b[0;32m   1352\u001b[0m \u001b[43m        \u001b[49m\u001b[43mX\u001b[49m\u001b[38;5;241;43m=\u001b[39;49m\u001b[43mX\u001b[49m\u001b[43m,\u001b[49m\n\u001b[0;32m   1353\u001b[0m \u001b[43m        \u001b[49m\u001b[43mraw_score\u001b[49m\u001b[38;5;241;43m=\u001b[39;49m\u001b[43mraw_score\u001b[49m\u001b[43m,\u001b[49m\n\u001b[0;32m   1354\u001b[0m \u001b[43m        \u001b[49m\u001b[43mstart_iteration\u001b[49m\u001b[38;5;241;43m=\u001b[39;49m\u001b[43mstart_iteration\u001b[49m\u001b[43m,\u001b[49m\n\u001b[0;32m   1355\u001b[0m \u001b[43m        \u001b[49m\u001b[43mnum_iteration\u001b[49m\u001b[38;5;241;43m=\u001b[39;49m\u001b[43mnum_iteration\u001b[49m\u001b[43m,\u001b[49m\n\u001b[0;32m   1356\u001b[0m \u001b[43m        \u001b[49m\u001b[43mpred_leaf\u001b[49m\u001b[38;5;241;43m=\u001b[39;49m\u001b[43mpred_leaf\u001b[49m\u001b[43m,\u001b[49m\n\u001b[0;32m   1357\u001b[0m \u001b[43m        \u001b[49m\u001b[43mpred_contrib\u001b[49m\u001b[38;5;241;43m=\u001b[39;49m\u001b[43mpred_contrib\u001b[49m\u001b[43m,\u001b[49m\n\u001b[0;32m   1358\u001b[0m \u001b[43m        \u001b[49m\u001b[43mvalidate_features\u001b[49m\u001b[38;5;241;43m=\u001b[39;49m\u001b[43mvalidate_features\u001b[49m\u001b[43m,\u001b[49m\n\u001b[0;32m   1359\u001b[0m \u001b[43m        \u001b[49m\u001b[38;5;241;43m*\u001b[39;49m\u001b[38;5;241;43m*\u001b[39;49m\u001b[43mkwargs\u001b[49m\u001b[43m,\u001b[49m\n\u001b[0;32m   1360\u001b[0m \u001b[43m    \u001b[49m\u001b[43m)\u001b[49m\n\u001b[0;32m   1361\u001b[0m     \u001b[38;5;28;01mif\u001b[39;00m \u001b[38;5;28mcallable\u001b[39m(\u001b[38;5;28mself\u001b[39m\u001b[38;5;241m.\u001b[39m_objective) \u001b[38;5;129;01mand\u001b[39;00m \u001b[38;5;129;01mnot\u001b[39;00m (raw_score \u001b[38;5;129;01mor\u001b[39;00m pred_leaf \u001b[38;5;129;01mor\u001b[39;00m pred_contrib):\n\u001b[0;32m   1362\u001b[0m         _log_warning(\n\u001b[0;32m   1363\u001b[0m             \u001b[38;5;124m\"\u001b[39m\u001b[38;5;124mCannot compute class probabilities or labels \u001b[39m\u001b[38;5;124m\"\u001b[39m\n\u001b[0;32m   1364\u001b[0m             \u001b[38;5;124m\"\u001b[39m\u001b[38;5;124mdue to the usage of customized objective function.\u001b[39m\u001b[38;5;130;01m\\n\u001b[39;00m\u001b[38;5;124m\"\u001b[39m\n\u001b[0;32m   1365\u001b[0m             \u001b[38;5;124m\"\u001b[39m\u001b[38;5;124mReturning raw scores instead.\u001b[39m\u001b[38;5;124m\"\u001b[39m\n\u001b[0;32m   1366\u001b[0m         )\n",
      "File \u001b[1;32m~\\AppData\\Local\\Packages\\PythonSoftwareFoundation.Python.3.12_qbz5n2kfra8p0\\LocalCache\\local-packages\\Python312\\site-packages\\lightgbm\\sklearn.py:1005\u001b[0m, in \u001b[0;36mLGBMModel.predict\u001b[1;34m(self, X, raw_score, start_iteration, num_iteration, pred_leaf, pred_contrib, validate_features, **kwargs)\u001b[0m\n\u001b[0;32m   1003\u001b[0m \u001b[38;5;250m\u001b[39m\u001b[38;5;124;03m\"\"\"Docstring is set after definition, using a template.\"\"\"\u001b[39;00m\n\u001b[0;32m   1004\u001b[0m \u001b[38;5;28;01mif\u001b[39;00m \u001b[38;5;129;01mnot\u001b[39;00m \u001b[38;5;28mself\u001b[39m\u001b[38;5;241m.\u001b[39m__sklearn_is_fitted__():\n\u001b[1;32m-> 1005\u001b[0m     \u001b[38;5;28;01mraise\u001b[39;00m LGBMNotFittedError(\u001b[38;5;124m\"\u001b[39m\u001b[38;5;124mEstimator not fitted, call fit before exploiting the model.\u001b[39m\u001b[38;5;124m\"\u001b[39m)\n\u001b[0;32m   1006\u001b[0m \u001b[38;5;28;01mif\u001b[39;00m \u001b[38;5;129;01mnot\u001b[39;00m \u001b[38;5;28misinstance\u001b[39m(X, (pd_DataFrame, dt_DataTable)):\n\u001b[0;32m   1007\u001b[0m     X \u001b[38;5;241m=\u001b[39m _LGBMCheckArray(X, accept_sparse\u001b[38;5;241m=\u001b[39m\u001b[38;5;28;01mTrue\u001b[39;00m, force_all_finite\u001b[38;5;241m=\u001b[39m\u001b[38;5;28;01mFalse\u001b[39;00m)\n",
      "\u001b[1;31mNotFittedError\u001b[0m: Estimator not fitted, call fit before exploiting the model."
     ]
    }
   ],
   "source": [
    "y_pred = lgbm_model.predict(X_val_reshaped)\n",
    "\n",
    "print(\"Validasi\")\n",
    "print(f\"Accuracy: {accuracy_score(y_val, y_pred)}\")\n",
    "print(f\"Precision: {precision_score(y_val, y_pred)}\")\n",
    "print(f\"Recall: {recall_score(y_val, y_pred)}\")\n",
    "print(f\"F1 Score: {f1_score(y_val, y_pred)}\")\n",
    "print(f\"Confusion Matrix:\\n {confusion_matrix(y_val, y_pred)}\")\n",
    "\n",
    "y_pred = lgbm_model.predict(X_test_reshaped)\n",
    "print(\"\\n\")\n",
    "print(\"Test\")\n",
    "print(f\"Accuracy: {accuracy_score(y_test, y_pred)}\")\n",
    "print(f\"Precision: {precision_score(y_test, y_pred)}\")\n",
    "print(f\"Recall: {recall_score(y_test, y_pred)}\")\n",
    "print(f\"F1 Score: {f1_score(y_test, y_pred)}\")\n",
    "print(f\"Confusion Matrix:\\n {confusion_matrix(y_test, y_pred)}\")"
   ]
  },
  {
   "cell_type": "markdown",
   "id": "d7ac9280",
   "metadata": {},
   "source": [
    "Descision Tree\n"
   ]
  },
  {
   "cell_type": "code",
   "execution_count": null,
   "id": "abd3a806",
   "metadata": {},
   "outputs": [],
   "source": [
    "y_pred = dt_model.predict(X_val_reshaped)\n",
    "\n",
    "print(\"Validasi\")\n",
    "print(f\"Accuracy: {accuracy_score(y_val, y_pred)}\")\n",
    "print(f\"Precision: {precision_score(y_val, y_pred)}\")\n",
    "print(f\"Recall: {recall_score(y_val, y_pred)}\")\n",
    "print(f\"F1 Score: {f1_score(y_val, y_pred)}\")\n",
    "print(f\"Confusion Matrix:\\n {confusion_matrix(y_val, y_pred)}\")\n",
    "\n",
    "y_pred = dt_model.predict(X_test_reshaped)\n",
    "\n",
    "print(\"\\n\")\n",
    "print(\"Test\")\n",
    "print(f\"Accuracy: {accuracy_score(y_test, y_pred)}\")\n",
    "print(f\"Precision: {precision_score(y_test, y_pred)}\")\n",
    "print(f\"Recall: {recall_score(y_test, y_pred)}\")\n",
    "print(f\"F1 Score: {f1_score(y_test, y_pred)}\")\n",
    "print(f\"Confusion Matrix:\\n {confusion_matrix(y_test, y_pred)}\")"
   ]
  },
  {
   "cell_type": "code",
   "execution_count": null,
   "id": "6817d574",
   "metadata": {},
   "outputs": [],
   "source": [
    "feature_names = ['RMS', 'ZCR']\n",
    "tree_rules = export_text(dt_model, feature_names=feature_names)\n",
    "print(\"Extracted Decision Rules:\")\n",
    "print(tree_rules)"
   ]
  },
  {
   "cell_type": "markdown",
   "id": "b233e357",
   "metadata": {},
   "source": [
    "## Random Forest"
   ]
  },
  {
   "cell_type": "code",
   "execution_count": null,
   "id": "c7ce8c2e",
   "metadata": {},
   "outputs": [],
   "source": [
    "y_pred_rf = rf_model.predict(X_val_reshaped)\n",
    "print(\"Random Forest Validasi\")\n",
    "print(f\"Accuracy: {accuracy_score(y_val, y_pred_rf)}\")\n",
    "print(f\"Precision: {precision_score(y_val, y_pred_rf)}\")\n",
    "print(f\"Recall: {recall_score(y_val, y_pred_rf)}\")\n",
    "print(f\"F1 Score: {f1_score(y_val, y_pred_rf)}\")\n",
    "print(f\"Confusion Matrix:\\n {confusion_matrix(y_val, y_pred_rf)}\")\n",
    "\n",
    "y_pred_rf = rf_model.predict(X_test_reshaped)\n",
    "print(\"\\nRandom Forest Test\")\n",
    "print(f\"Accuracy: {accuracy_score(y_test, y_pred_rf)}\")\n",
    "print(f\"Precision: {precision_score(y_test, y_pred_rf)}\")\n",
    "print(f\"Recall: {recall_score(y_test, y_pred_rf)}\")\n",
    "print(f\"F1 Score: {f1_score(y_test, y_pred_rf)}\")\n",
    "print(f\"Confusion Matrix:\\n {confusion_matrix(y_test, y_pred_rf)}\")"
   ]
  },
  {
   "cell_type": "markdown",
   "id": "e767bb5e",
   "metadata": {},
   "source": [
    "## XGBoost"
   ]
  },
  {
   "cell_type": "code",
   "execution_count": null,
   "id": "a89d0014",
   "metadata": {},
   "outputs": [],
   "source": [
    "y_pred_xg = xg_model.predict(X_val_reshaped)\n",
    "print(\"XGBoost Validasi\")\n",
    "print(f\"Accuracy: {accuracy_score(y_val, y_pred_xg)}\")\n",
    "print(f\"Precision: {precision_score(y_val, y_pred_xg)}\")\n",
    "print(f\"Recall: {recall_score(y_val, y_pred_xg)}\")\n",
    "print(f\"F1 Score: {f1_score(y_val, y_pred_xg)}\")\n",
    "print(f\"Confusion Matrix:\\n {confusion_matrix(y_val, y_pred_xg)}\")\n",
    "\n",
    "y_pred_xg = xg_model.predict(X_test_reshaped)\n",
    "print(\"\\nXGBoost Test\")\n",
    "print(f\"Accuracy: {accuracy_score(y_test, y_pred_xg)}\")\n",
    "print(f\"Precision: {precision_score(y_test, y_pred_xg)}\")\n",
    "print(f\"Recall: {recall_score(y_test, y_pred_xg)}\")\n",
    "print(f\"F1 Score: {f1_score(y_test, y_pred_xg)}\")\n",
    "print(f\"Confusion Matrix:\\n {confusion_matrix(y_test, y_pred_xg)}\")"
   ]
  },
  {
   "cell_type": "markdown",
   "id": "1f62acbb",
   "metadata": {},
   "source": [
    "## Gradient Boosting"
   ]
  },
  {
   "cell_type": "code",
   "execution_count": null,
   "id": "01877cda",
   "metadata": {},
   "outputs": [],
   "source": [
    "y_pred_gb = gb_model.predict(X_val_reshaped)\n",
    "print(\"Gradient Boosting Validasi\")\n",
    "print(f\"Accuracy: {accuracy_score(y_val, y_pred_gb)}\")\n",
    "print(f\"Precision: {precision_score(y_val, y_pred_gb)}\")\n",
    "print(f\"Recall: {recall_score(y_val, y_pred_gb)}\")\n",
    "print(f\"F1 Score: {f1_score(y_val, y_pred_gb)}\")\n",
    "print(f\"Confusion Matrix:\\n {confusion_matrix(y_val, y_pred_gb)}\")\n",
    "\n",
    "y_pred_gb = gb_model.predict(X_test_reshaped)\n",
    "print(\"\\nGradient Boosting Test\")\n",
    "print(f\"Accuracy: {accuracy_score(y_test, y_pred_gb)}\")\n",
    "print(f\"Precision: {precision_score(y_test, y_pred_gb)}\")\n",
    "print(f\"Recall: {recall_score(y_test, y_pred_gb)}\")\n",
    "print(f\"F1 Score: {f1_score(y_test, y_pred_gb)}\")\n",
    "print(f\"Confusion Matrix:\\n {confusion_matrix(y_test, y_pred_gb)}\")\n"
   ]
  },
  {
   "cell_type": "markdown",
   "id": "a63b86b1",
   "metadata": {},
   "source": [
    "## Logistic Regression"
   ]
  },
  {
   "cell_type": "code",
   "execution_count": null,
   "id": "c48e4a44",
   "metadata": {},
   "outputs": [],
   "source": [
    "y_pred_lr = lr_model.predict(X_val_reshaped)\n",
    "print(\"Logistic Regression Validasi\")\n",
    "print(f\"Accuracy: {accuracy_score(y_val, y_pred_lr)}\")\n",
    "print(f\"Precision: {precision_score(y_val, y_pred_lr)}\")\n",
    "print(f\"Recall: {recall_score(y_val, y_pred_lr)}\")\n",
    "print(f\"F1 Score: {f1_score(y_val, y_pred_lr)}\")\n",
    "print(f\"Confusion Matrix:\\n {confusion_matrix(y_val, y_pred_lr)}\")\n",
    "\n",
    "y_pred_lr = lr_model.predict(X_test_reshaped)\n",
    "print(\"\\nLogistic Regression Test\")\n",
    "print(f\"Accuracy: {accuracy_score(y_test, y_pred_lr)}\")\n",
    "print(f\"Precision: {precision_score(y_test, y_pred_lr)}\")\n",
    "print(f\"Recall: {recall_score(y_test, y_pred_lr)}\")\n",
    "print(f\"F1 Score: {f1_score(y_test, y_pred_lr)}\")\n",
    "print(f\"Confusion Matrix:\\n {confusion_matrix(y_test, y_pred_lr)}\")\n"
   ]
  },
  {
   "cell_type": "markdown",
   "id": "f0986526",
   "metadata": {},
   "source": [
    "## K-Nearest Neighbors"
   ]
  },
  {
   "cell_type": "code",
   "execution_count": null,
   "id": "091f85a3",
   "metadata": {},
   "outputs": [],
   "source": [
    "y_pred_knn = knn_model.predict(X_val_reshaped)\n",
    "print(\"KNN Validasi\")\n",
    "print(f\"Accuracy: {accuracy_score(y_val, y_pred_knn)}\")\n",
    "print(f\"Precision: {precision_score(y_val, y_pred_knn)}\")\n",
    "print(f\"Recall: {recall_score(y_val, y_pred_knn)}\")\n",
    "print(f\"F1 Score: {f1_score(y_val, y_pred_knn)}\")\n",
    "print(f\"Confusion Matrix:\\n {confusion_matrix(y_val, y_pred_knn)}\")\n",
    "\n",
    "y_pred_knn = knn_model.predict(X_test_reshaped)\n",
    "print(\"\\nKNN Test\")\n",
    "print(f\"Accuracy: {accuracy_score(y_test, y_pred_knn)}\")\n",
    "print(f\"Precision: {precision_score(y_test, y_pred_knn)}\")\n",
    "print(f\"Recall: {recall_score(y_test, y_pred_knn)}\")\n",
    "print(f\"F1 Score: {f1_score(y_test, y_pred_knn)}\")\n",
    "print(f\"Confusion Matrix:\\n {confusion_matrix(y_test, y_pred_knn)}\")\n"
   ]
  },
  {
   "cell_type": "markdown",
   "id": "e9c7180d",
   "metadata": {},
   "source": [
    "## Support Vector Machine (SVM)"
   ]
  },
  {
   "cell_type": "code",
   "execution_count": null,
   "id": "9b9ecb6d",
   "metadata": {},
   "outputs": [],
   "source": [
    "y_pred_svm = svm_model.predict(X_val_reshaped)\n",
    "print(\"SVM Validasi\")\n",
    "print(f\"Accuracy: {accuracy_score(y_val, y_pred_svm)}\")\n",
    "print(f\"Precision: {precision_score(y_val, y_pred_svm)}\")\n",
    "print(f\"Recall: {recall_score(y_val, y_pred_svm)}\")\n",
    "print(f\"F1 Score: {f1_score(y_val, y_pred_svm)}\")\n",
    "print(f\"Confusion Matrix:\\n {confusion_matrix(y_val, y_pred_svm)}\")\n",
    "\n",
    "y_pred_svm = svm_model.predict(X_test_reshaped)\n",
    "print(\"\\nSVM Test\")\n",
    "print(f\"Accuracy: {accuracy_score(y_test, y_pred_svm)}\")\n",
    "print(f\"Precision: {precision_score(y_test, y_pred_svm)}\")\n",
    "print(f\"Recall: {recall_score(y_test, y_pred_svm)}\")\n",
    "print(f\"F1 Score: {f1_score(y_test, y_pred_svm)}\")\n",
    "print(f\"Confusion Matrix:\\n {confusion_matrix(y_test, y_pred_svm)}\")\n"
   ]
  },
  {
   "cell_type": "markdown",
   "id": "620a6fb4",
   "metadata": {},
   "source": [
    "Conformer\n"
   ]
  },
  {
   "cell_type": "code",
   "execution_count": null,
   "id": "3f41a023",
   "metadata": {},
   "outputs": [],
   "source": []
  },
  {
   "cell_type": "markdown",
   "id": "28189e83",
   "metadata": {},
   "source": [
    "# Visualisasi Hasil"
   ]
  },
  {
   "cell_type": "code",
   "execution_count": null,
   "id": "97f89efa",
   "metadata": {},
   "outputs": [],
   "source": [
    "def load_and_plot(path, list_result, final_time):\n",
    "    file_name = os.path.basename(path)\n",
    "    audio, sr = librosa.load(path, sr=SAMPLE_RATE)\n",
    "    time_axis = np.linspace(0, len(audio) / sr, len(audio))\n",
    "\n",
    "    plt.figure(figsize=(20, 4))\n",
    "    plt.plot(time_axis, audio, label=\"Amplitude\")\n",
    "    plt.title(f\"Audio waveform with loud segments marked - {file_name}\") \n",
    "    plt.xlabel(\"Time (s)\")\n",
    "    plt.ylabel(\"Amplitude\")\n",
    "\n",
    "    for i in enumerate(list_result):\n",
    "        start_time = i[1][0]\n",
    "        end_time = i[1][1]\n",
    "        plt.axvspan(start_time, end_time, color='red', alpha=0.3)\n",
    "\n",
    "    plt.xticks(np.arange(0, final_time, 0.5))\n",
    "    plt.grid(which='both', alpha=0.5)\n",
    "    plt.xlim(0, final_time)\n",
    "    plt.ylim(-1, 1)\n",
    "    plt.tight_layout()\n",
    "    plt.legend()\n",
    "    plt.show()"
   ]
  },
  {
   "cell_type": "markdown",
   "id": "270e6b72",
   "metadata": {},
   "source": [
    "### LGBM"
   ]
  },
  {
   "cell_type": "code",
   "execution_count": null,
   "id": "f5c5b3b6",
   "metadata": {},
   "outputs": [],
   "source": [
    "def single_inference(path):\n",
    "    audio, sr = load_file_audio(path)\n",
    "    audio = prapemrosesan_downmixing(audio)\n",
    "    audio, sr = prapemrosesan_resampling(audio, sr)\n",
    "    audio = prapemrosesan_padding(audio)\n",
    "    segments = prapemrosesan_splitting(audio)\n",
    "    \n",
    "    list_result = []\n",
    "    for index, segment in enumerate(segments):\n",
    "        rms = get_rms(segment)\n",
    "        zcr = get_zcr(segment)\n",
    "        X = np.array([rms, zcr])\n",
    "        X = scl.transform(X.reshape(1, -1))\n",
    "\n",
    "        y_pred = lgbm_model.predict(X)\n",
    "        if y_pred == 0:\n",
    "            list_result.append(([index*0.5, index*0.5 + 1]))\n",
    "    return list_result"
   ]
  },
  {
   "cell_type": "code",
   "execution_count": null,
   "id": "ef3e278c",
   "metadata": {},
   "outputs": [],
   "source": [
    "# for file in os.listdir(f\"{MAIN_PATH}/noise-audio-data\"):\n",
    "#     list_result = single_inference(f\"{MAIN_PATH}/noise-audio-data/{file}\")\n",
    "#     print(list_result)\n",
    "#     load_and_plot(f\"{MAIN_PATH}/noise-audio-data/{file}\", list_result, 5)  "
   ]
  },
  {
   "cell_type": "code",
   "execution_count": null,
   "id": "6ac0cd24",
   "metadata": {},
   "outputs": [],
   "source": [
    "# for file in os.listdir(f\"{MAIN_PATH}/xeno-canto\"):\n",
    "#     list_result = single_inference(f\"{MAIN_PATH}/xeno-canto/{file}\")\n",
    "#     print(list_result)\n",
    "#     load_and_plot(f\"{MAIN_PATH}/xeno-canto/{file}\", list_result, 25)  "
   ]
  }
 ],
 "metadata": {
  "kernelspec": {
   "display_name": "Python 3",
   "language": "python",
   "name": "python3"
  },
  "language_info": {
   "codemirror_mode": {
    "name": "ipython",
    "version": 3
   },
   "file_extension": ".py",
   "mimetype": "text/x-python",
   "name": "python",
   "nbconvert_exporter": "python",
   "pygments_lexer": "ipython3",
   "version": "3.12.10"
  }
 },
 "nbformat": 4,
 "nbformat_minor": 5
}
