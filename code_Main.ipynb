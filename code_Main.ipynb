{
 "cells": [
  {
   "cell_type": "markdown",
   "id": "31c44c16",
   "metadata": {},
   "source": [
    "Library\n"
   ]
  },
  {
   "cell_type": "code",
   "execution_count": 1,
   "id": "7b0b2efb",
   "metadata": {},
   "outputs": [],
   "source": [
    "import os\n",
    "import math\n",
    "import time\n",
    "import pickle\n",
    "import numpy as np\n",
    "import pandas as pd\n",
    "\n",
    "import scipy.signal\n",
    "import scipy.fftpack\n",
    "from scipy.signal import resample_poly\n",
    "\n",
    "import librosa\n",
    "import soundfile as sf\n",
    "\n",
    "import skfuzzy as fuzz\n",
    "from skfuzzy import control as ctrl\n",
    "\n",
    "import joblib\n",
    "\n",
    "import matplotlib.pyplot as plt\n",
    "\n",
    "from sklearn.metrics import accuracy_score, recall_score, precision_score, f1_score, confusion_matrix"
   ]
  },
  {
   "cell_type": "markdown",
   "id": "f842e6b4",
   "metadata": {},
   "source": [
    "Path\n"
   ]
  },
  {
   "cell_type": "code",
   "execution_count": 2,
   "id": "4ecbaaf2",
   "metadata": {},
   "outputs": [],
   "source": [
    "PATH_MAIN = r\"C:\\Users\\Lulay\\Documents\\GitHub\\Dasar-Kecerdasan-Artificial_Tugas-Besar\"\n",
    "# PATH_MAIN = r\"D:\\Kuliah\\Matkul\\Semester 4\\DASAR KECERDASAN ARTIFICIAL (DKA)\\[2] Tugas\\[3] Tugas Besar\\Dasar-Kecerdasan-Artificial_Tugas-Besar\"\n",
    "\n",
    "PATH_DATASET = f\"{PATH_MAIN}/Dataset\"\n",
    "PATH_MODEL = f\"{PATH_MAIN}/Model\""
   ]
  },
  {
   "cell_type": "markdown",
   "id": "73ceaadf",
   "metadata": {},
   "source": [
    "Konstanta\n"
   ]
  },
  {
   "cell_type": "code",
   "execution_count": 3,
   "id": "ebd6a006",
   "metadata": {},
   "outputs": [],
   "source": [
    "SAMPLE_RATE = 48000\n",
    "SEGMENT_DURATION = int(1 * SAMPLE_RATE)\n",
    "OVERLAP_DURATION = int(0.5 * SAMPLE_RATE)"
   ]
  },
  {
   "cell_type": "markdown",
   "id": "ac734920",
   "metadata": {},
   "source": [
    "Random Seed\n"
   ]
  },
  {
   "cell_type": "code",
   "execution_count": 4,
   "id": "203c1f67",
   "metadata": {},
   "outputs": [],
   "source": [
    "RANDOM_SEED = 21\n",
    "\n",
    "try:\n",
    "    from sklearn.utils import check_random_state\n",
    "    random_state = check_random_state(RANDOM_SEED)\n",
    "except ImportError:\n",
    "    pass"
   ]
  },
  {
   "cell_type": "markdown",
   "id": "59f4e892",
   "metadata": {},
   "source": [
    "# Pra-Pemrosesan\n"
   ]
  },
  {
   "cell_type": "code",
   "execution_count": 5,
   "id": "f3b0e38a",
   "metadata": {},
   "outputs": [],
   "source": [
    "def load_file_audio(path):\n",
    "    audio, sr = sf.read(path)\n",
    "    return np.array(audio), sr\n",
    "\n",
    "def prapemrosesan_downmixing(audio):\n",
    "    if audio.ndim > 1:\n",
    "        audio = np.mean(audio, axis=1)\n",
    "    return audio.astype(np.float32)\n",
    "\n",
    "def prapemrosesan_resampling(audio, sr):\n",
    "    if sr == SAMPLE_RATE:\n",
    "        return audio.copy(), SAMPLE_RATE\n",
    "    \n",
    "    ratio = SAMPLE_RATE / sr\n",
    "    n_samples = int(np.round(len(audio) * ratio))\n",
    "    \n",
    "    x_old = np.linspace(0, 1, len(audio))\n",
    "    x_new = np.linspace(0, 1, n_samples)\n",
    "    return np.interp(x_new, x_old, audio), SAMPLE_RATE\n",
    "\n",
    "def prapemrosesan_padding(audio):\n",
    "    if np.mod(audio.shape[0], SEGMENT_DURATION) != 0:\n",
    "        padding = SEGMENT_DURATION - (audio.shape[0] % SEGMENT_DURATION)\n",
    "        audio = np.pad(audio, (0, padding))\n",
    "    return audio\n",
    "\n",
    "def prapemrosesan_splitting(audio):\n",
    "    num_segments = int(np.floor((len(audio) - SEGMENT_DURATION) / OVERLAP_DURATION)) + 1\n",
    "    segments = []\n",
    "\n",
    "    for i in range(num_segments):\n",
    "        start = int(i * OVERLAP_DURATION)\n",
    "        end = int(start + SEGMENT_DURATION)\n",
    "        segment = audio[start:end]\n",
    "        if len(segment) < SEGMENT_DURATION:\n",
    "            segment = np.pad(segment, (0, SEGMENT_DURATION - len(segment)), mode='constant')\n",
    "        segments.append(segment)\n",
    "\n",
    "    return np.array(segments)"
   ]
  },
  {
   "cell_type": "markdown",
   "id": "7ab421a3",
   "metadata": {},
   "source": [
    "# Ekstraksi Fitur\n"
   ]
  },
  {
   "cell_type": "code",
   "execution_count": 6,
   "id": "01da516e",
   "metadata": {},
   "outputs": [],
   "source": [
    "def get_rms(segment):\n",
    "    return np.mean(librosa.feature.rms(y=segment))\n",
    "\n",
    "def get_spectral_flatness(segment):\n",
    "    return np.mean(librosa.feature.spectral_flatness(y=segment))\n",
    "\n",
    "def get_mfcc(segment):\n",
    "    return librosa.feature.mfcc(y=segment, sr=SAMPLE_RATE)"
   ]
  },
  {
   "cell_type": "markdown",
   "id": "d37fcdf2",
   "metadata": {},
   "source": [
    "# Visualization\n"
   ]
  },
  {
   "cell_type": "markdown",
   "id": "729ba6c5",
   "metadata": {},
   "source": [
    "Satu Hasil\n"
   ]
  },
  {
   "cell_type": "code",
   "execution_count": 7,
   "id": "feab1560",
   "metadata": {},
   "outputs": [],
   "source": [
    "def plot_single(audio_path, list_result):\n",
    "    audio, sr = load_file_audio(audio_path)\n",
    "    audio = prapemrosesan_downmixing(audio)\n",
    "    audio, sr = prapemrosesan_resampling(audio, sr)\n",
    "    \n",
    "    time_axis = np.linspace(0, len(audio) / SAMPLE_RATE, len(audio))\n",
    "    \n",
    "    plt.figure(figsize=(14, 4))\n",
    "    plt.plot(time_axis, audio, label=\"Amplitude\")\n",
    "    plt.title(os.path.basename(audio_path))\n",
    "    plt.xlabel(\"Time (s)\")\n",
    "    plt.ylabel(\"Amplitude\")\n",
    "    \n",
    "    for i in range(0, len(list_result)):\n",
    "        start_time = list_result[i][1][0]\n",
    "        end_time = list_result[i][1][1]\n",
    "        if list_result[i][0] == 2:\n",
    "            plt.axvspan(start_time, end_time, color='blue', alpha=0)\n",
    "        elif list_result[i][0] == 1:\n",
    "            plt.axvspan(start_time, end_time, color='red', alpha=0.3)\n",
    "        elif list_result[i][0] == 0:\n",
    "            plt.axvspan(start_time, end_time, color='green', alpha=0.3)\n",
    "    \n",
    "    plt.ylim(-1, 1)\n",
    "    plt.tight_layout()\n",
    "    plt.legend()\n",
    "    plt.show()"
   ]
  },
  {
   "cell_type": "markdown",
   "id": "749bbe36",
   "metadata": {},
   "source": [
    "Komparasi 2 Hasil\n"
   ]
  },
  {
   "cell_type": "code",
   "execution_count": 8,
   "id": "085cacd9",
   "metadata": {},
   "outputs": [],
   "source": [
    "def plot_compare(path_infer, result_infer, path_label, result_label):\n",
    "    fig, axs = plt.subplots(2, 1, figsize=(14, 8), sharex=True)\n",
    "\n",
    "    for ax, audio_path, result, title in zip(\n",
    "        axs, [path_infer, path_label], [result_infer, result_label], ['Hasil Inference', 'Lebel']\n",
    "    ):\n",
    "        audio, sr = load_file_audio(audio_path)\n",
    "        audio = prapemrosesan_downmixing(audio)\n",
    "        audio, sr = prapemrosesan_resampling(audio, sr)\n",
    "        \n",
    "        time_axis = np.linspace(0, len(audio) / SAMPLE_RATE, len(audio))\n",
    "        ax.plot(time_axis, audio, label=\"Amplitude\", color='blue')\n",
    "        ax.set_title(f\"{title}: {os.path.basename(audio_path)}\")\n",
    "        ax.set_ylabel(\"Amplitude\")\n",
    "        \n",
    "        for label, (start_time, end_time) in result:\n",
    "            if label == 2:\n",
    "                ax.axvspan(start_time, end_time, color='blue', alpha=0)\n",
    "            elif label == 1:\n",
    "                ax.axvspan(start_time, end_time, color='red', alpha=0.3)\n",
    "            elif label == 0:\n",
    "                ax.axvspan(start_time, end_time, color='green', alpha=0.3)\n",
    "        \n",
    "        ax.set_ylim(-1, 1)\n",
    "        ax.legend()\n",
    "\n",
    "    axs[1].set_xlabel(\"Time (s)\")\n",
    "    plt.tight_layout()\n",
    "    plt.show()"
   ]
  },
  {
   "cell_type": "markdown",
   "id": "9950eb68",
   "metadata": {},
   "source": [
    "# Load Scaler dan Model\n"
   ]
  },
  {
   "cell_type": "markdown",
   "id": "17c9ed3e",
   "metadata": {},
   "source": [
    "## Scaler\n"
   ]
  },
  {
   "cell_type": "code",
   "execution_count": 9,
   "id": "ebab4aca",
   "metadata": {},
   "outputs": [],
   "source": [
    "# Scaler Pra-Klasifikasi\n",
    "p_scl = joblib.load(PATH_MODEL + \"/p_scaler.pkl\")\n",
    "\n",
    "# Scaler Klasifikasi\n",
    "k_scl = joblib.load(PATH_MODEL + \"/k_scaler.pkl\")"
   ]
  },
  {
   "cell_type": "markdown",
   "id": "3f83a98d",
   "metadata": {},
   "source": [
    "## Model Pra-Klasifikasi\n"
   ]
  },
  {
   "cell_type": "markdown",
   "id": "36bee88a",
   "metadata": {},
   "source": [
    "Fuzzy Mamdani\n"
   ]
  },
  {
   "cell_type": "markdown",
   "id": "a31aa537",
   "metadata": {},
   "source": [
    "Fungsi\n"
   ]
  },
  {
   "cell_type": "code",
   "execution_count": 10,
   "id": "956bcf81",
   "metadata": {},
   "outputs": [],
   "source": [
    "def Antecedent(universe, name):\n",
    "    return {\n",
    "        'universe': universe,\n",
    "        'name': name,\n",
    "        'mf': {}\n",
    "    }\n",
    "\n",
    "def Consequent(universe, name):\n",
    "    return {\n",
    "        'universe': universe,\n",
    "        'name': name,\n",
    "        'mf': {}\n",
    "    }\n",
    "\n",
    "def trapmf(x, params):\n",
    "    a, b, c, d = params\n",
    "    y = np.zeros_like(x)\n",
    "    mask1 = (a <= x) & (x < b)\n",
    "    mask2 = (b <= x) & (x <= c)\n",
    "    mask3 = (c < x) & (x <= d)\n",
    "    y[mask1] = (x[mask1] - a) / (b - a)\n",
    "    y[mask2] = 1\n",
    "    y[mask3] = (d - x[mask3]) / (d - c)\n",
    "    return y\n",
    "\n",
    "def trimf(x, params):\n",
    "    a, b, c = params\n",
    "    y = np.zeros_like(x)\n",
    "    mask1 = (a <= x) & (x < b)\n",
    "    mask2 = x == b\n",
    "    mask3 = (b < x) & (x <= c)\n",
    "    y[mask1] = (x[mask1] - a) / (b - a)\n",
    "    y[mask2] = 1\n",
    "    y[mask3] = (c - x[mask3]) / (c - b)\n",
    "    return y\n",
    "\n",
    "def Rule(flatness_key, rms_key, consequent_key):\n",
    "    return {\n",
    "        'conditions': (flatness_key, rms_key),\n",
    "        'consequent': consequent_key\n",
    "    }\n",
    "\n",
    "def ControlSystem(rules):\n",
    "    return {\n",
    "        'rules': rules\n",
    "    }"
   ]
  },
  {
   "cell_type": "markdown",
   "id": "8c1aebec",
   "metadata": {},
   "source": [
    "Inisialisasi\n"
   ]
  },
  {
   "cell_type": "code",
   "execution_count": 11,
   "id": "aa1cce84",
   "metadata": {},
   "outputs": [],
   "source": [
    "rms = Antecedent(np.linspace(-1, 8, 100), 'rms')\n",
    "flatness = Antecedent(np.linspace(-1, 4, 100), 'flatness')\n",
    "label_var = Consequent(np.linspace(1, 2, 100), 'label')\n",
    "\n",
    "rms['mf']['low'] = trapmf(rms['universe'], [-1, -1, -0.67, -0.565])\n",
    "rms['mf']['medium'] = trimf(rms['universe'], [-0.67, -0.565, -0.46])\n",
    "rms['mf']['high'] = trapmf(rms['universe'], [-0.565, -0.46, 8, 8])\n",
    "\n",
    "flatness['mf']['rigid'] = trapmf(flatness['universe'], [-1, -1, -0.45, -0.35])\n",
    "flatness['mf']['smooth'] = trapmf(flatness['universe'], [-0.45, -0.35, 4, 4])\n",
    "\n",
    "label_var['mf']['event'] = trimf(label_var['universe'], [1, 1, 1])\n",
    "label_var['mf']['nonevent'] = trimf(label_var['universe'], [2, 2, 2])\n",
    "\n",
    "rule1 = Rule('smooth', 'low', 'nonevent')\n",
    "rule2 = Rule('smooth', 'medium', 'nonevent')\n",
    "rule3 = Rule('smooth', 'high', 'event')\n",
    "rule4 = Rule('rigid', 'low', 'nonevent')\n",
    "rule5 = Rule('rigid', 'medium', 'nonevent')\n",
    "rule6 = Rule('rigid', 'high', 'event')\n",
    "\n",
    "mamdani_ctrl = ControlSystem([rule1, rule2, rule3, rule4, rule5, rule6])"
   ]
  },
  {
   "cell_type": "code",
   "execution_count": 12,
   "id": "aa411883",
   "metadata": {},
   "outputs": [],
   "source": [
    "def fuzzy_inference(rms_value, flatness_value):\n",
    "    rms_degrees = {k: np.interp(rms_value, rms['universe'], v) for k, v in rms['mf'].items()}\n",
    "    flatness_degrees = {k: np.interp(flatness_value, flatness['universe'], v) for k, v in flatness['mf'].items()}\n",
    "    label_universe = label_var['universe']\n",
    "    aggregated_output = np.zeros_like(label_universe)\n",
    "\n",
    "    for rule in mamdani_ctrl['rules']:\n",
    "        flatness_key, rms_key = rule['conditions']\n",
    "        consequent_key = rule['consequent']\n",
    "        degree = min(flatness_degrees[flatness_key], rms_degrees[rms_key])\n",
    "        aggregated_output = np.maximum(aggregated_output, np.minimum(degree, label_var['mf'][consequent_key]))\n",
    "\n",
    "    return 1.5 if np.sum(aggregated_output) == 0 else np.sum(label_universe * aggregated_output) / np.sum(aggregated_output)\n",
    "\n",
    "def p_mamdani(X):\n",
    "    return int(round(fuzzy_inference(*X[0])))"
   ]
  },
  {
   "cell_type": "markdown",
   "id": "82128774",
   "metadata": {},
   "source": [
    "Supervised\n"
   ]
  },
  {
   "cell_type": "code",
   "execution_count": 13,
   "id": "1ee9a456",
   "metadata": {},
   "outputs": [],
   "source": [
    "# Logistic Regression\n",
    "p_lr = joblib.load(PATH_MODEL + \"/p_lr.pkl\")\n",
    "\n",
    "# Descision Tree\n",
    "p_dt = joblib.load(PATH_MODEL + \"/p_dt.pkl\")\n",
    "\n",
    "# LGBM Classifier\n",
    "p_lgbm = joblib.load(PATH_MODEL + \"/p_lgbm.pkl\")"
   ]
  },
  {
   "cell_type": "markdown",
   "id": "b8514839",
   "metadata": {},
   "source": [
    "## Model Klasifikasi\n"
   ]
  },
  {
   "cell_type": "markdown",
   "id": "6b1b50bf",
   "metadata": {},
   "source": [
    "Supervised\n"
   ]
  },
  {
   "cell_type": "code",
   "execution_count": 14,
   "id": "6ad31546",
   "metadata": {},
   "outputs": [],
   "source": [
    "# LGBM\n",
    "k_lgbm = joblib.load(PATH_MODEL + \"/k_lgbm.pkl\")\n",
    "\n",
    "# CNN\n",
    "k_mlp = joblib.load(PATH_MODEL + \"/k_mlp.pkl\")"
   ]
  },
  {
   "cell_type": "markdown",
   "id": "c793336e",
   "metadata": {},
   "source": [
    "# Main\n"
   ]
  },
  {
   "cell_type": "markdown",
   "id": "7bdbb050",
   "metadata": {},
   "source": [
    "## Single Audio Inference\n"
   ]
  },
  {
   "cell_type": "code",
   "execution_count": 15,
   "id": "0d832ec5",
   "metadata": {},
   "outputs": [],
   "source": [
    "def single_inference(path, praklasifikasi, klasifikasi):\n",
    "    audio, sr = load_file_audio(path)\n",
    "    audio = prapemrosesan_downmixing(audio)\n",
    "    audio, sr = prapemrosesan_resampling(audio, sr)\n",
    "    audio = prapemrosesan_padding(audio)\n",
    "    segments = prapemrosesan_splitting(audio)\n",
    "    \n",
    "    list_result = []\n",
    "    time = 0\n",
    "    for segment in segments:\n",
    "        timestamp = [time * 0.5, (time*0.5) + 1]\n",
    "        time += 1\n",
    "        \n",
    "        rms = get_rms(segment)\n",
    "        flatness = get_spectral_flatness(segment)\n",
    "        rms_scaled, flatness_scaled = p_scl.transform([[rms, flatness]])[0]\n",
    "        \n",
    "        if praklasifikasi == \"mamdani\":\n",
    "            label = p_mamdani([[rms_scaled, flatness_scaled]])\n",
    "        elif praklasifikasi == \"lr\":\n",
    "            label = p_lr.predict([[rms_scaled, flatness_scaled]])[0]\n",
    "        elif praklasifikasi == \"dt\":\n",
    "            label = p_dt.predict([[rms_scaled, flatness_scaled]])[0]\n",
    "        elif praklasifikasi == \"lgbm\":\n",
    "            label = p_lgbm.predict([[rms_scaled, flatness_scaled]])[0]\n",
    "\n",
    "        if label != 2:\n",
    "            mfcc = get_mfcc(segment)\n",
    "            mfcc = np.array(mfcc)\n",
    "            mfcc = mfcc.reshape(1, -1)\n",
    "            mfcc_scaled = k_scl.transform(mfcc)\n",
    "            \n",
    "            if klasifikasi == \"lgbm\":\n",
    "                label = k_lgbm.predict(mfcc_scaled)[0]\n",
    "            elif klasifikasi == \"mlp\":\n",
    "                label = k_mlp.predict(mfcc_scaled)[0]\n",
    "        \n",
    "        list_result.append([label, timestamp])\n",
    "    \n",
    "    return list_result"
   ]
  },
  {
   "cell_type": "markdown",
   "id": "1961903e",
   "metadata": {},
   "source": [
    "Running\n"
   ]
  },
  {
   "cell_type": "code",
   "execution_count": 16,
   "id": "d19f0ce9",
   "metadata": {},
   "outputs": [
    {
     "data": {
      "image/png": "[encoded data removed]",
      "text/plain": [
       "<Figure size 1400x400 with 1 Axes>"
      ]
     },
     "metadata": {},
     "output_type": "display_data"
    }
   ],
   "source": [
    "audio_path = r\"C:\\Users\\Lulay\\Documents\\GitHub\\Dasar-Kecerdasan-Artificial_Tugas-Besar\\Dataset\\noise-audio-data\\1-7974-B-49.wav\"\n",
    "# audio_path = r\"C:\\Users\\Lulay\\Documents\\GitHub\\Dasar-Kecerdasan-Artificial_Tugas-Besar\\Dataset\\xeno-canto\\498380.mp3\"\n",
    "\n",
    "hasil_inferensi = single_inference(audio_path, \"mamdani\", \"lgbm\")\n",
    "plot_single(audio_path, hasil_inferensi)"
   ]
  },
  {
   "cell_type": "code",
   "execution_count": 17,
   "id": "fc497776",
   "metadata": {},
   "outputs": [],
   "source": [
    "# audio_path = r\"C:\\Users\\Lulay\\Documents\\GitHub\\Dasar-Kecerdasan-Artificial_Tugas-Besar\\Dataset\\noise-audio-data\"\n",
    "# audio_path = r\"C:\\Users\\Lulay\\Documents\\GitHub\\Dasar-Kecerdasan-Artificial_Tugas-Besar\\Dataset\\xeno-canto\"\n",
    "\n",
    "# for file in os.listdir(audio_path):\n",
    "#     hasil_inferensi = single_inference(f\"{audio_path}/{file}\")\n",
    "#     plot_single(f\"{audio_path}/{file}\", hasil_inferensi)"
   ]
  },
  {
   "cell_type": "markdown",
   "id": "a9680db5",
   "metadata": {},
   "source": [
    "# Analisa\n"
   ]
  },
  {
   "cell_type": "markdown",
   "id": "94394ce8",
   "metadata": {},
   "source": [
    "Load Dataset Anotasi\n"
   ]
  },
  {
   "cell_type": "code",
   "execution_count": 18,
   "id": "71633b19",
   "metadata": {},
   "outputs": [],
   "source": [
    "with open(f\"{PATH_DATASET}/dataset_raw_conc.pkl\", \"rb\") as f:\n",
    "    dataset_raw_conc = pickle.load(f)"
   ]
  },
  {
   "cell_type": "markdown",
   "id": "a65038b6",
   "metadata": {},
   "source": [
    "Running\n"
   ]
  },
  {
   "cell_type": "code",
   "execution_count": 19,
   "id": "d4ba190b",
   "metadata": {},
   "outputs": [],
   "source": [
    "dataset_raw_conc_adj = []\n",
    "\n",
    "for data_raw in dataset_raw_conc:\n",
    "    label_timestamp = []\n",
    "    for i in range(0, len(data_raw['label'])):\n",
    "        label_timestamp.append([data_raw['label'][i], data_raw['timestamp'][i]])\n",
    "    dataset_raw_conc_adj.append({\n",
    "        'name': data_raw['name'],\n",
    "        'path': data_raw['path'],\n",
    "        'label_timestamp': label_timestamp\n",
    "    })"
   ]
  },
  {
   "cell_type": "code",
   "execution_count": 20,
   "id": "22b99aad",
   "metadata": {},
   "outputs": [],
   "source": [
    "# list_result = []\n",
    "\n",
    "# for data_raw in dataset_raw_conc_adj:\n",
    "#     hasil_inferensi = single_inference(data_raw[\"path\"])\n",
    "#     path_infer = data_raw[\"path\"]\n",
    "#     result_infer = hasil_inferensi\n",
    "#     path_label = data_raw[\"path\"]\n",
    "#     result_label = data_raw[\"label_timestamp\"]\n",
    "    \n",
    "#     list_result.append({\n",
    "#         \"path\": path_infer,\n",
    "#         \"pred\": result_infer,\n",
    "#         \"label\": result_label\n",
    "#     })\n",
    "    \n",
    "#     plot_compare(path_infer, result_infer, path_label, result_label)"
   ]
  },
  {
   "cell_type": "code",
   "execution_count": 21,
   "id": "0d024a76",
   "metadata": {},
   "outputs": [],
   "source": [
    "# y_all = []\n",
    "\n",
    "# for result in list_result:\n",
    "#     y_pred = []\n",
    "#     for i in range(0, len(result)):\n",
    "#         pred = result[\"pred\"]\n",
    "#         label = result[\"label\"]\n",
    "#         for j in range(0, len(pred)):\n",
    "#             if label[j][1] == pred[j][1]:\n",
    "#                 y_all.append({\n",
    "#                     \"path\": result[\"path\"],\n",
    "#                     \"pred\": pred[j][0],\n",
    "#                     \"label\": label[j][0]\n",
    "#                 })"
   ]
  },
  {
   "cell_type": "code",
   "execution_count": 22,
   "id": "127dd5b2",
   "metadata": {},
   "outputs": [],
   "source": [
    "# y_pred_all = [y[\"pred\"] for y in y_all]\n",
    "# y_label_all = [y[\"label\"] for y in y_all]"
   ]
  },
  {
   "cell_type": "code",
   "execution_count": 23,
   "id": "99c1bddb",
   "metadata": {},
   "outputs": [],
   "source": [
    "# print(f\"Accuracy: {accuracy_score(y_label_all, y_pred_all)}\")\n",
    "# print(f\"Recall: {recall_score(y_label_all, y_pred_all, average='macro')}\")\n",
    "# print(f\"Precision: {precision_score(y_label_all, y_pred_all, average='macro')}\")\n",
    "# print(f\"F1-score: {f1_score(y_label_all, y_pred_all, average='macro')}\")\n",
    "# print(f\"Confusion Matrix:\\n {confusion_matrix(y_label_all, y_pred_all)}\")"
   ]
  },
  {
   "cell_type": "markdown",
   "id": "842723ef",
   "metadata": {},
   "source": [
    "# Run All Model\n"
   ]
  },
  {
   "cell_type": "code",
   "execution_count": 24,
   "id": "64cdcc4c",
   "metadata": {},
   "outputs": [
    {
     "name": "stdout",
     "output_type": "stream",
     "text": [
      "\n",
      "Model Praklasifikasi: mamdani, Model Klasifikasi: mlp\n",
      "Accuracy: 0.806577480490524\n",
      "Recall: 0.813185301117604\n",
      "Precision: 0.8098460247140107\n",
      "F1-score: 0.8089371816369816\n",
      "Confusion Matrix:\n",
      " [[2092   72  444]\n",
      " [ 636 2032    0]\n",
      " [  48  188 1664]]\n",
      "Average Runtime: 0.5638533532619476\n",
      "Median Runtime: 0.2692739963531494\n",
      "\n",
      "Model Praklasifikasi: mamdani, Model Klasifikasi: lgbm\n",
      "Accuracy: 0.8344481605351171\n",
      "Recall: 0.8379428609879755\n",
      "Precision: 0.8317233073158437\n",
      "F1-score: 0.8334715670587792\n",
      "Confusion Matrix:\n",
      " [[2012  152  444]\n",
      " [ 356 2312    0]\n",
      " [   4  232 1664]]\n",
      "Average Runtime: 0.6374644011259079\n",
      "Median Runtime: 0.2833765745162964\n",
      "\n",
      "Model Praklasifikasi: lr, Model Klasifikasi: mlp\n",
      "Accuracy: 0.7987736900780379\n",
      "Recall: 0.800312628638861\n",
      "Precision: 0.8017073994914107\n",
      "F1-score: 0.7997230696183516\n",
      "Confusion Matrix:\n",
      " [[2156   72  380]\n",
      " [ 636 2032    0]\n",
      " [  60  296 1544]]\n",
      "Average Runtime: 0.5516850739717484\n",
      "Median Runtime: 0.2619267702102661\n",
      "\n",
      "Model Praklasifikasi: lr, Model Klasifikasi: lgbm\n",
      "Accuracy: 0.8255295429208472\n",
      "Recall: 0.824047693621707\n",
      "Precision: 0.8240754659218852\n",
      "F1-score: 0.8235537970161545\n",
      "Confusion Matrix:\n",
      " [[2068  160  380]\n",
      " [ 356 2312    0]\n",
      " [  16  340 1544]]\n",
      "Average Runtime: 0.6104085654020309\n",
      "Median Runtime: 0.2650258541107178\n",
      "\n",
      "Model Praklasifikasi: dt, Model Klasifikasi: mlp\n",
      "Accuracy: 0.8132664437012264\n",
      "Recall: 0.8296766292346239\n",
      "Precision: 0.8218600671987574\n",
      "F1-score: 0.8151554745522535\n",
      "Confusion Matrix:\n",
      " [[1948   72  588]\n",
      " [ 560 2008  100]\n",
      " [   4   16 1880]]\n",
      "Average Runtime: 0.522578802704811\n",
      "Median Runtime: 0.239149808883667\n",
      "\n",
      "Model Praklasifikasi: dt, Model Klasifikasi: lgbm\n",
      "Accuracy: 0.8355629877369007\n",
      "Recall: 0.8495056717685716\n",
      "Precision: 0.8386154899527423\n",
      "F1-score: 0.8350840353448495\n",
      "Confusion Matrix:\n",
      " [[1892  128  588]\n",
      " [ 344 2224  100]\n",
      " [   0   20 1880]]\n",
      "Average Runtime: 0.5889845281839371\n",
      "Median Runtime: 0.2851012945175171\n",
      "\n",
      "Model Praklasifikasi: lgbm, Model Klasifikasi: mlp\n",
      "Accuracy: 0.8210702341137124\n",
      "Recall: 0.8248666480450444\n",
      "Precision: 0.8242076560769274\n",
      "F1-score: 0.8221936551342065\n",
      "Confusion Matrix:\n",
      " [[2268   96  244]\n",
      " [ 560 1996  112]\n",
      " [  64  208 1628]]\n",
      "Average Runtime: 0.6441795855760575\n",
      "Median Runtime: 0.27878475189208984\n",
      "\n",
      "Model Praklasifikasi: lgbm, Model Klasifikasi: lgbm\n",
      "Accuracy: 0.8389074693422519\n",
      "Recall: 0.8406057110288897\n",
      "Precision: 0.8375829032393414\n",
      "F1-score: 0.8389197006815888\n",
      "Confusion Matrix:\n",
      " [[2180  184  244]\n",
      " [ 344 2212  112]\n",
      " [  24  248 1628]]\n",
      "Average Runtime: 0.6420337796211243\n",
      "Median Runtime: 0.2727527618408203\n"
     ]
    }
   ],
   "source": [
    "list_praklasifikasi = [\"mamdani\", \"lr\", \"dt\", \"lgbm\"]\n",
    "list_klasifikasi = [\"mlp\", \"lgbm\"]\n",
    "list_model = [[x, y] for x in list_praklasifikasi for y in list_klasifikasi]\n",
    "\n",
    "skor_hasil = []\n",
    "\n",
    "for praklasifikasi, klasifikasi in list_model:\n",
    "    list_result = []\n",
    "\n",
    "    for data_raw in dataset_raw_conc_adj:\n",
    "        runtime_start = time.time()\n",
    "        hasil_inferensi = single_inference(data_raw[\"path\"], praklasifikasi, klasifikasi)\n",
    "        runtime_end = time.time()\n",
    "        runtime = runtime_end - runtime_start \n",
    "        path_infer = data_raw[\"path\"]\n",
    "        result_infer = hasil_inferensi\n",
    "        path_label = data_raw[\"path\"]\n",
    "        result_label = data_raw[\"label_timestamp\"]\n",
    "        \n",
    "        list_result.append({\n",
    "            \"path\": path_infer,\n",
    "            \"pred\": result_infer,\n",
    "            \"label\": result_label,\n",
    "            \"runtime\": runtime\n",
    "        })\n",
    "        \n",
    "    y_all = []\n",
    "\n",
    "    for result in list_result:\n",
    "        y_pred = []\n",
    "        for i in range(0, len(result)):\n",
    "            pred = result[\"pred\"]\n",
    "            label = result[\"label\"]\n",
    "            for j in range(0, len(pred)):\n",
    "                if label[j][1] == pred[j][1]:\n",
    "                    y_all.append({\n",
    "                        \"path\": result[\"path\"],\n",
    "                        \"pred\": pred[j][0],\n",
    "                        \"label\": label[j][0]\n",
    "                    })\n",
    "    y_pred_all = [y[\"pred\"] for y in y_all]\n",
    "    y_label_all = [y[\"label\"] for y in y_all]\n",
    "\n",
    "    print(f\"\\nModel Praklasifikasi: {praklasifikasi}, Model Klasifikasi: {klasifikasi}\")\n",
    "    print(f\"Accuracy: {accuracy_score(y_label_all, y_pred_all)}\")\n",
    "    print(f\"Recall: {recall_score(y_label_all, y_pred_all, average='macro')}\")\n",
    "    print(f\"Precision: {precision_score(y_label_all, y_pred_all, average='macro')}\")\n",
    "    print(f\"F1-score: {f1_score(y_label_all, y_pred_all, average='macro')}\")\n",
    "    print(f\"Confusion Matrix:\\n {confusion_matrix(y_label_all, y_pred_all)}\")\n",
    "    print(f\"Average Runtime: {np.mean([x['runtime'] for x in list_result])}\")\n",
    "    print(f\"Median Runtime: {np.median([x['runtime'] for x in list_result])}\")\n",
    "    \n",
    "    skor_hasil.append({\n",
    "        \"klasifikasi\": klasifikasi,\n",
    "        \"praklasifikasi\": praklasifikasi,\n",
    "        \"accuracy\": accuracy_score(y_label_all, y_pred_all),\n",
    "        \"recall\": recall_score(y_label_all, y_pred_all, average='macro'),\n",
    "        \"precision\": precision_score(y_label_all, y_pred_all, average='macro'),\n",
    "        \"f1_score\": f1_score(y_label_all, y_pred_all, average='macro'),\n",
    "        \"confusion_matrix\": confusion_matrix(y_label_all, y_pred_all),\n",
    "        \"average_runtime\": np.mean([x['runtime'] for x in list_result]),\n",
    "        \"median_runtime\": np.median([x['runtime'] for x in list_result])\n",
    "    })"
   ]
  },
  {
   "cell_type": "code",
   "execution_count": 25,
   "id": "9cfd1e75",
   "metadata": {},
   "outputs": [],
   "source": [
    "df_result = pd.DataFrame(skor_hasil, columns=[\"praklasifikasi\", \"klasifikasi\", \"accuracy\", \"recall\", \"precision\", \"f1_score\", \"average_runtime\", \"median_runtime\"])"
   ]
  },
  {
   "cell_type": "code",
   "execution_count": 26,
   "id": "369b2767",
   "metadata": {},
   "outputs": [
    {
     "data": {
      "text/html": [
       "<div>\n",
       "<style scoped>\n",
       "    .dataframe tbody tr th:only-of-type {\n",
       "        vertical-align: middle;\n",
       "    }\n",
       "\n",
       "    .dataframe tbody tr th {\n",
       "        vertical-align: top;\n",
       "    }\n",
       "\n",
       "    .dataframe thead th {\n",
       "        text-align: right;\n",
       "    }\n",
       "</style>\n",
       "<table border=\"1\" class=\"dataframe\">\n",
       "  <thead>\n",
       "    <tr style=\"text-align: right;\">\n",
       "      <th></th>\n",
       "      <th>praklasifikasi</th>\n",
       "      <th>klasifikasi</th>\n",
       "      <th>accuracy</th>\n",
       "      <th>recall</th>\n",
       "      <th>precision</th>\n",
       "      <th>f1_score</th>\n",
       "      <th>average_runtime</th>\n",
       "      <th>median_runtime</th>\n",
       "    </tr>\n",
       "  </thead>\n",
       "  <tbody>\n",
       "    <tr>\n",
       "      <th>2</th>\n",
       "      <td>lr</td>\n",
       "      <td>mlp</td>\n",
       "      <td>0.798774</td>\n",
       "      <td>0.800313</td>\n",
       "      <td>0.801707</td>\n",
       "      <td>0.799723</td>\n",
       "      <td>0.551685</td>\n",
       "      <td>0.261927</td>\n",
       "    </tr>\n",
       "    <tr>\n",
       "      <th>0</th>\n",
       "      <td>mamdani</td>\n",
       "      <td>mlp</td>\n",
       "      <td>0.806577</td>\n",
       "      <td>0.813185</td>\n",
       "      <td>0.809846</td>\n",
       "      <td>0.808937</td>\n",
       "      <td>0.563853</td>\n",
       "      <td>0.269274</td>\n",
       "    </tr>\n",
       "    <tr>\n",
       "      <th>4</th>\n",
       "      <td>dt</td>\n",
       "      <td>mlp</td>\n",
       "      <td>0.813266</td>\n",
       "      <td>0.829677</td>\n",
       "      <td>0.821860</td>\n",
       "      <td>0.815155</td>\n",
       "      <td>0.522579</td>\n",
       "      <td>0.239150</td>\n",
       "    </tr>\n",
       "    <tr>\n",
       "      <th>6</th>\n",
       "      <td>lgbm</td>\n",
       "      <td>mlp</td>\n",
       "      <td>0.821070</td>\n",
       "      <td>0.824867</td>\n",
       "      <td>0.824208</td>\n",
       "      <td>0.822194</td>\n",
       "      <td>0.644180</td>\n",
       "      <td>0.278785</td>\n",
       "    </tr>\n",
       "    <tr>\n",
       "      <th>3</th>\n",
       "      <td>lr</td>\n",
       "      <td>lgbm</td>\n",
       "      <td>0.825530</td>\n",
       "      <td>0.824048</td>\n",
       "      <td>0.824075</td>\n",
       "      <td>0.823554</td>\n",
       "      <td>0.610409</td>\n",
       "      <td>0.265026</td>\n",
       "    </tr>\n",
       "    <tr>\n",
       "      <th>1</th>\n",
       "      <td>mamdani</td>\n",
       "      <td>lgbm</td>\n",
       "      <td>0.834448</td>\n",
       "      <td>0.837943</td>\n",
       "      <td>0.831723</td>\n",
       "      <td>0.833472</td>\n",
       "      <td>0.637464</td>\n",
       "      <td>0.283377</td>\n",
       "    </tr>\n",
       "    <tr>\n",
       "      <th>5</th>\n",
       "      <td>dt</td>\n",
       "      <td>lgbm</td>\n",
       "      <td>0.835563</td>\n",
       "      <td>0.849506</td>\n",
       "      <td>0.838615</td>\n",
       "      <td>0.835084</td>\n",
       "      <td>0.588985</td>\n",
       "      <td>0.285101</td>\n",
       "    </tr>\n",
       "    <tr>\n",
       "      <th>7</th>\n",
       "      <td>lgbm</td>\n",
       "      <td>lgbm</td>\n",
       "      <td>0.838907</td>\n",
       "      <td>0.840606</td>\n",
       "      <td>0.837583</td>\n",
       "      <td>0.838920</td>\n",
       "      <td>0.642034</td>\n",
       "      <td>0.272753</td>\n",
       "    </tr>\n",
       "  </tbody>\n",
       "</table>\n",
       "</div>"
      ],
      "text/plain": [
       "  praklasifikasi klasifikasi  accuracy    recall  precision  f1_score  \\\n",
       "2             lr         mlp  0.798774  0.800313   0.801707  0.799723   \n",
       "0        mamdani         mlp  0.806577  0.813185   0.809846  0.808937   \n",
       "4             dt         mlp  0.813266  0.829677   0.821860  0.815155   \n",
       "6           lgbm         mlp  0.821070  0.824867   0.824208  0.822194   \n",
       "3             lr        lgbm  0.825530  0.824048   0.824075  0.823554   \n",
       "1        mamdani        lgbm  0.834448  0.837943   0.831723  0.833472   \n",
       "5             dt        lgbm  0.835563  0.849506   0.838615  0.835084   \n",
       "7           lgbm        lgbm  0.838907  0.840606   0.837583  0.838920   \n",
       "\n",
       "   average_runtime  median_runtime  \n",
       "2         0.551685        0.261927  \n",
       "0         0.563853        0.269274  \n",
       "4         0.522579        0.239150  \n",
       "6         0.644180        0.278785  \n",
       "3         0.610409        0.265026  \n",
       "1         0.637464        0.283377  \n",
       "5         0.588985        0.285101  \n",
       "7         0.642034        0.272753  "
      ]
     },
     "execution_count": 26,
     "metadata": {},
     "output_type": "execute_result"
    }
   ],
   "source": [
    "df_result.sort_values(\"accuracy\", ascending=True)"
   ]
  }
 ],
 "metadata": {
  "kernelspec": {
   "display_name": "Python 3",
   "language": "python",
   "name": "python3"
  },
  "language_info": {
   "codemirror_mode": {
    "name": "ipython",
    "version": 3
   },
   "file_extension": ".py",
   "mimetype": "text/x-python",
   "name": "python",
   "nbconvert_exporter": "python",
   "pygments_lexer": "ipython3",
   "version": "3.12.4"
  }
 },
 "nbformat": 4,
 "nbformat_minor": 5
}
