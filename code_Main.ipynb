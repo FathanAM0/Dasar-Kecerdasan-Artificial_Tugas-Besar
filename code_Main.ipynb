{
 "cells": [
  {
   "cell_type": "markdown",
   "id": "31c44c16",
   "metadata": {},
   "source": [
    "Library\n"
   ]
  },
  {
   "cell_type": "code",
   "execution_count": 100,
   "id": "7b0b2efb",
   "metadata": {},
   "outputs": [],
   "source": [
    "import os\n",
    "import math\n",
    "import time\n",
    "import pickle\n",
    "import numpy as np\n",
    "import pandas as pd\n",
    "\n",
    "import scipy.signal\n",
    "import scipy.fftpack\n",
    "from scipy.signal import resample_poly\n",
    "\n",
    "import librosa\n",
    "import soundfile as sf\n",
    "\n",
    "import skfuzzy as fuzz\n",
    "from skfuzzy import control as ctrl\n",
    "\n",
    "import joblib\n",
    "\n",
    "import matplotlib.pyplot as plt\n",
    "\n",
    "from sklearn.metrics import accuracy_score, recall_score, precision_score, f1_score, confusion_matrix"
   ]
  },
  {
   "cell_type": "markdown",
   "id": "f842e6b4",
   "metadata": {},
   "source": [
    "Path\n"
   ]
  },
  {
   "cell_type": "code",
   "execution_count": 101,
   "id": "4ecbaaf2",
   "metadata": {},
   "outputs": [],
   "source": [
    "PATH_MAIN = r\"C:\\Users\\Lulay\\Documents\\GitHub\\Dasar-Kecerdasan-Artificial_Tugas-Besar\"\n",
    "# PATH_MAIN = r\"D:\\Kuliah\\Matkul\\Semester 4\\DASAR KECERDASAN ARTIFICIAL (DKA)\\[2] Tugas\\[3] Tugas Besar\\Dasar-Kecerdasan-Artificial_Tugas-Besar\"\n",
    "\n",
    "PATH_DATASET = f\"{PATH_MAIN}/Dataset\"\n",
    "PATH_MODEL = f\"{PATH_MAIN}/Model\""
   ]
  },
  {
   "cell_type": "markdown",
   "id": "73ceaadf",
   "metadata": {},
   "source": [
    "Konstanta\n"
   ]
  },
  {
   "cell_type": "code",
   "execution_count": 102,
   "id": "ebd6a006",
   "metadata": {},
   "outputs": [],
   "source": [
    "SAMPLE_RATE = 48000\n",
    "SEGMENT_DURATION = int(1 * SAMPLE_RATE)\n",
    "OVERLAP_DURATION = int(0.5 * SAMPLE_RATE)"
   ]
  },
  {
   "cell_type": "markdown",
   "id": "ac734920",
   "metadata": {},
   "source": [
    "Random Seed\n"
   ]
  },
  {
   "cell_type": "code",
   "execution_count": 103,
   "id": "203c1f67",
   "metadata": {},
   "outputs": [],
   "source": [
    "RANDOM_SEED = 21\n",
    "\n",
    "try:\n",
    "    from sklearn.utils import check_random_state\n",
    "    random_state = check_random_state(RANDOM_SEED)\n",
    "except ImportError:\n",
    "    pass"
   ]
  },
  {
   "cell_type": "markdown",
   "id": "59f4e892",
   "metadata": {},
   "source": [
    "# Pra-Pemrosesan\n"
   ]
  },
  {
   "cell_type": "code",
   "execution_count": 104,
   "id": "f3b0e38a",
   "metadata": {},
   "outputs": [],
   "source": [
    "def load_file_audio(path):\n",
    "    audio, sr = sf.read(path)\n",
    "    return np.array(audio), sr\n",
    "\n",
    "def prapemrosesan_downmixing(audio):\n",
    "    if audio.ndim > 1:\n",
    "        audio = np.mean(audio, axis=1)\n",
    "    return audio.astype(np.float32)\n",
    "\n",
    "def prapemrosesan_resampling(audio, sr):\n",
    "    if sr == SAMPLE_RATE:\n",
    "        return audio.copy(), SAMPLE_RATE\n",
    "    \n",
    "    ratio = SAMPLE_RATE / sr\n",
    "    n_samples = int(np.round(len(audio) * ratio))\n",
    "    \n",
    "    x_old = np.linspace(0, 1, len(audio))\n",
    "    x_new = np.linspace(0, 1, n_samples)\n",
    "    return np.interp(x_new, x_old, audio), SAMPLE_RATE\n",
    "\n",
    "def prapemrosesan_padding(audio):\n",
    "    if np.mod(audio.shape[0], SEGMENT_DURATION) != 0:\n",
    "        padding = SEGMENT_DURATION - (audio.shape[0] % SEGMENT_DURATION)\n",
    "        audio = np.pad(audio, (0, padding))\n",
    "    return audio\n",
    "\n",
    "def prapemrosesan_splitting(audio):\n",
    "    num_segments = int(np.floor((len(audio) - SEGMENT_DURATION) / OVERLAP_DURATION)) + 1\n",
    "    segments = []\n",
    "\n",
    "    for i in range(num_segments):\n",
    "        start = int(i * OVERLAP_DURATION)\n",
    "        end = int(start + SEGMENT_DURATION)\n",
    "        segment = audio[start:end]\n",
    "        if len(segment) < SEGMENT_DURATION:\n",
    "            segment = np.pad(segment, (0, SEGMENT_DURATION - len(segment)), mode='constant')\n",
    "        segments.append(segment)\n",
    "\n",
    "    return np.array(segments)"
   ]
  },
  {
   "cell_type": "markdown",
   "id": "7ab421a3",
   "metadata": {},
   "source": [
    "# Ekstraksi Fitur\n"
   ]
  },
  {
   "cell_type": "code",
   "execution_count": 105,
   "id": "01da516e",
   "metadata": {},
   "outputs": [],
   "source": [
    "def get_rms(segment):\n",
    "    return np.mean(librosa.feature.rms(y=segment))\n",
    "\n",
    "def get_spectral_flatness(segment):\n",
    "    return np.mean(librosa.feature.spectral_flatness(y=segment))\n",
    "\n",
    "def get_mfcc(segment):\n",
    "    return librosa.feature.mfcc(y=segment, sr=SAMPLE_RATE)"
   ]
  },
  {
   "cell_type": "markdown",
   "id": "d37fcdf2",
   "metadata": {},
   "source": [
    "# Visualization\n"
   ]
  },
  {
   "cell_type": "markdown",
   "id": "729ba6c5",
   "metadata": {},
   "source": [
    "Satu Hasil\n"
   ]
  },
  {
   "cell_type": "code",
   "execution_count": 106,
   "id": "feab1560",
   "metadata": {},
   "outputs": [],
   "source": [
    "def plot_single(audio_path, list_result):\n",
    "    audio, sr = load_file_audio(audio_path)\n",
    "    audio = prapemrosesan_downmixing(audio)\n",
    "    audio, sr = prapemrosesan_resampling(audio, sr)\n",
    "    \n",
    "    time_axis = np.linspace(0, len(audio) / SAMPLE_RATE, len(audio))\n",
    "    \n",
    "    plt.figure(figsize=(14, 4))\n",
    "    plt.plot(time_axis, audio, label=\"Amplitude\")\n",
    "    plt.title(os.path.basename(audio_path))\n",
    "    plt.xlabel(\"Time (s)\")\n",
    "    plt.ylabel(\"Amplitude\")\n",
    "    \n",
    "    for i in range(0, len(list_result)):\n",
    "        start_time = list_result[i][1][0]\n",
    "        end_time = list_result[i][1][1]\n",
    "        if list_result[i][0] == 2:\n",
    "            plt.axvspan(start_time, end_time, color='blue', alpha=0)\n",
    "        elif list_result[i][0] == 1:\n",
    "            plt.axvspan(start_time, end_time, color='red', alpha=0.3)\n",
    "        elif list_result[i][0] == 0:\n",
    "            plt.axvspan(start_time, end_time, color='green', alpha=0.3)\n",
    "    \n",
    "    plt.ylim(-1, 1)\n",
    "    plt.tight_layout()\n",
    "    plt.legend()\n",
    "    plt.show()"
   ]
  },
  {
   "cell_type": "markdown",
   "id": "749bbe36",
   "metadata": {},
   "source": [
    "Komparasi 2 Hasil\n"
   ]
  },
  {
   "cell_type": "code",
   "execution_count": 107,
   "id": "085cacd9",
   "metadata": {},
   "outputs": [],
   "source": [
    "def plot_compare(path_infer, result_infer, path_label, result_label):\n",
    "    fig, axs = plt.subplots(2, 1, figsize=(14, 8), sharex=True)\n",
    "\n",
    "    for ax, audio_path, result, title in zip(\n",
    "        axs, [path_infer, path_label], [result_infer, result_label], ['Hasil Inference', 'Lebel']\n",
    "    ):\n",
    "        audio, sr = load_file_audio(audio_path)\n",
    "        audio = prapemrosesan_downmixing(audio)\n",
    "        audio, sr = prapemrosesan_resampling(audio, sr)\n",
    "        \n",
    "        time_axis = np.linspace(0, len(audio) / SAMPLE_RATE, len(audio))\n",
    "        ax.plot(time_axis, audio, label=\"Amplitude\", color='blue')\n",
    "        ax.set_title(f\"{title}: {os.path.basename(audio_path)}\")\n",
    "        ax.set_ylabel(\"Amplitude\")\n",
    "        \n",
    "        for label, (start_time, end_time) in result:\n",
    "            if label == 2:\n",
    "                ax.axvspan(start_time, end_time, color='blue', alpha=0)\n",
    "            elif label == 1:\n",
    "                ax.axvspan(start_time, end_time, color='red', alpha=0.3)\n",
    "            elif label == 0:\n",
    "                ax.axvspan(start_time, end_time, color='green', alpha=0.3)\n",
    "        \n",
    "        ax.set_ylim(-1, 1)\n",
    "        ax.legend()\n",
    "\n",
    "    axs[1].set_xlabel(\"Time (s)\")\n",
    "    plt.tight_layout()\n",
    "    plt.show()"
   ]
  },
  {
   "cell_type": "markdown",
   "id": "9950eb68",
   "metadata": {},
   "source": [
    "# Load Scaler dan Model\n"
   ]
  },
  {
   "cell_type": "markdown",
   "id": "17c9ed3e",
   "metadata": {},
   "source": [
    "## Scaler\n"
   ]
  },
  {
   "cell_type": "code",
   "execution_count": 108,
   "id": "ebab4aca",
   "metadata": {},
   "outputs": [],
   "source": [
    "# Scaler Pra-Klasifikasi\n",
    "p_scl = joblib.load(PATH_MODEL + \"/p_scaler.pkl\")\n",
    "\n",
    "# Scaler Klasifikasi\n",
    "k_scl = joblib.load(PATH_MODEL + \"/k_scaler.pkl\")"
   ]
  },
  {
   "cell_type": "markdown",
   "id": "3f83a98d",
   "metadata": {},
   "source": [
    "## Model Pra-Klasifikasi\n"
   ]
  },
  {
   "cell_type": "markdown",
   "id": "36bee88a",
   "metadata": {},
   "source": [
    "Fuzzy Mamdani\n"
   ]
  },
  {
   "cell_type": "markdown",
   "id": "a31aa537",
   "metadata": {},
   "source": [
    "Fungsi\n"
   ]
  },
  {
   "cell_type": "code",
   "execution_count": 109,
   "id": "956bcf81",
   "metadata": {},
   "outputs": [],
   "source": [
    "def Antecedent(universe, name):\n",
    "    return {\n",
    "        'universe': universe,\n",
    "        'name': name,\n",
    "        'mf': {}\n",
    "    }\n",
    "\n",
    "def Consequent(universe, name):\n",
    "    return {\n",
    "        'universe': universe,\n",
    "        'name': name,\n",
    "        'mf': {}\n",
    "    }\n",
    "\n",
    "def trapmf(x, params):\n",
    "    a, b, c, d = params\n",
    "    y = np.zeros_like(x)\n",
    "    mask1 = (a <= x) & (x < b)\n",
    "    mask2 = (b <= x) & (x <= c)\n",
    "    mask3 = (c < x) & (x <= d)\n",
    "    y[mask1] = (x[mask1] - a) / (b - a)\n",
    "    y[mask2] = 1\n",
    "    y[mask3] = (d - x[mask3]) / (d - c)\n",
    "    return y\n",
    "\n",
    "def trimf(x, params):\n",
    "    a, b, c = params\n",
    "    y = np.zeros_like(x)\n",
    "    mask1 = (a <= x) & (x < b)\n",
    "    mask2 = x == b\n",
    "    mask3 = (b < x) & (x <= c)\n",
    "    y[mask1] = (x[mask1] - a) / (b - a)\n",
    "    y[mask2] = 1\n",
    "    y[mask3] = (c - x[mask3]) / (c - b)\n",
    "    return y\n",
    "\n",
    "def Rule(flatness_key, rms_key, consequent_key):\n",
    "    return {\n",
    "        'conditions': (flatness_key, rms_key),\n",
    "        'consequent': consequent_key\n",
    "    }\n",
    "\n",
    "def ControlSystem(rules):\n",
    "    return {\n",
    "        'rules': rules\n",
    "    }"
   ]
  },
  {
   "cell_type": "markdown",
   "id": "8c1aebec",
   "metadata": {},
   "source": [
    "Inisialisasi\n"
   ]
  },
  {
   "cell_type": "code",
   "execution_count": 110,
   "id": "65e10366",
   "metadata": {},
   "outputs": [
    {
     "data": {
      "image/png": "[encoded data removed]",
      "text/plain": [
       "<Figure size 800x900 with 3 Axes>"
      ]
     },
     "metadata": {},
     "output_type": "display_data"
    }
   ],
   "source": [
    "rms_universe = np.linspace(-1, 8, 1000)\n",
    "flatness_universe = np.linspace(-1, 4, 1000)\n",
    "label_universe = np.linspace(0, 3, 1000)\n",
    "\n",
    "rms = ctrl.Antecedent(rms_universe, 'rms')\n",
    "flatness = ctrl.Antecedent(flatness_universe, 'flatness')\n",
    "label_var = ctrl.Consequent(label_universe, 'label_var')\n",
    "\n",
    "rms['low'] = fuzz.trapmf(rms.universe, [-1, -1, -0.67, -0.565])\n",
    "rms['medium'] = fuzz.trimf(rms.universe, [-0.67, -0.565, -0.46])\n",
    "rms['high'] = fuzz.trapmf(rms.universe, [-0.565, -0.46, 8, 8])\n",
    "\n",
    "flatness['rigid'] = fuzz.trapmf(flatness.universe, [-1, -1, -0.45, -0.35])\n",
    "flatness['smooth'] = fuzz.trapmf(flatness.universe, [-0.45, -0.35, 4, 4])\n",
    "\n",
    "label_var['event'] = fuzz.trimf(label_var.universe, [1, 1, 1])\n",
    "label_var['nonevent'] = fuzz.trimf(label_var.universe, [2, 2, 2])\n",
    "\n",
    "fig, (ax0, ax1, ax2) = plt.subplots(nrows=3, figsize=(8, 9))\n",
    "\n",
    "ax0.plot(rms.universe, fuzz.trapmf(rms.universe, [-1, -1, -0.67, -0.565]), 'b', linewidth=1.5, label='low')\n",
    "ax0.plot(rms.universe, fuzz.trimf(rms.universe, [-0.67, -0.565, -0.46]), 'g', linewidth=1.5, label='medium')\n",
    "ax0.plot(rms.universe, fuzz.trapmf(rms.universe, [-0.565, -0.46, 8, 8]), 'r', linewidth=1.5, label='high')\n",
    "ax0.set_title('RMS Membership Functions')\n",
    "ax0.legend()\n",
    "\n",
    "ax1.plot(flatness.universe, fuzz.trapmf(flatness.universe, [-1, -1, -0.45, -0.35]), 'b', linewidth=1.5, label='rigid')\n",
    "ax1.plot(flatness.universe, fuzz.trapmf(flatness.universe, [-0.45, -0.35, 4, 4]), 'g', linewidth=1.5, label='smooth')\n",
    "ax1.set_title('Flatness Membership Functions')\n",
    "ax1.legend()\n",
    "\n",
    "ax2.plot(label_var.universe, fuzz.trimf(label_var.universe, [1, 1, 1]), 'b', linewidth=1.5, label='event')\n",
    "ax2.plot(label_var.universe, fuzz.trimf(label_var.universe, [2, 2, 2]), 'g', linewidth=1.5, label='nonevent')\n",
    "ax2.set_title('Label Variable Membership Functions')\n",
    "ax2.legend()\n",
    "\n",
    "for ax in (ax0, ax1, ax2):\n",
    "    ax.spines['top'].set_visible(False)\n",
    "    ax.spines['right'].set_visible(False)\n",
    "    ax.get_xaxis().tick_bottom()\n",
    "    ax.get_yaxis().tick_left()\n",
    "\n",
    "plt.tight_layout()\n",
    "plt.show()"
   ]
  },
  {
   "cell_type": "code",
   "execution_count": 111,
   "id": "aa1cce84",
   "metadata": {},
   "outputs": [],
   "source": [
    "rms = Antecedent(np.linspace(-1, 8, 100), 'rms')\n",
    "flatness = Antecedent(np.linspace(-1, 4, 100), 'flatness')\n",
    "label_var = Consequent(np.linspace(1, 2, 100), 'label')\n",
    "\n",
    "rms['mf']['low'] = trapmf(rms['universe'], [-1, -1, -0.67, -0.565])\n",
    "rms['mf']['medium'] = trimf(rms['universe'], [-0.67, -0.565, -0.46])\n",
    "rms['mf']['high'] = trapmf(rms['universe'], [-0.565, -0.46, 8, 8])\n",
    "\n",
    "flatness['mf']['rigid'] = trapmf(flatness['universe'], [-1, -1, -0.45, -0.35])\n",
    "flatness['mf']['smooth'] = trapmf(flatness['universe'], [-0.45, -0.35, 4, 4])\n",
    "\n",
    "label_var['mf']['event'] = trimf(label_var['universe'], [1, 1, 1])\n",
    "label_var['mf']['nonevent'] = trimf(label_var['universe'], [2, 2, 2])\n",
    "\n",
    "rule1 = Rule('smooth', 'low', 'nonevent')\n",
    "rule2 = Rule('smooth', 'medium', 'nonevent')\n",
    "rule3 = Rule('smooth', 'high', 'event')\n",
    "rule4 = Rule('rigid', 'low', 'nonevent')\n",
    "rule5 = Rule('rigid', 'medium', 'nonevent')\n",
    "rule6 = Rule('rigid', 'high', 'event')\n",
    "\n",
    "mamdani_ctrl = ControlSystem([rule1, rule2, rule3, rule4, rule5, rule6])"
   ]
  },
  {
   "cell_type": "code",
   "execution_count": 112,
   "id": "af099955",
   "metadata": {},
   "outputs": [
    {
     "data": {
      "image/png": "[encoded data removed]",
      "text/plain": [
       "<Figure size 1500x500 with 3 Axes>"
      ]
     },
     "metadata": {},
     "output_type": "display_data"
    }
   ],
   "source": [
    "rms_universe = np.linspace(-1, 8, 1000)\n",
    "flatness_universe = np.linspace(-1, 4, 1000)\n",
    "label_universe = np.linspace(0, 3, 1000)\n",
    "\n",
    "plt.figure(figsize=(15, 5))\n",
    "\n",
    "plt.subplot(1, 3, 1)\n",
    "plt.plot(rms_universe, trapmf(rms_universe, [-1, -1, -0.67, -0.565]), 'b', linewidth=1.5, label='Low')\n",
    "plt.plot(rms_universe, trimf(rms_universe, [-0.67, -0.565, -0.46]), 'g', linewidth=1.5, label='Medium')\n",
    "plt.plot(rms_universe, trapmf(rms_universe, [-0.565, -0.46, 8, 8]), 'r', linewidth=1.5, label='High')\n",
    "plt.title('RMS Membership Functions')\n",
    "plt.ylabel('Degree of membership')\n",
    "plt.xlabel('Nilai RMS')\n",
    "plt.legend()\n",
    "\n",
    "plt.subplot(1, 3, 2)\n",
    "plt.plot(flatness_universe, trapmf(flatness_universe, [-1, -1, -0.45, -0.35]), 'b', linewidth=1.5, label='Rigid')\n",
    "plt.plot(flatness_universe, trapmf(flatness_universe, [-0.45, -0.35, 4, 4]), 'g', linewidth=1.5, label='Smooth')\n",
    "plt.title('Flatness Membership Function')\n",
    "plt.ylabel('Degree of membership')\n",
    "plt.xlabel('Nilai Flatness')\n",
    "plt.legend()\n",
    "\n",
    "plt.subplot(1, 3, 3)\n",
    "plt.plot(label_universe, trimf(label_universe, [1, 1, 1]), 'b', linewidth=1.5, label='Event')\n",
    "plt.plot(label_universe, trimf(label_universe, [2, 2, 2]), 'g', linewidth=1.5, label='Non-event')\n",
    "plt.title('Label Membership Function')\n",
    "plt.ylabel('Degree of membership')\n",
    "plt.xlabel('Nilai Label')\n",
    "plt.legend()\n",
    "\n",
    "plt.tight_layout()\n",
    "plt.show()"
   ]
  },
  {
   "cell_type": "code",
   "execution_count": 113,
   "id": "aa411883",
   "metadata": {},
   "outputs": [],
   "source": [
    "def fuzzy_inference(rms_value, flatness_value):\n",
    "    rms_degrees = {k: np.interp(rms_value, rms['universe'], v) for k, v in rms['mf'].items()}\n",
    "    flatness_degrees = {k: np.interp(flatness_value, flatness['universe'], v) for k, v in flatness['mf'].items()}\n",
    "    label_universe = label_var['universe']\n",
    "    aggregated_output = np.zeros_like(label_universe)\n",
    "\n",
    "    for rule in mamdani_ctrl['rules']:\n",
    "        flatness_key, rms_key = rule['conditions']\n",
    "        consequent_key = rule['consequent']\n",
    "        degree = min(flatness_degrees[flatness_key], rms_degrees[rms_key])\n",
    "        aggregated_output = np.maximum(aggregated_output, np.minimum(degree, label_var['mf'][consequent_key]))\n",
    "\n",
    "    return 1.5 if np.sum(aggregated_output) == 0 else np.sum(label_universe * aggregated_output) / np.sum(aggregated_output)\n",
    "\n",
    "def p_mamdani(X):\n",
    "    return int(round(fuzzy_inference(*X[0])))"
   ]
  },
  {
   "cell_type": "markdown",
   "id": "82128774",
   "metadata": {},
   "source": [
    "Supervised\n"
   ]
  },
  {
   "cell_type": "code",
   "execution_count": 114,
   "id": "1ee9a456",
   "metadata": {},
   "outputs": [],
   "source": [
    "# Logistic Regression\n",
    "p_lr = joblib.load(PATH_MODEL + \"/p_lr.pkl\")\n",
    "\n",
    "# Descision Tree\n",
    "p_dt = joblib.load(PATH_MODEL + \"/p_dt.pkl\")\n",
    "\n",
    "# LGBM Classifier\n",
    "p_lgbm = joblib.load(PATH_MODEL + \"/p_lgbm.pkl\")"
   ]
  },
  {
   "cell_type": "markdown",
   "id": "b8514839",
   "metadata": {},
   "source": [
    "## Model Klasifikasi\n"
   ]
  },
  {
   "cell_type": "code",
   "execution_count": 115,
   "id": "6ad31546",
   "metadata": {},
   "outputs": [],
   "source": [
    "# LGBM\n",
    "k_lgbm = joblib.load(PATH_MODEL + \"/k_lgbm.pkl\")\n",
    "\n",
    "# CNN\n",
    "k_mlp = joblib.load(PATH_MODEL + \"/k_mlp.pkl\")"
   ]
  },
  {
   "cell_type": "markdown",
   "id": "60eca67b",
   "metadata": {},
   "source": [
    "# Model Complete\n"
   ]
  },
  {
   "cell_type": "code",
   "execution_count": 116,
   "id": "d0fbce88",
   "metadata": {},
   "outputs": [],
   "source": [
    "# LGBM\n",
    "a_lgbm = joblib.load(PATH_MODEL + \"/a_lgbm.pkl\")\n",
    "\n",
    "# CNN\n",
    "a_mlp = joblib.load(PATH_MODEL + \"/a_mlp.pkl\")"
   ]
  },
  {
   "cell_type": "markdown",
   "id": "c793336e",
   "metadata": {},
   "source": [
    "# Main\n"
   ]
  },
  {
   "cell_type": "markdown",
   "id": "7bdbb050",
   "metadata": {},
   "source": [
    "## Single Audio Inference\n"
   ]
  },
  {
   "cell_type": "code",
   "execution_count": 131,
   "id": "0d832ec5",
   "metadata": {},
   "outputs": [],
   "source": [
    "def single_inference(path, models):\n",
    "    audio, sr = load_file_audio(path)\n",
    "    audio = prapemrosesan_downmixing(audio)\n",
    "    audio, sr = prapemrosesan_resampling(audio, sr)\n",
    "    audio = prapemrosesan_padding(audio)\n",
    "    segments = prapemrosesan_splitting(audio)\n",
    "    \n",
    "    list_result = []\n",
    "    time = 0\n",
    "    for segment in segments:\n",
    "        timestamp = [time * 0.5, (time*0.5) + 1]\n",
    "        time += 1\n",
    "        \n",
    "        rms = get_rms(segment)\n",
    "        flatness = get_spectral_flatness(segment)\n",
    "        rms_scaled, flatness_scaled = p_scl.transform([[rms, flatness]])[0]\n",
    "        \n",
    "        if len(models) == 2:\n",
    "            if models[0] == \"mamdani\":\n",
    "                label = p_mamdani([[rms_scaled, flatness_scaled]])\n",
    "            elif models[0] == \"lr\":\n",
    "                label = p_lr.predict([[rms_scaled, flatness_scaled]])[0]\n",
    "            elif models[0] == \"dt\":\n",
    "                label = p_dt.predict([[rms_scaled, flatness_scaled]])[0]\n",
    "            elif models[0] == \"lgbm\":\n",
    "                label = p_lgbm.predict([[rms_scaled, flatness_scaled]])[0]\n",
    "\n",
    "            if label != 2:\n",
    "                mfcc = get_mfcc(segment)\n",
    "                mfcc = np.array(mfcc)\n",
    "                mfcc = mfcc.reshape(1, -1)\n",
    "                mfcc_scaled = k_scl.transform(mfcc)\n",
    "                \n",
    "                if models[1] == \"lgbm\":\n",
    "                    label = k_lgbm.predict(mfcc_scaled)[0]\n",
    "                elif models[1] == \"mlp\":\n",
    "                    label = k_mlp.predict(mfcc_scaled)[0]\n",
    "        \n",
    "        else:\n",
    "            mfcc = get_mfcc(segment)\n",
    "            mfcc = np.array(mfcc)\n",
    "            mfcc = mfcc.reshape(1, -1)\n",
    "            mfcc_scaled = k_scl.transform(mfcc)\n",
    "            \n",
    "            if models == \"lgbm\":\n",
    "                label = a_lgbm.predict(mfcc_scaled)\n",
    "            elif models == \"mlp\":\n",
    "                label = a_mlp.predict(mfcc_scaled)\n",
    "        \n",
    "        list_result.append([label, timestamp])\n",
    "    \n",
    "    return list_result"
   ]
  },
  {
   "cell_type": "markdown",
   "id": "1961903e",
   "metadata": {},
   "source": [
    "Running\n"
   ]
  },
  {
   "cell_type": "code",
   "execution_count": 132,
   "id": "d19f0ce9",
   "metadata": {},
   "outputs": [
    {
     "data": {
      "image/png": "[encoded data removed]",
      "text/plain": [
       "<Figure size 1400x400 with 1 Axes>"
      ]
     },
     "metadata": {},
     "output_type": "display_data"
    }
   ],
   "source": [
    "audio_path = r\"C:\\Users\\Lulay\\Documents\\GitHub\\Dasar-Kecerdasan-Artificial_Tugas-Besar\\Dataset\\noise-audio-data\\1-7974-B-49.wav\"\n",
    "# audio_path = r\"C:\\Users\\Lulay\\Documents\\GitHub\\Dasar-Kecerdasan-Artificial_Tugas-Besar\\Dataset\\xeno-canto\\498380.mp3\"\n",
    "\n",
    "hasil_inferensi = single_inference(audio_path, [\"mamdani\", \"lgbm\"])\n",
    "plot_single(audio_path, hasil_inferensi)"
   ]
  },
  {
   "cell_type": "code",
   "execution_count": 119,
   "id": "fc497776",
   "metadata": {},
   "outputs": [],
   "source": [
    "# audio_path = r\"C:\\Users\\Lulay\\Documents\\GitHub\\Dasar-Kecerdasan-Artificial_Tugas-Besar\\Dataset\\noise-audio-data\"\n",
    "# audio_path = r\"C:\\Users\\Lulay\\Documents\\GitHub\\Dasar-Kecerdasan-Artificial_Tugas-Besar\\Dataset\\xeno-canto\"\n",
    "\n",
    "# for file in os.listdir(audio_path):\n",
    "#     hasil_inferensi = single_inference(f\"{audio_path}/{file}\")\n",
    "#     plot_single(f\"{audio_path}/{file}\", hasil_inferensi)"
   ]
  },
  {
   "cell_type": "markdown",
   "id": "a9680db5",
   "metadata": {},
   "source": [
    "# Analisa\n"
   ]
  },
  {
   "cell_type": "markdown",
   "id": "94394ce8",
   "metadata": {},
   "source": [
    "Load Dataset Anotasi\n"
   ]
  },
  {
   "cell_type": "code",
   "execution_count": 133,
   "id": "71633b19",
   "metadata": {},
   "outputs": [],
   "source": [
    "with open(f\"{PATH_DATASET}/dataset_raw_conc.pkl\", \"rb\") as f:\n",
    "    dataset_raw_conc = pickle.load(f)"
   ]
  },
  {
   "cell_type": "markdown",
   "id": "a65038b6",
   "metadata": {},
   "source": [
    "Running\n"
   ]
  },
  {
   "cell_type": "code",
   "execution_count": 121,
   "id": "d4ba190b",
   "metadata": {},
   "outputs": [],
   "source": [
    "# dataset_raw_conc_adj = []\n",
    "\n",
    "# for data_raw in dataset_raw_conc:\n",
    "#     label_timestamp = []\n",
    "#     for i in range(0, len(data_raw['label'])):\n",
    "#         label_timestamp.append([data_raw['label'][i], data_raw['timestamp'][i]])\n",
    "#     dataset_raw_conc_adj.append({\n",
    "#         'name': data_raw['name'],\n",
    "#         'path': data_raw['path'],\n",
    "#         'label_timestamp': label_timestamp\n",
    "#     })"
   ]
  },
  {
   "cell_type": "code",
   "execution_count": 122,
   "id": "22b99aad",
   "metadata": {},
   "outputs": [],
   "source": [
    "# list_result = []\n",
    "\n",
    "# for data_raw in dataset_raw_conc_adj:\n",
    "#     hasil_inferensi = single_inference(data_raw[\"path\"], [\"mamdani\", \"lgbm\"])\n",
    "#     path_infer = data_raw[\"path\"]\n",
    "#     result_infer = hasil_inferensi\n",
    "#     path_label = data_raw[\"path\"]\n",
    "#     result_label = data_raw[\"label_timestamp\"]\n",
    "    \n",
    "#     list_result.append({\n",
    "#         \"path\": path_infer,\n",
    "#         \"pred\": result_infer,\n",
    "#         \"label\": result_label\n",
    "#     })\n",
    "    \n",
    "#     plot_compare(path_infer, result_infer, path_label, result_label)"
   ]
  },
  {
   "cell_type": "code",
   "execution_count": 123,
   "id": "0d024a76",
   "metadata": {},
   "outputs": [],
   "source": [
    "# y_all = []\n",
    "\n",
    "# for result in list_result:\n",
    "#     y_pred = []\n",
    "#     for i in range(0, len(result)):\n",
    "#         pred = result[\"pred\"]\n",
    "#         label = result[\"label\"]\n",
    "#         for j in range(0, len(pred)):\n",
    "#             if label[j][1] == pred[j][1]:\n",
    "#                 y_all.append({\n",
    "#                     \"path\": result[\"path\"],\n",
    "#                     \"pred\": pred[j][0],\n",
    "#                     \"label\": label[j][0]\n",
    "#                 })"
   ]
  },
  {
   "cell_type": "code",
   "execution_count": 124,
   "id": "127dd5b2",
   "metadata": {},
   "outputs": [],
   "source": [
    "# y_pred_all = [y[\"pred\"] for y in y_all]\n",
    "# y_label_all = [y[\"label\"] for y in y_all]"
   ]
  },
  {
   "cell_type": "code",
   "execution_count": 125,
   "id": "99c1bddb",
   "metadata": {},
   "outputs": [],
   "source": [
    "# print(f\"Accuracy: {accuracy_score(y_label_all, y_pred_all)}\")\n",
    "# print(f\"Recall: {recall_score(y_label_all, y_pred_all, average='macro')}\")\n",
    "# print(f\"Precision: {precision_score(y_label_all, y_pred_all, average='macro')}\")\n",
    "# print(f\"F1-score: {f1_score(y_label_all, y_pred_all, average='macro')}\")\n",
    "# print(f\"Confusion Matrix:\\n {confusion_matrix(y_label_all, y_pred_all)}\")"
   ]
  },
  {
   "cell_type": "markdown",
   "id": "842723ef",
   "metadata": {},
   "source": [
    "# Run All Model\n"
   ]
  },
  {
   "cell_type": "code",
   "execution_count": 134,
   "id": "ef5f4a9b",
   "metadata": {},
   "outputs": [],
   "source": [
    "list_model = [\n",
    "    ['mamdani', 'mlp'],\n",
    "    ['mamdani', 'lgbm'],\n",
    "    ['lr', 'mlp'],\n",
    "    ['lr', 'lgbm'],\n",
    "    ['dt', 'mlp'],\n",
    "    ['dt', 'lgbm'],\n",
    "    'lgbm',\n",
    "    'mlp'\n",
    "]"
   ]
  },
  {
   "cell_type": "code",
   "execution_count": 135,
   "id": "64cdcc4c",
   "metadata": {},
   "outputs": [
    {
     "name": "stdout",
     "output_type": "stream",
     "text": [
      "\n",
      "Models ['mamdani', 'mlp']\n",
      "Accuracy: 0.806577480490524\n",
      "Recall: 0.806577480490524\n",
      "Precision: 0.8125072957494913\n",
      "F1-score: 0.8069127034461214\n",
      "Confusion Matrix:\n",
      " [[2092   72  444]\n",
      " [ 636 2032    0]\n",
      " [  48  188 1664]]\n",
      "Average Runtime: 0.2663744926452637\n",
      "Median Runtime: 0.13199102878570557\n",
      "\n",
      "Models ['mamdani', 'lgbm']\n",
      "Accuracy: 0.8344481605351171\n",
      "Recall: 0.8344481605351171\n",
      "Precision: 0.8361176842296993\n",
      "F1-score: 0.8340194950146642\n",
      "Confusion Matrix:\n",
      " [[2012  152  444]\n",
      " [ 356 2312    0]\n",
      " [   4  232 1664]]\n",
      "Average Runtime: 0.3190764278173447\n",
      "Median Runtime: 0.14997243881225586\n",
      "\n",
      "Models ['lr', 'mlp']\n",
      "Accuracy: 0.7987736900780379\n",
      "Recall: 0.7987736900780379\n",
      "Precision: 0.8020056261781602\n",
      "F1-score: 0.798970837990839\n",
      "Confusion Matrix:\n",
      " [[2156   72  380]\n",
      " [ 636 2032    0]\n",
      " [  60  296 1544]]\n",
      "Average Runtime: 0.2872806489467621\n",
      "Median Runtime: 0.13285887241363525\n",
      "\n",
      "Models ['lr', 'lgbm']\n",
      "Accuracy: 0.8255295429208472\n",
      "Recall: 0.8255295429208472\n",
      "Precision: 0.8261889021608652\n",
      "F1-score: 0.8253038499871026\n",
      "Confusion Matrix:\n",
      " [[2068  160  380]\n",
      " [ 356 2312    0]\n",
      " [  16  340 1544]]\n",
      "Average Runtime: 0.34585908353328704\n",
      "Median Runtime: 0.1665419340133667\n",
      "\n",
      "Models ['dt', 'mlp']\n",
      "Accuracy: 0.8132664437012264\n",
      "Recall: 0.8132664437012264\n",
      "Precision: 0.8318556751371609\n",
      "F1-score: 0.8127850574242346\n",
      "Confusion Matrix:\n",
      " [[1948   72  588]\n",
      " [ 560 2008  100]\n",
      " [   4   16 1880]]\n",
      "Average Runtime: 0.2706254035234451\n",
      "Median Runtime: 0.13170301914215088\n",
      "\n",
      "Models ['dt', 'lgbm']\n",
      "Accuracy: 0.8355629877369007\n",
      "Recall: 0.8355629877369007\n",
      "Precision: 0.849953478282931\n",
      "F1-score: 0.8348438778681438\n",
      "Confusion Matrix:\n",
      " [[1892  128  588]\n",
      " [ 344 2224  100]\n",
      " [   0   20 1880]]\n",
      "Average Runtime: 0.3602471113204956\n",
      "Median Runtime: 0.17842841148376465\n",
      "\n",
      "Models lgbm\n",
      "Accuracy: 0.9035674470457079\n",
      "Recall: 0.9035674470457079\n",
      "Precision: 0.90657404350533\n",
      "F1-score: 0.9037620202233\n",
      "Confusion Matrix:\n",
      " [[2460  104   44]\n",
      " [ 292 2328   48]\n",
      " [ 124   80 1696]]\n",
      "Average Runtime: 0.4533237308263779\n",
      "Median Runtime: 0.18426287174224854\n",
      "\n",
      "Models mlp\n",
      "Accuracy: 0.875139353400223\n",
      "Recall: 0.875139353400223\n",
      "Precision: 0.89047978087285\n",
      "F1-score: 0.876280832967023\n",
      "Confusion Matrix:\n",
      " [[2504   80   24]\n",
      " [ 420 2228   20]\n",
      " [ 296   56 1548]]\n",
      "Average Runtime: 0.35280553102493284\n",
      "Median Runtime: 0.1454615592956543\n"
     ]
    }
   ],
   "source": [
    "skor_hasil = []\n",
    "\n",
    "for models in list_model:\n",
    "    list_result = []\n",
    "\n",
    "    for data_raw in dataset_raw_conc_adj:\n",
    "        runtime_start = time.time()\n",
    "        hasil_inferensi = single_inference(data_raw[\"path\"], models)\n",
    "        runtime_end = time.time()\n",
    "        runtime = runtime_end - runtime_start \n",
    "        path_infer = data_raw[\"path\"]\n",
    "        result_infer = hasil_inferensi\n",
    "        path_label = data_raw[\"path\"]\n",
    "        result_label = data_raw[\"label_timestamp\"]\n",
    "        \n",
    "        list_result.append({\n",
    "            \"path\": path_infer,\n",
    "            \"pred\": result_infer,\n",
    "            \"label\": result_label,\n",
    "            \"runtime\": runtime\n",
    "        })\n",
    "        \n",
    "    y_all = []\n",
    "\n",
    "    for result in list_result:\n",
    "        y_pred = []\n",
    "        for i in range(0, len(result)):\n",
    "            pred = result[\"pred\"]\n",
    "            label = result[\"label\"]\n",
    "            for j in range(0, len(pred)):\n",
    "                if label[j][1] == pred[j][1]:\n",
    "                    y_all.append({\n",
    "                        \"path\": result[\"path\"],\n",
    "                        \"pred\": pred[j][0],\n",
    "                        \"label\": label[j][0]\n",
    "                    })\n",
    "    y_pred_all = [y[\"pred\"] for y in y_all]\n",
    "    y_label_all = [y[\"label\"] for y in y_all]\n",
    "\n",
    "    print(f\"\\nModels {models}\")\n",
    "    print(f\"Accuracy: {accuracy_score(y_label_all, y_pred_all)}\")\n",
    "    print(f\"Recall: {recall_score(y_label_all, y_pred_all, average='weighted')}\")\n",
    "    print(f\"Precision: {precision_score(y_label_all, y_pred_all, average='weighted')}\")\n",
    "    print(f\"F1-score: {f1_score(y_label_all, y_pred_all, average='weighted')}\")\n",
    "    print(f\"Confusion Matrix:\\n {confusion_matrix(y_label_all, y_pred_all)}\")\n",
    "    print(f\"Average Runtime: {np.mean([x['runtime'] for x in list_result])}\")\n",
    "    print(f\"Median Runtime: {np.median([x['runtime'] for x in list_result])}\")\n",
    "    \n",
    "    skor_hasil.append({\n",
    "        \"models\": models,\n",
    "        \"accuracy\": accuracy_score(y_label_all, y_pred_all),\n",
    "        \"recall\": recall_score(y_label_all, y_pred_all, average='weighted'),\n",
    "        \"precision\": precision_score(y_label_all, y_pred_all, average='weighted'),\n",
    "        \"f1_score\": f1_score(y_label_all, y_pred_all, average='weighted'),\n",
    "        \"confusion_matrix\": confusion_matrix(y_label_all, y_pred_all),\n",
    "        \"average_runtime\": np.mean([x['runtime'] for x in list_result]),\n",
    "        \"median_runtime\": np.median([x['runtime'] for x in list_result])\n",
    "    })"
   ]
  },
  {
   "cell_type": "code",
   "execution_count": 136,
   "id": "9cfd1e75",
   "metadata": {},
   "outputs": [],
   "source": [
    "df_result = pd.DataFrame(skor_hasil, columns=[\"models\", \"accuracy\", \"recall\", \"precision\", \"f1_score\", \"average_runtime\", \"median_runtime\"])"
   ]
  },
  {
   "cell_type": "code",
   "execution_count": 137,
   "id": "369b2767",
   "metadata": {},
   "outputs": [
    {
     "data": {
      "text/html": [
       "<div>\n",
       "<style scoped>\n",
       "    .dataframe tbody tr th:only-of-type {\n",
       "        vertical-align: middle;\n",
       "    }\n",
       "\n",
       "    .dataframe tbody tr th {\n",
       "        vertical-align: top;\n",
       "    }\n",
       "\n",
       "    .dataframe thead th {\n",
       "        text-align: right;\n",
       "    }\n",
       "</style>\n",
       "<table border=\"1\" class=\"dataframe\">\n",
       "  <thead>\n",
       "    <tr style=\"text-align: right;\">\n",
       "      <th></th>\n",
       "      <th>models</th>\n",
       "      <th>accuracy</th>\n",
       "      <th>recall</th>\n",
       "      <th>precision</th>\n",
       "      <th>f1_score</th>\n",
       "      <th>average_runtime</th>\n",
       "      <th>median_runtime</th>\n",
       "    </tr>\n",
       "  </thead>\n",
       "  <tbody>\n",
       "    <tr>\n",
       "      <th>2</th>\n",
       "      <td>[lr, mlp]</td>\n",
       "      <td>0.798774</td>\n",
       "      <td>0.798774</td>\n",
       "      <td>0.802006</td>\n",
       "      <td>0.798971</td>\n",
       "      <td>0.287281</td>\n",
       "      <td>0.132859</td>\n",
       "    </tr>\n",
       "    <tr>\n",
       "      <th>0</th>\n",
       "      <td>[mamdani, mlp]</td>\n",
       "      <td>0.806577</td>\n",
       "      <td>0.806577</td>\n",
       "      <td>0.812507</td>\n",
       "      <td>0.806913</td>\n",
       "      <td>0.266374</td>\n",
       "      <td>0.131991</td>\n",
       "    </tr>\n",
       "    <tr>\n",
       "      <th>4</th>\n",
       "      <td>[dt, mlp]</td>\n",
       "      <td>0.813266</td>\n",
       "      <td>0.813266</td>\n",
       "      <td>0.831856</td>\n",
       "      <td>0.812785</td>\n",
       "      <td>0.270625</td>\n",
       "      <td>0.131703</td>\n",
       "    </tr>\n",
       "    <tr>\n",
       "      <th>3</th>\n",
       "      <td>[lr, lgbm]</td>\n",
       "      <td>0.825530</td>\n",
       "      <td>0.825530</td>\n",
       "      <td>0.826189</td>\n",
       "      <td>0.825304</td>\n",
       "      <td>0.345859</td>\n",
       "      <td>0.166542</td>\n",
       "    </tr>\n",
       "    <tr>\n",
       "      <th>1</th>\n",
       "      <td>[mamdani, lgbm]</td>\n",
       "      <td>0.834448</td>\n",
       "      <td>0.834448</td>\n",
       "      <td>0.836118</td>\n",
       "      <td>0.834019</td>\n",
       "      <td>0.319076</td>\n",
       "      <td>0.149972</td>\n",
       "    </tr>\n",
       "    <tr>\n",
       "      <th>5</th>\n",
       "      <td>[dt, lgbm]</td>\n",
       "      <td>0.835563</td>\n",
       "      <td>0.835563</td>\n",
       "      <td>0.849953</td>\n",
       "      <td>0.834844</td>\n",
       "      <td>0.360247</td>\n",
       "      <td>0.178428</td>\n",
       "    </tr>\n",
       "    <tr>\n",
       "      <th>7</th>\n",
       "      <td>mlp</td>\n",
       "      <td>0.875139</td>\n",
       "      <td>0.875139</td>\n",
       "      <td>0.890480</td>\n",
       "      <td>0.876281</td>\n",
       "      <td>0.352806</td>\n",
       "      <td>0.145462</td>\n",
       "    </tr>\n",
       "    <tr>\n",
       "      <th>6</th>\n",
       "      <td>lgbm</td>\n",
       "      <td>0.903567</td>\n",
       "      <td>0.903567</td>\n",
       "      <td>0.906574</td>\n",
       "      <td>0.903762</td>\n",
       "      <td>0.453324</td>\n",
       "      <td>0.184263</td>\n",
       "    </tr>\n",
       "  </tbody>\n",
       "</table>\n",
       "</div>"
      ],
      "text/plain": [
       "            models  accuracy    recall  precision  f1_score  average_runtime  \\\n",
       "2        [lr, mlp]  0.798774  0.798774   0.802006  0.798971         0.287281   \n",
       "0   [mamdani, mlp]  0.806577  0.806577   0.812507  0.806913         0.266374   \n",
       "4        [dt, mlp]  0.813266  0.813266   0.831856  0.812785         0.270625   \n",
       "3       [lr, lgbm]  0.825530  0.825530   0.826189  0.825304         0.345859   \n",
       "1  [mamdani, lgbm]  0.834448  0.834448   0.836118  0.834019         0.319076   \n",
       "5       [dt, lgbm]  0.835563  0.835563   0.849953  0.834844         0.360247   \n",
       "7              mlp  0.875139  0.875139   0.890480  0.876281         0.352806   \n",
       "6             lgbm  0.903567  0.903567   0.906574  0.903762         0.453324   \n",
       "\n",
       "   median_runtime  \n",
       "2        0.132859  \n",
       "0        0.131991  \n",
       "4        0.131703  \n",
       "3        0.166542  \n",
       "1        0.149972  \n",
       "5        0.178428  \n",
       "7        0.145462  \n",
       "6        0.184263  "
      ]
     },
     "execution_count": 137,
     "metadata": {},
     "output_type": "execute_result"
    }
   ],
   "source": [
    "df_result.sort_values(\"accuracy\", ascending=True)"
   ]
  },
  {
   "cell_type": "code",
   "execution_count": 139,
   "id": "535df90c",
   "metadata": {},
   "outputs": [],
   "source": [
    "df_result.to_excel(\"Result_Kombinasi_Model.xlsx\", index=False)\n",
    "\n",
    "with open(f\"{PATH_MAIN}/Result_Kombinasi_Model.pkl\", \"wb\") as f:\n",
    "    pickle.dump(skor_hasil, f)"
   ]
  }
 ],
 "metadata": {
  "kernelspec": {
   "display_name": "Python 3",
   "language": "python",
   "name": "python3"
  },
  "language_info": {
   "codemirror_mode": {
    "name": "ipython",
    "version": 3
   },
   "file_extension": ".py",
   "mimetype": "text/x-python",
   "name": "python",
   "nbconvert_exporter": "python",
   "pygments_lexer": "ipython3",
   "version": "3.12.4"
  }
 },
 "nbformat": 4,
 "nbformat_minor": 5
}
