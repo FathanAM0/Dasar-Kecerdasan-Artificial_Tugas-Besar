{
 "cells": [
  {
   "cell_type": "markdown",
   "id": "31c44c16",
   "metadata": {},
   "source": [
    "Library\n"
   ]
  },
  {
   "cell_type": "code",
   "execution_count": 41,
   "id": "7b0b2efb",
   "metadata": {},
   "outputs": [],
   "source": [
    "import math\n",
    "import joblib\n",
    "import numpy as np\n",
    "import scipy.signal\n",
    "import scipy.fftpack\n",
    "import librosa\n",
    "import soundfile as sf\n",
    "import skfuzzy as fuzz\n",
    "from skfuzzy import control as ctrl\n",
    "import matplotlib.pyplot as plt\n",
    "from scipy.signal import resample_poly"
   ]
  },
  {
   "cell_type": "markdown",
   "id": "73ceaadf",
   "metadata": {},
   "source": [
    "Konstanta\n"
   ]
  },
  {
   "cell_type": "code",
   "execution_count": 42,
   "id": "ebd6a006",
   "metadata": {},
   "outputs": [],
   "source": [
    "SAMPLE_RATE = 48000\n",
    "SEGMENT_DURATION = int(1 * SAMPLE_RATE)\n",
    "OVERLAP_DURATION = int(0.5 * SAMPLE_RATE)"
   ]
  },
  {
   "cell_type": "markdown",
   "id": "ac734920",
   "metadata": {},
   "source": [
    "Random Seed\n"
   ]
  },
  {
   "cell_type": "code",
   "execution_count": 43,
   "id": "203c1f67",
   "metadata": {},
   "outputs": [],
   "source": [
    "RANDOM_SEED = 21\n",
    "\n",
    "try:\n",
    "    from sklearn.utils import check_random_state\n",
    "    random_state = check_random_state(RANDOM_SEED)\n",
    "except ImportError:\n",
    "    pass"
   ]
  },
  {
   "cell_type": "markdown",
   "id": "59f4e892",
   "metadata": {},
   "source": [
    "# Pra-Pemrosesan\n"
   ]
  },
  {
   "cell_type": "code",
   "execution_count": 44,
   "id": "f3b0e38a",
   "metadata": {},
   "outputs": [],
   "source": [
    "def load_file_audio(path):\n",
    "    audio, sr = sf.read(path)\n",
    "    return np.array(audio), sr\n",
    "\n",
    "def prapemrosesan_downmixing(audio):\n",
    "    if audio.ndim > 1:\n",
    "        audio = np.mean(audio, axis=1)\n",
    "    return audio.astype(np.float32)\n",
    "\n",
    "def prapemrosesan_resampling(audio, sr):\n",
    "    if sr == SAMPLE_RATE:\n",
    "        return audio.copy(), SAMPLE_RATE\n",
    "    \n",
    "    ratio = SAMPLE_RATE / sr\n",
    "    n_samples = int(np.round(len(audio) * ratio))\n",
    "    \n",
    "    x_old = np.linspace(0, 1, len(audio))\n",
    "    x_new = np.linspace(0, 1, n_samples)\n",
    "    return np.interp(x_new, x_old, audio), SAMPLE_RATE\n",
    "\n",
    "def prapemrosesan_padding(audio):\n",
    "    if np.mod(audio.shape[0], SEGMENT_DURATION) != 0:\n",
    "        padding = SEGMENT_DURATION - (audio.shape[0] % SEGMENT_DURATION)\n",
    "        audio = np.pad(audio, (0, padding))\n",
    "    return audio\n",
    "\n",
    "def prapemrosesan_splitting(audio):\n",
    "    num_segments = int(np.floor((len(audio) - SEGMENT_DURATION) / OVERLAP_DURATION)) + 1\n",
    "    segments = []\n",
    "\n",
    "    for i in range(num_segments):\n",
    "        start = int(i * OVERLAP_DURATION)\n",
    "        end = int(start + SEGMENT_DURATION)\n",
    "        segment = audio[start:end]\n",
    "        if len(segment) < SEGMENT_DURATION:\n",
    "            segment = np.pad(segment, (0, SEGMENT_DURATION - len(segment)), mode='constant')\n",
    "        segments.append(segment)\n",
    "\n",
    "    return np.array(segments)"
   ]
  },
  {
   "cell_type": "markdown",
   "id": "7ab421a3",
   "metadata": {},
   "source": [
    "# Ekstraksi Fitur\n"
   ]
  },
  {
   "cell_type": "code",
   "execution_count": 45,
   "id": "01da516e",
   "metadata": {},
   "outputs": [],
   "source": [
    "def get_rms(segment):\n",
    "    return np.sqrt(np.mean(segment ** 2))\n",
    "\n",
    "def get_zcr(segment):\n",
    "    return np.sum(np.abs(np.diff(np.signbit(segment)))) / (len(segment) / SAMPLE_RATE)\n",
    "\n",
    "def get_lms(segment):\n",
    "    mel_spec = librosa.feature.melspectrogram(y=segment, sr=SAMPLE_RATE)\n",
    "    return np.mean(mel_spec)"
   ]
  },
  {
   "cell_type": "markdown",
   "id": "c8e1b834",
   "metadata": {},
   "source": [
    "# Fuzzy Inference System\n"
   ]
  },
  {
   "cell_type": "markdown",
   "id": "4ffdbab6",
   "metadata": {},
   "source": [
    "## Mamdani\n"
   ]
  },
  {
   "cell_type": "code",
   "execution_count": 46,
   "id": "580fd6af",
   "metadata": {},
   "outputs": [],
   "source": [
    "def sistem_fuzzy_mamdani():\n",
    "    # Adjusted ranges based on statistical values\n",
    "    rms = ctrl.Antecedent(np.arange(0, 0.2, 0.001), 'rms')   # Max RMS ~0.18\n",
    "    zcr = ctrl.Antecedent(np.arange(0, 15000, 10), 'zcr')    # Max ZCR ~14626\n",
    "    output = ctrl.Consequent(np.arange(0, 1.1, 0.01), 'output')\n",
    "\n",
    "    # RMS Membership Functions (based on mean & std)\n",
    "    rms['low'] = fuzz.sigmf(rms.universe, 0.04, -50)       # ~mean - std\n",
    "    rms['medium'] = fuzz.gaussmf(rms.universe, 0.06, 0.02) # ~mean + small spread\n",
    "    rms['high'] = fuzz.sigmf(rms.universe, 0.1, 50)        # ~mean + 2*std\n",
    "\n",
    "    # ZCR Membership Functions\n",
    "    zcr['infrequent'] = fuzz.sigmf(zcr.universe, 5000, -0.05)\n",
    "    zcr['moderate'] = fuzz.gaussmf(zcr.universe, 8000, 2000)\n",
    "    zcr['frequent'] = fuzz.sigmf(zcr.universe, 11000, 0.05)\n",
    "\n",
    "    # Output\n",
    "    output['not_loud'] = fuzz.sigmf(output.universe, 0.4, -20)\n",
    "    output['loud'] = fuzz.sigmf(output.universe, 0.6, 20)\n",
    "\n",
    "    # Rules (unchanged, still valid)\n",
    "    rules = [\n",
    "        ctrl.Rule(rms['low'] & zcr['infrequent'], output['not_loud']),\n",
    "        ctrl.Rule(rms['low'] & zcr['moderate'], output['not_loud']),\n",
    "        ctrl.Rule(rms['low'] & zcr['frequent'], output['not_loud']),\n",
    "        ctrl.Rule(rms['medium'] & zcr['infrequent'], output['not_loud']),\n",
    "        ctrl.Rule(rms['medium'] & zcr['moderate'], output['not_loud']),\n",
    "        ctrl.Rule(rms['medium'] & zcr['frequent'], output['loud']),\n",
    "        ctrl.Rule(rms['high'] & zcr['infrequent'], output['loud']),\n",
    "        ctrl.Rule(rms['high'] & zcr['moderate'], output['loud']),\n",
    "        ctrl.Rule(rms['high'] & zcr['frequent'], output['loud'])\n",
    "    ]\n",
    "\n",
    "    system = ctrl.ControlSystem(rules)\n",
    "    return system\n",
    "\n",
    "def fuzzy_mamdani(rms_val, zcr_val, system=None):\n",
    "    if system is None:\n",
    "        system = sistem_fuzzy_mamdani()\n",
    "    sim = ctrl.ControlSystemSimulation(system)\n",
    "    sim.input['rms'] = rms_val\n",
    "    sim.input['zcr'] = zcr_val\n",
    "    try:\n",
    "        sim.compute()\n",
    "        return int(round(sim.output['output']))\n",
    "    except:\n",
    "        return 0  # Default if computation fails"
   ]
  },
  {
   "cell_type": "markdown",
   "id": "37a0f58c",
   "metadata": {},
   "source": [
    "## Sugeno\n"
   ]
  },
  {
   "cell_type": "code",
   "execution_count": 47,
   "id": "3327b064",
   "metadata": {},
   "outputs": [],
   "source": [
    "def sistem_fuzzy_sugeno():\n",
    "    # Adjusted ranges\n",
    "    rms = ctrl.Antecedent(np.arange(0, 0.2, 0.001), 'rms')\n",
    "    zcr = ctrl.Antecedent(np.arange(0, 15000, 10), 'zcr')\n",
    "    output = ctrl.Consequent(np.arange(0, 1.1, 0.01), 'output', defuzzify_method='centroid')\n",
    "\n",
    "    # RMS Membership\n",
    "    rms['low'] = fuzz.sigmf(rms.universe, 0.04, -50)\n",
    "    rms['medium'] = fuzz.gaussmf(rms.universe, 0.06, 0.02)\n",
    "    rms['high'] = fuzz.sigmf(rms.universe, 0.1, 50)\n",
    "\n",
    "    # ZCR Membership\n",
    "    zcr['infrequent'] = fuzz.sigmf(zcr.universe, 5000, -0.05)\n",
    "    zcr['moderate'] = fuzz.gaussmf(zcr.universe, 8000, 2000)\n",
    "    zcr['frequent'] = fuzz.sigmf(zcr.universe, 11000, 0.05)\n",
    "\n",
    "    # Sugeno singleton outputs\n",
    "    output['not_loud'] = 0.0\n",
    "    output['loud'] = 1.0\n",
    "\n",
    "    # Rules\n",
    "    rules = [\n",
    "        ctrl.Rule(rms['low'] & zcr['infrequent'], output['not_loud']),\n",
    "        ctrl.Rule(rms['low'] & zcr['moderate'], output['not_loud']),\n",
    "        ctrl.Rule(rms['low'] & zcr['frequent'], output['not_loud']),\n",
    "        ctrl.Rule(rms['medium'] & zcr['infrequent'], output['not_loud']),\n",
    "        ctrl.Rule(rms['medium'] & zcr['moderate'], output['not_loud']),\n",
    "        ctrl.Rule(rms['medium'] & zcr['frequent'], output['loud']),\n",
    "        ctrl.Rule(rms['high'] & zcr['infrequent'], output['loud']),\n",
    "        ctrl.Rule(rms['high'] & zcr['moderate'], output['loud']),\n",
    "        ctrl.Rule(rms['high'] & zcr['frequent'], output['loud'])\n",
    "    ]\n",
    "\n",
    "    system = ctrl.ControlSystem(rules)\n",
    "    return system\n",
    "\n",
    "def fuzzy_sugeno(rms_val, zcr_val, system=None):\n",
    "    if system is None:\n",
    "        system = sistem_fuzzy_sugeno()\n",
    "    sim = ctrl.ControlSystemSimulation(system)\n",
    "    sim.input['rms'] = rms_val\n",
    "    sim.input['zcr'] = zcr_val\n",
    "    try:\n",
    "        sim.compute()\n",
    "        return int(round(sim.output['output']))\n",
    "    except:\n",
    "        return 0"
   ]
  },
  {
   "cell_type": "markdown",
   "id": "cd8dbb8f",
   "metadata": {},
   "source": [
    "# Supervised Model\n"
   ]
  },
  {
   "cell_type": "code",
   "execution_count": 48,
   "id": "47dd73ad",
   "metadata": {},
   "outputs": [],
   "source": [
    "# # LGBM\n",
    "# lgbm_path = r\"\"\n",
    "# model_lgbm = joblib.load(lgbm_path)\n",
    "\n",
    "# # CNN\n",
    "# cnn_path = r\"\"\n",
    "# model_cnn = joblib.load(cnn_path)\n",
    "\n",
    "# # Conformer\n",
    "# conformer_path = r\"\"\n",
    "# model_conformer = joblib.load(conformer_path)"
   ]
  },
  {
   "cell_type": "markdown",
   "id": "d37fcdf2",
   "metadata": {},
   "source": [
    "# Visualization\n"
   ]
  },
  {
   "cell_type": "code",
   "execution_count": 54,
   "id": "feab1560",
   "metadata": {},
   "outputs": [],
   "source": [
    "def plot_audio_with_loud_segments(audio_path, list_result):\n",
    "    audio, sr = load_file_audio(audio_path)\n",
    "    audio = prapemrosesan_downmixing(audio)\n",
    "    audio, sr = prapemrosesan_resampling(audio, sr)\n",
    "    \n",
    "    time_axis = np.linspace(0, len(audio) / SAMPLE_RATE, len(audio))\n",
    "    \n",
    "    plt.figure(figsize=(14, 4))\n",
    "    plt.plot(time_axis, audio, label=\"Amplitude\")\n",
    "    plt.title(\"Audio waveform with loud segments marked\")\n",
    "    plt.xlabel(\"Time (s)\")\n",
    "    plt.ylabel(\"Amplitude\")\n",
    "    \n",
    "    for i, (out, _, _) in enumerate(list_result):\n",
    "        if out == 1:\n",
    "            start_time = i * (SEGMENT_DURATION / SAMPLE_RATE)\n",
    "            end_time = start_time + (SEGMENT_DURATION / SAMPLE_RATE)\n",
    "            plt.axvspan(start_time, end_time, color='red', alpha=0.3)\n",
    "    \n",
    "    plt.tight_layout()\n",
    "    plt.legend()\n",
    "    plt.show()"
   ]
  },
  {
   "cell_type": "markdown",
   "id": "c793336e",
   "metadata": {},
   "source": [
    "# Main\n"
   ]
  },
  {
   "cell_type": "markdown",
   "id": "7bdbb050",
   "metadata": {},
   "source": [
    "## Single Audio Inference\n"
   ]
  },
  {
   "cell_type": "code",
   "execution_count": 50,
   "id": "0d832ec5",
   "metadata": {},
   "outputs": [],
   "source": [
    "def single_inference(path, fis, sm):\n",
    "    audio, sr = load_file_audio(path)\n",
    "    audio = prapemrosesan_downmixing(audio)\n",
    "    audio, sr = prapemrosesan_resampling(audio, sr)\n",
    "    audio = prapemrosesan_padding(audio)\n",
    "    segments = prapemrosesan_splitting(audio)\n",
    "    \n",
    "    list_result = []\n",
    "    for segment in segments:\n",
    "        rms = get_rms(segment)\n",
    "        zcr = get_zcr(segment)\n",
    "        \n",
    "        if fis == \"mamdani\":\n",
    "            out = fuzzy_mamdani(rms, zcr)\n",
    "        else:\n",
    "            out = fuzzy_sugeno(rms, zcr)\n",
    "                \n",
    "        # if out != 2:\n",
    "        #     spec = get_lms(segment)\n",
    "        #     if sm == \"lgbm\":\n",
    "        #         out = model_lgbm(spec)\n",
    "        #     else sm == \"cnn\":\n",
    "        #         out = model_cnn(spec)\n",
    "        #     else:\n",
    "        #         out = model_conformer(spec)\n",
    "        \n",
    "        list_result.append((out, round(rms, 5), round(zcr, 5)))\n",
    "    \n",
    "    return list_result"
   ]
  },
  {
   "cell_type": "markdown",
   "id": "1961903e",
   "metadata": {},
   "source": [
    "# Execution\n"
   ]
  },
  {
   "cell_type": "code",
   "execution_count": 57,
   "id": "d19f0ce9",
   "metadata": {},
   "outputs": [
    {
     "data": {
      "image/png": "[encoded data removed]",
      "text/plain": [
       "<Figure size 1400x400 with 1 Axes>"
      ]
     },
     "metadata": {},
     "output_type": "display_data"
    }
   ],
   "source": [
    "# audio_path = r\"C:\\Users\\Lulay\\Documents\\GitHub\\Dasar-Kecerdasan-Artificial_Tugas-Besar\\Dataset\\noise-audio-data\\1-7974-B-49.wav\"\n",
    "audio_path = r\"C:\\Users\\Lulay\\Documents\\GitHub\\Dasar-Kecerdasan-Artificial_Tugas-Besar\\Dataset\\xeno-canto\\498380.mp3\"\n",
    "option_fis = \"mamdani\"\n",
    "option_sm = \"cnn\"\n",
    "\n",
    "hasil_inferensi = single_inference(audio_path, option_fis, option_sm)\n",
    "plot_audio_with_loud_segments(audio_path, hasil_inferensi)"
   ]
  }
 ],
 "metadata": {
  "kernelspec": {
   "display_name": "Python 3",
   "language": "python",
   "name": "python3"
  },
  "language_info": {
   "codemirror_mode": {
    "name": "ipython",
    "version": 3
   },
   "file_extension": ".py",
   "mimetype": "text/x-python",
   "name": "python",
   "nbconvert_exporter": "python",
   "pygments_lexer": "ipython3",
   "version": "3.12.4"
  }
 },
 "nbformat": 4,
 "nbformat_minor": 5
}
