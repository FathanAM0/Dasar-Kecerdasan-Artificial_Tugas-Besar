{
 "cells": [
  {
   "cell_type": "markdown",
   "id": "31c44c16",
   "metadata": {},
   "source": [
    "Library\n"
   ]
  },
  {
   "cell_type": "code",
   "execution_count": null,
   "id": "7b0b2efb",
   "metadata": {},
   "outputs": [],
   "source": []
  },
  {
   "cell_type": "markdown",
   "id": "f4b800ad",
   "metadata": {},
   "source": [
    "Konstanta\n"
   ]
  },
  {
   "cell_type": "code",
   "execution_count": null,
   "id": "3b497a8f",
   "metadata": {},
   "outputs": [],
   "source": [
    "SAMPLE_RATE = 48000\n",
    "SEGMENT_DURATION = int(1 * SAMPLE_RATE)\n",
    "OVERLAP_DURATION = int(0.5 * SAMPLE_RATE)"
   ]
  },
  {
   "cell_type": "markdown",
   "id": "8ba3d2de",
   "metadata": {},
   "source": [
    "Load Model\n"
   ]
  },
  {
   "cell_type": "code",
   "execution_count": null,
   "id": "041f53e8",
   "metadata": {},
   "outputs": [],
   "source": [
    "model_path = r\"\"\n",
    "model = joblib.load(model_path)"
   ]
  },
  {
   "cell_type": "markdown",
   "id": "7471ddf6",
   "metadata": {},
   "source": [
    "Load Audio\n"
   ]
  },
  {
   "cell_type": "code",
   "execution_count": null,
   "id": "e55da6be",
   "metadata": {},
   "outputs": [],
   "source": [
    "audio_path = r\"\"\n",
    "\n",
    "audio, sr = input_audio_file(audio_path)"
   ]
  },
  {
   "cell_type": "markdown",
   "id": "bc45c810",
   "metadata": {},
   "source": [
    "Pra-Pemrosesan\n"
   ]
  },
  {
   "cell_type": "code",
   "execution_count": null,
   "id": "7a03ac87",
   "metadata": {},
   "outputs": [],
   "source": [
    "audio = preprocess_downmix(audio)\n",
    "audio, sr = preprocessing_resample(audio, sr)\n",
    "audio = preprocessing_padding(audio)"
   ]
  },
  {
   "cell_type": "markdown",
   "id": "8c3cf157",
   "metadata": {},
   "source": [
    "Split\n"
   ]
  },
  {
   "cell_type": "code",
   "execution_count": null,
   "id": "61ea74f0",
   "metadata": {},
   "outputs": [],
   "source": [
    "segments = split_audio(audio)"
   ]
  },
  {
   "cell_type": "markdown",
   "id": "57dfc996",
   "metadata": {},
   "source": [
    "Ekstraksi Fitur\n"
   ]
  },
  {
   "cell_type": "code",
   "execution_count": null,
   "id": "2b09d228",
   "metadata": {},
   "outputs": [],
   "source": [
    "list_result = []\n",
    "\n",
    "for segment in segments:\n",
    "    rms = get_rms(segment)\n",
    "    zcr = get_zcr(segment)\n",
    "    \n",
    "    fz_rms, fz_zcr = fuzifikasi(rms, zcr)\n",
    "    fz_out = inferensi(fz_rms, fz_zcr)\n",
    "    agr_out = agregasi(fz_out)\n",
    "    out = defuzifikasi(agr_out)\n",
    "    \n",
    "    if out != 2:\n",
    "        spec = get_logmel_spectrogram(segment)\n",
    "        out = model.pred(spec)\n",
    "    \n",
    "    list_result.append(out)"
   ]
  },
  {
   "cell_type": "markdown",
   "id": "a2d5df5b",
   "metadata": {},
   "source": [
    "Output\n"
   ]
  },
  {
   "cell_type": "code",
   "execution_count": null,
   "id": "b5d19fd1",
   "metadata": {},
   "outputs": [],
   "source": [
    "print(list_result)"
   ]
  }
 ],
 "metadata": {
  "language_info": {
   "name": "python"
  }
 },
 "nbformat": 4,
 "nbformat_minor": 5
}
