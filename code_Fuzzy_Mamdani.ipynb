{
 "cells": [
  {
   "cell_type": "code",
   "execution_count": 14,
   "id": "6d39902f",
   "metadata": {},
   "outputs": [],
   "source": [
    "import numpy as np\n",
    "import pandas as pd\n",
    "import skfuzzy as fuzz\n",
    "from skfuzzy import control as ctrl\n",
    "\n",
    "# Load dataset\n",
    "df = pd.read_csv(r\"C:\\Users\\Lulay\\Desktop\\Kuliah\\Semester 4\\Dasar Kecerdasan Artifisial\\Tugas\\W10_Tugas_Besar\\engine_data.csv\")"
   ]
  },
  {
   "cell_type": "code",
   "execution_count": 15,
   "id": "54fad31e",
   "metadata": {},
   "outputs": [],
   "source": [
    "# Helper function to get fuzzy range\n",
    "def get_ranges(column):\n",
    "    q25 = df[column].quantile(0.25)\n",
    "    q50 = df[column].quantile(0.5)\n",
    "    q75 = df[column].quantile(0.75)\n",
    "    min_val = df[column].min()\n",
    "    max_val = df[column].max()\n",
    "    return min_val, q25, q50, q75, max_val\n",
    "\n",
    "# Get ranges\n",
    "rpm_min, rpm_q25, rpm_q50, rpm_q75, rpm_max = get_ranges('Engine rpm')\n",
    "lop_min, lop_q25, lop_q50, lop_q75, lop_max = get_ranges('Lub oil pressure')\n",
    "fp_min, fp_q25, fp_q50, fp_q75, fp_max = get_ranges('Fuel pressure')\n",
    "\n",
    "# Define fuzzy input variables\n",
    "engine_rpm = ctrl.Antecedent(np.arange(rpm_min, rpm_max+1, 1), 'engine_rpm')\n",
    "lub_oil_pressure = ctrl.Antecedent(np.arange(lop_min, lop_max+0.1, 0.1), 'lub_oil_pressure')\n",
    "fuel_pressure = ctrl.Antecedent(np.arange(fp_min, fp_max+0.1, 0.1), 'fuel_pressure')\n",
    "\n",
    "# Define fuzzy output variable (binary: 0 = bad, 1 = good)\n",
    "engine_condition = ctrl.Consequent(np.arange(0, 1.01, 0.01), 'engine_condition')\n",
    "\n",
    "# Membership functions for inputs\n",
    "engine_rpm['low'] = fuzz.trimf(engine_rpm.universe, [rpm_min, rpm_min, rpm_q50])\n",
    "engine_rpm['medium'] = fuzz.trimf(engine_rpm.universe, [rpm_q25, rpm_q50, rpm_q75])\n",
    "engine_rpm['high'] = fuzz.trimf(engine_rpm.universe, [rpm_q50, rpm_max, rpm_max])\n",
    "\n",
    "lub_oil_pressure['low'] = fuzz.trimf(lub_oil_pressure.universe, [lop_min, lop_min, lop_q50])\n",
    "lub_oil_pressure['normal'] = fuzz.trimf(lub_oil_pressure.universe, [lop_q25, lop_q50, lop_q75])\n",
    "lub_oil_pressure['high'] = fuzz.trimf(lub_oil_pressure.universe, [lop_q50, lop_max, lop_max])\n",
    "\n",
    "fuel_pressure['low'] = fuzz.trimf(fuel_pressure.universe, [fp_min, fp_min, fp_q50])\n",
    "fuel_pressure['normal'] = fuzz.trimf(fuel_pressure.universe, [fp_q25, fp_q50, fp_q75])\n",
    "fuel_pressure['high'] = fuzz.trimf(fuel_pressure.universe, [fp_q50, fp_max, fp_max])\n",
    "\n",
    "# Membership functions for output\n",
    "engine_condition['bad'] = fuzz.trimf(engine_condition.universe, [0, 0, 0.5])\n",
    "engine_condition['good'] = fuzz.trimf(engine_condition.universe, [0.5, 1, 1])\n",
    "\n",
    "# Define fuzzy rules\n",
    "rule1 = ctrl.Rule(engine_rpm['low'] & lub_oil_pressure['low'] & fuel_pressure['low'], engine_condition['bad'])\n",
    "rule2 = ctrl.Rule(engine_rpm['medium'] & lub_oil_pressure['normal'] & fuel_pressure['normal'], engine_condition['bad'])\n",
    "rule3 = ctrl.Rule(engine_rpm['high'] & lub_oil_pressure['high'] & fuel_pressure['high'], engine_condition['good'])\n",
    "\n",
    "# Create control system\n",
    "engine_ctrl = ctrl.ControlSystem([rule1, rule2, rule3])\n",
    "engine_simulation = ctrl.ControlSystemSimulation(engine_ctrl)\n",
    "\n",
    "# Predict for a single row\n",
    "row = df.iloc[0]\n",
    "engine_simulation.input['engine_rpm'] = row['Engine rpm']\n",
    "engine_simulation.input['lub_oil_pressure'] = row['Lub oil pressure']\n",
    "engine_simulation.input['fuel_pressure'] = row['Fuel pressure']\n",
    "engine_simulation.compute()"
   ]
  }
 ],
 "metadata": {
  "kernelspec": {
   "display_name": "Python 3",
   "language": "python",
   "name": "python3"
  },
  "language_info": {
   "codemirror_mode": {
    "name": "ipython",
    "version": 3
   },
   "file_extension": ".py",
   "mimetype": "text/x-python",
   "name": "python",
   "nbconvert_exporter": "python",
   "pygments_lexer": "ipython3",
   "version": "3.12.4"
  }
 },
 "nbformat": 4,
 "nbformat_minor": 5
}
