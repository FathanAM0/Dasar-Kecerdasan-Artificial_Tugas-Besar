{
 "cells": [
  {
   "cell_type": "markdown",
   "id": "31c44c16",
   "metadata": {},
   "source": [
    "Library\n"
   ]
  },
  {
   "cell_type": "code",
   "execution_count": null,
   "id": "7b0b2efb",
   "metadata": {},
   "outputs": [],
   "source": [
    "import math\n",
    "import joblib\n",
    "import numpy as np\n",
    "import scipy.signal\n",
    "import scipy.fftpack\n",
    "import librosa\n",
    "import soundfile as sf\n",
    "import skfuzzy as fuzz\n",
    "from skfuzzy import control as ctrl\n",
    "import matplotlib.pyplot as plt\n",
    "from scipy.signal import resample_poly"
   ]
  },
  {
   "cell_type": "markdown",
   "id": "73ceaadf",
   "metadata": {},
   "source": [
    "Konstanta\n"
   ]
  },
  {
   "cell_type": "code",
   "execution_count": 356,
   "id": "ebd6a006",
   "metadata": {},
   "outputs": [],
   "source": [
    "SAMPLE_RATE = 48000\n",
    "SEGMENT_DURATION = int(1 * SAMPLE_RATE)\n",
    "OVERLAP_DURATION = int(0.5 * SAMPLE_RATE)"
   ]
  },
  {
   "cell_type": "markdown",
   "id": "59f4e892",
   "metadata": {},
   "source": [
    "# Pra-Pemrosesan\n"
   ]
  },
  {
   "cell_type": "code",
   "execution_count": null,
   "id": "f3b0e38a",
   "metadata": {},
   "outputs": [],
   "source": [
    "def load_file_audio(path):\n",
    "    audio, sr = sf.read(path)\n",
    "    return np.array(audio), sr\n",
    "\n",
    "def prapemrosesan_downmixing(audio):\n",
    "    if audio.ndim > 1:\n",
    "        audio = np.mean(audio, axis=1)\n",
    "    return audio.astype(np.float32)\n",
    "\n",
    "def prapemrosesan_resampling(audio, sr):\n",
    "    if sr == SAMPLE_RATE:\n",
    "        return audio.copy(), SAMPLE_RATE\n",
    "    \n",
    "    ratio = SAMPLE_RATE / sr\n",
    "    n_samples = int(np.round(len(audio) * ratio))\n",
    "    \n",
    "    x_old = np.linspace(0, 1, len(audio))\n",
    "    x_new = np.linspace(0, 1, n_samples)\n",
    "    return np.interp(x_new, x_old, audio), SAMPLE_RATE\n",
    "\n",
    "def prapemrosesan_padding(audio):\n",
    "    if np.mod(audio.shape[0], SEGMENT_DURATION) != 0:\n",
    "        padding = SEGMENT_DURATION - (audio.shape[0] % SEGMENT_DURATION)\n",
    "        audio = np.pad(audio, (0, padding))\n",
    "    return audio\n",
    "\n",
    "def prapemrosesan_splitting(audio):\n",
    "    num_segments = int(np.floor((len(audio) - SEGMENT_DURATION) / OVERLAP_DURATION)) + 1\n",
    "    segments = []\n",
    "\n",
    "    for i in range(num_segments):\n",
    "        start = int(i * OVERLAP_DURATION)\n",
    "        end = int(start + SEGMENT_DURATION)\n",
    "        segment = audio[start:end]\n",
    "        if len(segment) < SEGMENT_DURATION:\n",
    "            segment = np.pad(segment, (0, SEGMENT_DURATION - len(segment)), mode='constant')\n",
    "        segments.append(segment)\n",
    "\n",
    "    return np.array(segments)"
   ]
  },
  {
   "cell_type": "markdown",
   "id": "7ab421a3",
   "metadata": {},
   "source": [
    "# Ekstraksi Fitur\n"
   ]
  },
  {
   "cell_type": "code",
   "execution_count": null,
   "id": "01da516e",
   "metadata": {},
   "outputs": [],
   "source": [
    "def get_rms(segment):\n",
    "    return np.sqrt(np.mean(segment ** 2))\n",
    "\n",
    "def get_zcr(segment):\n",
    "    return np.sum(np.abs(np.diff(np.signbit(segment)))) / SAMPLE_RATE\n",
    "\n",
    "def get_lms(segment):\n",
    "    return librosa.feature.melspectrogram(y=segment, sr=SAMPLE_RATE)"
   ]
  },
  {
   "cell_type": "markdown",
   "id": "c8e1b834",
   "metadata": {},
   "source": [
    "# Fuzzy Mamdani\n"
   ]
  },
  {
   "cell_type": "code",
   "execution_count": null,
   "id": "580fd6af",
   "metadata": {},
   "outputs": [],
   "source": [
    "def sistem_fuzzy():\n",
    "    rms = ctrl.Antecedent(np.arange(0, 2.1, 0.01), 'rms')\n",
    "    zcr = ctrl.Antecedent(np.arange(0, 1.1, 0.01), 'zcr')\n",
    "    output = ctrl.Consequent(np.arange(0, 1.1, 0.01), 'output')\n",
    "\n",
    "    rms['low'] = fuzz.sigmf(rms.universe, 0.055, -30)\n",
    "    rms['medium'] = fuzz.gaussmf(rms.universe, 0.065, 0.015)\n",
    "    rms['high'] = fuzz.sigmf(rms.universe, 0.075, 30)\n",
    "\n",
    "    zcr['infrequent'] = fuzz.sigmf(zcr.universe, 0.0225, -20)\n",
    "    zcr['moderate'] = fuzz.gaussmf(zcr.universe, 0.0325, 0.01)\n",
    "    zcr['frequent'] = fuzz.sigmf(zcr.universe, 0.0425, 20)\n",
    "\n",
    "    output['not_loud'] = fuzz.sigmf(output.universe, 0.4, -20)\n",
    "    output['loud'] = fuzz.sigmf(output.universe, 0.6, 20)\n",
    "\n",
    "    rules = [\n",
    "        ctrl.Rule(rms['low'] & zcr['infrequent'], output['not_loud']),\n",
    "        ctrl.Rule(rms['low'] & zcr['moderate'], output['not_loud']),\n",
    "        ctrl.Rule(rms['low'] & zcr['frequent'], output['not_loud']),\n",
    "        ctrl.Rule(rms['medium'] & zcr['infrequent'], output['not_loud']),\n",
    "        ctrl.Rule(rms['medium'] & zcr['moderate'], output['not_loud']),\n",
    "        ctrl.Rule(rms['medium'] & zcr['frequent'], output['loud']),\n",
    "        ctrl.Rule(rms['high'] & zcr['infrequent'], output['loud']),\n",
    "        ctrl.Rule(rms['high'] & zcr['moderate'], output['loud']),\n",
    "        ctrl.Rule(rms['high'] & zcr['frequent'], output['loud'])\n",
    "    ]\n",
    "\n",
    "    system = ctrl.ControlSystem(rules)\n",
    "    return system\n",
    "\n",
    "def fuzzy_mamdani(rms, zcr, system=None):\n",
    "    if system is None:\n",
    "        system = sistem_fuzzy()\n",
    "    sim = ctrl.ControlSystemSimulation(system)\n",
    "    sim.input['rms'] = rms\n",
    "    sim.input['zcr'] = zcr\n",
    "    sim.compute()\n",
    "    return int(round(sim.output['output']))"
   ]
  },
  {
   "cell_type": "markdown",
   "id": "c793336e",
   "metadata": {},
   "source": [
    "# Main\n"
   ]
  },
  {
   "cell_type": "markdown",
   "id": "8ba3d2de",
   "metadata": {},
   "source": [
    "Load Model\n"
   ]
  },
  {
   "cell_type": "code",
   "execution_count": 360,
   "id": "041f53e8",
   "metadata": {},
   "outputs": [],
   "source": [
    "# model_path = r\"\"\n",
    "# model = joblib.load(model_path)"
   ]
  },
  {
   "cell_type": "markdown",
   "id": "7471ddf6",
   "metadata": {},
   "source": [
    "Load Audio\n"
   ]
  },
  {
   "cell_type": "code",
   "execution_count": null,
   "id": "e55da6be",
   "metadata": {},
   "outputs": [],
   "source": [
    "dir_nad = r\"C:\\Users\\Lulay\\Documents\\GitHub\\Dasar-Kecerdasan-Artificial_Tugas-Besar\\Dataset\\noise-audio-data\"\n",
    "audio_path = dir_nad + \"/5-256452-A-5.wav\"\n",
    "\n",
    "# dir_xc = r\"C:\\Users\\Lulay\\Documents\\GitHub\\Dasar-Kecerdasan-Artificial_Tugas-Besar\\Dataset\\xeno-canto\"\n",
    "# audio_path = dir_xc + \"/505545.mp3\"\n",
    "\n",
    "audio, sr = load_file_audio(audio_path)"
   ]
  },
  {
   "cell_type": "markdown",
   "id": "bc45c810",
   "metadata": {},
   "source": [
    "Pra-Pemrosesan\n"
   ]
  },
  {
   "cell_type": "code",
   "execution_count": null,
   "id": "7a03ac87",
   "metadata": {},
   "outputs": [],
   "source": [
    "audio = prapemrosesan_downmixing(audio)\n",
    "audio, sr = prapemrosesan_resampling(audio, sr)\n",
    "audio = prapemrosesan_padding(audio)\n",
    "segments = prapemrosesan_splitting(audio)"
   ]
  },
  {
   "cell_type": "markdown",
   "id": "5dbecc30",
   "metadata": {},
   "source": [
    "Proses LGBMClassifier\n"
   ]
  },
  {
   "cell_type": "code",
   "execution_count": 363,
   "id": "06668d3e",
   "metadata": {},
   "outputs": [],
   "source": [
    "# def lgbmc(spec):\n",
    "#     out = model.pred(spec)\n",
    "#     return out"
   ]
  },
  {
   "cell_type": "markdown",
   "id": "57dfc996",
   "metadata": {},
   "source": [
    "Proses\n"
   ]
  },
  {
   "cell_type": "code",
   "execution_count": null,
   "id": "2b09d228",
   "metadata": {},
   "outputs": [],
   "source": [
    "list_result = []\n",
    "\n",
    "for segment in segments:\n",
    "    rms = get_rms(segment)\n",
    "    zcr = get_zcr(segment)\n",
    "    \n",
    "    out = fuzzy_mamdani(rms, zcr)\n",
    "    \n",
    "    # if out != 2:\n",
    "    #     spec = get_lms(segment)\n",
    "    #     out = lgbmc(segment)\n",
    "    \n",
    "    list_result.append((out, round(rms, 5), round(zcr, 5)))"
   ]
  },
  {
   "cell_type": "markdown",
   "id": "a2d5df5b",
   "metadata": {},
   "source": [
    "Output\n"
   ]
  },
  {
   "cell_type": "code",
   "execution_count": 365,
   "id": "b5d19fd1",
   "metadata": {},
   "outputs": [
    {
     "name": "stdout",
     "output_type": "stream",
     "text": [
      "[(1, 0.24575, 0.04217), (0, 0.0402, 0.01948), (0, 0.00155, 0.00579), (0, 0.0, 0.0), (0, 0.0, 0.0), (0, 0.0, 0.0), (0, 0.0, 0.0), (0, 0.0, 0.0), (0, 0.0, 0.0)]\n"
     ]
    }
   ],
   "source": [
    "print(list_result)"
   ]
  },
  {
   "cell_type": "code",
   "execution_count": 366,
   "id": "76d7f989",
   "metadata": {},
   "outputs": [
    {
     "data": {
      "image/png": "[encoded data removed]",
      "text/plain": [
       "<Figure size 1400x400 with 1 Axes>"
      ]
     },
     "metadata": {},
     "output_type": "display_data"
    }
   ],
   "source": [
    "time_axis = np.linspace(0, len(audio) / sr, len(audio))\n",
    "\n",
    "plt.figure(figsize=(14, 4))\n",
    "plt.plot(time_axis, audio, label=\"Amplitude\")\n",
    "plt.title(\"Audio waveform with loud segments marked\")\n",
    "plt.xlabel(\"Time (s)\")\n",
    "plt.ylabel(\"Amplitude\")\n",
    "\n",
    "# Corrected red span drawing\n",
    "for i, (out, _, _) in enumerate(list_result):\n",
    "    if out == 1:\n",
    "        start_time = i * 0.5\n",
    "        end_time = start_time + SEGMENT_DURATION / SAMPLE_RATE\n",
    "        plt.axvspan(start_time, end_time, color='red', alpha=0.3)\n",
    "\n",
    "plt.tight_layout()\n",
    "plt.legend()\n",
    "plt.show()"
   ]
  }
 ],
 "metadata": {
  "kernelspec": {
   "display_name": "Python 3",
   "language": "python",
   "name": "python3"
  },
  "language_info": {
   "codemirror_mode": {
    "name": "ipython",
    "version": 3
   },
   "file_extension": ".py",
   "mimetype": "text/x-python",
   "name": "python",
   "nbconvert_exporter": "python",
   "pygments_lexer": "ipython3",
   "version": "3.12.4"
  }
 },
 "nbformat": 4,
 "nbformat_minor": 5
}
