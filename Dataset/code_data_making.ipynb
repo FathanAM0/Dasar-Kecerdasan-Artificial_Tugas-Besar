{
 "cells": [
  {
   "cell_type": "markdown",
   "id": "9761ddd6",
   "metadata": {},
   "source": [
    "Library\n"
   ]
  },
  {
   "cell_type": "code",
   "execution_count": 1,
   "id": "27595562",
   "metadata": {},
   "outputs": [],
   "source": [
    "import math\n",
    "import joblib\n",
    "import numpy as np\n",
    "import scipy.signal\n",
    "import scipy.fftpack\n",
    "import librosa\n",
    "import soundfile as sf\n",
    "import skfuzzy as fuzz\n",
    "from skfuzzy import control as ctrl\n",
    "import matplotlib.pyplot as plt\n",
    "from scipy.signal import resample_poly\n",
    "import os\n",
    "import pandas as pd\n",
    "import json\n",
    "import pickle"
   ]
  },
  {
   "cell_type": "markdown",
   "id": "74e5f242",
   "metadata": {},
   "source": [
    "Konstanta\n"
   ]
  },
  {
   "cell_type": "code",
   "execution_count": 2,
   "id": "fe948df5",
   "metadata": {},
   "outputs": [],
   "source": [
    "SAMPLE_RATE = 48000\n",
    "SEGMENT_DURATION = int(1 * SAMPLE_RATE)\n",
    "OVERLAP_DURATION = int(0.5 * SAMPLE_RATE)"
   ]
  },
  {
   "cell_type": "markdown",
   "id": "ae3d7b6c",
   "metadata": {},
   "source": [
    "# Pra-Pemrosesan\n"
   ]
  },
  {
   "cell_type": "code",
   "execution_count": 3,
   "id": "fb6c4027",
   "metadata": {},
   "outputs": [],
   "source": [
    "def load_file_audio(path):\n",
    "    audio, sr = sf.read(path)\n",
    "    return np.array(audio), sr\n",
    "\n",
    "def prapemrosesan_downmixing(audio):\n",
    "    if audio.ndim > 1:\n",
    "        audio = np.mean(audio, axis=1)\n",
    "    return audio.astype(np.float32)\n",
    "\n",
    "def prapemrosesan_resampling(audio, sr):\n",
    "    if sr == SAMPLE_RATE:\n",
    "        return audio.copy(), SAMPLE_RATE\n",
    "    \n",
    "    ratio = SAMPLE_RATE / sr\n",
    "    n_samples = int(np.round(len(audio) * ratio))\n",
    "    \n",
    "    x_old = np.linspace(0, 1, len(audio))\n",
    "    x_new = np.linspace(0, 1, n_samples)\n",
    "    return np.interp(x_new, x_old, audio), SAMPLE_RATE\n",
    "\n",
    "def prapemrosesan_padding(audio):\n",
    "    if np.mod(audio.shape[0], SEGMENT_DURATION) != 0:\n",
    "        padding = SEGMENT_DURATION - (audio.shape[0] % SEGMENT_DURATION)\n",
    "        audio = np.pad(audio, (0, padding))\n",
    "    return audio\n",
    "\n",
    "def prapemrosesan_splitting(audio):\n",
    "    num_segments = int(np.floor((len(audio) - SEGMENT_DURATION) / OVERLAP_DURATION)) + 1\n",
    "    segments = []\n",
    "\n",
    "    for i in range(num_segments):\n",
    "        start = int(i * OVERLAP_DURATION)\n",
    "        end = int(start + SEGMENT_DURATION)\n",
    "        segment = audio[start:end]\n",
    "        if len(segment) < SEGMENT_DURATION:\n",
    "            segment = np.pad(segment, (0, SEGMENT_DURATION - len(segment)), mode='constant')\n",
    "        segments.append(segment)\n",
    "\n",
    "    return np.array(segments)"
   ]
  },
  {
   "cell_type": "markdown",
   "id": "7c96040d",
   "metadata": {},
   "source": [
    "# Ekstraksi Fitur\n"
   ]
  },
  {
   "cell_type": "code",
   "execution_count": 4,
   "id": "0bea30ad",
   "metadata": {},
   "outputs": [],
   "source": [
    "def get_rms(segment):\n",
    "    return np.sqrt(np.mean(segment ** 2))\n",
    "\n",
    "def get_zcr(segment):\n",
    "    return np.sum(np.abs(np.diff(np.signbit(segment)))) / (len(segment) / SAMPLE_RATE)\n",
    "\n",
    "def get_lms(segment):\n",
    "    return librosa.feature.melspectrogram(y=segment, sr=SAMPLE_RATE)"
   ]
  },
  {
   "cell_type": "markdown",
   "id": "3d002147",
   "metadata": {},
   "source": [
    "# Ekstraksi Data\n"
   ]
  },
  {
   "cell_type": "code",
   "execution_count": 5,
   "id": "e2a1c750",
   "metadata": {},
   "outputs": [],
   "source": [
    "list_segments_xc = [\n",
    "    (\"19655.mp3\", [[1.5, 2.5], [2.0, 3.0], [2.5, 3.5], [3.0, 4.0], [3.5, 4.5], [5.0, 6.0], [8.5, 9.5], [9.0, 10.0], [9.5, 10.5], [10.0, 11.0], [10.5, 11.5], [14.0, 15.0], [14.5, 15.5], [15.0, 16.0], [15.5, 16.5], [16.0, 17.0], [16.5, 17.5]]),\n",
    "    (\"90809.mp3\", [[0.0, 1.0], [0.5, 1.5], [1.0, 2.0], [1.5, 2.5], [2.0, 3.0], [2.5, 3.5], [3.0, 4.0], [3.5, 4.5], [4.0, 5.0], [4.5, 5.5], [5.0, 6.0], [5.5, 6.5], [6.0, 7.0], [6.5, 7.5], [7.0, 8.0], [7.5, 8.5], [8.0, 9.0], [8.5, 9.5], [9.0, 10.0], [9.5, 10.5], [10.0, 11.0], [10.5, 11.5], [11.0, 12.0], [11.5, 12.5], [12.0, 13.0], [12.5, 13.5], [13.0, 14.0], [13.5, 14.5], [14.0, 15.0], [14.5, 15.5], [15.0, 16.0], [15.5, 16.5], [16.0, 17.0], [16.5, 17.5], [17.0, 18.0], [17.5, 18.5], [18.0, 19.0], [18.5, 19.5], [19.0, 20.0], [19.5, 20.5], [20.0, 21.0], [20.5, 21.5], [21.0, 22.0], [21.5, 22.5]]),\n",
    "    (\"151761.mp3\", [[0.5, 1.5], [1.0, 2.0], [1.5, 2.5], [11.0, 12.0], [11.5, 12.5], [12.0, 13.0], [12.5, 13.5], [13.0, 14.0], [13.5, 14.5], [21.0, 22.0], [21.5, 22.5], [22.0, 23.0]]),\n",
    "    (\"193835.mp3\", [[1.5, 2.5], [3.0, 4.0], [4.5, 5.5], [7.5, 8.5], [9.5, 10.5], [13.5, 14.5], [14.0, 15.0], [14.5, 15.5], [18.0, 19.0], [19.5, 20.5], [21.0, 22.0]]),\n",
    "    (\"279210.mp3\", [[0.0, 1.0], [0.5, 1.5], [1.0, 2.0], [1.5, 2.5], [2.0, 3.0], [2.5, 3.5], [15.0, 16.0], [15.5, 16.5], [16.0, 17.0], [16.5, 17.5], [17.0, 18.0]]),\n",
    "    (\"282469.mp3\", [[0.5, 1.5], [1.0, 2.0], [1.5, 2.5], [2.0, 3.0], [2.5, 3.5], [4.5, 5.5], [8.0, 9.0], [9.5, 10.5], [10.0, 11.0], [10.5, 11.5], [11.0, 12.0], [11.5, 12.5], [12.0, 13.0], [12.5, 13.5], [13.0, 14.0], [14.5, 15.5], [15.0, 16.0], [15.5, 16.5], [16.0, 17.0], [16.5, 17.5], [17.0, 18.0], [17.5, 18.5], [18.0, 19.0], [18.5, 19.5], [19.0, 20.0], [20.5, 21.5], [21.0, 22.0], [21.5, 22.5], [22.0, 23.0]]),\n",
    "    (\"359523.mp3\", [[0.5, 1.5], [1.0, 2.0], [1.5, 2.5], [2.0, 3.0], [5.0, 6.0], [5.5, 6.5], [10.0, 11.0], [10.5, 11.5], [11.0, 12.0], [11.5, 12.5], [15.0, 16.0], [16.5, 17.5]]),\n",
    "    (\"359552.mp3\", [[0.5, 1.5], [1.0, 2.0], [4.0, 5.0], [4.5, 5.5], [6.0, 7.0], [6.5, 7.5], [8.5, 9.5], [12.0, 13.0], [14.0, 15.0]]),\n",
    "    (\"498380.mp3\", [[0.0, 1.0], [0.5, 1.5], [1.0, 2.0], [1.5, 2.5], [2.0, 3.0], [3.5, 4.5], [4.0, 5.0], [4.5, 5.5], [5.0, 6.0], [6.5, 7.5], [7.0, 8.0], [7.5, 8.5], [8.0, 9.0], [8.5, 9.5], [10.0, 11.0], [10.5, 11.5], [11.0, 12.0], [11.5, 12.5], [12.0, 13.0], [14.5, 15.5], [15.0, 16.0], [15.5, 16.5], [17.0, 18.0], [17.5, 18.5], [18.0, 19.0], [18.5, 19.5], [19.0, 20.0], [19.5, 20.5], [20.0, 21.0], [20.5, 21.5]]),\n",
    "    (\"505545.mp3\", [[2.5, 3.5], [4.0, 5.0], [10.5, 11.5], [11.0, 12.0], [11.5, 12.5], [18.5, 19.5], [19.0, 20.0], [19.5, 20.5], [20.0, 21.0], [20.5, 21.5], [22.0, 23.0], [22.5, 23.5]]),\n",
    "    (\"531042.mp3\", [[0.5, 1.5], [1.0, 2.0], [1.5, 2.5], [2.0, 3.0], [2.5, 3.5], [3.0, 4.0], [3.5, 4.5], [4.0, 5.0], [4.5, 5.5], [5.0, 6.0], [5.5, 6.5], [6.0, 7.0], [6.5, 7.5], [7.0, 8.0], [7.5, 8.5], [8.0, 9.0], [8.5, 9.5], [9.0, 10.0], [9.5, 10.5], [11.0, 12.0], [11.5, 12.5], [12.0, 13.0], [13.5, 14.5], [14.0, 15.0], [14.5, 15.5], [15.0, 16.0], [15.5, 16.5], [16.0, 17.0], [16.5, 17.5], [17.0, 18.0], [17.5, 18.5], [18.0, 19.0], [18.5, 19.5], [19.0, 20.0], [19.5, 20.5], [20.0, 21.0]]),\n",
    "]\n",
    "\n",
    "list_segments_nad = [\n",
    "    (\"1-100032-A-0.wav\", [[2.0, 3.0]]),\n",
    "    (\"1-100038-A-14.wav\", [[0.0, 1.0]]),\n",
    "    (\"1-100210-A-36.wav\", [[0.5, 1.5], [1.0, 2.0], [1.5, 2.5], [2.0, 3.0], [2.5, 3.5], [3.0, 4.0], [3.5, 4.5], [4.0, 5.0]]),\n",
    "    (\"1-100210-B-36.wav\", [[0.0, 1.0], [0.5, 1.5], [1.0, 2.0], [1.5, 2.5], [2.0, 3.0], [2.5, 3.5], [3.0, 4.0], [3.5, 4.5]]),\n",
    "    (\"1-101296-A-19.wav\", []),\n",
    "    (\"1-101296-B-19.wav\", []),\n",
    "    (\"1-101336-A-30.wav\", [[0.0, 1.0], [0.5, 1.5], [1.0, 2.0], [1.5, 2.5], [2.0, 3.0]]),\n",
    "    (\"1-101404-A-34.wav\", [[0.0, 1.0]]),\n",
    "    (\"1-103298-A-9.wav\", [[0.0, 1.0], [1.5, 2.5], [4.0, 5.0]]),\n",
    "    (\"1-103995-A-30.wav\", [[0.0, 1.0]]),\n",
    "    (\"1-103999-A-30.wav\", [[0.0, 1.0]]),\n",
    "    (\"1-104089-A-22.wav\", [[0.5, 1.5], [1.0, 2.0], [1.5, 2.5], [2.0, 3.0], [2.5, 3.5], [3.0, 4.0], [3.5, 4.5], [4.0, 5.0]]),\n",
    "    (\"1-104089-B-22.wav\", [[0.0, 1.0], [0.5, 1.5], [1.0, 2.0], [1.5, 2.5], [2.0, 3.0], [2.5, 3.5], [3.0, 4.0], [3.5, 4.5], [4.0, 5.0]]),\n",
    "    (\"1-105224-A-22.wav\", [[0.0, 1.0], [0.5, 1.5], [1.0, 2.0], [1.5, 2.5], [2.0, 3.0], [2.5, 3.5], [3.0, 4.0], [3.5, 4.5], [4.0, 5.0]]),\n",
    "    (\"1-110389-A-0.wav\", [[0.0, 1.0]]),\n",
    "    (\"1-110537-A-22.wav\", [[0.0, 1.0], [0.5, 1.5], [1.0, 2.0], [1.5, 2.5], [2.0, 3.0], [2.5, 3.5], [3.0, 4.0], [3.5, 4.5], [4.0, 5.0]]),\n",
    "    (\"1-115521-A-19.wav\", [[0.0, 1.0], [3.5, 4.5]]),\n",
    "    (\"1-115545-A-48.wav\", []),\n",
    "    (\"1-115545-B-48.wav\", [[0.0, 1.0]]),\n",
    "    (\"1-115545-C-48.wav\", [[0.5, 1.5]]),\n",
    "    (\"1-115546-A-48.wav\", [[0.5, 1.5]]),\n",
    "    (\"1-115920-B-22.wav\", []),\n",
    "    (\"1-115921-A-22.wav\", []),\n",
    "    (\"1-116765-A-41.wav\", [[1.0, 2.0], [1.5, 2.5], [2.0, 3.0], [2.5, 3.5], [3.0, 4.0], [3.5, 4.5], [4.0, 5.0]]),\n",
    "    (\"1-11687-A-47.wav\", [[0.0, 1.0], [0.5, 1.5], [1.0, 2.0], [1.5, 2.5]]),\n",
    "    (\"1-118206-A-31.wav\", []),\n",
    "    (\"1-118559-A-17.wav\", []),\n",
    "    (\"1-121951-A-8.wav\", []),\n",
    "    (\"1-13571-A-46.wav\", [[0.0, 1.0], [2.0, 3.0], [3.5, 4.5], [4.0, 5.0]]),\n",
    "    (\"1-13572-A-46.wav\", [[2.0, 3.0]]),\n",
    "    (\"1-13613-A-37.wav\", [[0.0, 1.0], [0.5, 1.5], [1.0, 2.0], [1.5, 2.5], [2.0, 3.0], [2.5, 3.5], [3.0, 4.0], [3.5, 4.5], [4.0, 5.0]]),\n",
    "    (\"1-137-A-32.wav\", []),\n",
    "    (\"1-977-A-39.wav\", [[0.0, 1.0]]),\n",
    "    (\"1-1791-A-26.wav\", [[0.0, 1.0], [0.5, 1.5], [1.0, 2.0]]),\n",
    "    (\"1-7974-A-49.wav\", [[0.0, 1.0], [0.5, 1.5], [1.0, 2.0], [1.5, 2.5], [2.0, 3.0], [3.5, 4.5], [4.0, 5.0]]),\n",
    "    (\"1-7974-B-49.wav\", [[0.0, 1.0], [0.5, 1.5], [1.0, 2.0]]),\n",
    "]"
   ]
  },
  {
   "cell_type": "markdown",
   "id": "dabc2171",
   "metadata": {},
   "source": [
    "### Labeling Timestamp\n"
   ]
  },
  {
   "cell_type": "markdown",
   "id": "8519e326",
   "metadata": {},
   "source": [
    "Dir Folder\n"
   ]
  },
  {
   "cell_type": "code",
   "execution_count": 6,
   "id": "26e49550",
   "metadata": {},
   "outputs": [],
   "source": [
    "dir_data_xc = r\"C:\\Users\\Lulay\\Documents\\GitHub\\Dasar-Kecerdasan-Artificial_Tugas-Besar\\Dataset\\xeno-canto\"\n",
    "dir_data_nad = r\"C:\\Users\\Lulay\\Documents\\GitHub\\Dasar-Kecerdasan-Artificial_Tugas-Besar\\Dataset\\noise-audio-data\""
   ]
  },
  {
   "cell_type": "markdown",
   "id": "3950c1b1",
   "metadata": {},
   "source": [
    "LMS\n"
   ]
  },
  {
   "cell_type": "code",
   "execution_count": 7,
   "id": "b4af3a83",
   "metadata": {},
   "outputs": [],
   "source": [
    "timestamp_label = []\n",
    "\n",
    "for file_xc in list_segments_xc:\n",
    "    file_name = file_xc[0]\n",
    "    \n",
    "    audio, sr = load_file_audio(os.path.join(dir_data_xc, file_name))\n",
    "    audio = prapemrosesan_downmixing(audio)\n",
    "    audio, sr = prapemrosesan_resampling(audio, sr)\n",
    "    audio = prapemrosesan_padding(audio)\n",
    "    \n",
    "    audio_duration = len(audio) / sr\n",
    "    \n",
    "    segments = [(start, start + 1.0) for start in np.arange(0, audio_duration - 0.5, 0.5)]\n",
    "    \n",
    "    list_timestamp_0 = file_xc[1]\n",
    "    list_timestamp_0 = [(round(t[0], 3), round(t[1], 3)) for t in list_timestamp_0]\n",
    "    segments = [(round(t[0], 3), round(t[1], 3)) for t in segments]\n",
    "\n",
    "    list_timestamp_2 = [segment for segment in segments if segment not in list_timestamp_0]\n",
    "    \n",
    "    for segment in list_timestamp_0:\n",
    "        start_sample = int(segment[0] * sr)\n",
    "        end_sample = int(segment[1] * sr)\n",
    "        rms = get_rms(audio[start_sample:end_sample])\n",
    "        zcr = get_zcr(audio[start_sample:end_sample])\n",
    "        lms = get_lms(audio[start_sample:end_sample])\n",
    "        timestamp_label.append((file_name, segment, \"0\", rms, zcr, lms))\n",
    "    \n",
    "    for segment in list_timestamp_2:\n",
    "        start_sample = int(segment[0] * sr)\n",
    "        end_sample = int(segment[1] * sr)\n",
    "        rms = get_rms(audio[start_sample:end_sample])\n",
    "        zcr = get_zcr(audio[start_sample:end_sample])\n",
    "        lms = get_lms(audio[start_sample:end_sample])\n",
    "        timestamp_label.append((file_name, segment, \"2\", rms, zcr, lms))\n",
    "\n",
    "for file_nad in list_segments_nad:\n",
    "    file_name = file_nad[0]\n",
    "    \n",
    "    audio, sr = load_file_audio(os.path.join(dir_data_nad, file_name))\n",
    "    audio = prapemrosesan_downmixing(audio)\n",
    "    audio, sr = prapemrosesan_resampling(audio, sr)\n",
    "    audio = prapemrosesan_padding(audio)\n",
    "    \n",
    "    audio_duration = len(audio) / sr\n",
    "    \n",
    "    segments = [(start, start + 1.0) for start in np.arange(0, audio_duration - 0.5, 0.5)]\n",
    "    \n",
    "    list_timestamp_0 = file_nad[1]\n",
    "    list_timestamp_0 = [(round(t[0], 3), round(t[1], 3)) for t in list_timestamp_0]\n",
    "    segments = [(round(t[0], 3), round(t[1], 3)) for t in segments]\n",
    "\n",
    "    list_timestamp_1 = [segment for segment in segments if segment not in list_timestamp_0]\n",
    "    \n",
    "    for segment in list_timestamp_0:\n",
    "        start_sample = int(segment[0] * sr)\n",
    "        end_sample = int(segment[1] * sr)\n",
    "        rms = get_rms(audio[start_sample:end_sample])\n",
    "        zcr = get_zcr(audio[start_sample:end_sample])\n",
    "        lms = get_lms(audio[start_sample:end_sample])\n",
    "        timestamp_label.append((file_name, segment, \"0\", rms, zcr, lms))\n",
    "    \n",
    "    for segment in list_timestamp_1:\n",
    "        start_sample = int(segment[0] * sr)\n",
    "        end_sample = int(segment[1] * sr)\n",
    "        rms = get_rms(audio[start_sample:end_sample])\n",
    "        zcr = get_zcr(audio[start_sample:end_sample])\n",
    "        lms = get_lms(audio[start_sample:end_sample])\n",
    "        timestamp_label.append((file_name, segment, \"1\", rms, zcr, lms))"
   ]
  },
  {
   "cell_type": "code",
   "execution_count": 8,
   "id": "f9fac33b",
   "metadata": {},
   "outputs": [],
   "source": [
    "with open(\"dataset_labelled.pkl\", \"wb\") as f:\n",
    "    pickle.dump(timestamp_label, f)"
   ]
  }
 ],
 "metadata": {
  "kernelspec": {
   "display_name": "Python 3",
   "language": "python",
   "name": "python3"
  },
  "language_info": {
   "codemirror_mode": {
    "name": "ipython",
    "version": 3
   },
   "file_extension": ".py",
   "mimetype": "text/x-python",
   "name": "python",
   "nbconvert_exporter": "python",
   "pygments_lexer": "ipython3",
   "version": "3.12.4"
  }
 },
 "nbformat": 4,
 "nbformat_minor": 5
}
