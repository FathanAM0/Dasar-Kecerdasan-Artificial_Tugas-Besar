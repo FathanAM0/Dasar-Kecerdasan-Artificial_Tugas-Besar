{
 "cells": [
  {
   "cell_type": "code",
   "execution_count": null,
   "id": "b844a9b1",
   "metadata": {},
   "outputs": [],
   "source": [
    "import numpy as np\n",
    "import skfuzzy as fuzz\n",
    "from skfuzzy import control as ctrl"
   ]
  },
  {
   "cell_type": "code",
   "execution_count": null,
   "id": "2981f4b0",
   "metadata": {},
   "outputs": [],
   "source": [
    "def create_variables():\n",
    "    rms = ctrl.Antecedent(np.arange(0, 1.1, 0.1), 'rms')\n",
    "    zcr = ctrl.Antecedent(np.arange(0, 1.1, 0.1), 'zcr')\n",
    "    sound = ctrl.Consequent(np.arange(0, 1.1, 0.1), 'sound')\n",
    "    rms['low'] = fuzz.trimf(rms.universe, [0, 0, 0.5])\n",
    "    rms['medium'] = fuzz.trimf(rms.universe, [0.2, 0.5, 0.8])\n",
    "    rms['high'] = fuzz.trimf(rms.universe, [0.5, 1.0, 1.0])\n",
    "    zcr['low'] = fuzz.trimf(zcr.universe, [0, 0, 0.5])\n",
    "    zcr['medium'] = fuzz.trimf(zcr.universe, [0.2, 0.5, 0.8])\n",
    "    zcr['high'] = fuzz.trimf(zcr.universe, [0.5, 1.0, 1.0])\n",
    "    sound['background'] = fuzz.trimf(sound.universe, [0, 0, 0.5])\n",
    "    sound['loud'] = fuzz.trimf(sound.universe, [0.5, 1.0, 1.0])\n",
    "    return rms, zcr, sound\n",
    "\n",
    "def create_rules(rms, zcr, sound):\n",
    "    rules = [\n",
    "        ctrl.Rule(rms['low'] & zcr['low'], sound['background']),\n",
    "        ctrl.Rule(rms['low'] & zcr['medium'], sound['background']),\n",
    "        ctrl.Rule(rms['low'] & zcr['high'], sound['background']),\n",
    "        ctrl.Rule(rms['medium'] & zcr['low'], sound['background']),\n",
    "        ctrl.Rule(rms['medium'] & zcr['medium'], sound['background']),\n",
    "        ctrl.Rule(rms['medium'] & zcr['high'], sound['loud']),\n",
    "        ctrl.Rule(rms['high'] & zcr['low'], sound['loud']),\n",
    "        ctrl.Rule(rms['high'] & zcr['medium'], sound['loud']),\n",
    "        ctrl.Rule(rms['high'] & zcr['high'], sound['loud']),\n",
    "    ]\n",
    "    return rules"
   ]
  },
  {
   "cell_type": "code",
   "execution_count": null,
   "id": "9ab0783f",
   "metadata": {},
   "outputs": [],
   "source": [
    "def create_system():\n",
    "    rms, zcr, sound = create_variables()\n",
    "    rules = create_rules(rms, zcr, sound)\n",
    "    system = ctrl.ControlSystem(rules)\n",
    "    sim = ctrl.ControlSystemSimulation(system)\n",
    "    return sim"
   ]
  },
  {
   "cell_type": "code",
   "execution_count": null,
   "id": "9f7fa787",
   "metadata": {},
   "outputs": [],
   "source": [
    "def classify_sound(sim, rms_val, zcr_val):\n",
    "    sim.input['rms'] = rms_val\n",
    "    sim.input['zcr'] = zcr_val\n",
    "    sim.compute()\n",
    "    output = sim.output['sound']\n",
    "    return 'loud sound' if output >= 0.5 else 'background sound'"
   ]
  },
  {
   "cell_type": "code",
   "execution_count": null,
   "id": "73c6f10c",
   "metadata": {},
   "outputs": [],
   "source": [
    "sim = create_system()\n",
    "rms_val = 0.7\n",
    "zcr_val = 0.3\n",
    "result = classify_sound(sim, rms_val, zcr_val)\n",
    "result"
   ]
  }
 ],
 "metadata": {
  "kernelspec": {
   "display_name": "Python 3",
   "language": "python",
   "name": "python3"
  },
  "language_info": {
   "codemirror_mode": {
    "name": "ipython",
    "version": 3
   },
   "file_extension": ".py",
   "mimetype": "text/x-python",
   "name": "python",
   "nbconvert_exporter": "python",
   "pygments_lexer": "ipython3",
   "version": "3.12.4"
  }
 },
 "nbformat": 4,
 "nbformat_minor": 5
}
