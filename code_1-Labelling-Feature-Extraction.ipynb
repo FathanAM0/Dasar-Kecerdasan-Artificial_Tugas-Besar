{
 "cells": [
  {
   "cell_type": "markdown",
   "id": "0ff404cc",
   "metadata": {},
   "source": [
    "Notebook `code_1-Labelling-Feature-Extraction.ipynb`\n",
    "\n",
    "- Menerima list file data dan labelnya (0, 1, 2)\n",
    "- Melakukan labeling pada timestamp yang sesuai\n",
    "- Melakukan ekstraksi fitur (rms, zcr, dan mfcc)\n",
    "- Membuat file dataset dengan format pkl yang berisi:\n",
    "  - nama_file\n",
    "  - timestamp\n",
    "  - label\n",
    "  - fitur-fitur\n"
   ]
  },
  {
   "cell_type": "markdown",
   "id": "ab0760e6",
   "metadata": {},
   "source": [
    "Library\n"
   ]
  },
  {
   "cell_type": "code",
   "execution_count": 172,
   "id": "7e8ad5dd",
   "metadata": {},
   "outputs": [],
   "source": [
    "import os\n",
    "import math\n",
    "import json\n",
    "import pickle\n",
    "from typing import Tuple, List\n",
    "\n",
    "import numpy as np\n",
    "import pandas as pd\n",
    "\n",
    "import librosa\n",
    "import soundfile as sf\n",
    "from pydub import AudioSegment\n",
    "from scipy import signal, fftpack\n",
    "from scipy.signal import resample_poly\n",
    "\n",
    "from sklearn.model_selection import train_test_split\n",
    "from sklearn.preprocessing import StandardScaler\n",
    "from sklearn.linear_model import LogisticRegression\n",
    "from sklearn.metrics import accuracy_score, confusion_matrix\n",
    "import joblib\n",
    "\n",
    "import skfuzzy as fuzz\n",
    "from skfuzzy import control as ctrl\n",
    "\n",
    "import matplotlib.pyplot as plt\n",
    "from matplotlib.patches import Patch"
   ]
  },
  {
   "cell_type": "markdown",
   "id": "c64cebb1",
   "metadata": {},
   "source": [
    "Konstanta\n"
   ]
  },
  {
   "cell_type": "code",
   "execution_count": 173,
   "id": "f8ce3551",
   "metadata": {},
   "outputs": [],
   "source": [
    "SAMPLE_RATE = 48000\n",
    "SEGMENT_DURATION = int(1 * SAMPLE_RATE)\n",
    "OVERLAP_DURATION = int(0.5 * SAMPLE_RATE)"
   ]
  },
  {
   "cell_type": "markdown",
   "id": "768a4dc7",
   "metadata": {},
   "source": [
    "Dir Folder\n"
   ]
  },
  {
   "cell_type": "code",
   "execution_count": 174,
   "id": "240fd2bf",
   "metadata": {},
   "outputs": [],
   "source": [
    "MAIN_PATH = r\"C:\\Users\\Lulay\\Documents\\GitHub\\Dasar-Kecerdasan-Artificial_Tugas-Besar\"\n",
    "# MAIN_PATH = r\"D:\\Kuliah\\Matkul\\Semester 4\\DASAR KECERDASAN ARTIFICIAL (DKA)\\[2] Tugas\\[3] Tugas Besar\\Dasar-Kecerdasan-Artificial_Tugas-Besar\""
   ]
  },
  {
   "cell_type": "code",
   "execution_count": 175,
   "id": "796f4e95",
   "metadata": {},
   "outputs": [],
   "source": [
    "dir_data_xc = MAIN_PATH+ r\"\\Dataset\\xeno-canto\"\n",
    "dir_data_nad = MAIN_PATH + r\"\\Dataset\\noise-audio-data\""
   ]
  },
  {
   "cell_type": "markdown",
   "id": "e638aa91",
   "metadata": {},
   "source": [
    "# Load Dataset teranotasi\n"
   ]
  },
  {
   "cell_type": "markdown",
   "id": "46538c3b",
   "metadata": {},
   "source": [
    "Load\n"
   ]
  },
  {
   "cell_type": "code",
   "execution_count": 176,
   "id": "df2d3e04",
   "metadata": {},
   "outputs": [],
   "source": [
    "with open(f\"{MAIN_PATH}/Dataset/dataset_raw.pkl\", \"rb\") as f:\n",
    "    dataset_raw = pickle.load(f)"
   ]
  },
  {
   "cell_type": "markdown",
   "id": "cc02fd1b",
   "metadata": {},
   "source": [
    "Menggabungkan data dengan nama sama\n"
   ]
  },
  {
   "cell_type": "code",
   "execution_count": 177,
   "id": "fb8cec3a",
   "metadata": {},
   "outputs": [],
   "source": [
    "dataset_raw_conc = {}\n",
    "\n",
    "for data in dataset_raw:\n",
    "    name = data[\"name\"]\n",
    "    path = data[\"path\"]\n",
    "    timestamp = data[\"timestamp\"]\n",
    "    label = data[\"label\"]\n",
    "    \n",
    "    if name not in dataset_raw_conc:\n",
    "        dataset_raw_conc[name] = {\n",
    "            \"name\": name,\n",
    "            \"path\": path,\n",
    "            \"timestamp\": [],\n",
    "            \"label\": []\n",
    "        }\n",
    "    \n",
    "    dataset_raw_conc[name][\"timestamp\"].append(timestamp)\n",
    "    dataset_raw_conc[name][\"label\"].append(label)\n",
    "\n",
    "dataset_raw_conc = list(dataset_raw_conc.values())"
   ]
  },
  {
   "cell_type": "code",
   "execution_count": 178,
   "id": "b6bf9bce",
   "metadata": {},
   "outputs": [],
   "source": [
    "filename_list = [x[\"name\"] for x in dataset_raw_conc]"
   ]
  },
  {
   "cell_type": "markdown",
   "id": "7fb8eb86",
   "metadata": {},
   "source": [
    "## Durasi\n",
    "\n",
    "menghitung durasi dari seluruh dataset yang telah teranotasi\n"
   ]
  },
  {
   "cell_type": "markdown",
   "id": "5aa249d7",
   "metadata": {},
   "source": [
    "Function\n"
   ]
  },
  {
   "cell_type": "code",
   "execution_count": 179,
   "id": "1133e1fd",
   "metadata": {},
   "outputs": [],
   "source": [
    "def hitung_durasi_file_ada(folder_path, daftar_nama_file):\n",
    "    total_durasi = 0\n",
    "    file_ada = []\n",
    "\n",
    "    file_di_folder = set(os.listdir(folder_path))\n",
    "\n",
    "    for nama_file in daftar_nama_file:\n",
    "        if nama_file in file_di_folder:\n",
    "            file_path = os.path.join(folder_path, nama_file)\n",
    "            try:\n",
    "                audio = AudioSegment.from_file(file_path)\n",
    "                total_durasi += len(audio)\n",
    "                file_ada.append(nama_file)\n",
    "            except Exception as e:\n",
    "                print(f\"Gagal membaca {nama_file}: {e}\")\n",
    "\n",
    "    total_durasi_detik = total_durasi / 1000\n",
    "    return total_durasi_detik, file_ada"
   ]
  },
  {
   "cell_type": "markdown",
   "id": "c9d57313",
   "metadata": {},
   "source": [
    "Running\n"
   ]
  },
  {
   "cell_type": "code",
   "execution_count": 180,
   "id": "4ddff4b3",
   "metadata": {},
   "outputs": [],
   "source": [
    "durasi_nad, file_ditemukan_nad = hitung_durasi_file_ada(dir_data_nad, filename_list)\n",
    "durasi_xc, file_ditemukan_xc = hitung_durasi_file_ada(dir_data_xc, filename_list)\n",
    "\n",
    "total_durasi = durasi_xc + durasi_nad\n",
    "train_durasi = total_durasi * 0.8\n",
    "val_durasi = total_durasi * 0.1\n",
    "test_durasi = total_durasi * 0.1"
   ]
  },
  {
   "cell_type": "code",
   "execution_count": 181,
   "id": "302833d5",
   "metadata": {},
   "outputs": [
    {
     "name": "stdout",
     "output_type": "stream",
     "text": [
      "Total durasi file xeno canto: 11 menit 12.05 detik\n",
      "Total durasi file nad: 4 menit 10.00 detik\n",
      "Total durasi seluruhnya: 15 menit 22.05 detik\n",
      "Train durasi: 12 menit 17.64 detik\n",
      "Val durasi: 1 menit 32.20 detik\n",
      "Test durasi: 1 menit 32.20 detik\n"
     ]
    }
   ],
   "source": [
    "print(f\"Total durasi file xeno canto: {durasi_xc // 60:.0f} menit {durasi_xc % 60:.2f} detik\")\n",
    "print(f\"Total durasi file nad: {durasi_nad // 60:.0f} menit {durasi_nad % 60:.2f} detik\")\n",
    "print(f\"Total durasi seluruhnya: {total_durasi // 60:.0f} menit {total_durasi % 60:.2f} detik\")\n",
    "print(f\"Train durasi: {train_durasi // 60:.0f} menit {train_durasi % 60:.2f} detik\")\n",
    "print(f\"Val durasi: {val_durasi // 60:.0f} menit {val_durasi % 60:.2f} detik\")\n",
    "print(f\"Test durasi: {test_durasi // 60:.0f} menit {test_durasi % 60:.2f} detik\")"
   ]
  },
  {
   "cell_type": "markdown",
   "id": "25f5e1ee",
   "metadata": {},
   "source": [
    "# Visualize\n"
   ]
  },
  {
   "cell_type": "markdown",
   "id": "3d024002",
   "metadata": {},
   "source": [
    "Function\n"
   ]
  },
  {
   "cell_type": "code",
   "execution_count": 182,
   "id": "c6b8dcd9",
   "metadata": {},
   "outputs": [],
   "source": [
    "def load_and_plot(path, list_timestamp, list_label, duration):\n",
    "    file_name = os.path.basename(path)\n",
    "    audio, sr = librosa.load(path, sr=SAMPLE_RATE)\n",
    "    time_axis = np.linspace(0, len(audio) / sr, len(audio))\n",
    "\n",
    "    plt.figure(figsize=(20, 4))\n",
    "    plt.plot(time_axis, audio, label=\"Amplitudo\")\n",
    "    plt.title(f\"{file_name}\") \n",
    "    plt.xlabel(\"Waktu (detik)\")\n",
    "    plt.ylabel(\"Amplitudo\")\n",
    "\n",
    "    for i in range(0, len(list_timestamp)):\n",
    "        timestamp = list_timestamp[i]\n",
    "        start_time = timestamp[0]\n",
    "        end_time = timestamp[1]\n",
    "        if list_label[i] == 0:\n",
    "            plt.axvspan(start_time, end_time, color='green', alpha=0.3)\n",
    "        elif list_label[i] == 1:\n",
    "            plt.axvspan(start_time, end_time, color='red', alpha=0.3)\n",
    "        elif list_label[i] == 2:\n",
    "            plt.axvspan(start_time, end_time, color='blue', alpha=0.3)\n",
    "\n",
    "    plt.xticks(np.arange(0, duration, 0.5))\n",
    "    plt.grid(which='both', alpha=0.5)\n",
    "    plt.xlim(0, duration)\n",
    "    plt.ylim(-1, 1)\n",
    "    plt.tight_layout()\n",
    "    plt.legend()\n",
    "    plt.show()"
   ]
  },
  {
   "cell_type": "code",
   "execution_count": 183,
   "id": "c1863e03",
   "metadata": {},
   "outputs": [],
   "source": [
    "# for i in range(0, len(dataset_raw_conc)):\n",
    "#     data_test = dataset_raw_conc[i]\n",
    "#     load_and_plot(data_test[\"path\"], data_test[\"timestamp\"], data_test[\"label\"], 1/1.5 * float(len(data_test[\"timestamp\"])))"
   ]
  },
  {
   "cell_type": "markdown",
   "id": "adb9f5c1",
   "metadata": {},
   "source": [
    "# Pra-Pemrosesan\n"
   ]
  },
  {
   "cell_type": "markdown",
   "id": "e5a0fbec",
   "metadata": {},
   "source": [
    "Function\n"
   ]
  },
  {
   "cell_type": "code",
   "execution_count": 184,
   "id": "e5b7edab",
   "metadata": {},
   "outputs": [],
   "source": [
    "def load_file_audio(path: str) -> Tuple[np.ndarray, int]:\n",
    "    audio, sr = librosa.load(path, sr=SAMPLE_RATE, mono=False)\n",
    "    return audio, sr\n",
    "\n",
    "def prapemrosesan_downmixing(audio: np.ndarray) -> np.ndarray:\n",
    "    if audio.ndim > 1:\n",
    "        audio = np.mean(audio, axis=0)\n",
    "    return audio.astype(np.float32)\n",
    "\n",
    "def prapemrosesan_resampling(audio: np.ndarray, sr: int) -> Tuple[np.ndarray, int]:\n",
    "    if sr == SAMPLE_RATE:\n",
    "        return audio.copy(), SAMPLE_RATE\n",
    "    audio_resampled = librosa.resample(audio, orig_sr=sr, target_sr=SAMPLE_RATE)\n",
    "    return audio_resampled, SAMPLE_RATE\n",
    "\n",
    "def prapemrosesan_padding(audio: np.ndarray) -> np.ndarray:\n",
    "    if len(audio) % SEGMENT_DURATION != 0:\n",
    "        padding = SEGMENT_DURATION - (len(audio) % SEGMENT_DURATION)\n",
    "        audio = np.pad(audio, (0, padding), mode='constant')\n",
    "    return audio\n",
    "\n",
    "def prapemrosesan_splitting(audio: np.ndarray) -> np.ndarray:\n",
    "    num_segments = int(np.floor((len(audio) - SEGMENT_DURATION) / OVERLAP_DURATION)) + 1\n",
    "    segments = np.lib.stride_tricks.as_strided(\n",
    "        audio,\n",
    "        shape=(num_segments, SEGMENT_DURATION),\n",
    "        strides=(OVERLAP_DURATION * audio.strides[0], audio.strides[0]),\n",
    "        writeable=False\n",
    "    )\n",
    "    if len(segments[-1]) < SEGMENT_DURATION:\n",
    "        segments[-1] = np.pad(segments[-1], (0, SEGMENT_DURATION - len(segments[-1])), 'constant')\n",
    "    return segments"
   ]
  },
  {
   "cell_type": "markdown",
   "id": "bcf06625",
   "metadata": {},
   "source": [
    "Function Utama\n"
   ]
  },
  {
   "cell_type": "code",
   "execution_count": 185,
   "id": "7b1d1256",
   "metadata": {},
   "outputs": [],
   "source": [
    "def prapemrosesan(path : str) -> np.ndarray:\n",
    "    audio, sr = load_file_audio(path)\n",
    "    audio = prapemrosesan_downmixing(audio)\n",
    "    audio, sr = prapemrosesan_resampling(audio, sr)\n",
    "    audio = prapemrosesan_padding(audio)\n",
    "    segments = prapemrosesan_splitting(audio)\n",
    "\n",
    "    return segments"
   ]
  },
  {
   "cell_type": "markdown",
   "id": "bee2bb16",
   "metadata": {},
   "source": [
    "# Ekstraksi Fitur\n"
   ]
  },
  {
   "cell_type": "markdown",
   "id": "e5c984f5",
   "metadata": {},
   "source": [
    "Function\n"
   ]
  },
  {
   "cell_type": "code",
   "execution_count": 186,
   "id": "19bf50df",
   "metadata": {},
   "outputs": [],
   "source": [
    "def get_rms(segment):\n",
    "    return np.mean(librosa.feature.rms(y=segment))\n",
    "\n",
    "def get_mfcc(segment):\n",
    "    return librosa.feature.mfcc(y=segment, sr=SAMPLE_RATE)\n",
    "\n",
    "def get_spectral_flatness(segment):\n",
    "    return np.mean(librosa.feature.spectral_flatness(y=segment))"
   ]
  },
  {
   "cell_type": "markdown",
   "id": "1d8b30d0",
   "metadata": {},
   "source": [
    "Generete fitur tiap segment\n"
   ]
  },
  {
   "cell_type": "code",
   "execution_count": 187,
   "id": "266e2a5b",
   "metadata": {},
   "outputs": [],
   "source": [
    "# dataset_fe = []\n",
    "\n",
    "# for data in dataset_raw:\n",
    "#     segments = prapemrosesan(data[\"path\"])\n",
    "#     index = int(data[\"timestamp\"][0] / 0.5)\n",
    "#     segment = segments[index]\n",
    "\n",
    "#     data = {\n",
    "#         \"path\": data[\"path\"],\n",
    "#         \"name\": data[\"name\"],\n",
    "#         \"timestamp\": data[\"timestamp\"],\n",
    "#         \"label\": data[\"label\"],\n",
    "#         \"raw\": segment,\n",
    "        \n",
    "#         \"rms\": get_rms(segment),\n",
    "#         \"spectral_flatness\": get_spectral_flatness(segment),\n",
    "#         \"mfcc\": get_mfcc(segment),\n",
    "#     }\n",
    "\n",
    "#     dataset_fe += [data]"
   ]
  },
  {
   "cell_type": "code",
   "execution_count": 188,
   "id": "40bbda11",
   "metadata": {},
   "outputs": [],
   "source": [
    "with open(f\"{MAIN_PATH}/Dataset/dataset_fe.pkl\", \"rb\") as f:\n",
    "    dataset_fe = pickle.load(f)"
   ]
  },
  {
   "cell_type": "code",
   "execution_count": null,
   "id": "f0a3056e",
   "metadata": {},
   "outputs": [],
   "source": [
    "for data in dataset_fe:\n",
    "    if data[\"rms\"] < 0.015 and data[\"label\"] == 1:\n",
    "        data[\"label\"] = 2\n",
    "    if data[\"rms\"] >= 0.015 and data[\"label\"] == 2:\n",
    "        data[\"label\"] = 1\n",
    "\n",
    "    if data[\"spectral_flatness\"] > 0.6 and data[\"label\"] == 1:\n",
    "        data[\"label\"] = 2\n",
    "    if data[\"spectral_flatness\"] <= 0.6 and data[\"label\"] == 2:\n",
    "        data[\"label\"] = 1\n",
    "\n",
    "for i in range(0, len(dataset_raw)):\n",
    "    dataset_raw[i][\"label\"] = dataset_fe[i][\"label\"]"
   ]
  },
  {
   "cell_type": "markdown",
   "id": "b78b835f",
   "metadata": {},
   "source": [
    "Save\n"
   ]
  },
  {
   "cell_type": "code",
   "execution_count": 190,
   "id": "a5d00541",
   "metadata": {},
   "outputs": [],
   "source": [
    "with open(f\"{MAIN_PATH}/Dataset/dataset_fe.pkl\", \"wb\") as f:\n",
    "    pickle.dump(dataset_fe, f)\n",
    "\n",
    "with open(f\"{MAIN_PATH}/Dataset/dataset_raw.pkl\", \"wb\") as f:\n",
    "    pickle.dump(dataset_raw, f)"
   ]
  },
  {
   "cell_type": "markdown",
   "id": "e67302df",
   "metadata": {},
   "source": [
    "# EDA\n"
   ]
  },
  {
   "cell_type": "code",
   "execution_count": null,
   "id": "5cdf7709",
   "metadata": {},
   "outputs": [],
   "source": [
    "dataset_fe"
   ]
  },
  {
   "cell_type": "markdown",
   "id": "61ed71f3",
   "metadata": {},
   "source": [
    "Membuat pandas dataframe\n"
   ]
  },
  {
   "cell_type": "code",
   "execution_count": null,
   "id": "407b1dd0",
   "metadata": {},
   "outputs": [],
   "source": [
    "df = pd.DataFrame(dataset_fe, columns=[\"path\", \"nama\", \"timestamp\", \"label\", \"raw\", \"rms\", \"spectral_flatness\", \"mfcc\"])"
   ]
  },
  {
   "cell_type": "code",
   "execution_count": null,
   "id": "e5ac5278",
   "metadata": {},
   "outputs": [],
   "source": [
    "df_p = df.copy()\n",
    "df_p[\"label\"] = df_p[\"label\"].apply(lambda x: 1 if x in [0, 1] else x)\n",
    "\n",
    "df_k = df.copy()\n",
    "df_k[\"label\"] = df_k[\"label\"].apply(lambda x: 1 if x in [1, 2] else x)"
   ]
  },
  {
   "cell_type": "markdown",
   "id": "2c79cf8c",
   "metadata": {},
   "source": [
    "Describe data numerik\n"
   ]
  },
  {
   "cell_type": "code",
   "execution_count": null,
   "id": "0f20fbd1",
   "metadata": {},
   "outputs": [],
   "source": [
    "df.describe()"
   ]
  },
  {
   "cell_type": "markdown",
   "id": "e645f01e",
   "metadata": {},
   "source": [
    "Korelasi\n"
   ]
  },
  {
   "cell_type": "code",
   "execution_count": null,
   "id": "6c012d5e",
   "metadata": {},
   "outputs": [],
   "source": [
    "feature_cols = [\"rms\", \"spectral_flatness\"]"
   ]
  },
  {
   "cell_type": "code",
   "execution_count": null,
   "id": "0948a173",
   "metadata": {},
   "outputs": [],
   "source": [
    "df_features = df[feature_cols + ['label']]\n",
    "\n",
    "if df_features['label'].dtype == 'object' or df_features['label'].dtype.name == 'category':\n",
    "    df_features['label'] = df_features['label'].astype('category').cat.codes\n",
    "\n",
    "correlation = df_features.corr()\n",
    "\n",
    "print(correlation['label'].drop('label'))"
   ]
  },
  {
   "cell_type": "code",
   "execution_count": null,
   "id": "717555df",
   "metadata": {},
   "outputs": [],
   "source": [
    "df_features = df_p[feature_cols + ['label']]\n",
    "\n",
    "if df_features['label'].dtype == 'object' or df_features['label'].dtype.name == 'category':\n",
    "    df_features['label'] = df_features['label'].astype('category').cat.codes\n",
    "\n",
    "correlation = df_features.corr()\n",
    "\n",
    "print(correlation['label'].drop('label'))"
   ]
  },
  {
   "cell_type": "code",
   "execution_count": null,
   "id": "90b10364",
   "metadata": {},
   "outputs": [],
   "source": [
    "df_features = df_k[feature_cols + ['label']]\n",
    "\n",
    "if df_features['label'].dtype == 'object' or df_features['label'].dtype.name == 'category':\n",
    "    df_features['label'] = df_features['label'].astype('category').cat.codes\n",
    "\n",
    "correlation = df_features.corr()\n",
    "\n",
    "print(correlation['label'].drop('label'))"
   ]
  },
  {
   "cell_type": "markdown",
   "id": "670e36b2",
   "metadata": {},
   "source": [
    "Scatter plot rms x flatness\n"
   ]
  },
  {
   "cell_type": "code",
   "execution_count": null,
   "id": "d00c7442",
   "metadata": {},
   "outputs": [],
   "source": [
    "df_0 = df[df[\"label\"] == 0]\n",
    "df_1 = df[df[\"label\"] == 1]\n",
    "df_2 = df[df[\"label\"] == 2]\n",
    "df_01 = df[(df[\"label\"] == 0) | (df[\"label\"] == 1)]\n",
    "df_12 = df[(df[\"label\"] == 1) | (df[\"label\"] == 2)]\n",
    "df_02 = df[(df[\"label\"] == 0) | (df[\"label\"] == 2)]"
   ]
  },
  {
   "cell_type": "code",
   "execution_count": null,
   "id": "85143c14",
   "metadata": {},
   "outputs": [],
   "source": [
    "colors = df['label'].map({2: 'blue', 1: 'red', 0:'green'})\n",
    "\n",
    "plt.figure(figsize=(10, 6))\n",
    "plt.scatter(df['rms'], df['spectral_flatness'], c=colors, alpha=0.7, edgecolors='k')\n",
    "plt.ylabel('spectral_flatness')\n",
    "plt.xlabel('rms')\n",
    "\n",
    "# plt.xticks(np.arange(0, df['rms'].max() + 0.01, 0.01))\n",
    "# plt.yticks(np.arange(0, df['spectral_flatness'].max() + 0.01, 0.01))\n",
    "\n",
    "plt.xlim(0, 0.5)\n",
    "plt.ylim(0, 1.1)\n",
    "plt.grid(True, which='both')\n",
    "plt.title(\"3 Label\")\n",
    "plt.show()"
   ]
  },
  {
   "cell_type": "code",
   "execution_count": null,
   "id": "82ba0ab4",
   "metadata": {},
   "outputs": [],
   "source": [
    "datasets = [df_0, df_1, df_2, df_01, df_12, df_02]\n",
    "titles = [\"df_0\", \"df_1\", \"df_2\", \"df_01\", \"df_12\", \"df_02\"]\n",
    "\n",
    "fig, axes = plt.subplots(2, 3, figsize=(18, 10))\n",
    "axes = axes.flatten()\n",
    "\n",
    "for i, (dataset, ax) in enumerate(zip(datasets, axes)):\n",
    "    colors = dataset['label'].map({2: 'blue', 1: 'red', 0: 'green'})\n",
    "    ax.scatter(dataset['rms'], dataset['spectral_flatness'], c=colors, alpha=0.7, edgecolors='k')\n",
    "    ax.set_title(titles[i])\n",
    "    ax.set_xlabel('rms')\n",
    "    ax.set_ylabel('spectral_flatness')\n",
    "    ax.set_xlim(0, 0.5)\n",
    "    ax.set_ylim(0, 1.1)\n",
    "    ax.grid(True, which='both')\n",
    "\n",
    "plt.tight_layout()\n",
    "plt.show()"
   ]
  }
 ],
 "metadata": {
  "kernelspec": {
   "display_name": "Python 3",
   "language": "python",
   "name": "python3"
  },
  "language_info": {
   "codemirror_mode": {
    "name": "ipython",
    "version": 3
   },
   "file_extension": ".py",
   "mimetype": "text/x-python",
   "name": "python",
   "nbconvert_exporter": "python",
   "pygments_lexer": "ipython3",
   "version": "3.12.4"
  }
 },
 "nbformat": 4,
 "nbformat_minor": 5
}
