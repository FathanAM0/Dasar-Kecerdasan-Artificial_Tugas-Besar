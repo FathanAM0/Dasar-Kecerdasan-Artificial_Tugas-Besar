{
 "cells": [
  {
   "cell_type": "code",
   "execution_count": null,
   "id": "51d20bb5",
   "metadata": {},
   "outputs": [],
   "source": [
    "import numpy as np"
   ]
  },
  {
   "cell_type": "code",
   "execution_count": null,
   "id": "1b2e4413",
   "metadata": {},
   "outputs": [],
   "source": [
    "def low(x):\n",
    "    return max(0, min(1, (0.5 - x) / 0.5))\n",
    "\n",
    "def medium(x):\n",
    "    return max(0, min((x - 0.2) / 0.3, (0.8 - x) / 0.3))\n",
    "\n",
    "def high(x):\n",
    "    return max(0, min(1, (x - 0.5) / 0.5))"
   ]
  },
  {
   "cell_type": "code",
   "execution_count": null,
   "id": "dbd39a60",
   "metadata": {},
   "outputs": [],
   "source": [
    "def rule_outputs(rms, zcr):\n",
    "    r = [\n",
    "        (low(rms) * low(zcr), lambda r, z: 0),\n",
    "        (low(rms) * medium(zcr), lambda r, z: 0),\n",
    "        (low(rms) * high(zcr), lambda r, z: 0),\n",
    "        (medium(rms) * low(zcr), lambda r, z: 0),\n",
    "        (medium(rms) * medium(zcr), lambda r, z: 0.3),\n",
    "        (medium(rms) * high(zcr), lambda r, z: 0.7),\n",
    "        (high(rms) * low(zcr), lambda r, z: 0.7),\n",
    "        (high(rms) * medium(zcr), lambda r, z: 0.9),\n",
    "        (high(rms) * high(zcr), lambda r, z: 1),\n",
    "    ]\n",
    "    return r"
   ]
  },
  {
   "cell_type": "code",
   "execution_count": null,
   "id": "1d14d989",
   "metadata": {},
   "outputs": [],
   "source": [
    "def sugeno_inference(rms, zcr):\n",
    "    rules = rule_outputs(rms, zcr)\n",
    "    weighted_outputs = [w * f(rms, zcr) for w, f in rules]\n",
    "    total_weight = sum(w for w, _ in rules)\n",
    "    return sum(weighted_outputs) / total_weight if total_weight > 0 else 0\n",
    "\n",
    "def classify_sound_sugeno(rms_val, zcr_val):\n",
    "    output = sugeno_inference(rms_val, zcr_val)\n",
    "    return 'loud sound' if output >= 0.5 else 'background sound'"
   ]
  },
  {
   "cell_type": "code",
   "execution_count": null,
   "id": "f6715a76",
   "metadata": {},
   "outputs": [],
   "source": [
    "rms_val = 0.7\n",
    "zcr_val = 0.3\n",
    "result = classify_sound_sugeno(rms_val, zcr_val)\n",
    "print(result)"
   ]
  }
 ],
 "metadata": {
  "language_info": {
   "name": "python"
  }
 },
 "nbformat": 4,
 "nbformat_minor": 5
}
