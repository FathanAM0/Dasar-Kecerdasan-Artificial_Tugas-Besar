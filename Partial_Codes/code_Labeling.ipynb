{
 "cells": [
  {
   "cell_type": "code",
   "execution_count": 12,
   "id": "f7f2e35a",
   "metadata": {},
   "outputs": [],
   "source": [
    "import soundfile as sf\n",
    "import math\n",
    "import numpy as np\n",
    "from scipy.signal import resample_poly\n",
    "import scipy.signal\n",
    "import scipy.fftpack\n",
    "import librosa"
   ]
  },
  {
   "cell_type": "code",
   "execution_count": 13,
   "id": "7ee18055",
   "metadata": {},
   "outputs": [],
   "source": [
    "SAMPLE_RATE = 48000\n",
    "SEGMENT_DURATION = int(1 * SAMPLE_RATE)\n",
    "OVERLAP_DURATION = int(0.5 * SAMPLE_RATE)"
   ]
  },
  {
   "cell_type": "code",
   "execution_count": 14,
   "id": "dd4c1591",
   "metadata": {},
   "outputs": [],
   "source": [
    "def input_audio_file(path):\n",
    "    import soundfile as sf\n",
    "    audio, sr = sf.read(path)\n",
    "    return np.array(audio), sr\n",
    "\n",
    "def preprocess_downmix(audio):\n",
    "    if audio.ndim > 1 and audio.shape[1] > 1:\n",
    "        return np.mean(audio, axis=1)\n",
    "    return audio\n",
    "\n",
    "def preprocessing_resample(audio, sr):\n",
    "    if sr == SAMPLE_RATE:\n",
    "        return audio.copy()\n",
    "    \n",
    "    ratio = SAMPLE_RATE / sr\n",
    "    n_samples = int(np.round(len(audio) * ratio))\n",
    "    \n",
    "    x_old = np.linspace(0, 1, len(audio))\n",
    "    x_new = np.linspace(0, 1, n_samples)\n",
    "    return np.interp(x_new, x_old, audio), SAMPLE_RATE\n",
    "\n",
    "def preprocessing_padding(audio):\n",
    "    if np.mod(audio.shape[0], SEGMENT_DURATION) != 0:\n",
    "        padding = SEGMENT_DURATION - (audio.shape[0] % SEGMENT_DURATION)\n",
    "        audio = np.pad(audio, (0, padding))\n",
    "    return audio"
   ]
  },
  {
   "cell_type": "code",
   "execution_count": 15,
   "id": "8f5a1684",
   "metadata": {},
   "outputs": [],
   "source": [
    "def split_audio(audio):\n",
    "    num_segments = int(np.floor((len(audio) - SEGMENT_DURATION) / OVERLAP_DURATION)) + 1\n",
    "    segments = []\n",
    "\n",
    "    for i in range(num_segments):\n",
    "        start = int(i * OVERLAP_DURATION)\n",
    "        end = int(start + SEGMENT_DURATION)\n",
    "        segment = audio[start:end]\n",
    "        if len(segment) < SEGMENT_DURATION:\n",
    "            segment = np.pad(segment, (0, SEGMENT_DURATION - len(segment)), mode='constant')\n",
    "        segments.append(segment)\n",
    "\n",
    "    return np.array(segments)"
   ]
  },
  {
   "cell_type": "code",
   "execution_count": 16,
   "id": "a6a252bd",
   "metadata": {},
   "outputs": [],
   "source": [
    "def get_rms(segment):\n",
    "    return np.sqrt(np.mean(segment ** 2))\n",
    "\n",
    "def get_zcr(segment):\n",
    "    return np.sum(np.abs(np.diff(np.signbit(segment)))) / SAMPLE_RATE"
   ]
  },
  {
   "cell_type": "code",
   "execution_count": 17,
   "id": "7a71ad2b",
   "metadata": {},
   "outputs": [],
   "source": [
    "def get_logmel_spectrogram(segment):\n",
    "    return librosa.feature.melspectrogram(y=segment, sr=SAMPLE_RATE)"
   ]
  },
  {
   "cell_type": "code",
   "execution_count": 18,
   "id": "0fa80308",
   "metadata": {},
   "outputs": [],
   "source": [
    "def get_timestamp(i):\n",
    "    return (i*0.5, i*0.5+1)"
   ]
  },
  {
   "cell_type": "code",
   "execution_count": 19,
   "id": "3ad7e8d2",
   "metadata": {},
   "outputs": [
    {
     "name": "stdout",
     "output_type": "stream",
     "text": [
      "(220500,) 44100\n",
      "(220500,) 44100\n",
      "(240000,) 48000\n",
      "(240000,) 48000\n",
      "(9, 48000)\n"
     ]
    }
   ],
   "source": [
    "audio_path = r\"C:\\Users\\Lulay\\Documents\\GitHub\\Dasar-Kecerdasan-Artificial_Tugas-Besar\\Dataset\\noise-audio-data\\1-7974-A-49.wav\"\n",
    "audio, sr = input_audio_file(audio_path)\n",
    "print(audio.shape, sr)\n",
    "audio = preprocess_downmix(audio)\n",
    "print(audio.shape, sr)\n",
    "audio, sr = preprocessing_resample(audio, sr)\n",
    "print(audio.shape, sr)\n",
    "audio = preprocessing_padding(audio)\n",
    "print(audio.shape, sr)\n",
    "segments = split_audio(audio)\n",
    "print(segments.shape)"
   ]
  },
  {
   "cell_type": "code",
   "execution_count": 22,
   "id": "7f647a73",
   "metadata": {},
   "outputs": [],
   "source": [
    "result = []\n",
    "i = 0\n",
    "for segment in segments:\n",
    "    rms = get_rms(segment)\n",
    "    zcr = get_zcr(segment)\n",
    "    result.append((rms, zcr, get_timestamp(i)))\n",
    "    i = i+1"
   ]
  },
  {
   "cell_type": "code",
   "execution_count": 26,
   "id": "4c358262",
   "metadata": {},
   "outputs": [],
   "source": [
    "loud_list = [(0.0, 1.0), (0.5, 1.5), (1.0, 2.0), (1.5, 2.5), (1.5, 2.5), (3.5, 4.5), (4.0, 5.0)]\n",
    "result_loud = [result[i] for i in range(len(result)) if result[i][2] in loud_list]\n",
    "result_bg = [result[i] for i in range(len(result)) if result[i][2] not in loud_list]"
   ]
  },
  {
   "cell_type": "code",
   "execution_count": 28,
   "id": "d89ea627",
   "metadata": {},
   "outputs": [
    {
     "name": "stdout",
     "output_type": "stream",
     "text": [
      "[(0.12247626112586694, 0.05608333333333333, (0.0, 1.0)), (0.11444451039852403, 0.056, (0.5, 1.5)), (0.1050360746520724, 0.0523125, (1.0, 2.0)), (0.10020610057137613, 0.05291666666666667, (1.5, 2.5)), (0.12153389998660953, 0.05222916666666667, (3.5, 4.5)), (0.14131249932656487, 0.0591875, (4.0, 5.0))]\n"
     ]
    }
   ],
   "source": [
    "print(result_loud)"
   ]
  },
  {
   "cell_type": "code",
   "execution_count": 29,
   "id": "db280652",
   "metadata": {},
   "outputs": [
    {
     "name": "stdout",
     "output_type": "stream",
     "text": [
      "[(0.07927951233258367, 0.043729166666666666, (2.0, 3.0)), (0.03878785275019558, 0.028, (2.5, 3.5)), (0.07103521929957307, 0.032375, (3.0, 4.0))]\n"
     ]
    }
   ],
   "source": [
    "print(result_bg)"
   ]
  }
 ],
 "metadata": {
  "kernelspec": {
   "display_name": "Python 3",
   "language": "python",
   "name": "python3"
  },
  "language_info": {
   "codemirror_mode": {
    "name": "ipython",
    "version": 3
   },
   "file_extension": ".py",
   "mimetype": "text/x-python",
   "name": "python",
   "nbconvert_exporter": "python",
   "pygments_lexer": "ipython3",
   "version": "3.12.4"
  }
 },
 "nbformat": 4,
 "nbformat_minor": 5
}
