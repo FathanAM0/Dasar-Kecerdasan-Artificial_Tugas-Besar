{
 "cells": [
  {
   "cell_type": "code",
   "execution_count": 6,
   "id": "11b721e1",
   "metadata": {},
   "outputs": [],
   "source": [
    "import soundfile as sf\n",
    "import math\n",
    "import numpy as np\n",
    "from scipy.signal import resample_poly"
   ]
  },
  {
   "cell_type": "code",
   "execution_count": 7,
   "id": "7603ae72",
   "metadata": {},
   "outputs": [],
   "source": [
    "SAMPLE_RATE = 48000\n",
    "SEGMENT_DURATION = int(1 * SAMPLE_RATE)\n",
    "OVERLAP_DURATION = int(0.5 * SAMPLE_RATE)"
   ]
  },
  {
   "cell_type": "code",
   "execution_count": 8,
   "id": "579f85a7",
   "metadata": {},
   "outputs": [],
   "source": [
    "def input_audio_file(path):\n",
    "    import soundfile as sf\n",
    "    audio, sr = sf.read(path)\n",
    "    return np.array(audio), sr\n",
    "\n",
    "def preprocess_downmix(audio):\n",
    "    if audio.ndim > 1 and audio.shape[1] > 1:\n",
    "        return np.mean(audio, axis=1)\n",
    "    return audio\n",
    "\n",
    "def preprocessing_resample(audio, sr):\n",
    "    if sr == SAMPLE_RATE:\n",
    "        return audio.copy()\n",
    "    \n",
    "    ratio = SAMPLE_RATE / sr\n",
    "    n_samples = int(np.round(len(audio) * ratio))\n",
    "    \n",
    "    x_old = np.linspace(0, 1, len(audio))\n",
    "    x_new = np.linspace(0, 1, n_samples)\n",
    "    return np.interp(x_new, x_old, audio), SAMPLE_RATE\n",
    "\n",
    "def preprocessing_padding(audio):\n",
    "    if np.mod(audio.shape[0], SEGMENT_DURATION) != 0:\n",
    "        padding = SEGMENT_DURATION - (audio.shape[0] % SEGMENT_DURATION)\n",
    "        audio = np.pad(audio, (0, padding))\n",
    "    return audio"
   ]
  },
  {
   "cell_type": "code",
   "execution_count": 9,
   "id": "46010655",
   "metadata": {},
   "outputs": [],
   "source": [
    "def split_audio(audio):\n",
    "    num_segments = int(np.floor((len(audio) - SEGMENT_DURATION) / OVERLAP_DURATION)) + 1\n",
    "    segments = []\n",
    "\n",
    "    for i in range(num_segments):\n",
    "        start = int(i * OVERLAP_DURATION)\n",
    "        end = int(start + SEGMENT_DURATION)\n",
    "        segment = audio[start:end]\n",
    "        if len(segment) < SEGMENT_DURATION:\n",
    "            segment = np.pad(segment, (0, SEGMENT_DURATION - len(segment)), mode='constant')\n",
    "        segments.append(segment)\n",
    "\n",
    "    return np.array(segments)"
   ]
  },
  {
   "cell_type": "code",
   "execution_count": 10,
   "id": "f6ccff17",
   "metadata": {},
   "outputs": [
    {
     "name": "stdout",
     "output_type": "stream",
     "text": [
      "(1059367, 2) 44100\n",
      "(1059367,) 44100\n",
      "(1153053,) 48000\n",
      "(1200000,) 48000\n",
      "(49, 48000)\n"
     ]
    }
   ],
   "source": [
    "audio_path = r\"C:\\Users\\Lulay\\Documents\\GitHub\\Dasar-Kecerdasan-Artificial_Tugas-Besar\\Dataset\\xeno-canto\\940964.mp3\"\n",
    "audio, sr = input_audio_file(audio_path)\n",
    "print(audio.shape, sr)\n",
    "audio = preprocess_downmix(audio)\n",
    "print(audio.shape, sr)\n",
    "audio, sr = preprocessing_resample(audio, sr)\n",
    "print(audio.shape, sr)\n",
    "audio = preprocessing_padding(audio)\n",
    "print(audio.shape, sr)\n",
    "segments = split_audio(audio)\n",
    "print(segments.shape)"
   ]
  }
 ],
 "metadata": {
  "kernelspec": {
   "display_name": "Python 3",
   "language": "python",
   "name": "python3"
  },
  "language_info": {
   "codemirror_mode": {
    "name": "ipython",
    "version": 3
   },
   "file_extension": ".py",
   "mimetype": "text/x-python",
   "name": "python",
   "nbconvert_exporter": "python",
   "pygments_lexer": "ipython3",
   "version": "3.12.4"
  }
 },
 "nbformat": 4,
 "nbformat_minor": 5
}
